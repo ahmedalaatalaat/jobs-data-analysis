{
 "cells": [
  {
   "cell_type": "code",
   "execution_count": 1,
   "id": "bccfb381",
   "metadata": {},
   "outputs": [],
   "source": [
    "import pandas as pd\n",
    "import numpy as np\n",
    "import plotly.express as px\n",
    "import re\n",
    "import nltk"
   ]
  },
  {
   "cell_type": "code",
   "execution_count": 2,
   "id": "624e7908",
   "metadata": {},
   "outputs": [],
   "source": [
    "# join all my data in one file (I have 16 csv file)\n",
    "dfs = []\n",
    "for i in range(1, 17):\n",
    "    dfs.append(pd.read_csv(f'data/wuzzuf_job_data_20-12-2022_{i}.csv', encoding='utf-16', delimiter='~'))\n",
    "df = pd.concat(dfs)"
   ]
  },
  {
   "cell_type": "code",
   "execution_count": 3,
   "id": "2291fd64",
   "metadata": {},
   "outputs": [],
   "source": [
    "# save the collected data to csv file\n",
    "df.to_csv('data/wuzzuf_job_data_20-12-2022.csv', sep='~', encoding='utf-16')"
   ]
  },
  {
   "cell_type": "code",
   "execution_count": 4,
   "id": "8f4a1f0d",
   "metadata": {
    "scrolled": false
   },
   "outputs": [
    {
     "name": "stdout",
     "output_type": "stream",
     "text": [
      "<class 'pandas.core.frame.DataFrame'>\n",
      "Int64Index: 25161 entries, 0 to 633\n",
      "Data columns (total 17 columns):\n",
      " #   Column             Non-Null Count  Dtype \n",
      "---  ------             --------------  ----- \n",
      " 0   job_title          25161 non-null  object\n",
      " 1   job_type           25161 non-null  object\n",
      " 2   job_categories     25161 non-null  object\n",
      " 3   job_description    25161 non-null  object\n",
      " 4   job_requirements   24968 non-null  object\n",
      " 5   job_location       25161 non-null  object\n",
      " 6   company_name       25161 non-null  object\n",
      " 7   company_location   21434 non-null  object\n",
      " 8   company_field      20968 non-null  object\n",
      " 9   company_size       21434 non-null  object\n",
      " 10  experience_needed  25161 non-null  object\n",
      " 11  career_level       25161 non-null  object\n",
      " 12  education_level    25161 non-null  object\n",
      " 13  gender             25161 non-null  object\n",
      " 14  salary             25161 non-null  object\n",
      " 15  skills_and_tools   25161 non-null  object\n",
      " 16  link               25161 non-null  object\n",
      "dtypes: object(17)\n",
      "memory usage: 3.5+ MB\n"
     ]
    }
   ],
   "source": [
    "df.info()"
   ]
  },
  {
   "cell_type": "markdown",
   "id": "e553a87b",
   "metadata": {},
   "source": [
    "## Explore The Data"
   ]
  },
  {
   "cell_type": "code",
   "execution_count": 5,
   "id": "19b187b2",
   "metadata": {},
   "outputs": [
    {
     "data": {
      "text/html": [
       "<div>\n",
       "<style scoped>\n",
       "    .dataframe tbody tr th:only-of-type {\n",
       "        vertical-align: middle;\n",
       "    }\n",
       "\n",
       "    .dataframe tbody tr th {\n",
       "        vertical-align: top;\n",
       "    }\n",
       "\n",
       "    .dataframe thead th {\n",
       "        text-align: right;\n",
       "    }\n",
       "</style>\n",
       "<table border=\"1\" class=\"dataframe\">\n",
       "  <thead>\n",
       "    <tr style=\"text-align: right;\">\n",
       "      <th></th>\n",
       "      <th>job_title</th>\n",
       "      <th>job_type</th>\n",
       "      <th>job_categories</th>\n",
       "      <th>job_description</th>\n",
       "      <th>job_requirements</th>\n",
       "      <th>job_location</th>\n",
       "      <th>company_name</th>\n",
       "      <th>company_location</th>\n",
       "      <th>company_field</th>\n",
       "      <th>company_size</th>\n",
       "      <th>experience_needed</th>\n",
       "      <th>career_level</th>\n",
       "      <th>education_level</th>\n",
       "      <th>gender</th>\n",
       "      <th>salary</th>\n",
       "      <th>skills_and_tools</th>\n",
       "      <th>link</th>\n",
       "    </tr>\n",
       "  </thead>\n",
       "  <tbody>\n",
       "    <tr>\n",
       "      <th>0</th>\n",
       "      <td>Cost Accountant</td>\n",
       "      <td>Full Time</td>\n",
       "      <td>Accounting/Finance</td>\n",
       "      <td>Preparing the cost of products and operations ...</td>\n",
       "      <td>Bachelor’s Degree in accountingProficient use ...</td>\n",
       "      <td>Bourj Alarab, Alexandria</td>\n",
       "      <td>Confidential Company</td>\n",
       "      <td>NaN</td>\n",
       "      <td>NaN</td>\n",
       "      <td>NaN</td>\n",
       "      <td>0 to 1 year</td>\n",
       "      <td>Entry Level (Junior Level / Fresh Grad)</td>\n",
       "      <td>Bachelor's Degree</td>\n",
       "      <td>both</td>\n",
       "      <td>Confidential</td>\n",
       "      <td>Accounting;Finance;Cost Accounting;Financial A...</td>\n",
       "      <td>https://wuzzuf.net/jobs/p/Ag1eTeHzp26L-Cost-Ac...</td>\n",
       "    </tr>\n",
       "    <tr>\n",
       "      <th>1</th>\n",
       "      <td>Costing Manager - Pastry Industry FMCG</td>\n",
       "      <td>Full Time</td>\n",
       "      <td>Accounting/Finance;Hospitality/Hotels/Food Ser...</td>\n",
       "      <td>Collecting and analyzing data about company’s ...</td>\n",
       "      <td>Bachelor degree in commerce.From 7-10 years of...</td>\n",
       "      <td>6th of October, Giza</td>\n",
       "      <td>Confidential Company</td>\n",
       "      <td>NaN</td>\n",
       "      <td>NaN</td>\n",
       "      <td>NaN</td>\n",
       "      <td>7 to 10 years</td>\n",
       "      <td>Manager</td>\n",
       "      <td>Bachelor's Degree</td>\n",
       "      <td>Male</td>\n",
       "      <td>Confidential</td>\n",
       "      <td>Food &amp; Beverage;Cost;FMCG;Finance;Accounting;I...</td>\n",
       "      <td>https://wuzzuf.net/jobs/p/oME6Pq8IbNE4-Costing...</td>\n",
       "    </tr>\n",
       "    <tr>\n",
       "      <th>2</th>\n",
       "      <td>Female Junior Accountant</td>\n",
       "      <td>Full Time</td>\n",
       "      <td>Accounting/Finance</td>\n",
       "      <td>Review of controlling &amp; applying remittance fo...</td>\n",
       "      <td>Good understanding of accounting and financial...</td>\n",
       "      <td>6th of October, Giza</td>\n",
       "      <td>Confidential Company</td>\n",
       "      <td>NaN</td>\n",
       "      <td>NaN</td>\n",
       "      <td>NaN</td>\n",
       "      <td>1 to 3 years</td>\n",
       "      <td>Entry Level (Junior Level / Fresh Grad)</td>\n",
       "      <td>Not Specified</td>\n",
       "      <td>both</td>\n",
       "      <td>Confidential</td>\n",
       "      <td>Accounting;Finance;Financial;Financial Reporting</td>\n",
       "      <td>https://wuzzuf.net/jobs/p/TJGlRdDJ6Z8a-Female-...</td>\n",
       "    </tr>\n",
       "    <tr>\n",
       "      <th>3</th>\n",
       "      <td>Collection Supervisor</td>\n",
       "      <td>Full Time</td>\n",
       "      <td>Accounting/Finance</td>\n",
       "      <td>Preparing the monthly collection plan to be ap...</td>\n",
       "      <td>Pervious experience in FMCG is preferred.Has a...</td>\n",
       "      <td>Maadi, Cairo</td>\n",
       "      <td>Abudawood Group Egypt</td>\n",
       "      <td>Cairo, Egypt</td>\n",
       "      <td>FMCG</td>\n",
       "      <td>More than 1000 employees</td>\n",
       "      <td>2 to 6 years</td>\n",
       "      <td>Experienced (Non-Manager)</td>\n",
       "      <td>Bachelor's Degree</td>\n",
       "      <td>both</td>\n",
       "      <td>Confidential</td>\n",
       "      <td>Collection;Accounting</td>\n",
       "      <td>https://wuzzuf.net/jobs/p/I3NJ1DK4FzW3-Collect...</td>\n",
       "    </tr>\n",
       "    <tr>\n",
       "      <th>4</th>\n",
       "      <td>Senior Costing Accountant</td>\n",
       "      <td>Full Time</td>\n",
       "      <td>Accounting/Finance</td>\n",
       "      <td>Leads and coordinates the analysis of internal...</td>\n",
       "      <td>Bachelor degree in Accounting, finance Experie...</td>\n",
       "      <td>Cairo, Egypt</td>\n",
       "      <td>Cairo Three A  Poultry</td>\n",
       "      <td>Egypt</td>\n",
       "      <td>Agriculture/Fishing/Farming</td>\n",
       "      <td>More than 1000 employees</td>\n",
       "      <td>5 to 8 years</td>\n",
       "      <td>Experienced (Non-Manager)</td>\n",
       "      <td>Not Specified</td>\n",
       "      <td>both</td>\n",
       "      <td>Confidential</td>\n",
       "      <td>Costing;Finance;Financial Analysis;Financial M...</td>\n",
       "      <td>https://wuzzuf.net/jobs/p/EUswltjrqeQU-Senior-...</td>\n",
       "    </tr>\n",
       "  </tbody>\n",
       "</table>\n",
       "</div>"
      ],
      "text/plain": [
       "                                job_title   job_type  \\\n",
       "0                         Cost Accountant  Full Time   \n",
       "1  Costing Manager - Pastry Industry FMCG  Full Time   \n",
       "2                Female Junior Accountant  Full Time   \n",
       "3                   Collection Supervisor  Full Time   \n",
       "4               Senior Costing Accountant  Full Time   \n",
       "\n",
       "                                      job_categories  \\\n",
       "0                                 Accounting/Finance   \n",
       "1  Accounting/Finance;Hospitality/Hotels/Food Ser...   \n",
       "2                                 Accounting/Finance   \n",
       "3                                 Accounting/Finance   \n",
       "4                                 Accounting/Finance   \n",
       "\n",
       "                                     job_description  \\\n",
       "0  Preparing the cost of products and operations ...   \n",
       "1  Collecting and analyzing data about company’s ...   \n",
       "2  Review of controlling & applying remittance fo...   \n",
       "3  Preparing the monthly collection plan to be ap...   \n",
       "4  Leads and coordinates the analysis of internal...   \n",
       "\n",
       "                                    job_requirements  \\\n",
       "0  Bachelor’s Degree in accountingProficient use ...   \n",
       "1  Bachelor degree in commerce.From 7-10 years of...   \n",
       "2  Good understanding of accounting and financial...   \n",
       "3  Pervious experience in FMCG is preferred.Has a...   \n",
       "4  Bachelor degree in Accounting, finance Experie...   \n",
       "\n",
       "               job_location             company_name company_location  \\\n",
       "0  Bourj Alarab, Alexandria     Confidential Company              NaN   \n",
       "1      6th of October, Giza     Confidential Company              NaN   \n",
       "2      6th of October, Giza     Confidential Company              NaN   \n",
       "3              Maadi, Cairo    Abudawood Group Egypt    Cairo, Egypt    \n",
       "4              Cairo, Egypt   Cairo Three A  Poultry           Egypt    \n",
       "\n",
       "                 company_field               company_size experience_needed  \\\n",
       "0                          NaN                        NaN       0 to 1 year   \n",
       "1                          NaN                        NaN     7 to 10 years   \n",
       "2                          NaN                        NaN      1 to 3 years   \n",
       "3                         FMCG   More than 1000 employees      2 to 6 years   \n",
       "4  Agriculture/Fishing/Farming   More than 1000 employees      5 to 8 years   \n",
       "\n",
       "                              career_level    education_level gender  \\\n",
       "0  Entry Level (Junior Level / Fresh Grad)  Bachelor's Degree   both   \n",
       "1                                 Manager   Bachelor's Degree   Male   \n",
       "2  Entry Level (Junior Level / Fresh Grad)      Not Specified   both   \n",
       "3                Experienced (Non-Manager)  Bachelor's Degree   both   \n",
       "4                Experienced (Non-Manager)      Not Specified   both   \n",
       "\n",
       "         salary                                   skills_and_tools  \\\n",
       "0  Confidential  Accounting;Finance;Cost Accounting;Financial A...   \n",
       "1  Confidential  Food & Beverage;Cost;FMCG;Finance;Accounting;I...   \n",
       "2  Confidential   Accounting;Finance;Financial;Financial Reporting   \n",
       "3  Confidential                              Collection;Accounting   \n",
       "4  Confidential  Costing;Finance;Financial Analysis;Financial M...   \n",
       "\n",
       "                                                link  \n",
       "0  https://wuzzuf.net/jobs/p/Ag1eTeHzp26L-Cost-Ac...  \n",
       "1  https://wuzzuf.net/jobs/p/oME6Pq8IbNE4-Costing...  \n",
       "2  https://wuzzuf.net/jobs/p/TJGlRdDJ6Z8a-Female-...  \n",
       "3  https://wuzzuf.net/jobs/p/I3NJ1DK4FzW3-Collect...  \n",
       "4  https://wuzzuf.net/jobs/p/EUswltjrqeQU-Senior-...  "
      ]
     },
     "execution_count": 5,
     "metadata": {},
     "output_type": "execute_result"
    }
   ],
   "source": [
    "df.head()"
   ]
  },
  {
   "cell_type": "code",
   "execution_count": 6,
   "id": "1c24082f",
   "metadata": {},
   "outputs": [
    {
     "data": {
      "text/html": [
       "<div>\n",
       "<style scoped>\n",
       "    .dataframe tbody tr th:only-of-type {\n",
       "        vertical-align: middle;\n",
       "    }\n",
       "\n",
       "    .dataframe tbody tr th {\n",
       "        vertical-align: top;\n",
       "    }\n",
       "\n",
       "    .dataframe thead th {\n",
       "        text-align: right;\n",
       "    }\n",
       "</style>\n",
       "<table border=\"1\" class=\"dataframe\">\n",
       "  <thead>\n",
       "    <tr style=\"text-align: right;\">\n",
       "      <th></th>\n",
       "      <th>job_title</th>\n",
       "      <th>job_type</th>\n",
       "      <th>job_categories</th>\n",
       "      <th>job_description</th>\n",
       "      <th>job_requirements</th>\n",
       "      <th>job_location</th>\n",
       "      <th>company_name</th>\n",
       "      <th>company_location</th>\n",
       "      <th>company_field</th>\n",
       "      <th>company_size</th>\n",
       "      <th>experience_needed</th>\n",
       "      <th>career_level</th>\n",
       "      <th>education_level</th>\n",
       "      <th>gender</th>\n",
       "      <th>salary</th>\n",
       "      <th>skills_and_tools</th>\n",
       "      <th>link</th>\n",
       "    </tr>\n",
       "  </thead>\n",
       "  <tbody>\n",
       "    <tr>\n",
       "      <th>629</th>\n",
       "      <td>Tendering Supervisor - Electrical Panels</td>\n",
       "      <td>Full Time</td>\n",
       "      <td>Engineering - Mechanical/Electrical</td>\n",
       "      <td>Job Purpose :Responsible to manage Tendering E...</td>\n",
       "      <td>Bachelor's degree or Above Electrical engineer...</td>\n",
       "      <td>6th of October, Giza</td>\n",
       "      <td>Chint Egemac</td>\n",
       "      <td>Giza, Egypt</td>\n",
       "      <td>Manufacturing</td>\n",
       "      <td>101-500 employees</td>\n",
       "      <td>More than 8 years</td>\n",
       "      <td>Manager</td>\n",
       "      <td>Bachelor's Degree</td>\n",
       "      <td>both</td>\n",
       "      <td>Confidential</td>\n",
       "      <td>Tendering;Low Voltage;Electrical Engineering;E...</td>\n",
       "      <td>https://wuzzuf.net/jobs/p/P9JsgSASzOFG-Tenderi...</td>\n",
       "    </tr>\n",
       "    <tr>\n",
       "      <th>630</th>\n",
       "      <td>Supply Chain Manager</td>\n",
       "      <td>Full Time</td>\n",
       "      <td>Logistics/Supply Chain;Operations/Management</td>\n",
       "      <td>Collaborates with other departments and stakeh...</td>\n",
       "      <td>Bachelors degree in Business or related field ...</td>\n",
       "      <td>Quweisna, Monufya</td>\n",
       "      <td>Piel color</td>\n",
       "      <td>Monufya, Egypt</td>\n",
       "      <td>Business Services - Other</td>\n",
       "      <td>More than 1000 employees</td>\n",
       "      <td>12 to 20 years</td>\n",
       "      <td>Manager</td>\n",
       "      <td>Bachelor's Degree</td>\n",
       "      <td>both</td>\n",
       "      <td>Confidential, Medical insurance + social insur...</td>\n",
       "      <td>Logistics;Chain Management;Supply Chain;Procur...</td>\n",
       "      <td>https://wuzzuf.net/jobs/p/R5C0RXRtmftQ-Supply-...</td>\n",
       "    </tr>\n",
       "    <tr>\n",
       "      <th>631</th>\n",
       "      <td>Electrical Engineer</td>\n",
       "      <td>Full Time</td>\n",
       "      <td>Engineering - Mechanical/Electrical</td>\n",
       "      <td>Responsible for ensuring that the machinery us...</td>\n",
       "      <td>At least 4 years of experience in the field of...</td>\n",
       "      <td>6th of October, Giza</td>\n",
       "      <td>Misr October Industrial Co -MOIC Egypt</td>\n",
       "      <td>Giza, Egypt</td>\n",
       "      <td>Engineering Services, Manufacturing, Paper and...</td>\n",
       "      <td>11-50 employees</td>\n",
       "      <td>More than 4 years</td>\n",
       "      <td>Experienced (Non-Manager)</td>\n",
       "      <td>Bachelor's Degree</td>\n",
       "      <td>both</td>\n",
       "      <td>Confidential</td>\n",
       "      <td>Electrical Engineering;Computer Skills;English...</td>\n",
       "      <td>https://wuzzuf.net/jobs/p/Qr7O1jsPb81i-Electri...</td>\n",
       "    </tr>\n",
       "    <tr>\n",
       "      <th>632</th>\n",
       "      <td>Mechanical Engineer</td>\n",
       "      <td>Full Time</td>\n",
       "      <td>Engineering - Mechanical/Electrical</td>\n",
       "      <td>Responsible for ensuring that the machinery us...</td>\n",
       "      <td>At least 4 years of experience in the field of...</td>\n",
       "      <td>6th of October, Giza</td>\n",
       "      <td>Misr October Industrial Co -MOIC Egypt</td>\n",
       "      <td>Giza, Egypt</td>\n",
       "      <td>Engineering Services, Manufacturing, Paper and...</td>\n",
       "      <td>11-50 employees</td>\n",
       "      <td>More than 4 years</td>\n",
       "      <td>Experienced (Non-Manager)</td>\n",
       "      <td>Bachelor's Degree</td>\n",
       "      <td>both</td>\n",
       "      <td>Confidential</td>\n",
       "      <td>Computer Skills;Engineering;English;Machines;M...</td>\n",
       "      <td>https://wuzzuf.net/jobs/p/rHyqsT2TEHmn-Mechani...</td>\n",
       "    </tr>\n",
       "    <tr>\n",
       "      <th>633</th>\n",
       "      <td>Backend Developer Node.js</td>\n",
       "      <td>Full Time</td>\n",
       "      <td>IT/Software Development;Engineering - Telecom/...</td>\n",
       "      <td>About NadeerNadeer Networks is IT solutions de...</td>\n",
       "      <td>Troubleshoot and debug applications. Conduct ...</td>\n",
       "      <td>Nasr City, Cairo</td>\n",
       "      <td>Nadeer</td>\n",
       "      <td>Riyadh, Saudi Arabia</td>\n",
       "      <td>Computer Software</td>\n",
       "      <td>11-50 employees</td>\n",
       "      <td>2 to 5 years</td>\n",
       "      <td>Experienced (Non-Manager)</td>\n",
       "      <td>Not Specified</td>\n",
       "      <td>both</td>\n",
       "      <td>Confidential</td>\n",
       "      <td>Node.js;MongoDB;jQuery;JavaScript;Computer Sci...</td>\n",
       "      <td>https://wuzzuf.net/jobs/p/89B1XFeXXNNc-Backend...</td>\n",
       "    </tr>\n",
       "  </tbody>\n",
       "</table>\n",
       "</div>"
      ],
      "text/plain": [
       "                                    job_title   job_type  \\\n",
       "629  Tendering Supervisor - Electrical Panels  Full Time   \n",
       "630                      Supply Chain Manager  Full Time   \n",
       "631                       Electrical Engineer  Full Time   \n",
       "632                       Mechanical Engineer  Full Time   \n",
       "633                 Backend Developer Node.js  Full Time   \n",
       "\n",
       "                                        job_categories  \\\n",
       "629                Engineering - Mechanical/Electrical   \n",
       "630       Logistics/Supply Chain;Operations/Management   \n",
       "631                Engineering - Mechanical/Electrical   \n",
       "632                Engineering - Mechanical/Electrical   \n",
       "633  IT/Software Development;Engineering - Telecom/...   \n",
       "\n",
       "                                       job_description  \\\n",
       "629  Job Purpose :Responsible to manage Tendering E...   \n",
       "630  Collaborates with other departments and stakeh...   \n",
       "631  Responsible for ensuring that the machinery us...   \n",
       "632  Responsible for ensuring that the machinery us...   \n",
       "633  About NadeerNadeer Networks is IT solutions de...   \n",
       "\n",
       "                                      job_requirements          job_location  \\\n",
       "629  Bachelor's degree or Above Electrical engineer...  6th of October, Giza   \n",
       "630  Bachelors degree in Business or related field ...     Quweisna, Monufya   \n",
       "631  At least 4 years of experience in the field of...  6th of October, Giza   \n",
       "632  At least 4 years of experience in the field of...  6th of October, Giza   \n",
       "633   Troubleshoot and debug applications. Conduct ...      Nasr City, Cairo   \n",
       "\n",
       "                               company_name       company_location  \\\n",
       "629                            Chint Egemac           Giza, Egypt    \n",
       "630                              Piel color        Monufya, Egypt    \n",
       "631  Misr October Industrial Co -MOIC Egypt           Giza, Egypt    \n",
       "632  Misr October Industrial Co -MOIC Egypt           Giza, Egypt    \n",
       "633                                  Nadeer  Riyadh, Saudi Arabia    \n",
       "\n",
       "                                         company_field  \\\n",
       "629                                      Manufacturing   \n",
       "630                          Business Services - Other   \n",
       "631  Engineering Services, Manufacturing, Paper and...   \n",
       "632  Engineering Services, Manufacturing, Paper and...   \n",
       "633                                  Computer Software   \n",
       "\n",
       "                  company_size  experience_needed               career_level  \\\n",
       "629          101-500 employees  More than 8 years                   Manager    \n",
       "630   More than 1000 employees     12 to 20 years                   Manager    \n",
       "631            11-50 employees  More than 4 years  Experienced (Non-Manager)   \n",
       "632            11-50 employees  More than 4 years  Experienced (Non-Manager)   \n",
       "633            11-50 employees       2 to 5 years  Experienced (Non-Manager)   \n",
       "\n",
       "       education_level gender  \\\n",
       "629  Bachelor's Degree   both   \n",
       "630  Bachelor's Degree   both   \n",
       "631  Bachelor's Degree   both   \n",
       "632  Bachelor's Degree   both   \n",
       "633      Not Specified   both   \n",
       "\n",
       "                                                salary  \\\n",
       "629                                       Confidential   \n",
       "630  Confidential, Medical insurance + social insur...   \n",
       "631                                       Confidential   \n",
       "632                                       Confidential   \n",
       "633                                       Confidential   \n",
       "\n",
       "                                      skills_and_tools  \\\n",
       "629  Tendering;Low Voltage;Electrical Engineering;E...   \n",
       "630  Logistics;Chain Management;Supply Chain;Procur...   \n",
       "631  Electrical Engineering;Computer Skills;English...   \n",
       "632  Computer Skills;Engineering;English;Machines;M...   \n",
       "633  Node.js;MongoDB;jQuery;JavaScript;Computer Sci...   \n",
       "\n",
       "                                                  link  \n",
       "629  https://wuzzuf.net/jobs/p/P9JsgSASzOFG-Tenderi...  \n",
       "630  https://wuzzuf.net/jobs/p/R5C0RXRtmftQ-Supply-...  \n",
       "631  https://wuzzuf.net/jobs/p/Qr7O1jsPb81i-Electri...  \n",
       "632  https://wuzzuf.net/jobs/p/rHyqsT2TEHmn-Mechani...  \n",
       "633  https://wuzzuf.net/jobs/p/89B1XFeXXNNc-Backend...  "
      ]
     },
     "execution_count": 6,
     "metadata": {},
     "output_type": "execute_result"
    }
   ],
   "source": [
    "df.tail()"
   ]
  },
  {
   "cell_type": "code",
   "execution_count": 7,
   "id": "aa734b51",
   "metadata": {},
   "outputs": [
    {
     "name": "stdout",
     "output_type": "stream",
     "text": [
      "<class 'pandas.core.frame.DataFrame'>\n",
      "Int64Index: 25161 entries, 0 to 633\n",
      "Data columns (total 17 columns):\n",
      " #   Column             Non-Null Count  Dtype \n",
      "---  ------             --------------  ----- \n",
      " 0   job_title          25161 non-null  object\n",
      " 1   job_type           25161 non-null  object\n",
      " 2   job_categories     25161 non-null  object\n",
      " 3   job_description    25161 non-null  object\n",
      " 4   job_requirements   24968 non-null  object\n",
      " 5   job_location       25161 non-null  object\n",
      " 6   company_name       25161 non-null  object\n",
      " 7   company_location   21434 non-null  object\n",
      " 8   company_field      20968 non-null  object\n",
      " 9   company_size       21434 non-null  object\n",
      " 10  experience_needed  25161 non-null  object\n",
      " 11  career_level       25161 non-null  object\n",
      " 12  education_level    25161 non-null  object\n",
      " 13  gender             25161 non-null  object\n",
      " 14  salary             25161 non-null  object\n",
      " 15  skills_and_tools   25161 non-null  object\n",
      " 16  link               25161 non-null  object\n",
      "dtypes: object(17)\n",
      "memory usage: 3.5+ MB\n"
     ]
    }
   ],
   "source": [
    "df.info()"
   ]
  },
  {
   "cell_type": "code",
   "execution_count": 8,
   "id": "c804ebbd",
   "metadata": {},
   "outputs": [
    {
     "data": {
      "text/plain": [
       "0"
      ]
     },
     "execution_count": 8,
     "metadata": {},
     "output_type": "execute_result"
    }
   ],
   "source": [
    "df.duplicated().sum()"
   ]
  },
  {
   "cell_type": "code",
   "execution_count": 9,
   "id": "4e54114a",
   "metadata": {
    "scrolled": false
   },
   "outputs": [
    {
     "data": {
      "text/plain": [
       "job_title               0\n",
       "job_type                0\n",
       "job_categories          0\n",
       "job_description         0\n",
       "job_requirements      193\n",
       "job_location            0\n",
       "company_name            0\n",
       "company_location     3727\n",
       "company_field        4193\n",
       "company_size         3727\n",
       "experience_needed       0\n",
       "career_level            0\n",
       "education_level         0\n",
       "gender                  0\n",
       "salary                  0\n",
       "skills_and_tools        0\n",
       "link                    0\n",
       "dtype: int64"
      ]
     },
     "execution_count": 9,
     "metadata": {},
     "output_type": "execute_result"
    }
   ],
   "source": [
    "df.isnull().sum()"
   ]
  },
  {
   "cell_type": "markdown",
   "id": "54ed0860",
   "metadata": {},
   "source": [
    "### Column by Column Exploration"
   ]
  },
  {
   "cell_type": "markdown",
   "id": "1db7eca2",
   "metadata": {},
   "source": [
    "#### Job Title Column"
   ]
  },
  {
   "cell_type": "code",
   "execution_count": 10,
   "id": "269e67f8",
   "metadata": {},
   "outputs": [
    {
     "data": {
      "text/plain": [
       "array(['Cost Accountant', 'Costing Manager - Pastry Industry FMCG',\n",
       "       'Female Junior Accountant', ..., 'Call Center Officer',\n",
       "       'Customer Support / Call Center Agent',\n",
       "       'Call Center Senior Manager (Offshore Accounts)'], dtype=object)"
      ]
     },
     "execution_count": 10,
     "metadata": {},
     "output_type": "execute_result"
    }
   ],
   "source": [
    "df['job_title'].unique()"
   ]
  },
  {
   "cell_type": "code",
   "execution_count": 11,
   "id": "2b25153a",
   "metadata": {
    "scrolled": true
   },
   "outputs": [
    {
     "data": {
      "text/plain": [
       "4771"
      ]
     },
     "execution_count": 11,
     "metadata": {},
     "output_type": "execute_result"
    }
   ],
   "source": [
    "df['job_title'].nunique()"
   ]
  },
  {
   "cell_type": "code",
   "execution_count": 12,
   "id": "f261b5cf",
   "metadata": {},
   "outputs": [
    {
     "data": {
      "text/plain": [
       "0"
      ]
     },
     "execution_count": 12,
     "metadata": {},
     "output_type": "execute_result"
    }
   ],
   "source": [
    "df['job_title'].isnull().sum()"
   ]
  },
  {
   "cell_type": "markdown",
   "id": "c2760716",
   "metadata": {},
   "source": [
    "#### Job Type Column"
   ]
  },
  {
   "cell_type": "code",
   "execution_count": 13,
   "id": "7f0c44a2",
   "metadata": {},
   "outputs": [
    {
     "data": {
      "text/plain": [
       "array(['Full Time', 'Part Time;Freelance / Project',\n",
       "       'Full Time;Work From Home', 'Full Time;Part Time',\n",
       "       'Full Time;Shift Based',\n",
       "       'Part Time;Freelance / Project;Work From Home', 'Internship',\n",
       "       'Full Time;Freelance / Project',\n",
       "       'Freelance / Project;Work From Home', 'Part Time', 'Shift Based',\n",
       "       'Work From Home', 'Full Time;Part Time;Work From Home',\n",
       "       'Full Time;Part Time;Shift Based', 'Freelance / Project',\n",
       "       'Part Time;Work From Home',\n",
       "       'Full Time;Freelance / Project;Work From Home',\n",
       "       'Full Time;Part Time;Freelance / Project',\n",
       "       'Full Time;Freelance / Project;Shift Based',\n",
       "       'Full Time;Shift Based;Work From Home',\n",
       "       'Part Time;Freelance / Project;Shift Based',\n",
       "       'Full Time;Volunteering', 'Shift Based;Work From Home'],\n",
       "      dtype=object)"
      ]
     },
     "execution_count": 13,
     "metadata": {},
     "output_type": "execute_result"
    }
   ],
   "source": [
    "df['job_type'].unique()"
   ]
  },
  {
   "cell_type": "code",
   "execution_count": 14,
   "id": "10348b01",
   "metadata": {
    "scrolled": true
   },
   "outputs": [
    {
     "data": {
      "text/plain": [
       "23"
      ]
     },
     "execution_count": 14,
     "metadata": {},
     "output_type": "execute_result"
    }
   ],
   "source": [
    "df['job_type'].nunique()"
   ]
  },
  {
   "cell_type": "code",
   "execution_count": 15,
   "id": "744071e5",
   "metadata": {},
   "outputs": [
    {
     "data": {
      "text/plain": [
       "0"
      ]
     },
     "execution_count": 15,
     "metadata": {},
     "output_type": "execute_result"
    }
   ],
   "source": [
    "df['job_type'].isnull().sum()"
   ]
  },
  {
   "cell_type": "markdown",
   "id": "68ef5a49",
   "metadata": {},
   "source": [
    "#### Job Categories Column"
   ]
  },
  {
   "cell_type": "code",
   "execution_count": 16,
   "id": "2df286ac",
   "metadata": {},
   "outputs": [
    {
     "data": {
      "text/plain": [
       "array(['Accounting/Finance',\n",
       "       'Accounting/Finance;Hospitality/Hotels/Food Services;Operations/Management',\n",
       "       'Accounting/Finance;Banking',\n",
       "       'Accounting/Finance;Analyst/Research',\n",
       "       'Accounting/Finance;Administration',\n",
       "       'Accounting/Finance;Sales/Retail', 'Accounting/Finance;Quality',\n",
       "       'Accounting/Finance;Administration;Banking',\n",
       "       'Accounting/Finance;Banking;Operations/Management',\n",
       "       'Accounting/Finance;Administration;Human Resources',\n",
       "       'Accounting/Finance;Logistics/Supply Chain;Purchasing/Procurement',\n",
       "       'Accounting/Finance;Training/Instructor',\n",
       "       'Accounting/Finance;Customer Service/Support',\n",
       "       'Accounting/Finance;Engineering - Construction/Civil/Architecture',\n",
       "       'Accounting/Finance;Operations/Management;Analyst/Research',\n",
       "       'Accounting/Finance;IT/Software Development;Strategy/Consulting',\n",
       "       'Accounting/Finance;IT/Software Development;Operations/Management',\n",
       "       'Engineering - Mechanical/Electrical',\n",
       "       'Accounting/Finance;Writing/Editorial;Medical/Healthcare',\n",
       "       'Accounting/Finance;Operations/Management',\n",
       "       'Accounting/Finance;Human Resources',\n",
       "       'Accounting/Finance;Manufacturing/Production',\n",
       "       'Accounting/Finance;Banking;Tourism/Travel',\n",
       "       'Accounting/Finance;Fashion',\n",
       "       'Accounting/Finance;Operations/Management;C-Level Executive/GM/Director',\n",
       "       'Accounting/Finance;Administration;Medical/Healthcare',\n",
       "       'Operations/Management;Quality',\n",
       "       'Accounting/Finance;Business Development;Human Resources',\n",
       "       'Accounting/Finance;IT/Software Development;Engineering - Telecom/Technology',\n",
       "       'Accounting/Finance;Customer Service/Support;IT/Software Development',\n",
       "       'Accounting/Finance;Purchasing/Procurement',\n",
       "       'Analyst/Research;Strategy/Consulting',\n",
       "       'Accounting/Finance;Customer Service/Support;Training/Instructor',\n",
       "       'Accounting/Finance;Hospitality/Hotels/Food Services',\n",
       "       'Accounting/Finance;Administration;Quality',\n",
       "       'Administration;Customer Service/Support;Medical/Healthcare',\n",
       "       'Accounting/Finance;Administration;Operations/Management',\n",
       "       'Accounting/Finance;Banking;Analyst/Research',\n",
       "       'Accounting/Finance;Administration;Marketing/PR/Advertising',\n",
       "       'Accounting/Finance;Operations/Management;Medical/Healthcare',\n",
       "       'Accounting/Finance;IT/Software Development',\n",
       "       'IT/Software Development;Engineering - Telecom/Technology',\n",
       "       'Accounting/Finance;Business Development;Sales/Retail',\n",
       "       'Accounting/Finance;Operations/Management;Quality',\n",
       "       'IT/Software Development;Logistics/Supply Chain;Purchasing/Procurement',\n",
       "       'Accounting/Finance;Customer Service/Support;Operations/Management',\n",
       "       'Accounting/Finance;Quality;Analyst/Research',\n",
       "       'Human Resources;Manufacturing/Production',\n",
       "       'Accounting/Finance;Operations/Management;Sales/Retail',\n",
       "       'Accounting/Finance;Logistics/Supply Chain',\n",
       "       'Accounting/Finance;Engineering - Construction/Civil/Architecture;Operations/Management',\n",
       "       'Accounting/Finance;Operations/Management;Other',\n",
       "       'Analyst/Research;Sales/Retail',\n",
       "       'Accounting/Finance;Customer Service/Support;Sales/Retail',\n",
       "       'Accounting/Finance;Analyst/Research;Tourism/Travel',\n",
       "       'Accounting/Finance;Tourism/Travel',\n",
       "       'Engineering - Construction/Civil/Architecture;Project/Program Management',\n",
       "       'Accounting/Finance;Engineering - Construction/Civil/Architecture;Logistics/Supply Chain',\n",
       "       'Accounting/Finance;Administration;Analyst/Research',\n",
       "       'Accounting/Finance;Operations/Management;Manufacturing/Production',\n",
       "       'Sales/Retail',\n",
       "       'Administration;Business Development;Operations/Management',\n",
       "       'Accounting/Finance;Banking;Engineering - Construction/Civil/Architecture',\n",
       "       'Accounting/Finance;Engineering - Construction/Civil/Architecture;Manufacturing/Production',\n",
       "       'Accounting/Finance;Administration;Engineering - Construction/Civil/Architecture',\n",
       "       'Accounting/Finance;Manufacturing/Production;Analyst/Research',\n",
       "       'Training/Instructor',\n",
       "       'Operations/Management;Purchasing/Procurement',\n",
       "       'Accounting/Finance;Customer Service/Support;Analyst/Research',\n",
       "       'Accounting/Finance;IT/Software Development;Logistics/Supply Chain',\n",
       "       'Accounting/Finance;Hospitality/Hotels/Food Services;Project/Program Management',\n",
       "       'Accounting/Finance;Administration;Logistics/Supply Chain',\n",
       "       'Accounting/Finance;Administration;IT/Software Development',\n",
       "       'Engineering - Construction/Civil/Architecture',\n",
       "       'Logistics/Supply Chain;Purchasing/Procurement',\n",
       "       'Accounting/Finance;Medical/Healthcare;Analyst/Research',\n",
       "       'Accounting/Finance;Project/Program Management',\n",
       "       'Accounting/Finance;Business Development;Manufacturing/Production',\n",
       "       'Accounting/Finance;Administration;Customer Service/Support',\n",
       "       'Accounting/Finance;Administration;Business Development', 'Legal',\n",
       "       'Accounting/Finance;Banking;Customer Service/Support',\n",
       "       'Human Resources', 'Administration;Marketing/PR/Advertising',\n",
       "       'Administration',\n",
       "       'Administration;Human Resources;Training/Instructor',\n",
       "       'Administration;Logistics/Supply Chain;Purchasing/Procurement',\n",
       "       'Administration;Customer Service/Support',\n",
       "       'Business Development;Operations/Management;Sales/Retail',\n",
       "       'Administration;Customer Service/Support;Operations/Management',\n",
       "       'Administration;Human Resources;Operations/Management',\n",
       "       'Administration;Human Resources',\n",
       "       'Administration;Operations/Management', 'Customer Service/Support',\n",
       "       'Administration;Customer Service/Support;Hospitality/Hotels/Food Services',\n",
       "       'Administration;Legal',\n",
       "       'Administration;Customer Service/Support;Legal',\n",
       "       'Administration;Education/Teaching', 'Marketing/PR/Advertising',\n",
       "       'Administration;IT/Software Development',\n",
       "       'Human Resources;Medical/Healthcare',\n",
       "       'Administration;Hospitality/Hotels/Food Services;Operations/Management',\n",
       "       'Administration;Operations/Management;Analyst/Research',\n",
       "       'Administration;Logistics/Supply Chain',\n",
       "       'Administration;Sales/Retail',\n",
       "       'Administration;Business Development',\n",
       "       'Administration;Customer Service/Support;IT/Software Development',\n",
       "       'Medical/Healthcare', 'Administration;Tourism/Travel',\n",
       "       'Administration;Installation/Maintenance/Repair;IT/Software Development',\n",
       "       'Administration;Logistics/Supply Chain;Operations/Management',\n",
       "       'Administration;Hospitality/Hotels/Food Services;Medical/Healthcare',\n",
       "       'Administration;IT/Software Development;Engineering - Telecom/Technology',\n",
       "       'Operations/Management;Manufacturing/Production',\n",
       "       'Administration;Legal;Operations/Management',\n",
       "       'Operations/Management;Sales/Retail',\n",
       "       'Administration;Human Resources;Medical/Healthcare',\n",
       "       'Administration;Engineering - Construction/Civil/Architecture',\n",
       "       'Marketing/PR/Advertising;Media/Journalism/Publishing',\n",
       "       'Administration;Writing/Editorial;Media/Journalism/Publishing',\n",
       "       'Administration;Writing/Editorial;Project/Program Management',\n",
       "       'Administration;Operations/Management;Education/Teaching',\n",
       "       'Administration;Customer Service/Support;Sales/Retail',\n",
       "       'Business Development;Marketing/PR/Advertising;Sales/Retail',\n",
       "       'Administration;Sales/Retail;Media/Journalism/Publishing',\n",
       "       'Administration;Sales/Retail;Fashion',\n",
       "       'Administration;Medical/Healthcare',\n",
       "       'Administration;IT/Software Development;Project/Program Management',\n",
       "       'Administration;Customer Service/Support;Writing/Editorial',\n",
       "       'Customer Service/Support;Operations/Management;Sales/Retail',\n",
       "       'IT/Software Development;Project/Program Management',\n",
       "       'Business Development;IT/Software Development;Sales/Retail',\n",
       "       'Administration;Creative/Design/Art;Customer Service/Support',\n",
       "       'Installation/Maintenance/Repair;IT/Software Development;Engineering - Telecom/Technology',\n",
       "       'Administration;Purchasing/Procurement',\n",
       "       'Writing/Editorial;Logistics/Supply Chain;Operations/Management',\n",
       "       'Administration;Writing/Editorial',\n",
       "       'Administration;Customer Service/Support;Education/Teaching',\n",
       "       'Customer Service/Support;Sales/Retail;Education/Teaching',\n",
       "       'Business Development;Sales/Retail',\n",
       "       'Administration;Hospitality/Hotels/Food Services;Education/Teaching',\n",
       "       'Logistics/Supply Chain;Operations/Management',\n",
       "       'Administration;Business Development;Writing/Editorial',\n",
       "       'Administration;Creative/Design/Art',\n",
       "       'Customer Service/Support;Education/Teaching;Training/Instructor',\n",
       "       'Administration;Engineering - Construction/Civil/Architecture;Legal',\n",
       "       'Customer Service/Support;IT/Software Development;Sales/Retail',\n",
       "       'Administration;Marketing/PR/Advertising;Media/Journalism/Publishing',\n",
       "       'Education/Teaching;Training/Instructor',\n",
       "       'Administration;Medical/Healthcare;Pharmaceutical',\n",
       "       'Logistics/Supply Chain', 'Customer Service/Support;Other',\n",
       "       'Administration;Other', 'Hospitality/Hotels/Food Services',\n",
       "       'Hospitality/Hotels/Food Services;Operations/Management',\n",
       "       'Administration;Human Resources;Legal',\n",
       "       'IT/Software Development;Analyst/Research',\n",
       "       'Administration;Installation/Maintenance/Repair;Operations/Management',\n",
       "       'Logistics/Supply Chain;Operations/Management;Sales/Retail',\n",
       "       'Project/Program Management',\n",
       "       'Marketing/PR/Advertising;Sales/Retail;Media/Journalism/Publishing',\n",
       "       'Administration;Operations/Management;Project/Program Management',\n",
       "       'Administration;R&D/Science;Operations/Management',\n",
       "       'Administration;Engineering - Construction/Civil/Architecture;Quality',\n",
       "       'Customer Service/Support;Manufacturing/Production',\n",
       "       'Administration;Business Development;Quality',\n",
       "       'Business Development;Marketing/PR/Advertising',\n",
       "       'Customer Service/Support;Hospitality/Hotels/Food Services',\n",
       "       'Administration;Operations/Management;C-Level Executive/GM/Director',\n",
       "       'Sales/Retail;Pharmaceutical',\n",
       "       'Human Resources;Operations/Management',\n",
       "       'Logistics/Supply Chain;Operations/Management;Purchasing/Procurement',\n",
       "       'Administration;Business Development;Human Resources',\n",
       "       'Administration;C-Level Executive/GM/Director',\n",
       "       'Administration;Operations/Management;Manufacturing/Production',\n",
       "       'Administration;Human Resources;Project/Program Management',\n",
       "       'Administration;Operations/Management;Sales/Retail',\n",
       "       'Administration;Quality',\n",
       "       'Administration;Customer Service/Support;Tourism/Travel',\n",
       "       'Quality',\n",
       "       'Administration;Marketing/PR/Advertising;Analyst/Research',\n",
       "       'Administration;Project/Program Management',\n",
       "       'Logistics/Supply Chain;Pharmaceutical;Purchasing/Procurement',\n",
       "       'Tourism/Travel', 'Administration;Pharmaceutical',\n",
       "       'Administration;Engineering - Construction/Civil/Architecture;Operations/Management',\n",
       "       'Customer Service/Support;Marketing/PR/Advertising',\n",
       "       'Business Development;Customer Service/Support;Sales/Retail',\n",
       "       'Project/Program Management;Engineering - Other',\n",
       "       'Project/Program Management;Engineering - Telecom/Technology',\n",
       "       'Engineering - Construction/Civil/Architecture;Operations/Management;Engineering - Mechanical/Electrical',\n",
       "       'Customer Service/Support;Sales/Retail',\n",
       "       'Logistics/Supply Chain;Analyst/Research;Sales/Retail',\n",
       "       'Administration;Manufacturing/Production',\n",
       "       'Administration;Business Development;Engineering - Mechanical/Electrical',\n",
       "       'Operations/Management;C-Level Executive/GM/Director',\n",
       "       'Administration;Customer Service/Support;Marketing/PR/Advertising',\n",
       "       'Writing/Editorial;Medical/Healthcare;Pharmaceutical',\n",
       "       'Administration;Hospitality/Hotels/Food Services',\n",
       "       'Business Development;Customer Service/Support;Operations/Management',\n",
       "       'Administration;Analyst/Research;Sales/Retail',\n",
       "       'Engineering - Construction/Civil/Architecture;Logistics/Supply Chain;Project/Program Management',\n",
       "       'Administration;Operations/Management;Tourism/Travel',\n",
       "       'Purchasing/Procurement',\n",
       "       'Operations/Management;Medical/Healthcare;Sales/Retail',\n",
       "       'Operations/Management;Education/Teaching;Training/Instructor',\n",
       "       'Administration;Marketing/PR/Advertising;Tourism/Travel',\n",
       "       'Administration;Engineering - Construction/Civil/Architecture;Customer Service/Support',\n",
       "       'Administration;Installation/Maintenance/Repair;Engineering - Mechanical/Electrical',\n",
       "       'Business Development;IT/Software Development;Project/Program Management',\n",
       "       'Medical/Healthcare;Sales/Retail;Pharmaceutical',\n",
       "       'Education/Teaching', 'Medical/Healthcare;Pharmaceutical',\n",
       "       'Administration;Analyst/Research',\n",
       "       'Administration;Education/Teaching;Training/Instructor',\n",
       "       'Marketing/PR/Advertising;Medical/Healthcare;Pharmaceutical',\n",
       "       'Administration;Business Development;Marketing/PR/Advertising',\n",
       "       'Logistics/Supply Chain;Sales/Retail;Engineering - Mechanical/Electrical',\n",
       "       'Logistics/Supply Chain;Operations/Management;Engineering - Other',\n",
       "       'Administration;Business Development;Sales/Retail',\n",
       "       'Operations/Management;Education/Teaching',\n",
       "       'Administration;IT/Software Development;Analyst/Research',\n",
       "       'Manufacturing/Production',\n",
       "       'Administration;Operations/Management;Sports and Leisure',\n",
       "       'R&D/Science;Operations/Management;Engineering - Other',\n",
       "       'Administration;Operations/Management;Purchasing/Procurement',\n",
       "       'Administration;Engineering - Construction/Civil/Architecture;Project/Program Management',\n",
       "       'Operations/Management', 'Administration;Banking;Sales/Retail',\n",
       "       'Administration;Business Development;IT/Software Development',\n",
       "       'Administration;Customer Service/Support;Logistics/Supply Chain',\n",
       "       'Manufacturing/Production;C-Level Executive/GM/Director',\n",
       "       'Operations/Management;Tourism/Travel',\n",
       "       'Medical/Healthcare;Analyst/Research',\n",
       "       'Marketing/PR/Advertising;Sales/Retail',\n",
       "       'Administration;Customer Service/Support;Human Resources',\n",
       "       'Business Development;Operations/Management;Pharmaceutical',\n",
       "       'Installation/Maintenance/Repair;Engineering - Mechanical/Electrical',\n",
       "       'Engineering - Construction/Civil/Architecture;Operations/Management',\n",
       "       'Quality;Engineering - Mechanical/Electrical',\n",
       "       'Human Resources;Education/Teaching',\n",
       "       'IT/Software Development;Project/Program Management;Engineering - Telecom/Technology',\n",
       "       'Engineering - Construction/Civil/Architecture;Installation/Maintenance/Repair',\n",
       "       'Customer Service/Support;Operations/Management',\n",
       "       'IT/Software Development;Sales/Retail', 'IT/Software Development',\n",
       "       'Operations/Management;Marketing/PR/Advertising',\n",
       "       'Installation/Maintenance/Repair;Operations/Management;Engineering - Mechanical/Electrical',\n",
       "       'Operations/Management;Project/Program Management',\n",
       "       'Banking;IT/Software Development;Engineering - Telecom/Technology',\n",
       "       'Engineering - Construction/Civil/Architecture;Creative/Design/Art',\n",
       "       'Engineering - Construction/Civil/Architecture;Legal',\n",
       "       'Marketing/PR/Advertising;Analyst/Research;Media/Journalism/Publishing',\n",
       "       'Customer Service/Support;Sales/Retail;Tourism/Travel',\n",
       "       'IT/Software Development;Operations/Management',\n",
       "       'Engineering - Construction/Civil/Architecture;C-Level Executive/GM/Director;Engineering - Mechanical/Electrical',\n",
       "       'Customer Service/Support;Operations/Management;Medical/Healthcare',\n",
       "       'Business Development',\n",
       "       'Marketing/PR/Advertising;Sales/Retail;Pharmaceutical',\n",
       "       'Sales/Retail;Fashion', 'Pharmaceutical',\n",
       "       'IT/Software Development;Engineering - Other',\n",
       "       'Engineering - Construction/Civil/Architecture;Project/Program Management;Engineering - Mechanical/Electrical',\n",
       "       'Analyst/Research',\n",
       "       'Customer Service/Support;Operations/Management;Tourism/Travel',\n",
       "       'IT/Software Development;Engineering - Telecom/Technology;Training/Instructor',\n",
       "       'Customer Service/Support;Marketing/PR/Advertising;Media/Journalism/Publishing',\n",
       "       'Manufacturing/Production;Quality;Pharmaceutical',\n",
       "       'Operations/Management;Sales/Retail;Engineering - Other',\n",
       "       'Human Resources;IT/Software Development',\n",
       "       'Business Development;Operations/Management;Marketing/PR/Advertising',\n",
       "       'Installation/Maintenance/Repair;IT/Software Development',\n",
       "       'Business Development;Human Resources',\n",
       "       'Banking;Operations/Management;Analyst/Research',\n",
       "       'Banking;Operations/Management',\n",
       "       'Human Resources;Training/Instructor',\n",
       "       'R&D/Science;Engineering - Mechanical/Electrical',\n",
       "       'Business Development;IT/Software Development;Engineering - Telecom/Technology',\n",
       "       'Customer Service/Support;Marketing/PR/Advertising;Sales/Retail',\n",
       "       'IT/Software Development;Analyst/Research;Engineering - Telecom/Technology',\n",
       "       'Operations/Management;Other;Project/Program Management',\n",
       "       'Purchasing/Procurement;Engineering - Mechanical/Electrical',\n",
       "       'Human Resources;Analyst/Research',\n",
       "       'Marketing/PR/Advertising;Analyst/Research',\n",
       "       'Business Development;Marketing/PR/Advertising;Project/Program Management',\n",
       "       'Business Development;Operations/Management',\n",
       "       'Business Development;Customer Service/Support;Project/Program Management',\n",
       "       'Operations/Management;Manufacturing/Production;Engineering - Mechanical/Electrical',\n",
       "       'Business Development;IT/Software Development;Analyst/Research',\n",
       "       'Banking;Project/Program Management;Engineering - Mechanical/Electrical',\n",
       "       'R&D/Science;Hospitality/Hotels/Food Services;Operations/Management',\n",
       "       'Business Development;Sales/Retail;Engineering - Other',\n",
       "       'Sales/Retail;Education/Teaching',\n",
       "       'Logistics/Supply Chain;Manufacturing/Production;Sales/Retail',\n",
       "       'Business Development;Sales/Retail;Education/Teaching',\n",
       "       'Sales/Retail;Engineering - Mechanical/Electrical',\n",
       "       'Operations/Management;Marketing/PR/Advertising;Media/Journalism/Publishing',\n",
       "       'Customer Service/Support;Medical/Healthcare;Sales/Retail',\n",
       "       'Business Development;Tourism/Travel',\n",
       "       'Hospitality/Hotels/Food Services;Operations/Management;Sales/Retail',\n",
       "       'Operations/Management;Sales/Retail;Engineering - Mechanical/Electrical',\n",
       "       'Engineering - Construction/Civil/Architecture;Operations/Management;Engineering - Other',\n",
       "       'Business Development;Engineering - Telecom/Technology',\n",
       "       'Customer Service/Support;IT/Software Development;Engineering - Telecom/Technology',\n",
       "       'IT/Software Development;Quality;Engineering - Telecom/Technology',\n",
       "       'Sales/Retail;Engineering - Telecom/Technology;Engineering - Mechanical/Electrical',\n",
       "       'Creative/Design/Art;Marketing/PR/Advertising;Media/Journalism/Publishing',\n",
       "       'Purchasing/Procurement;Engineering - Other',\n",
       "       'Logistics/Supply Chain;Purchasing/Procurement;Engineering - Mechanical/Electrical',\n",
       "       'Business Development;Legal;Sales/Retail',\n",
       "       'Business Development;Operations/Management;Project/Program Management',\n",
       "       'Installation/Maintenance/Repair;IT/Software Development;Analyst/Research',\n",
       "       'Medical/Healthcare;Sales/Retail',\n",
       "       'Business Development;Analyst/Research',\n",
       "       'Banking;IT/Software Development;Analyst/Research',\n",
       "       'Engineering - Construction/Civil/Architecture;Business Development;Sales/Retail',\n",
       "       'IT/Software Development;Project/Program Management;Analyst/Research',\n",
       "       'Logistics/Supply Chain;Manufacturing/Production',\n",
       "       'Engineering - Construction/Civil/Architecture;Business Development',\n",
       "       'Writing/Editorial;Project/Program Management',\n",
       "       'IT/Software Development;Operations/Management;Engineering - Telecom/Technology',\n",
       "       'Sales/Retail;Engineering - Telecom/Technology',\n",
       "       'Writing/Editorial;Marketing/PR/Advertising;Media/Journalism/Publishing',\n",
       "       'Operations/Management;Medical/Healthcare',\n",
       "       'Customer Service/Support;Sports and Leisure',\n",
       "       'Business Development;Writing/Editorial',\n",
       "       'Engineering - Mechanical/Electrical;Engineering - Other',\n",
       "       'Business Development;Project/Program Management',\n",
       "       'Tourism/Travel;Training/Instructor',\n",
       "       'Business Development;Sales/Retail;Fashion',\n",
       "       'Customer Service/Support;Logistics/Supply Chain;Sales/Retail',\n",
       "       'Logistics/Supply Chain;Manufacturing/Production;Purchasing/Procurement',\n",
       "       'Engineering - Construction/Civil/Architecture;Operations/Management;Sales/Retail',\n",
       "       'Banking;Sales/Retail',\n",
       "       'Creative/Design/Art;IT/Software Development;Engineering - Telecom/Technology',\n",
       "       'Creative/Design/Art;Marketing/PR/Advertising',\n",
       "       'Banking;Customer Service/Support;Sales/Retail',\n",
       "       'Hospitality/Hotels/Food Services;Operations/Management;Tourism/Travel',\n",
       "       'Logistics/Supply Chain;Engineering - Other',\n",
       "       'Sales/Retail;Tourism/Travel',\n",
       "       'Marketing/PR/Advertising;Media/Journalism/Publishing;Engineering - Mechanical/Electrical',\n",
       "       'Engineering - Construction/Civil/Architecture;Sales/Retail',\n",
       "       'Manufacturing/Production;Engineering - Mechanical/Electrical',\n",
       "       'Banking;IT/Software Development;Project/Program Management',\n",
       "       'IT/Software Development;Engineering - Telecom/Technology;Education/Teaching',\n",
       "       'R&D/Science;IT/Software Development;Engineering - Telecom/Technology',\n",
       "       'IT/Software Development;Marketing/PR/Advertising;Engineering - Telecom/Technology',\n",
       "       'Creative/Design/Art',\n",
       "       'IT/Software Development;Sales/Retail;Engineering - Telecom/Technology',\n",
       "       'IT/Software Development;Strategy/Consulting',\n",
       "       'Customer Service/Support;Logistics/Supply Chain',\n",
       "       'Operations/Management;Marketing/PR/Advertising;Sales/Retail',\n",
       "       'Installation/Maintenance/Repair;Manufacturing/Production;Engineering - Mechanical/Electrical',\n",
       "       'Engineering - Construction/Civil/Architecture;Installation/Maintenance/Repair;Engineering - Mechanical/Electrical',\n",
       "       'R&D/Science;Human Resources;Training/Instructor',\n",
       "       'Logistics/Supply Chain;Sales/Retail',\n",
       "       'Customer Service/Support;Engineering - Other',\n",
       "       'Customer Service/Support;Sales/Retail;Engineering - Other',\n",
       "       'Engineering - Construction/Civil/Architecture;Installation/Maintenance/Repair;Project/Program Management',\n",
       "       'Banking;IT/Software Development;Quality',\n",
       "       'Engineering - Mechanical/Electrical;Education/Teaching;Training/Instructor',\n",
       "       'Banking;Legal;Analyst/Research',\n",
       "       'Sales/Retail;Engineering - Mechanical/Electrical;Engineering - Oil & Gas/Energy',\n",
       "       'Customer Service/Support;Installation/Maintenance/Repair;IT/Software Development',\n",
       "       'Writing/Editorial;Media/Journalism/Publishing',\n",
       "       'Banking;Business Development;IT/Software Development',\n",
       "       'Business Development;Analyst/Research;Sales/Retail',\n",
       "       'Installation/Maintenance/Repair;Quality;Engineering - Mechanical/Electrical',\n",
       "       'Manufacturing/Production;Engineering - Other',\n",
       "       'Customer Service/Support;Sales/Retail;Fashion',\n",
       "       'Sales/Retail;Engineering - Mechanical/Electrical;Engineering - Other',\n",
       "       'Business Development;Customer Service/Support;Pharmaceutical',\n",
       "       'Creative/Design/Art;Manufacturing/Production;Marketing/PR/Advertising',\n",
       "       'Creative/Design/Art;Writing/Editorial;Marketing/PR/Advertising',\n",
       "       'Legal;Strategy/Consulting;C-Level Executive/GM/Director',\n",
       "       'Writing/Editorial;Marketing/PR/Advertising',\n",
       "       'Business Development;Hospitality/Hotels/Food Services;Sales/Retail',\n",
       "       'R&D/Science;Education/Teaching',\n",
       "       'Business Development;IT/Software Development;Logistics/Supply Chain',\n",
       "       'IT/Software Development;Marketing/PR/Advertising;Media/Journalism/Publishing',\n",
       "       'Human Resources;Operations/Management;Marketing/PR/Advertising',\n",
       "       'Engineering - Construction/Civil/Architecture;Engineering - Mechanical/Electrical',\n",
       "       'Logistics/Supply Chain;Quality;Engineering - Other',\n",
       "       'Business Development;Customer Service/Support;Analyst/Research',\n",
       "       'Banking;Customer Service/Support;IT/Software Development',\n",
       "       'Creative/Design/Art;IT/Software Development',\n",
       "       'Operations/Management;Engineering - Other',\n",
       "       'Engineering - Construction/Civil/Architecture;Creative/Design/Art;Engineering - Mechanical/Electrical',\n",
       "       'Customer Service/Support;Human Resources;Operations/Management',\n",
       "       'Human Resources;Medical/Healthcare;Pharmaceutical',\n",
       "       'Creative/Design/Art;Operations/Management;Sales/Retail',\n",
       "       'Medical/Healthcare;Sales/Retail;Engineering - Other',\n",
       "       'IT/Software Development;Project/Program Management;Quality',\n",
       "       'Customer Service/Support;Quality',\n",
       "       'Creative/Design/Art;Sales/Retail;Engineering - Mechanical/Electrical',\n",
       "       'Business Development;Customer Service/Support;IT/Software Development',\n",
       "       'Engineering - Construction/Civil/Architecture;Quality;Engineering - Mechanical/Electrical',\n",
       "       'Business Development;Sales/Retail;Pharmaceutical',\n",
       "       'Engineering - Construction/Civil/Architecture;Engineering - Telecom/Technology;Engineering - Mechanical/Electrical',\n",
       "       'Human Resources;IT/Software Development;Engineering - Telecom/Technology',\n",
       "       'Operations/Management;Marketing/PR/Advertising;Project/Program Management',\n",
       "       'Legal;Operations/Management;Engineering - Mechanical/Electrical',\n",
       "       'Business Development;Medical/Healthcare;Purchasing/Procurement',\n",
       "       'IT/Software Development;Marketing/PR/Advertising',\n",
       "       'R&D/Science;Quality',\n",
       "       'Business Development;Logistics/Supply Chain;Operations/Management',\n",
       "       'IT/Software Development;Quality;Analyst/Research',\n",
       "       'Engineering - Construction/Civil/Architecture;Creative/Design/Art;IT/Software Development',\n",
       "       'Business Development;Medical/Healthcare',\n",
       "       'Operations/Management;Engineering - Mechanical/Electrical',\n",
       "       'Hospitality/Hotels/Food Services;Logistics/Supply Chain;Sales/Retail',\n",
       "       'Legal;Quality',\n",
       "       'Marketing/PR/Advertising;Media/Journalism/Publishing;Strategy/Consulting',\n",
       "       'Human Resources;Legal', 'Engineering - Telecom/Technology',\n",
       "       'Business Development;Engineering - Telecom/Technology;Engineering - Mechanical/Electrical',\n",
       "       'Business Development;IT/Software Development',\n",
       "       'Business Development;Sales/Retail;Engineering - Mechanical/Electrical',\n",
       "       'Quality;Engineering - Other', 'R&D/Science;Sales/Retail',\n",
       "       'Marketing/PR/Advertising;Sales/Retail;Fashion',\n",
       "       'Engineering - Construction/Civil/Architecture;Business Development;Engineering - Mechanical/Electrical',\n",
       "       'IT/Software Development;Engineering - Telecom/Technology;Engineering - Mechanical/Electrical',\n",
       "       'Logistics/Supply Chain;Operations/Management;Fashion',\n",
       "       'Business Development;Customer Service/Support',\n",
       "       'IT/Software Development;Operations/Management;C-Level Executive/GM/Director',\n",
       "       'Hospitality/Hotels/Food Services;Logistics/Supply Chain;Purchasing/Procurement',\n",
       "       'Banking',\n",
       "       'Business Development;Marketing/PR/Advertising;Media/Journalism/Publishing',\n",
       "       'Creative/Design/Art;Writing/Editorial;IT/Software Development',\n",
       "       'Operations/Management;Pharmaceutical',\n",
       "       'Business Development;Customer Service/Support;Training/Instructor',\n",
       "       'Quality;Engineering - Telecom/Technology',\n",
       "       'Business Development;Logistics/Supply Chain;Sales/Retail',\n",
       "       'Sales/Retail;Engineering - Other',\n",
       "       'Customer Service/Support;Project/Program Management',\n",
       "       'R&D/Science;Manufacturing/Production;Engineering - Mechanical/Electrical',\n",
       "       'Operations/Management;Sales/Retail;Tourism/Travel',\n",
       "       'Installation/Maintenance/Repair;Engineering - Telecom/Technology;Engineering - Other',\n",
       "       'IT/Software Development;Education/Teaching',\n",
       "       'R&D/Science;Pharmaceutical', 'R&D/Science;Quality;Pharmaceutical',\n",
       "       'Manufacturing/Production;Sales/Retail;Engineering - Mechanical/Electrical',\n",
       "       'Writing/Editorial;Operations/Management;Marketing/PR/Advertising',\n",
       "       'Installation/Maintenance/Repair;Project/Program Management;Engineering - Mechanical/Electrical',\n",
       "       'Logistics/Supply Chain;Medical/Healthcare;Pharmaceutical',\n",
       "       'Logistics/Supply Chain;Operations/Management;Manufacturing/Production',\n",
       "       'Customer Service/Support;Operations/Management;Quality',\n",
       "       'IT/Software Development;Operations/Management;Sales/Retail',\n",
       "       'R&D/Science;Engineering - Other',\n",
       "       'Manufacturing/Production;Engineering - Mechanical/Electrical;Engineering - Other',\n",
       "       'Logistics/Supply Chain;Purchasing/Procurement;Engineering - Other',\n",
       "       'Operations/Management;Engineering - Oil & Gas/Energy',\n",
       "       'Writing/Editorial;IT/Software Development;Marketing/PR/Advertising',\n",
       "       'R&D/Science;Manufacturing/Production;Engineering - Other',\n",
       "       'Operations/Management;Quality;Purchasing/Procurement',\n",
       "       'Logistics/Supply Chain;Analyst/Research',\n",
       "       'Operations/Management;C-Level Executive/GM/Director;Education/Teaching',\n",
       "       'Project/Program Management;C-Level Executive/GM/Director',\n",
       "       'Operations/Management;Sales/Retail;C-Level Executive/GM/Director',\n",
       "       'Sales/Retail;C-Level Executive/GM/Director',\n",
       "       'C-Level Executive/GM/Director;Engineering - Mechanical/Electrical',\n",
       "       'Engineering - Construction/Civil/Architecture;Creative/Design/Art;Project/Program Management',\n",
       "       'Creative/Design/Art;Marketing/PR/Advertising;Project/Program Management',\n",
       "       'Creative/Design/Art;IT/Software Development;Marketing/PR/Advertising',\n",
       "       'Creative/Design/Art;Media/Journalism/Publishing',\n",
       "       'Creative/Design/Art;Manufacturing/Production;Engineering - Mechanical/Electrical',\n",
       "       'Creative/Design/Art;Engineering - Mechanical/Electrical',\n",
       "       'Creative/Design/Art;Marketing/PR/Advertising;Medical/Healthcare',\n",
       "       'R&D/Science;Creative/Design/Art',\n",
       "       'Creative/Design/Art;Engineering - Other',\n",
       "       'Creative/Design/Art;Education/Teaching',\n",
       "       'Creative/Design/Art;Writing/Editorial',\n",
       "       'Creative/Design/Art;Operations/Management',\n",
       "       'Creative/Design/Art;Fashion',\n",
       "       'Engineering - Construction/Civil/Architecture;Creative/Design/Art;Engineering - Telecom/Technology',\n",
       "       'Creative/Design/Art;Education/Teaching;Training/Instructor',\n",
       "       'Creative/Design/Art;Installation/Maintenance/Repair;Engineering - Mechanical/Electrical',\n",
       "       'Creative/Design/Art;Marketing/PR/Advertising;Analyst/Research',\n",
       "       'Creative/Design/Art;IT/Software Development;Training/Instructor',\n",
       "       'Sales/Retail;Sports and Leisure',\n",
       "       'Customer Service/Support;Training/Instructor',\n",
       "       'Operations/Management;Sales/Retail;Pharmaceutical',\n",
       "       'Customer Service/Support;Hospitality/Hotels/Food Services;Tourism/Travel',\n",
       "       'Customer Service/Support;Medical/Healthcare',\n",
       "       'Customer Service/Support;Tourism/Travel',\n",
       "       'Customer Service/Support;Hospitality/Hotels/Food Services;Operations/Management',\n",
       "       'Banking;Customer Service/Support',\n",
       "       'Customer Service/Support;Logistics/Supply Chain;Operations/Management',\n",
       "       'Customer Service/Support;Medical/Healthcare;Pharmaceutical',\n",
       "       'Customer Service/Support;Sales/Retail;Training/Instructor',\n",
       "       'Customer Service/Support;Engineering - Telecom/Technology',\n",
       "       'Project/Program Management;Sales/Retail',\n",
       "       'Customer Service/Support;IT/Software Development',\n",
       "       'Customer Service/Support;Other;Sales/Retail',\n",
       "       'Customer Service/Support;Installation/Maintenance/Repair;Engineering - Mechanical/Electrical',\n",
       "       'Marketing/PR/Advertising;Medical/Healthcare;Sales/Retail',\n",
       "       'Customer Service/Support;Sales/Retail;Pharmaceutical',\n",
       "       'Creative/Design/Art;Customer Service/Support;Marketing/PR/Advertising',\n",
       "       'Customer Service/Support;Engineering - Mechanical/Electrical',\n",
       "       'Engineering - Construction/Civil/Architecture;Medical/Healthcare;Other',\n",
       "       'Customer Service/Support;Human Resources',\n",
       "       'Customer Service/Support;Other;Tourism/Travel',\n",
       "       'Customer Service/Support;Marketing/PR/Advertising;Medical/Healthcare',\n",
       "       'Customer Service/Support;Logistics/Supply Chain;Other',\n",
       "       'R&D/Science;Operations/Management;Quality',\n",
       "       'Customer Service/Support;Writing/Editorial;Quality',\n",
       "       'IT/Software Development;Marketing/PR/Advertising;Sales/Retail',\n",
       "       'Engineering - Construction/Civil/Architecture;Sales/Retail;Engineering - Other',\n",
       "       'Operations/Management;Sales/Retail;Fashion',\n",
       "       'Installation/Maintenance/Repair;Sales/Retail;Engineering - Mechanical/Electrical',\n",
       "       'Engineering - Telecom/Technology;Engineering - Mechanical/Electrical',\n",
       "       'R&D/Science;Hospitality/Hotels/Food Services;Quality',\n",
       "       'Manufacturing/Production;Sales/Retail;Engineering - Oil & Gas/Energy',\n",
       "       'Engineering - Construction/Civil/Architecture;Installation/Maintenance/Repair;Operations/Management',\n",
       "       'Manufacturing/Production;Fashion;Engineering - Other',\n",
       "       'Medical/Healthcare;Education/Teaching',\n",
       "       'IT/Software Development;Education/Teaching;Training/Instructor',\n",
       "       'Pharmaceutical;Education/Teaching',\n",
       "       'Human Resources;Education/Teaching;Training/Instructor',\n",
       "       'Engineering - Mechanical/Electrical;Training/Instructor',\n",
       "       'Business Development;Education/Teaching;Training/Instructor',\n",
       "       'Project/Program Management;Education/Teaching',\n",
       "       'Engineering - Telecom/Technology;Engineering - Mechanical/Electrical;Education/Teaching',\n",
       "       'Marketing/PR/Advertising;Education/Teaching;Training/Instructor',\n",
       "       'Writing/Editorial', 'Writing/Editorial;Education/Teaching',\n",
       "       'Quality;Training/Instructor',\n",
       "       'Marketing/PR/Advertising;Sales/Retail;Education/Teaching',\n",
       "       'Sports and Leisure;Education/Teaching',\n",
       "       'Engineering - Construction/Civil/Architecture;Engineering - Other',\n",
       "       'Engineering - Construction/Civil/Architecture;Installation/Maintenance/Repair;IT/Software Development',\n",
       "       'Engineering - Construction/Civil/Architecture;Operations/Management;Project/Program Management',\n",
       "       'Engineering - Construction/Civil/Architecture;Logistics/Supply Chain;Purchasing/Procurement',\n",
       "       'Engineering - Construction/Civil/Architecture;Customer Service/Support;Sales/Retail',\n",
       "       'Engineering - Construction/Civil/Architecture;Quality;Engineering - Other',\n",
       "       'Engineering - Construction/Civil/Architecture;Quality',\n",
       "       'Engineering - Construction/Civil/Architecture;Manufacturing/Production',\n",
       "       'Engineering - Construction/Civil/Architecture;Project/Program Management;Sales/Retail',\n",
       "       'Engineering - Construction/Civil/Architecture;Purchasing/Procurement',\n",
       "       'Engineering - Other',\n",
       "       'Engineering - Construction/Civil/Architecture;Project/Program Management;Quality',\n",
       "       'Engineering - Construction/Civil/Architecture;IT/Software Development;Engineering - Telecom/Technology',\n",
       "       'Engineering - Construction/Civil/Architecture;Business Development;Strategy/Consulting',\n",
       "       'Engineering - Construction/Civil/Architecture;Project/Program Management;Engineering - Other',\n",
       "       'Engineering - Construction/Civil/Architecture;Purchasing/Procurement;Engineering - Mechanical/Electrical',\n",
       "       'Engineering - Construction/Civil/Architecture;Project/Program Management;Engineering - Oil & Gas/Energy',\n",
       "       'Engineering - Construction/Civil/Architecture;Operations/Management;Purchasing/Procurement',\n",
       "       'Installation/Maintenance/Repair;Operations/Management;Engineering - Other',\n",
       "       'Engineering - Construction/Civil/Architecture;Engineering - Telecom/Technology',\n",
       "       'Engineering - Construction/Civil/Architecture;Sales/Retail;Engineering - Mechanical/Electrical',\n",
       "       'Engineering - Construction/Civil/Architecture;IT/Software Development;Engineering - Mechanical/Electrical',\n",
       "       'Engineering - Construction/Civil/Architecture;Creative/Design/Art;Sales/Retail',\n",
       "       'Engineering - Construction/Civil/Architecture;Creative/Design/Art;Manufacturing/Production',\n",
       "       'Engineering - Construction/Civil/Architecture;Creative/Design/Art;Engineering - Other',\n",
       "       'Engineering - Construction/Civil/Architecture;Creative/Design/Art;Installation/Maintenance/Repair',\n",
       "       'Engineering - Construction/Civil/Architecture;Manufacturing/Production;Quality',\n",
       "       'Engineering - Construction/Civil/Architecture;Engineering - Mechanical/Electrical;Engineering - Other',\n",
       "       'Engineering - Construction/Civil/Architecture;Creative/Design/Art;Marketing/PR/Advertising',\n",
       "       'Engineering - Construction/Civil/Architecture;Manufacturing/Production;Project/Program Management',\n",
       "       'Engineering - Construction/Civil/Architecture;Writing/Editorial;Analyst/Research',\n",
       "       'Engineering - Construction/Civil/Architecture;Logistics/Supply Chain',\n",
       "       'Engineering - Construction/Civil/Architecture;Other;Engineering - Other',\n",
       "       'Engineering - Construction/Civil/Architecture;Writing/Editorial',\n",
       "       'Installation/Maintenance/Repair',\n",
       "       'Business Development;Engineering - Mechanical/Electrical',\n",
       "       'Installation/Maintenance/Repair;Engineering - Mechanical/Electrical;Engineering - Other',\n",
       "       'Quality;Engineering - Mechanical/Electrical;Engineering - Other',\n",
       "       'R&D/Science',\n",
       "       'Logistics/Supply Chain;Manufacturing/Production;Engineering - Mechanical/Electrical',\n",
       "       'Project/Program Management;Engineering - Telecom/Technology;Engineering - Mechanical/Electrical',\n",
       "       'Project/Program Management;Engineering - Mechanical/Electrical',\n",
       "       'Medical/Healthcare;Quality;Engineering - Other',\n",
       "       'Customer Service/Support;Sales/Retail;Engineering - Mechanical/Electrical',\n",
       "       'Engineering - Mechanical/Electrical;Engineering - Oil & Gas/Energy',\n",
       "       'R&D/Science;Engineering - Mechanical/Electrical;Engineering - Other',\n",
       "       'Project/Program Management;Engineering - Mechanical/Electrical;Engineering - Other',\n",
       "       'Business Development;Manufacturing/Production;Engineering - Telecom/Technology',\n",
       "       'Installation/Maintenance/Repair;Engineering - Telecom/Technology;Engineering - Mechanical/Electrical',\n",
       "       'Marketing/PR/Advertising;Engineering - Mechanical/Electrical',\n",
       "       'Manufacturing/Production;Engineering - Telecom/Technology;Engineering - Mechanical/Electrical',\n",
       "       'Manufacturing/Production;Quality;Engineering - Mechanical/Electrical',\n",
       "       'R&D/Science;Creative/Design/Art;Engineering - Mechanical/Electrical',\n",
       "       'Creative/Design/Art;Strategy/Consulting;Engineering - Mechanical/Electrical',\n",
       "       'Engineering - Mechanical/Electrical;Engineering - Oil & Gas/Energy;Engineering - Other',\n",
       "       'Engineering - Oil & Gas/Energy',\n",
       "       'Sales/Retail;Purchasing/Procurement;Engineering - Mechanical/Electrical',\n",
       "       'Installation/Maintenance/Repair;Logistics/Supply Chain;Engineering - Mechanical/Electrical',\n",
       "       'Operations/Management;Quality;Engineering - Mechanical/Electrical',\n",
       "       'Manufacturing/Production;Project/Program Management;Engineering - Mechanical/Electrical',\n",
       "       'Project/Program Management;Engineering - Mechanical/Electrical;Engineering - Oil & Gas/Energy',\n",
       "       'Marketing/PR/Advertising;Medical/Healthcare;Engineering - Mechanical/Electrical',\n",
       "       'Operations/Management;Purchasing/Procurement;Engineering - Mechanical/Electrical',\n",
       "       'R&D/Science;Quality;Engineering - Mechanical/Electrical',\n",
       "       'IT/Software Development;Engineering - Mechanical/Electrical',\n",
       "       'R&D/Science;Medical/Healthcare;Quality',\n",
       "       'Sales/Retail;Engineering - Oil & Gas/Energy',\n",
       "       'Medical/Healthcare;Engineering - Other',\n",
       "       'IT/Software Development;Quality',\n",
       "       'Manufacturing/Production;Quality',\n",
       "       'Installation/Maintenance/Repair;Engineering - Other',\n",
       "       'R&D/Science;Manufacturing/Production;Quality',\n",
       "       'Hospitality/Hotels/Food Services;Quality',\n",
       "       'Project/Program Management;Quality;Engineering - Other',\n",
       "       'R&D/Science;Quality;Engineering - Other',\n",
       "       'Operations/Management;Manufacturing/Production;Engineering - Other',\n",
       "       'IT/Software Development;Medical/Healthcare',\n",
       "       'Logistics/Supply Chain;Project/Program Management',\n",
       "       'Installation/Maintenance/Repair;Operations/Management;Quality',\n",
       "       'Logistics/Supply Chain;Manufacturing/Production;Engineering - Other',\n",
       "       'Manufacturing/Production;Pharmaceutical;Engineering - Other',\n",
       "       'Installation/Maintenance/Repair;Engineering - Telecom/Technology',\n",
       "       'Manufacturing/Production;Quality;Engineering - Other',\n",
       "       'Business Development;Sales/Retail;Engineering - Telecom/Technology',\n",
       "       'Operations/Management;Quality;Engineering - Other',\n",
       "       'Project/Program Management;Quality',\n",
       "       'Installation/Maintenance/Repair;Logistics/Supply Chain',\n",
       "       'Manufacturing/Production;Sales/Retail;Engineering - Other',\n",
       "       'Creative/Design/Art;Quality',\n",
       "       'R&D/Science;Creative/Design/Art;Marketing/PR/Advertising',\n",
       "       'Manufacturing/Production;Project/Program Management;Engineering - Other',\n",
       "       'Installation/Maintenance/Repair;Manufacturing/Production;Engineering - Other',\n",
       "       'Operations/Management;Manufacturing/Production;Fashion',\n",
       "       'Creative/Design/Art;Manufacturing/Production',\n",
       "       'Operations/Management;Manufacturing/Production;Quality',\n",
       "       'Logistics/Supply Chain;Sales/Retail;Engineering - Other',\n",
       "       'Manufacturing/Production;Fashion',\n",
       "       'Operations/Management;Manufacturing/Production;Pharmaceutical',\n",
       "       'Creative/Design/Art;Quality;Engineering - Other',\n",
       "       'R&D/Science;Analyst/Research',\n",
       "       'Installation/Maintenance/Repair;Quality;Engineering - Other',\n",
       "       'Writing/Editorial;IT/Software Development;Engineering - Telecom/Technology',\n",
       "       'Customer Service/Support;Installation/Maintenance/Repair;Engineering - Telecom/Technology',\n",
       "       'IT/Software Development;Medical/Healthcare;Engineering - Telecom/Technology',\n",
       "       'IT/Software Development;Engineering - Telecom/Technology;Engineering - Other',\n",
       "       'Logistics/Supply Chain;Sales/Retail;Fashion',\n",
       "       'Logistics/Supply Chain;Fashion', 'Quality;Fashion',\n",
       "       'Manufacturing/Production;Quality;Fashion',\n",
       "       'Marketing/PR/Advertising;Media/Journalism/Publishing;Fashion',\n",
       "       'Creative/Design/Art;Media/Journalism/Publishing;Fashion',\n",
       "       'Logistics/Supply Chain;Fashion;Purchasing/Procurement',\n",
       "       'Operations/Management;Fashion',\n",
       "       'Customer Service/Support;Hospitality/Hotels/Food Services;Sales/Retail',\n",
       "       'Hospitality/Hotels/Food Services;Sales/Retail',\n",
       "       'Hospitality/Hotels/Food Services;Manufacturing/Production;Quality',\n",
       "       'Hospitality/Hotels/Food Services;Operations/Management;Quality',\n",
       "       'Hospitality/Hotels/Food Services;Logistics/Supply Chain',\n",
       "       'Hospitality/Hotels/Food Services;Medical/Healthcare',\n",
       "       'Human Resources;Strategy/Consulting',\n",
       "       'Customer Service/Support;Installation/Maintenance/Repair;Medical/Healthcare',\n",
       "       'Human Resources;Marketing/PR/Advertising;Media/Journalism/Publishing',\n",
       "       'Human Resources;Tourism/Travel',\n",
       "       'IT/Software Development;Marketing/PR/Advertising;Project/Program Management',\n",
       "       'IT/Software Development;Logistics/Supply Chain;Operations/Management',\n",
       "       'Installation/Maintenance/Repair;Logistics/Supply Chain;Operations/Management',\n",
       "       'Legal;Training/Instructor',\n",
       "       'Legal;Medical/Healthcare;Pharmaceutical',\n",
       "       'Writing/Editorial;Quality', 'Quality;Sales/Retail',\n",
       "       'R&D/Science;Pharmaceutical;Purchasing/Procurement',\n",
       "       'Logistics/Supply Chain;Marketing/PR/Advertising',\n",
       "       'Logistics/Supply Chain;Medical/Healthcare;Purchasing/Procurement',\n",
       "       'Logistics/Supply Chain;Pharmaceutical',\n",
       "       'Logistics/Supply Chain;Marketing/PR/Advertising;Sales/Retail',\n",
       "       'Logistics/Supply Chain;Operations/Management;Pharmaceutical',\n",
       "       'Logistics/Supply Chain;Sales/Retail;Purchasing/Procurement',\n",
       "       'Pharmaceutical;Purchasing/Procurement',\n",
       "       'Manufacturing/Production;Purchasing/Procurement',\n",
       "       'Logistics/Supply Chain;Other;Sales/Retail',\n",
       "       'Logistics/Supply Chain;Quality',\n",
       "       'Manufacturing/Production;Sales/Retail',\n",
       "       'Manufacturing/Production;Pharmaceutical',\n",
       "       'Manufacturing/Production;Marketing/PR/Advertising',\n",
       "       'Creative/Design/Art;Manufacturing/Production;Quality',\n",
       "       'R&D/Science;Manufacturing/Production',\n",
       "       'Medical/Healthcare;Quality;Pharmaceutical',\n",
       "       'R&D/Science;Manufacturing/Production;Pharmaceutical',\n",
       "       'Manufacturing/Production;Marketing/PR/Advertising;Sales/Retail',\n",
       "       'R&D/Science;Manufacturing/Production;Medical/Healthcare',\n",
       "       'Customer Service/Support;Marketing/PR/Advertising;Project/Program Management',\n",
       "       'Marketing/PR/Advertising;Medical/Healthcare',\n",
       "       'Business Development;IT/Software Development;Marketing/PR/Advertising',\n",
       "       'Business Development;Marketing/PR/Advertising;Analyst/Research',\n",
       "       'Business Development;Media/Journalism/Publishing',\n",
       "       'Marketing/PR/Advertising;Media/Journalism/Publishing;Pharmaceutical',\n",
       "       'Marketing/PR/Advertising;Media/Journalism/Publishing;Purchasing/Procurement',\n",
       "       'Marketing/PR/Advertising;Other;Sales/Retail',\n",
       "       'Marketing/PR/Advertising;Media/Journalism/Publishing;Training/Instructor',\n",
       "       'Marketing/PR/Advertising;Pharmaceutical',\n",
       "       'Marketing/PR/Advertising;Project/Program Management;Analyst/Research',\n",
       "       'Other;Quality',\n",
       "       'Project/Program Management;Analyst/Research;Training/Instructor',\n",
       "       'Other', 'Banking;Analyst/Research',\n",
       "       'Operations/Management;Analyst/Research',\n",
       "       'R&D/Science;IT/Software Development;Analyst/Research',\n",
       "       'Medical/Healthcare;Quality',\n",
       "       'Operations/Management;Training/Instructor',\n",
       "       'Project/Program Management;Strategy/Consulting;Training/Instructor',\n",
       "       'Medical/Healthcare;Project/Program Management',\n",
       "       'Marketing/PR/Advertising;Project/Program Management',\n",
       "       'Sales/Retail;Purchasing/Procurement', 'Quality;Pharmaceutical',\n",
       "       'Human Resources;Operations/Management;Quality',\n",
       "       'R&D/Science;Quality;Analyst/Research',\n",
       "       'Other;Quality;Engineering - Other',\n",
       "       'Medical/Healthcare;Quality;Analyst/Research',\n",
       "       'Creative/Design/Art;IT/Software Development;Quality',\n",
       "       'Creative/Design/Art;Writing/Editorial;Quality',\n",
       "       'R&D/Science;Sales/Retail;Pharmaceutical',\n",
       "       'R&D/Science;Medical/Healthcare;Pharmaceutical',\n",
       "       'R&D/Science;Medical/Healthcare',\n",
       "       'R&D/Science;IT/Software Development', 'Other;Sales/Retail',\n",
       "       'Sales/Retail;Training/Instructor',\n",
       "       'Customer Service/Support;Tourism/Travel;Training/Instructor',\n",
       "       'Customer Service/Support;Writing/Editorial;Strategy/Consulting',\n",
       "       'Creative/Design/Art;Sales/Retail',\n",
       "       'Analyst/Research;Tourism/Travel',\n",
       "       'Medical/Healthcare;Sports and Leisure',\n",
       "       'Sports and Leisure;Training/Instructor',\n",
       "       'Writing/Editorial;Analyst/Research;Media/Journalism/Publishing',\n",
       "       'Creative/Design/Art;Training/Instructor',\n",
       "       'Writing/Editorial;Other;Media/Journalism/Publishing',\n",
       "       'Writing/Editorial;Other',\n",
       "       'Customer Service/Support;Writing/Editorial;Media/Journalism/Publishing',\n",
       "       'Creative/Design/Art;Writing/Editorial;Media/Journalism/Publishing',\n",
       "       'Writing/Editorial;Analyst/Research',\n",
       "       'Business Development;Quality',\n",
       "       'Customer Service/Support;Analyst/Research',\n",
       "       'Banking;Business Development', 'Media/Journalism/Publishing',\n",
       "       'Customer Service/Support;Media/Journalism/Publishing',\n",
       "       'Quality;Analyst/Research;Pharmaceutical',\n",
       "       'Customer Service/Support;Operations/Management;Analyst/Research',\n",
       "       'Analyst/Research;Pharmaceutical',\n",
       "       'Customer Service/Support;Pharmaceutical',\n",
       "       'IT/Software Development;Medical/Healthcare;Pharmaceutical'],\n",
       "      dtype=object)"
      ]
     },
     "execution_count": 16,
     "metadata": {},
     "output_type": "execute_result"
    }
   ],
   "source": [
    "df['job_categories'].unique()"
   ]
  },
  {
   "cell_type": "code",
   "execution_count": 17,
   "id": "5bc18495",
   "metadata": {},
   "outputs": [
    {
     "data": {
      "text/plain": [
       "739"
      ]
     },
     "execution_count": 17,
     "metadata": {},
     "output_type": "execute_result"
    }
   ],
   "source": [
    "df['job_categories'].nunique()"
   ]
  },
  {
   "cell_type": "code",
   "execution_count": 18,
   "id": "49b6b99b",
   "metadata": {},
   "outputs": [
    {
     "data": {
      "text/plain": [
       "0"
      ]
     },
     "execution_count": 18,
     "metadata": {},
     "output_type": "execute_result"
    }
   ],
   "source": [
    "df['job_categories'].isnull().sum()"
   ]
  },
  {
   "cell_type": "markdown",
   "id": "073f2f93",
   "metadata": {},
   "source": [
    "#### Job Description Column"
   ]
  },
  {
   "cell_type": "code",
   "execution_count": 19,
   "id": "20e80f26",
   "metadata": {},
   "outputs": [
    {
     "data": {
      "text/plain": [
       "array([\"Preparing the cost of products and operations according to accounting principles.Processing, modifying, and issuing product cost files.Preparing all inventory-related journal entries at month's end.Preparing cost of goods sold and production reports.Participating in annual physical inventory.\",\n",
       "       'Collecting and analyzing data about company’s operational costs.Setting standard costs of manufactured goods.Developing and analyzing cost standards.Carrying out cost-volume-profit (CVP) analysis.Performing account reconciliations.Recommending changes to the company’s processes and policies to reduce cost and maximize profit.Advising executives and upper management on appropriate costing based on financial data.\\xa0',\n",
       "       'Review of controlling & applying remittance for under-collected checks on the systemReview of preparing clients’ balances updating on daily basis.Review of preparing clients’ statements.Review of preparing retrieval letters.Review of monthly reconciliations for postponed & collections checks.Review of registering monthly receivable entries.Review of registering quarterly revenue entries.Review of preparing refunded checks.Responsible for controlling & tracking rejected checks, and outstanding & penalties with the credit control team.Responsible for preparing A/R reports monthly and quarterly.Relevant analysis related to the accounts.\\xa0\\xa0',\n",
       "       ...,\n",
       "       '\\r\\nOur clients are located in North America (United States/Canada) looking for customer service focused candidates in Cairo.\\r\\nHandle customer calls\\r\\nFollow up with technicians on completing work orders\\r\\nGet customer feedback\\r\\n',\n",
       "       \"Handling the operations on CRM (Adding leads on CRM)Responsible for \\xa0the customer care operations\\xa0creating and developing sales reports regarding generated leads and QualityResponsible for the front line and sales transactionsFollow up on internal tasksFollow up on reports of sales team with their manager\\xa0Follow up on the company's inventory and preparing \\xa0sales reports\",\n",
       "       \"Leading and managing customer care functions for call center, To be responsible for the daily running and management of a call center to achieve excellent Customer service.Reporting and analyzing data to determine actions to enhance customer experience and managing the allocated resources to achieve the SLA’sSet and Meet performance targets for speed, efficiency and quality.Manage the daily running of the call center to ensure the consistency of workflow.Monitor random calls to improve quality, minimize errors and track operative performancePlan and develop the recruitment of new hires to enhance the caliber.Review the performance of staff, identifying training needs and plan.Training sessions to ensure continues development.Handle the most complex customer complaints or enquiries.Forecast and analyze data against budget figures on a weekly and/or monthly basis.Develop, implement and review core responsibilities and tasks.Analyze performance statistics and take decisions based on them.Improve performance by raising efficiency and sourcing new equipment.Produce quantitative and qualitative reports on Call Center KPIs and related data with elative recommendations and analysis to improve the call center’s Operation.Customer Centricity Provides constant monitoring of customer (external\\xa0–\\xa0internal) oriented Approaches.Innovation Seeks opportunities for organizational improvement and motivate subordinates to develop better ways of handling their workflows, products/services, processes and daily tasks.Operational Excellence Ensures high quality—dedicates required time and energy to assignments or tasks to ensure that no aspect of the work is neglected; guide to overcome obstacles to completing tasks or assignments delivering high quality output.People Management Cascade & communicate action plans, motivates and empowers and coach team's members to achieve best results. Ensure clear understanding and compliance of team members to compliance company policies and code of conduct.\"],\n",
       "      dtype=object)"
      ]
     },
     "execution_count": 19,
     "metadata": {},
     "output_type": "execute_result"
    }
   ],
   "source": [
    "df['job_description'].unique()"
   ]
  },
  {
   "cell_type": "code",
   "execution_count": 20,
   "id": "a1814187",
   "metadata": {},
   "outputs": [
    {
     "data": {
      "text/plain": [
       "6875"
      ]
     },
     "execution_count": 20,
     "metadata": {},
     "output_type": "execute_result"
    }
   ],
   "source": [
    "df['job_description'].nunique()"
   ]
  },
  {
   "cell_type": "code",
   "execution_count": 21,
   "id": "e93e2187",
   "metadata": {
    "scrolled": true
   },
   "outputs": [
    {
     "data": {
      "text/html": [
       "<div>\n",
       "<style scoped>\n",
       "    .dataframe tbody tr th:only-of-type {\n",
       "        vertical-align: middle;\n",
       "    }\n",
       "\n",
       "    .dataframe tbody tr th {\n",
       "        vertical-align: top;\n",
       "    }\n",
       "\n",
       "    .dataframe thead th {\n",
       "        text-align: right;\n",
       "    }\n",
       "</style>\n",
       "<table border=\"1\" class=\"dataframe\">\n",
       "  <thead>\n",
       "    <tr style=\"text-align: right;\">\n",
       "      <th></th>\n",
       "      <th>job_title</th>\n",
       "      <th>job_type</th>\n",
       "      <th>job_categories</th>\n",
       "      <th>job_description</th>\n",
       "      <th>job_requirements</th>\n",
       "      <th>job_location</th>\n",
       "      <th>company_name</th>\n",
       "      <th>company_location</th>\n",
       "      <th>company_field</th>\n",
       "      <th>company_size</th>\n",
       "      <th>experience_needed</th>\n",
       "      <th>career_level</th>\n",
       "      <th>education_level</th>\n",
       "      <th>gender</th>\n",
       "      <th>salary</th>\n",
       "      <th>skills_and_tools</th>\n",
       "      <th>link</th>\n",
       "    </tr>\n",
       "  </thead>\n",
       "  <tbody>\n",
       "    <tr>\n",
       "      <th>1040</th>\n",
       "      <td>Sales Engineer (Construction Chemicals) - El D...</td>\n",
       "      <td>Full Time</td>\n",
       "      <td>Engineering - Construction/Civil/Architecture;...</td>\n",
       "      <td>\\r\\nA leading industrial group in Egypt is see...</td>\n",
       "      <td>\\r\\nBachelor Degree in Engineering (Civil or A...</td>\n",
       "      <td>Downtown, Kafr Alsheikh</td>\n",
       "      <td>NCC X-calibur</td>\n",
       "      <td>Cairo, Egypt</td>\n",
       "      <td>Chemicals</td>\n",
       "      <td>101-500 employees</td>\n",
       "      <td>0 to 3 years</td>\n",
       "      <td>Entry Level (Junior Level / Fresh Grad)</td>\n",
       "      <td>Bachelor's Degree</td>\n",
       "      <td>both</td>\n",
       "      <td>Confidential, net salary+car allowance</td>\n",
       "      <td>Sales;Sales Skills;Indoor Sales;Engineering;Co...</td>\n",
       "      <td>https://wuzzuf.net/jobs/p/JO32u9AbMti1-Sales-E...</td>\n",
       "    </tr>\n",
       "    <tr>\n",
       "      <th>339</th>\n",
       "      <td>Sales Engineer (Construction Chemicals) - El D...</td>\n",
       "      <td>Full Time</td>\n",
       "      <td>Engineering - Construction/Civil/Architecture;...</td>\n",
       "      <td>\\r\\nA leading industrial group in Egypt is see...</td>\n",
       "      <td>\\r\\nBachelor Degree in Engineering (Civil or A...</td>\n",
       "      <td>Downtown, Kafr Alsheikh</td>\n",
       "      <td>NCC X-calibur</td>\n",
       "      <td>Cairo, Egypt</td>\n",
       "      <td>Chemicals</td>\n",
       "      <td>101-500 employees</td>\n",
       "      <td>0 to 3 years</td>\n",
       "      <td>Entry Level (Junior Level / Fresh Grad)</td>\n",
       "      <td>Bachelor's Degree</td>\n",
       "      <td>both</td>\n",
       "      <td>Confidential, net salary+car allowance</td>\n",
       "      <td>Sales;Sales Skills;Indoor Sales;Engineering;Co...</td>\n",
       "      <td>https://wuzzuf.net/jobs/p/JO32u9AbMti1-Sales-E...</td>\n",
       "    </tr>\n",
       "    <tr>\n",
       "      <th>1910</th>\n",
       "      <td>Sales Engineer (Construction Chemicals) - El D...</td>\n",
       "      <td>Full Time</td>\n",
       "      <td>Engineering - Construction/Civil/Architecture;...</td>\n",
       "      <td>\\r\\nA leading industrial group in Egypt is see...</td>\n",
       "      <td>\\r\\nBachelor Degree in Engineering (Civil or A...</td>\n",
       "      <td>Downtown, Kafr Alsheikh</td>\n",
       "      <td>NCC X-calibur</td>\n",
       "      <td>Cairo, Egypt</td>\n",
       "      <td>Chemicals</td>\n",
       "      <td>101-500 employees</td>\n",
       "      <td>0 to 3 years</td>\n",
       "      <td>Entry Level (Junior Level / Fresh Grad)</td>\n",
       "      <td>Bachelor's Degree</td>\n",
       "      <td>both</td>\n",
       "      <td>Confidential, net salary+car allowance</td>\n",
       "      <td>Sales;Sales Skills;Indoor Sales;Engineering;Co...</td>\n",
       "      <td>https://wuzzuf.net/jobs/p/JO32u9AbMti1-Sales-E...</td>\n",
       "    </tr>\n",
       "    <tr>\n",
       "      <th>617</th>\n",
       "      <td>Accountant</td>\n",
       "      <td>Full Time</td>\n",
       "      <td>Accounting/Finance</td>\n",
       "      <td>\\r\\nAccounts payable (Responsible for the proc...</td>\n",
       "      <td>Experience is a must in Bound (tourism sector).</td>\n",
       "      <td>Downtown, Cairo</td>\n",
       "      <td>NTS Group</td>\n",
       "      <td>Cairo, Egypt</td>\n",
       "      <td>Travel and Tourism</td>\n",
       "      <td>101-500 employees</td>\n",
       "      <td>2 to 5 years</td>\n",
       "      <td>Experienced (Non-Manager)</td>\n",
       "      <td>Bachelor's Degree</td>\n",
       "      <td>both</td>\n",
       "      <td>Confidential</td>\n",
       "      <td>Accounting;Finance;Financial Management;Accoun...</td>\n",
       "      <td>https://wuzzuf.net/jobs/p/KoF69xC9H3Hy-Account...</td>\n",
       "    </tr>\n",
       "    <tr>\n",
       "      <th>730</th>\n",
       "      <td>Accountant</td>\n",
       "      <td>Full Time</td>\n",
       "      <td>Accounting/Finance</td>\n",
       "      <td>\\r\\nAccounts payable (Responsible for the proc...</td>\n",
       "      <td>Experience is a must in Bound (tourism sector).</td>\n",
       "      <td>Downtown, Cairo</td>\n",
       "      <td>NTS Group</td>\n",
       "      <td>Cairo, Egypt</td>\n",
       "      <td>Travel and Tourism</td>\n",
       "      <td>101-500 employees</td>\n",
       "      <td>2 to 5 years</td>\n",
       "      <td>Experienced (Non-Manager)</td>\n",
       "      <td>Bachelor's Degree</td>\n",
       "      <td>both</td>\n",
       "      <td>Confidential</td>\n",
       "      <td>Accounting;Finance;Financial Management;Accoun...</td>\n",
       "      <td>https://wuzzuf.net/jobs/p/KoF69xC9H3Hy-Account...</td>\n",
       "    </tr>\n",
       "  </tbody>\n",
       "</table>\n",
       "</div>"
      ],
      "text/plain": [
       "                                              job_title   job_type  \\\n",
       "1040  Sales Engineer (Construction Chemicals) - El D...  Full Time   \n",
       "339   Sales Engineer (Construction Chemicals) - El D...  Full Time   \n",
       "1910  Sales Engineer (Construction Chemicals) - El D...  Full Time   \n",
       "617                                          Accountant  Full Time   \n",
       "730                                          Accountant  Full Time   \n",
       "\n",
       "                                         job_categories  \\\n",
       "1040  Engineering - Construction/Civil/Architecture;...   \n",
       "339   Engineering - Construction/Civil/Architecture;...   \n",
       "1910  Engineering - Construction/Civil/Architecture;...   \n",
       "617                                  Accounting/Finance   \n",
       "730                                  Accounting/Finance   \n",
       "\n",
       "                                        job_description  \\\n",
       "1040  \\r\\nA leading industrial group in Egypt is see...   \n",
       "339   \\r\\nA leading industrial group in Egypt is see...   \n",
       "1910  \\r\\nA leading industrial group in Egypt is see...   \n",
       "617   \\r\\nAccounts payable (Responsible for the proc...   \n",
       "730   \\r\\nAccounts payable (Responsible for the proc...   \n",
       "\n",
       "                                       job_requirements  \\\n",
       "1040  \\r\\nBachelor Degree in Engineering (Civil or A...   \n",
       "339   \\r\\nBachelor Degree in Engineering (Civil or A...   \n",
       "1910  \\r\\nBachelor Degree in Engineering (Civil or A...   \n",
       "617     Experience is a must in Bound (tourism sector).   \n",
       "730     Experience is a must in Bound (tourism sector).   \n",
       "\n",
       "                 job_location   company_name company_location  \\\n",
       "1040  Downtown, Kafr Alsheikh  NCC X-calibur    Cairo, Egypt    \n",
       "339   Downtown, Kafr Alsheikh  NCC X-calibur    Cairo, Egypt    \n",
       "1910  Downtown, Kafr Alsheikh  NCC X-calibur    Cairo, Egypt    \n",
       "617           Downtown, Cairo      NTS Group    Cairo, Egypt    \n",
       "730           Downtown, Cairo      NTS Group    Cairo, Egypt    \n",
       "\n",
       "           company_field        company_size experience_needed  \\\n",
       "1040           Chemicals   101-500 employees      0 to 3 years   \n",
       "339            Chemicals   101-500 employees      0 to 3 years   \n",
       "1910           Chemicals   101-500 employees      0 to 3 years   \n",
       "617   Travel and Tourism   101-500 employees      2 to 5 years   \n",
       "730   Travel and Tourism   101-500 employees      2 to 5 years   \n",
       "\n",
       "                                 career_level    education_level gender  \\\n",
       "1040  Entry Level (Junior Level / Fresh Grad)  Bachelor's Degree   both   \n",
       "339   Entry Level (Junior Level / Fresh Grad)  Bachelor's Degree   both   \n",
       "1910  Entry Level (Junior Level / Fresh Grad)  Bachelor's Degree   both   \n",
       "617                 Experienced (Non-Manager)  Bachelor's Degree   both   \n",
       "730                 Experienced (Non-Manager)  Bachelor's Degree   both   \n",
       "\n",
       "                                      salary  \\\n",
       "1040  Confidential, net salary+car allowance   \n",
       "339   Confidential, net salary+car allowance   \n",
       "1910  Confidential, net salary+car allowance   \n",
       "617                             Confidential   \n",
       "730                             Confidential   \n",
       "\n",
       "                                       skills_and_tools  \\\n",
       "1040  Sales;Sales Skills;Indoor Sales;Engineering;Co...   \n",
       "339   Sales;Sales Skills;Indoor Sales;Engineering;Co...   \n",
       "1910  Sales;Sales Skills;Indoor Sales;Engineering;Co...   \n",
       "617   Accounting;Finance;Financial Management;Accoun...   \n",
       "730   Accounting;Finance;Financial Management;Accoun...   \n",
       "\n",
       "                                                   link  \n",
       "1040  https://wuzzuf.net/jobs/p/JO32u9AbMti1-Sales-E...  \n",
       "339   https://wuzzuf.net/jobs/p/JO32u9AbMti1-Sales-E...  \n",
       "1910  https://wuzzuf.net/jobs/p/JO32u9AbMti1-Sales-E...  \n",
       "617   https://wuzzuf.net/jobs/p/KoF69xC9H3Hy-Account...  \n",
       "730   https://wuzzuf.net/jobs/p/KoF69xC9H3Hy-Account...  "
      ]
     },
     "execution_count": 21,
     "metadata": {},
     "output_type": "execute_result"
    }
   ],
   "source": [
    "df.sort_values('job_description').head()"
   ]
  },
  {
   "cell_type": "code",
   "execution_count": 22,
   "id": "98690944",
   "metadata": {},
   "outputs": [
    {
     "data": {
      "text/html": [
       "<div>\n",
       "<style scoped>\n",
       "    .dataframe tbody tr th:only-of-type {\n",
       "        vertical-align: middle;\n",
       "    }\n",
       "\n",
       "    .dataframe tbody tr th {\n",
       "        vertical-align: top;\n",
       "    }\n",
       "\n",
       "    .dataframe thead th {\n",
       "        text-align: right;\n",
       "    }\n",
       "</style>\n",
       "<table border=\"1\" class=\"dataframe\">\n",
       "  <thead>\n",
       "    <tr style=\"text-align: right;\">\n",
       "      <th></th>\n",
       "      <th>job_title</th>\n",
       "      <th>job_type</th>\n",
       "      <th>job_categories</th>\n",
       "      <th>job_description</th>\n",
       "      <th>job_requirements</th>\n",
       "      <th>job_location</th>\n",
       "      <th>company_name</th>\n",
       "      <th>company_location</th>\n",
       "      <th>company_field</th>\n",
       "      <th>company_size</th>\n",
       "      <th>experience_needed</th>\n",
       "      <th>career_level</th>\n",
       "      <th>education_level</th>\n",
       "      <th>gender</th>\n",
       "      <th>salary</th>\n",
       "      <th>skills_and_tools</th>\n",
       "      <th>link</th>\n",
       "    </tr>\n",
       "  </thead>\n",
       "  <tbody>\n",
       "    <tr>\n",
       "      <th>1319</th>\n",
       "      <td>Senior Payroll Specialist</td>\n",
       "      <td>Full Time</td>\n",
       "      <td>Human Resources</td>\n",
       "      <td>● Maintain Payroll system up to date and adjus...</td>\n",
       "      <td>● Bachelor's degree in accounting or any equiv...</td>\n",
       "      <td>Maadi, Cairo</td>\n",
       "      <td>Breadfast</td>\n",
       "      <td>Egypt</td>\n",
       "      <td>FMCG, Food and Beverage Production</td>\n",
       "      <td>501-1000 employees</td>\n",
       "      <td>3 to 5 years</td>\n",
       "      <td>Experienced (Non-Manager)</td>\n",
       "      <td>Bachelor's Degree</td>\n",
       "      <td>both</td>\n",
       "      <td>Confidential</td>\n",
       "      <td>Human Resources (HR);Payroll;Accounting;excel;...</td>\n",
       "      <td>https://wuzzuf.net/jobs/p/mxrebEcsqysD-Senior-...</td>\n",
       "    </tr>\n",
       "    <tr>\n",
       "      <th>291</th>\n",
       "      <td>Senior Payroll Specialist</td>\n",
       "      <td>Full Time</td>\n",
       "      <td>Human Resources</td>\n",
       "      <td>● Maintain Payroll system up to date and adjus...</td>\n",
       "      <td>● Bachelor's degree in accounting or any equiv...</td>\n",
       "      <td>Maadi, Cairo</td>\n",
       "      <td>Breadfast</td>\n",
       "      <td>Egypt</td>\n",
       "      <td>FMCG, Food and Beverage Production</td>\n",
       "      <td>501-1000 employees</td>\n",
       "      <td>3 to 5 years</td>\n",
       "      <td>Experienced (Non-Manager)</td>\n",
       "      <td>Bachelor's Degree</td>\n",
       "      <td>both</td>\n",
       "      <td>Confidential</td>\n",
       "      <td>Human Resources (HR);Payroll;Accounting;excel;...</td>\n",
       "      <td>https://wuzzuf.net/jobs/p/mxrebEcsqysD-Senior-...</td>\n",
       "    </tr>\n",
       "    <tr>\n",
       "      <th>1723</th>\n",
       "      <td>ERP Implementation Consultant</td>\n",
       "      <td>Full Time</td>\n",
       "      <td>Accounting/Finance;IT/Software Development;Str...</td>\n",
       "      <td>● Participate in the Analysis sessions of vari...</td>\n",
       "      <td>NaN</td>\n",
       "      <td>Cairo, Egypt</td>\n",
       "      <td>Premier Services and Recruitment</td>\n",
       "      <td>Cairo, Egypt</td>\n",
       "      <td>Human Resources</td>\n",
       "      <td>51-100 employees</td>\n",
       "      <td>2 to 10 years</td>\n",
       "      <td>Experienced (Non-Manager)</td>\n",
       "      <td>Not Specified</td>\n",
       "      <td>both</td>\n",
       "      <td>Confidential</td>\n",
       "      <td>Accounting;Consulting;Accoumting</td>\n",
       "      <td>https://wuzzuf.net/jobs/p/VGwFx6bVMDuC-ERP-Imp...</td>\n",
       "    </tr>\n",
       "    <tr>\n",
       "      <th>42</th>\n",
       "      <td>ERP Implementation Consultant</td>\n",
       "      <td>Full Time</td>\n",
       "      <td>Accounting/Finance;IT/Software Development;Str...</td>\n",
       "      <td>● Participate in the Analysis sessions of vari...</td>\n",
       "      <td>NaN</td>\n",
       "      <td>Cairo, Egypt</td>\n",
       "      <td>Premier Services and Recruitment</td>\n",
       "      <td>Cairo, Egypt</td>\n",
       "      <td>Human Resources</td>\n",
       "      <td>51-100 employees</td>\n",
       "      <td>2 to 10 years</td>\n",
       "      <td>Experienced (Non-Manager)</td>\n",
       "      <td>Not Specified</td>\n",
       "      <td>both</td>\n",
       "      <td>Confidential</td>\n",
       "      <td>Accounting;Consulting;Accoumting</td>\n",
       "      <td>https://wuzzuf.net/jobs/p/VGwFx6bVMDuC-ERP-Imp...</td>\n",
       "    </tr>\n",
       "    <tr>\n",
       "      <th>2625</th>\n",
       "      <td>ERP Implementation Consultant</td>\n",
       "      <td>Full Time</td>\n",
       "      <td>Accounting/Finance;IT/Software Development;Str...</td>\n",
       "      <td>● Participate in the Analysis sessions of vari...</td>\n",
       "      <td>NaN</td>\n",
       "      <td>Cairo, Egypt</td>\n",
       "      <td>Premier Services and Recruitment</td>\n",
       "      <td>Cairo, Egypt</td>\n",
       "      <td>Human Resources</td>\n",
       "      <td>51-100 employees</td>\n",
       "      <td>2 to 10 years</td>\n",
       "      <td>Experienced (Non-Manager)</td>\n",
       "      <td>Not Specified</td>\n",
       "      <td>both</td>\n",
       "      <td>Confidential</td>\n",
       "      <td>Accounting;Consulting;Accoumting</td>\n",
       "      <td>https://wuzzuf.net/jobs/p/VGwFx6bVMDuC-ERP-Imp...</td>\n",
       "    </tr>\n",
       "  </tbody>\n",
       "</table>\n",
       "</div>"
      ],
      "text/plain": [
       "                          job_title   job_type  \\\n",
       "1319      Senior Payroll Specialist  Full Time   \n",
       "291       Senior Payroll Specialist  Full Time   \n",
       "1723  ERP Implementation Consultant  Full Time   \n",
       "42    ERP Implementation Consultant  Full Time   \n",
       "2625  ERP Implementation Consultant  Full Time   \n",
       "\n",
       "                                         job_categories  \\\n",
       "1319                                    Human Resources   \n",
       "291                                     Human Resources   \n",
       "1723  Accounting/Finance;IT/Software Development;Str...   \n",
       "42    Accounting/Finance;IT/Software Development;Str...   \n",
       "2625  Accounting/Finance;IT/Software Development;Str...   \n",
       "\n",
       "                                        job_description  \\\n",
       "1319  ● Maintain Payroll system up to date and adjus...   \n",
       "291   ● Maintain Payroll system up to date and adjus...   \n",
       "1723  ● Participate in the Analysis sessions of vari...   \n",
       "42    ● Participate in the Analysis sessions of vari...   \n",
       "2625  ● Participate in the Analysis sessions of vari...   \n",
       "\n",
       "                                       job_requirements  job_location  \\\n",
       "1319  ● Bachelor's degree in accounting or any equiv...  Maadi, Cairo   \n",
       "291   ● Bachelor's degree in accounting or any equiv...  Maadi, Cairo   \n",
       "1723                                                NaN  Cairo, Egypt   \n",
       "42                                                  NaN  Cairo, Egypt   \n",
       "2625                                                NaN  Cairo, Egypt   \n",
       "\n",
       "                          company_name company_location  \\\n",
       "1319                         Breadfast           Egypt    \n",
       "291                          Breadfast           Egypt    \n",
       "1723  Premier Services and Recruitment    Cairo, Egypt    \n",
       "42    Premier Services and Recruitment    Cairo, Egypt    \n",
       "2625  Premier Services and Recruitment    Cairo, Egypt    \n",
       "\n",
       "                           company_field         company_size  \\\n",
       "1319  FMCG, Food and Beverage Production   501-1000 employees   \n",
       "291   FMCG, Food and Beverage Production   501-1000 employees   \n",
       "1723                     Human Resources     51-100 employees   \n",
       "42                       Human Resources     51-100 employees   \n",
       "2625                     Human Resources     51-100 employees   \n",
       "\n",
       "     experience_needed               career_level    education_level gender  \\\n",
       "1319      3 to 5 years  Experienced (Non-Manager)  Bachelor's Degree   both   \n",
       "291       3 to 5 years  Experienced (Non-Manager)  Bachelor's Degree   both   \n",
       "1723     2 to 10 years  Experienced (Non-Manager)      Not Specified   both   \n",
       "42       2 to 10 years  Experienced (Non-Manager)      Not Specified   both   \n",
       "2625     2 to 10 years  Experienced (Non-Manager)      Not Specified   both   \n",
       "\n",
       "            salary                                   skills_and_tools  \\\n",
       "1319  Confidential  Human Resources (HR);Payroll;Accounting;excel;...   \n",
       "291   Confidential  Human Resources (HR);Payroll;Accounting;excel;...   \n",
       "1723  Confidential                   Accounting;Consulting;Accoumting   \n",
       "42    Confidential                   Accounting;Consulting;Accoumting   \n",
       "2625  Confidential                   Accounting;Consulting;Accoumting   \n",
       "\n",
       "                                                   link  \n",
       "1319  https://wuzzuf.net/jobs/p/mxrebEcsqysD-Senior-...  \n",
       "291   https://wuzzuf.net/jobs/p/mxrebEcsqysD-Senior-...  \n",
       "1723  https://wuzzuf.net/jobs/p/VGwFx6bVMDuC-ERP-Imp...  \n",
       "42    https://wuzzuf.net/jobs/p/VGwFx6bVMDuC-ERP-Imp...  \n",
       "2625  https://wuzzuf.net/jobs/p/VGwFx6bVMDuC-ERP-Imp...  "
      ]
     },
     "execution_count": 22,
     "metadata": {},
     "output_type": "execute_result"
    }
   ],
   "source": [
    "df.sort_values('job_description').tail()"
   ]
  },
  {
   "cell_type": "code",
   "execution_count": 23,
   "id": "c852a836",
   "metadata": {},
   "outputs": [
    {
     "data": {
      "text/plain": [
       "0"
      ]
     },
     "execution_count": 23,
     "metadata": {},
     "output_type": "execute_result"
    }
   ],
   "source": [
    "df['job_description'].isnull().sum()"
   ]
  },
  {
   "cell_type": "markdown",
   "id": "f466a0bc",
   "metadata": {},
   "source": [
    "#### Job Requirements Column"
   ]
  },
  {
   "cell_type": "code",
   "execution_count": 24,
   "id": "3b678269",
   "metadata": {
    "scrolled": true
   },
   "outputs": [
    {
     "data": {
      "text/plain": [
       "array(['Bachelor’s Degree in accountingProficient use of Microsoft Office and its applications. (especially Excel)Ability to work under stress and meet deadlines.Attention to Detail and Deadline-Oriented.',\n",
       "       'Bachelor degree in commerce.From 7-10 years of experience in Costing.CMA Holder is a Must.Experience with Accounting System, cost and inventory systems.FMCG backgroud is a Must\\xa0',\n",
       "       \"Good understanding of accounting and financial reporting principles and practicesBachelor's degree in accountingPresentableExcellent in the English languageExcellent knowledge of MS Office and familiarity with relevant computer software (e.g Quick Books, Tally ... etc.).Females onlyOctober & El sheikh Zayed residents are most welcome to apply\",\n",
       "       ...,\n",
       "       '\\r\\nHigh education graduates.\\r\\nExcellent verbal and written command of the English language.\\r\\nExcellent conversational skills through the phone in English.\\r\\nExperience in the same or related field is a plus.\\r\\nExcellent computer background.\\r\\nAttention to details.\\r\\nAbility to reach assigned targets.\\r\\nInterested to work over the phone.\\r\\n',\n",
       "       'presentableMust have Experience at least \\xa0year specifically Realestate',\n",
       "       'University Degree in a related field.Excellent Computer skills, Advanced MS excel is required.Excellent in Arabic & English (Reading, Writing & Oral).Required Experience:\\xa0Minimum 5 to 8 years\\xa0 Experience.(Area of experience) Call CenterDesirable QualificationsMBA is a plus'],\n",
       "      dtype=object)"
      ]
     },
     "execution_count": 24,
     "metadata": {},
     "output_type": "execute_result"
    }
   ],
   "source": [
    "df['job_requirements'].unique()"
   ]
  },
  {
   "cell_type": "code",
   "execution_count": 25,
   "id": "598a0bda",
   "metadata": {},
   "outputs": [
    {
     "data": {
      "text/plain": [
       "6920"
      ]
     },
     "execution_count": 25,
     "metadata": {},
     "output_type": "execute_result"
    }
   ],
   "source": [
    "df['job_requirements'].nunique()"
   ]
  },
  {
   "cell_type": "code",
   "execution_count": 26,
   "id": "99059cea",
   "metadata": {},
   "outputs": [
    {
     "data": {
      "text/plain": [
       "193"
      ]
     },
     "execution_count": 26,
     "metadata": {},
     "output_type": "execute_result"
    }
   ],
   "source": [
    "df['job_requirements'].isnull().sum()"
   ]
  },
  {
   "cell_type": "markdown",
   "id": "2efd8745",
   "metadata": {},
   "source": [
    "#### Job location Column"
   ]
  },
  {
   "cell_type": "code",
   "execution_count": 27,
   "id": "077e1fa0",
   "metadata": {},
   "outputs": [
    {
     "data": {
      "text/plain": [
       "array(['Bourj Alarab, Alexandria', '6th of October, Giza', 'Maadi, Cairo',\n",
       "       'Cairo, Egypt', 'Nasr City, Cairo', 'Heliopolis, Cairo',\n",
       "       'Agouza, Giza', 'New Cairo, Cairo',\n",
       "       '10th of Ramadan City, Sharqia', 'Ain Sokhna, Suez',\n",
       "       '10th of Ramadan City, Cairo', 'Giza, Giza', 'Downtown, Cairo',\n",
       "       'Haram, Giza', 'Dokki, Giza', 'Badr City, Cairo',\n",
       "       'Alexandria, Egypt', 'Mohandessin, Giza', 'Agami, Alexandria',\n",
       "       'Faisal, Giza', 'Giza, Egypt', 'Port Said, Egypt',\n",
       "       'Faqus, Sharqia', 'Banha, Qalubia', 'khanka, Qalubia',\n",
       "       'Masr Al Qadima, Cairo', 'Obour City, Cairo', 'Ameria, Alexandria',\n",
       "       'Mounib, Giza', 'Red Sea, Egypt', 'Garden City, Cairo',\n",
       "       'Sheikh Zayed, Giza', 'Abu Rawash, Giza', 'Alsadat City, Monufya',\n",
       "       'Mokattam, Cairo', 'Hadayek Alahram, Giza', 'Smart Village, Giza',\n",
       "       'Shubra, Cairo', 'Zamalek, Cairo', 'Helwan, Cairo',\n",
       "       'Fayoum, Egypt', 'Beni Suef, Egypt', 'Qalubia, Egypt',\n",
       "       'Smouha, Alexandria', 'Sheraton, Cairo', 'San Stefano, Alexandria',\n",
       "       'Katameya, Cairo', 'Abbassia, Cairo', 'New Nozha, Cairo',\n",
       "       'Abdeen, Cairo', 'Damanhour, Beheira', 'Sidi Gaber, Alexandria',\n",
       "       'Shorouk City, Cairo', 'Matruh, Egypt', 'Itay Albarud, Beheira',\n",
       "       'Gharbia, Egypt', 'Sharm Alsheikh, South Sinai', 'Fayoum, Fayoum',\n",
       "       'Bolkly, Alexandria', 'Tanta, Gharbia', 'Sidi Bishr, Alexandria',\n",
       "       'Qasr ِAlnil, Cairo', 'Sharabeya, Cairo', 'Sharqia, Egypt',\n",
       "       'Ain Shams, Cairo', 'Luxor, Egypt', 'Sahel, Cairo', 'Nozha, Cairo',\n",
       "       'Basatin, Cairo', 'Mahta Alraml, Alexandria', 'Monufya, Egypt',\n",
       "       'Dakahlia, Egypt', 'Sharq, Port Said', 'Dabaa, Matruh',\n",
       "       'Assuit, Assiut', 'Shubra Alkhaymah, Qalubia',\n",
       "       'Ismailia, Ismailia', 'Musturad, Qalubia', 'Noubaria, Beheira',\n",
       "       'Salam City, Cairo', 'Rehab City, Cairo', 'Tebin, Cairo',\n",
       "       'Qantarah Sharq, Ismailia', 'New Capital, Cairo',\n",
       "       'Madinaty, Cairo', 'Gamasa, Dakahlia', 'Moharam Bek, Alexandria',\n",
       "       'Imbaba, Giza', 'New Beni Suef, Beni Suef', 'Alamein, Matruh',\n",
       "       'Victoria, Alexandria', 'Hurghada, Red Sea',\n",
       "       'Beni Suef, Beni Suef', 'Glim, Alexandria', 'Manial, Cairo',\n",
       "       'Assiut, Egypt', 'Abu Qir, Alexandria', 'Mansheya, Alexandria',\n",
       "       'Qalyub, Qalubia', 'Sayeda Zeinab, Cairo', 'Mansoura, Dakahlia',\n",
       "       'Farafra, New Valley', 'Zaytoun, Cairo', 'Minya, Egypt',\n",
       "       'Suez, Suez', 'Bab Sharq, Alexandria', 'Bahariya Oasis, Giza',\n",
       "       'New Menia, Minya', 'New Damietta, Damietta', 'Suez, Egypt',\n",
       "       'Damietta, Egypt', 'Asafra, Alexandria', 'Fleming, Alexandria',\n",
       "       'Dar Alsalam, Cairo', 'New Heliopolis, Cairo', 'Luxor, Luxor',\n",
       "       'Ismailia, Egypt', 'Mahalla Kubra, Gharbia',\n",
       "       'Shebin Alkom, Monufya', 'Ataqah, Suez', 'Toukh, Qalubia',\n",
       "       'Belbes, Sharqia', 'Alsalihiyyah Aljadidah, Sharqia',\n",
       "       'Quweisna, Monufya', 'Zagazig, Sharqia', 'Kit Kat, Giza',\n",
       "       'Sohag, Egypt', 'Arab, Port Said', 'Mandara, Alexandria',\n",
       "       'Dekernes, Dakahlia', 'Menia, Minya', 'Abu Qurqas, Minya',\n",
       "       'Zohour, Port Said', 'Manakh, Port Said', 'Ras Sedr, South Sinai',\n",
       "       'Aswan, Aswan', 'North Coast, Alexandria',\n",
       "       'Downtown, Kafr Alsheikh', 'Arish, North Sinai',\n",
       "       'Marsa Matruh, Matruh', 'Wosta, Beni Suef', 'Maghaghah, Minya',\n",
       "       'Wadi Alnatrun, Beheira', 'Zaher, Cairo', 'Stanley, Alexandria',\n",
       "       'North Coast, Matruh', 'Hawamdeyya, Giza', 'Port Fuad, Port Said',\n",
       "       'Badrasheen, Giza', 'Sherbeen, Dakahlia', '15th May City, Cairo',\n",
       "       'New Assuit, Assiut', 'Kafr Alzayat, Gharbia', 'Darrasa, Cairo',\n",
       "       'Rod Alfarag, Cairo', 'Kafr Aldawar, Beheira',\n",
       "       'Shatby, Alexandria', 'Abu Alnumros, Giza', 'Qusayr, Red Sea',\n",
       "       'Baltim, Kafr Alsheikh', 'Ras Albar, Damietta',\n",
       "       'Biyala, Kafr Alsheikh', 'Cleopatra, Alexandria',\n",
       "       'Montaza, Alexandria', 'New Fayoum, Fayoum',\n",
       "       'Desouk, Kafr Alsheikh', 'Minuf, Monufya', 'Sohag, Sohag',\n",
       "       'Qena, Qena', 'Kafr Alsheikh, Egypt', 'Bab Alshareya, Cairo',\n",
       "       'Ataba, Cairo', 'Juhaynah, Sohag', 'Dawahi, Port Said',\n",
       "       'Schutz, Alexandria'], dtype=object)"
      ]
     },
     "execution_count": 27,
     "metadata": {},
     "output_type": "execute_result"
    }
   ],
   "source": [
    "df['job_location'].unique()"
   ]
  },
  {
   "cell_type": "code",
   "execution_count": 28,
   "id": "a239026e",
   "metadata": {
    "scrolled": true
   },
   "outputs": [
    {
     "data": {
      "text/plain": [
       "175"
      ]
     },
     "execution_count": 28,
     "metadata": {},
     "output_type": "execute_result"
    }
   ],
   "source": [
    "df['job_location'].nunique()"
   ]
  },
  {
   "cell_type": "code",
   "execution_count": 29,
   "id": "cfd3d03b",
   "metadata": {},
   "outputs": [
    {
     "data": {
      "text/plain": [
       "Cairo, Egypt            3327\n",
       "New Cairo, Cairo        2913\n",
       "Maadi, Cairo            2628\n",
       "Nasr City, Cairo        2179\n",
       "6th of October, Giza    2072\n",
       "                        ... \n",
       "Qena, Qena                 1\n",
       "Basatin, Cairo             1\n",
       "Bab Alshareya, Cairo       1\n",
       "Ataba, Cairo               1\n",
       "Schutz, Alexandria         1\n",
       "Name: job_location, Length: 175, dtype: int64"
      ]
     },
     "execution_count": 29,
     "metadata": {},
     "output_type": "execute_result"
    }
   ],
   "source": [
    "df['job_location'].value_counts()"
   ]
  },
  {
   "cell_type": "code",
   "execution_count": 30,
   "id": "082e7758",
   "metadata": {},
   "outputs": [
    {
     "data": {
      "text/plain": [
       "0"
      ]
     },
     "execution_count": 30,
     "metadata": {},
     "output_type": "execute_result"
    }
   ],
   "source": [
    "df['job_location'].isnull().sum()"
   ]
  },
  {
   "cell_type": "markdown",
   "id": "62596999",
   "metadata": {},
   "source": [
    "#### Company Name Column"
   ]
  },
  {
   "cell_type": "code",
   "execution_count": 31,
   "id": "32cd060b",
   "metadata": {},
   "outputs": [
    {
     "data": {
      "text/plain": [
       "array(['Confidential Company', 'Abudawood Group Egypt',\n",
       "       ' Cairo Three A  Poultry', ..., 'Rology', 'Talent Ferry',\n",
       "       'WORX Outsourcing'], dtype=object)"
      ]
     },
     "execution_count": 31,
     "metadata": {},
     "output_type": "execute_result"
    }
   ],
   "source": [
    "df['company_name'].unique()"
   ]
  },
  {
   "cell_type": "code",
   "execution_count": 32,
   "id": "c941079c",
   "metadata": {},
   "outputs": [
    {
     "data": {
      "text/plain": [
       "1934"
      ]
     },
     "execution_count": 32,
     "metadata": {},
     "output_type": "execute_result"
    }
   ],
   "source": [
    "df['company_name'].nunique()"
   ]
  },
  {
   "cell_type": "code",
   "execution_count": 33,
   "id": "f95fe6e0",
   "metadata": {},
   "outputs": [
    {
     "data": {
      "text/plain": [
       "Confidential Company                                          3727\n",
       "FlairsTech                                                     196\n",
       "Talaat Moustafa Group                                          135\n",
       "Fawry for Banking Technology and Electronic Payments S.A.E     127\n",
       "Majorel Egypt                                                  124\n",
       "                                                              ... \n",
       "Panoply Nursery                                                  1\n",
       "Regypt Investment                                                1\n",
       "Lavita Developments                                              1\n",
       "Industrial Technical Services Center (ELZahed)                   1\n",
       "WORX Outsourcing                                                 1\n",
       "Name: company_name, Length: 1934, dtype: int64"
      ]
     },
     "execution_count": 33,
     "metadata": {},
     "output_type": "execute_result"
    }
   ],
   "source": [
    "df['company_name'].value_counts()"
   ]
  },
  {
   "cell_type": "code",
   "execution_count": 34,
   "id": "dcd3e9c7",
   "metadata": {},
   "outputs": [
    {
     "data": {
      "text/plain": [
       "0"
      ]
     },
     "execution_count": 34,
     "metadata": {},
     "output_type": "execute_result"
    }
   ],
   "source": [
    "df['company_name'].isnull().sum()"
   ]
  },
  {
   "cell_type": "markdown",
   "id": "fde0491b",
   "metadata": {},
   "source": [
    "#### Company Location Column"
   ]
  },
  {
   "cell_type": "code",
   "execution_count": 35,
   "id": "88123221",
   "metadata": {
    "scrolled": true
   },
   "outputs": [
    {
     "data": {
      "text/plain": [
       "array([nan, 'Cairo, Egypt ', 'Egypt ', 'Muscat, Oman ', 'Suez, Egypt ',\n",
       "       'Giza, Egypt ', 'Alexandria, Egypt ', 'Monufya, Egypt ',\n",
       "       'Aden, Yemen ', 'Sharqia, Egypt ', 'Saudi Arabia ',\n",
       "       'United Arab Emirates ', 'London, United Kingdom ',\n",
       "       'United States ', 'Gharbia, Egypt ', 'Assiut, Egypt ', 'Japan ',\n",
       "       'Port Said, Egypt ', 'Amman, Jordan ', 'North Sinai, Egypt ',\n",
       "       'Riyadh, Saudi Arabia ', 'Dakahlia, Egypt ', 'Poland ',\n",
       "       'Matruh, Egypt ', 'Qalubia, Egypt ', 'Dallas, United States ',\n",
       "       'Nicaragua ', 'Nottingham, United Kingdom ', 'United Kingdom ',\n",
       "       'Jeddah, Saudi Arabia ', 'Dubai, United Arab Emirates ',\n",
       "       'Vienna, Austria ', 'Toronto, Canada ',\n",
       "       'Abu Dhabi, United Arab Emirates ',\n",
       "       'New York City, United States ', 'Taipei, Taiwan ',\n",
       "       'Kafr Alsheikh, Egypt ', 'Canada ', 'San Diego, United States ',\n",
       "       'Dammam, Saudi Arabia ', 'Pakistan ',\n",
       "       'Al Ain, United Arab Emirates ', 'Zurich, Switzerland ',\n",
       "       'Hanau am Main, Germany ', 'Belgrade, Serbia and Montenegro ',\n",
       "       'Red Sea, Egypt ', 'Changsha, China ',\n",
       "       'Frankfurt am Main, Germany ', 'Bern, Switzerland ',\n",
       "       'Ismailia, Egypt ', 'Antwerpen, Belgium ', 'Kuwait City, Kuwait ',\n",
       "       'Damietta, Egypt ', 'Fayoum, Egypt ', 'Miami, United States ',\n",
       "       'Beheira, Egypt ', 'Cyprus ', 'Beni Suef, Egypt ',\n",
       "       'Sharjah, United Arab Emirates ', 'Leicester, United Kingdom '],\n",
       "      dtype=object)"
      ]
     },
     "execution_count": 35,
     "metadata": {},
     "output_type": "execute_result"
    }
   ],
   "source": [
    "df['company_location'].unique()"
   ]
  },
  {
   "cell_type": "code",
   "execution_count": 36,
   "id": "d4b65cf6",
   "metadata": {
    "scrolled": true
   },
   "outputs": [
    {
     "data": {
      "text/plain": [
       "59"
      ]
     },
     "execution_count": 36,
     "metadata": {},
     "output_type": "execute_result"
    }
   ],
   "source": [
    "df['company_location'].nunique()"
   ]
  },
  {
   "cell_type": "code",
   "execution_count": 37,
   "id": "48b227f4",
   "metadata": {},
   "outputs": [
    {
     "data": {
      "text/plain": [
       "Cairo, Egypt                        12828\n",
       "Giza, Egypt                          4180\n",
       "Egypt                                2271\n",
       "Alexandria, Egypt                     895\n",
       "Sharqia, Egypt                        285\n",
       "Jeddah, Saudi Arabia                  130\n",
       "Dakahlia, Egypt                        72\n",
       "Riyadh, Saudi Arabia                   68\n",
       "Dubai, United Arab Emirates            60\n",
       "United Kingdom                         46\n",
       "United Arab Emirates                   45\n",
       "Monufya, Egypt                         41\n",
       "Poland                                 40\n",
       "Qalubia, Egypt                         38\n",
       "Saudi Arabia                           35\n",
       "Gharbia, Egypt                         29\n",
       "Aden, Yemen                            27\n",
       "Port Said, Egypt                       27\n",
       "Dallas, United States                  25\n",
       "Bern, Switzerland                      25\n",
       "San Diego, United States               25\n",
       "Red Sea, Egypt                         22\n",
       "Antwerpen, Belgium                     21\n",
       "Suez, Egypt                            21\n",
       "London, United Kingdom                 15\n",
       "Dammam, Saudi Arabia                   11\n",
       "Assiut, Egypt                           9\n",
       "Canada                                  8\n",
       "Toronto, Canada                         8\n",
       "New York City, United States            8\n",
       "Frankfurt am Main, Germany              8\n",
       "United States                           8\n",
       "Kuwait City, Kuwait                     7\n",
       "Fayoum, Egypt                           7\n",
       "Taipei, Taiwan                          7\n",
       "Vienna, Austria                         6\n",
       "Beheira, Egypt                          6\n",
       "Abu Dhabi, United Arab Emirates         6\n",
       "Kafr Alsheikh, Egypt                    5\n",
       "Muscat, Oman                            5\n",
       "Amman, Jordan                           5\n",
       "Belgrade, Serbia and Montenegro         5\n",
       "Changsha, China                         4\n",
       "Nicaragua                               4\n",
       "Matruh, Egypt                           4\n",
       "Pakistan                                4\n",
       "Nottingham, United Kingdom              3\n",
       "Hanau am Main, Germany                  3\n",
       "Ismailia, Egypt                         3\n",
       "North Sinai, Egypt                      3\n",
       "Japan                                   3\n",
       "Sharjah, United Arab Emirates           3\n",
       "Al Ain, United Arab Emirates            2\n",
       "Damietta, Egypt                         2\n",
       "Beni Suef, Egypt                        2\n",
       "Zurich, Switzerland                     1\n",
       "Miami, United States                    1\n",
       "Cyprus                                  1\n",
       "Leicester, United Kingdom               1\n",
       "Name: company_location, dtype: int64"
      ]
     },
     "execution_count": 37,
     "metadata": {},
     "output_type": "execute_result"
    }
   ],
   "source": [
    "df['company_location'].value_counts()"
   ]
  },
  {
   "cell_type": "code",
   "execution_count": 38,
   "id": "fc86246a",
   "metadata": {},
   "outputs": [
    {
     "data": {
      "text/plain": [
       "3727"
      ]
     },
     "execution_count": 38,
     "metadata": {},
     "output_type": "execute_result"
    }
   ],
   "source": [
    "df['company_location'].isnull().sum()"
   ]
  },
  {
   "cell_type": "markdown",
   "id": "9b76bb80",
   "metadata": {},
   "source": [
    "#### Company Field Column"
   ]
  },
  {
   "cell_type": "code",
   "execution_count": 39,
   "id": "8dae4b1e",
   "metadata": {},
   "outputs": [
    {
     "data": {
      "text/plain": [
       "array([nan, 'FMCG', 'Agriculture/Fishing/Farming', 'Cosmetics',\n",
       "       'Publishing and Printing', 'Accounting and Auditing Services',\n",
       "       'Information Technology Services', 'Manufacturing',\n",
       "       'Food and Beverage Production', 'Consumer Electronics',\n",
       "       'Real Estate/Property Management',\n",
       "       'Construction - Residential & Commercial/Office, Real Estate/Property Management',\n",
       "       'Construction - Residential & Commercial/Office',\n",
       "       'Accounting and Auditing Services, Marketing and Advertising, Import and Export',\n",
       "       'Banking, Financial Services, Non-Profit Organizations',\n",
       "       'Construction - Industrial Facilities and Infrastructure',\n",
       "       'Business Services - Other', 'Outsourcing/Offshoring',\n",
       "       'Computer Games, Entertainment',\n",
       "       'Business Services - Other, Engineering Services, Management Consulting',\n",
       "       'Marketing and Advertising, Computer Software, Information Technology Services',\n",
       "       'Import and Export',\n",
       "       'Computer and Network Security, Computer Software, Information Technology Services',\n",
       "       'Human Resources', 'Consumer Electronics, Manufacturing',\n",
       "       'Manufacturing, Real Estate/Property Management, Retail',\n",
       "       'Medical Devices and Supplies',\n",
       "       'Consumer Services, Pharmaceuticals', 'Marketing and Advertising',\n",
       "       'Retail', 'Healthcare and Medical Services',\n",
       "       'Human Resources, Management Consulting, Recruitment and Staffing',\n",
       "       'Furniture', 'Food and Beverage Production, Import and Export',\n",
       "       'Automotive, Manufacturing',\n",
       "       'Apparel and Fashion, Textile and Clothing, Retail',\n",
       "       'FMCG, Retail', 'Oil and Gas', 'Financial Services', 'Automotive',\n",
       "       'Accounting and Auditing Services, Information Technology Services',\n",
       "       'Higher Education', 'Consulting Services', 'Government',\n",
       "       'Construction - Industrial Facilities and Infrastructure, Engineering Services',\n",
       "       'Furniture, Manufacturing',\n",
       "       'FMCG, Food and Beverage Production, Food Services/Restaurants/Catering',\n",
       "       'Construction - Industrial Facilities and Infrastructure, FMCG, Import and Export',\n",
       "       'FMCG, Cosmetics', 'Packaging and Containers, Plastics',\n",
       "       'Internet/E-commerce', 'Telecommunications', 'Education',\n",
       "       'Construction - Industrial Facilities and Infrastructure, Retail',\n",
       "       'Banking, Financial Services',\n",
       "       'Healthcare and Medical Services, Manufacturing',\n",
       "       'Information Technology Services, Consumer Services, Internet/E-commerce',\n",
       "       'Health, Wellness and Fitness, Online Media, Training and Coaching',\n",
       "       'Construction - Industrial Facilities and Infrastructure, Engineering Services, Manufacturing',\n",
       "       'Travel and Tourism', 'Engineering Services',\n",
       "       'Human Resources, Recruitment and Staffing',\n",
       "       'Construction - Industrial Facilities and Infrastructure, Construction - Residential & Commercial/Office, Engineering Services',\n",
       "       'Construction - Industrial Facilities and Infrastructure, Mining and Metals',\n",
       "       'Information Technology Services, Logistics and Supply Chain',\n",
       "       'Computer and Network Security, Computer Hardware, Computer Software',\n",
       "       'Internet/E-commerce, Medical Devices and Supplies, Pharmaceuticals',\n",
       "       'Apparel and Fashion, Luxury Goods and Jewelry, Retail',\n",
       "       'Environmental Services, Security and Surveillance',\n",
       "       'Pharmaceuticals',\n",
       "       'Logistics and Supply Chain, Package/Freight Delivery, Transportation',\n",
       "       'Higher Education, Education',\n",
       "       'Medical Devices and Supplies, Pharmaceuticals',\n",
       "       'Human Resources, Recruitment and Staffing, Consulting Services',\n",
       "       'Hospitality/Hotels, Management Consulting, Sports',\n",
       "       'Business Services - Other, Computer Software, Information Technology Services',\n",
       "       'Computer Software, Financial Services',\n",
       "       'Food and Beverage Production, Import and Export, Food Services/Restaurants/Catering',\n",
       "       'Education, Training and Coaching, E-Learning',\n",
       "       'Consumer Services, Logistics and Supply Chain, Retail',\n",
       "       'Architectural and Design Services, Construction - Residential & Commercial/Office, Real Estate/Property Management',\n",
       "       'Computer Software, Information Technology Services',\n",
       "       'Construction - Industrial Facilities and Infrastructure, Engineering Services, Wholesale Trade',\n",
       "       'Computer Software',\n",
       "       'Energy and Utilities, Engineering Services, Environmental Services',\n",
       "       'Training and Coaching', 'Consumer Electronics, Retail',\n",
       "       'Environmental Services, Renewables and Environment',\n",
       "       'Agriculture/Fishing/Farming, Food and Beverage Production, Import and Export',\n",
       "       'FMCG, Food and Beverage Production',\n",
       "       'Construction - Industrial Facilities and Infrastructure, Renewables and Environment',\n",
       "       'Information Technology Services, Outsourcing/Offshoring, Telecommunications',\n",
       "       'Graphic Design, Packaging and Containers, Publishing and Printing',\n",
       "       'Education, Real Estate/Property Management',\n",
       "       'Electronics and Semiconductors, Renewables and Environment',\n",
       "       'Accounting and Auditing Services, Financial Services',\n",
       "       'Agriculture/Fishing/Farming, Automotive, Manufacturing',\n",
       "       'Marketing and Advertising, Graphic Design, Media Production',\n",
       "       'Computer Software, Information Technology Services, Travel and Tourism',\n",
       "       'Business Supplies and Equipment', 'Logistics and Supply Chain',\n",
       "       'Real Estate/Property Management, Consulting Services',\n",
       "       'Electronics and Semiconductors', 'Packaging and Containers',\n",
       "       'Entertainment',\n",
       "       'Computer Software, Information Technology Services, Telecommunications',\n",
       "       'Non-Profit Organizations',\n",
       "       'Logistics and Supply Chain, Transportation',\n",
       "       'Food and Beverage Production, Food Services/Restaurants/Catering',\n",
       "       'Other - Not Classified',\n",
       "       'Construction - Residential & Commercial/Office, Hospitality/Hotels, Real Estate/Property Management',\n",
       "       'Luxury Goods and Jewelry, Retail',\n",
       "       'Marketing and Advertising, Furniture, Manufacturing',\n",
       "       'Entertainment, Food Services/Restaurants/Catering',\n",
       "       'Hospitality/Hotels', 'Textile and Clothing',\n",
       "       'Luxury Goods and Jewelry',\n",
       "       'Insurance, Real Estate/Property Management, Investment Banking',\n",
       "       'Automotive, Information Technology Services, Engineering Services',\n",
       "       'Arts and Crafts, Chemicals, Manufacturing', 'Chemicals',\n",
       "       'Health, Wellness and Fitness, Pharmaceuticals, Retail',\n",
       "       'Marketing and Advertising, Agriculture/Fishing/Farming',\n",
       "       'Information Technology Services, Healthcare and Medical Services, Insurance',\n",
       "       'Outsourcing/Offshoring, Telecommunications',\n",
       "       'Construction - Industrial Facilities and Infrastructure, Plastics',\n",
       "       'FMCG, Cosmetics, Personal Care and Services',\n",
       "       'Business Supplies and Equipment, Engineering Services, Manufacturing',\n",
       "       'Marketing and Advertising, Financial Services, Human Resources',\n",
       "       'Airlines/Aviation, Construction - Industrial Facilities and Infrastructure, Hospitality/Hotels',\n",
       "       'Accounting and Auditing Services, Financial Services, Management Consulting',\n",
       "       'Construction - Industrial Facilities and Infrastructure, Construction - Residential & Commercial/Office',\n",
       "       'Human Resources, Management Consulting, Education',\n",
       "       'FMCG, Import and Export, Telecommunications',\n",
       "       'Engineering Services, Manufacturing',\n",
       "       'Public Relations and Communications', 'Manufacturing, Retail',\n",
       "       'Chemicals, Manufacturing, Plastics',\n",
       "       'Accounting and Auditing Services, Financial Services, Consulting Services',\n",
       "       'Insurance', 'Automotive, Financial Services, Insurance',\n",
       "       'Construction - Industrial Facilities and Infrastructure, Energy and Utilities, Manufacturing',\n",
       "       'Architectural and Design Services',\n",
       "       'Engineering Services, Import and Export, Manufacturing',\n",
       "       'Consumer Services, Retail, Investment Banking',\n",
       "       'Financial Services, Investment Banking',\n",
       "       'Financial Services, Online Media, Writing and Editing',\n",
       "       'Architectural and Design Services, Hospitality/Hotels, Logistics and Supply Chain',\n",
       "       'FMCG, Manufacturing, Packaging and Containers',\n",
       "       'Healthcare and Medical Services, Insurance',\n",
       "       'Business Supplies and Equipment, Outsourcing/Offshoring, Food Services/Restaurants/Catering',\n",
       "       'Wholesale Trade',\n",
       "       'Architectural and Design Services, Construction - Residential & Commercial/Office, Performing and Fine Arts',\n",
       "       'Construction - Industrial Facilities and Infrastructure, Construction - Residential & Commercial/Office, Manufacturing',\n",
       "       'Construction - Residential & Commercial/Office, Engineering Services',\n",
       "       'Logistics and Supply Chain, Package/Freight Delivery',\n",
       "       'Construction - Industrial Facilities and Infrastructure, Engineering Services, Renewables and Environment',\n",
       "       'Healthcare and Medical Services, Hospitality/Hotels',\n",
       "       'Investment Banking',\n",
       "       'Non-Profit Organizations, Food Services/Restaurants/Catering',\n",
       "       'Information Technology Services, Engineering Services, Telecommunications',\n",
       "       'Education, Publishing and Printing, E-Learning',\n",
       "       'Apparel and Fashion, Retail',\n",
       "       'Logistics and Supply Chain, Mining and Metals, Waste Management',\n",
       "       'Retail, Libraries',\n",
       "       'Apparel and Fashion, Textile and Clothing, Internet/E-commerce',\n",
       "       'Banking, Information Technology Services, Manufacturing',\n",
       "       'Consumer Electronics, Retail, Telecommunications',\n",
       "       'Construction - Industrial Facilities and Infrastructure, Construction - Residential & Commercial/Office, Real Estate/Property Management',\n",
       "       'Construction - Industrial Facilities and Infrastructure, Energy and Utilities, Management Consulting',\n",
       "       'Health, Wellness and Fitness', 'Furniture, Internet/E-commerce',\n",
       "       'Food and Beverage Production, Import and Export, Manufacturing',\n",
       "       'Construction - Residential & Commercial/Office, Import and Export, Real Estate/Property Management',\n",
       "       'Business Services - Other, Management Consulting, Venture Capital and Private Equity',\n",
       "       'Consumer Electronics, Security and Surveillance',\n",
       "       'FMCG, Manufacturing',\n",
       "       'Construction - Industrial Facilities and Infrastructure, Real Estate/Property Management',\n",
       "       'Food Services/Restaurants/Catering',\n",
       "       'Business Services - Other, Investment Banking',\n",
       "       'FMCG, Import and Export',\n",
       "       'Financial Services, Healthcare and Medical Services, Retail',\n",
       "       'FMCG, Manufacturing, Plastics',\n",
       "       'Construction - Industrial Facilities and Infrastructure, Manufacturing',\n",
       "       'FMCG, Internet/E-commerce',\n",
       "       'FMCG, Manufacturing, Paper and Forest Products',\n",
       "       'Automotive, Retail', 'Automotive, Insurance',\n",
       "       'Apparel and Fashion, Manufacturing, Retail',\n",
       "       'Computer Software, Information Technology Services, Consulting Services',\n",
       "       'Chemicals, Pharmaceuticals',\n",
       "       'Energy and Utilities, Engineering Services, Renewables and Environment',\n",
       "       'Broadcasting and Film', 'Cosmetics, Manufacturing',\n",
       "       'Apparel and Fashion, Furniture, Retail',\n",
       "       'Automotive, Logistics and Supply Chain, Manufacturing',\n",
       "       'Chemicals, Import and Export',\n",
       "       'Business Services - Other, Market Research, Research',\n",
       "       'Computer Software, Construction - Residential & Commercial/Office, Real Estate/Property Management',\n",
       "       'Marketing and Advertising, Online Media',\n",
       "       'Cosmetics, Healthcare and Medical Services, Internet/E-commerce',\n",
       "       'Health, Wellness and Fitness, Sports', 'Entertainment, Education',\n",
       "       'Information Technology Services, Healthcare and Medical Services, Internet/E-commerce',\n",
       "       'Information Technology Services, Outsourcing/Offshoring',\n",
       "       'Marketing and Advertising, Cosmetics, Personal Care and Services',\n",
       "       'Marketing and Advertising, Retail',\n",
       "       'Apparel and Fashion, Textile and Clothing',\n",
       "       'Engineering Services, Transportation',\n",
       "       'Logistics and Supply Chain, Travel and Tourism',\n",
       "       'Translation and Localization',\n",
       "       'Consumer Services, Telecommunications',\n",
       "       'Automotive, Import and Export',\n",
       "       'Architectural and Design Services, Construction - Industrial Facilities and Infrastructure, Consulting Services',\n",
       "       'Food Services/Restaurants/Catering, Wholesale Trade',\n",
       "       'Health, Wellness and Fitness, Healthcare and Medical Services',\n",
       "       'Computer Networking, Entertainment, Online Media',\n",
       "       'Manufacturing, Publishing and Printing',\n",
       "       'Marketing and Advertising, Computer and Network Security, Computer Software',\n",
       "       'Marketing and Advertising, Architectural and Design Services, Graphic Design',\n",
       "       'Legal Services', 'Entertainment, Music, Online Media',\n",
       "       'Airlines/Aviation, Computer Software',\n",
       "       'Computer Software, Internet/E-commerce, Recruitment and Staffing',\n",
       "       'Business Services - Other, Financial Services, Non-Profit Organizations',\n",
       "       'E-Learning',\n",
       "       'Information Technology Services, Internet/E-commerce, Wholesale Trade',\n",
       "       'Higher Education, Education, Consulting Services',\n",
       "       'Manufacturing, Wholesale Trade',\n",
       "       'Marine Manufacturing & Services, Oil and Gas, Real Estate/Property Management',\n",
       "       'Education, Training and Coaching, Consulting Services',\n",
       "       'Computer Hardware, Computer Networking, Information Technology Services',\n",
       "       'Agriculture/Fishing/Farming, Construction - Industrial Facilities and Infrastructure, Engineering Services',\n",
       "       'Education, Training and Coaching',\n",
       "       'Information Technology Services, Health, Wellness and Fitness, Personal Care and Services',\n",
       "       'Business Supplies and Equipment, Electronics and Semiconductors, Engineering Services',\n",
       "       'Construction - Residential & Commercial/Office, Engineering Services, Environmental Services',\n",
       "       'Manufacturing, Retail, Wholesale Trade',\n",
       "       'Engineering Services, Healthcare and Medical Services, Medical Devices and Supplies',\n",
       "       'Transportation',\n",
       "       'Construction - Industrial Facilities and Infrastructure, Recreational Facilities and Services, Sports',\n",
       "       'Food and Beverage Production, Furniture, Retail',\n",
       "       'Computer Networking, Graphic Design',\n",
       "       'Healthcare and Medical Services, Medical Devices and Supplies',\n",
       "       'Logistics and Supply Chain, Transportation, Warehousing',\n",
       "       'Engineering Services, Recruitment and Staffing',\n",
       "       'Chemicals, FMCG',\n",
       "       'Hospitality/Hotels, Manufacturing, Real Estate/Property Management',\n",
       "       'Information Technology Services, Education, E-Learning',\n",
       "       'Marketing and Advertising, Internet/E-commerce',\n",
       "       'Engineering Services, Environmental Services, Manufacturing',\n",
       "       'Broadcasting and Film, Media Production, Translation and Localization',\n",
       "       'Biotechnology, Pharmaceuticals, Research',\n",
       "       'Security and Surveillance',\n",
       "       'Architectural and Design Services, Construction - Industrial Facilities and Infrastructure, Construction - Residential & Commercial/Office',\n",
       "       'Information Technology Services, Outsourcing/Offshoring, Recruitment and Staffing',\n",
       "       'FMCG, Food and Beverage Production, Manufacturing',\n",
       "       'Graphic Design, Education',\n",
       "       'Construction - Residential & Commercial/Office, Real Estate/Property Management, Consulting Services',\n",
       "       'Chemicals, Logistics and Supply Chain, Transportation',\n",
       "       'Consumer Services, Outsourcing/Offshoring, Telecommunications',\n",
       "       'Alternative Medicine, Cosmetics, Healthcare and Medical Services',\n",
       "       'Construction - Residential & Commercial/Office, Management Consulting, Real Estate/Property Management',\n",
       "       'Computer Software, Energy and Utilities, Engineering Services',\n",
       "       'Information Technology Services, Telecommunications',\n",
       "       'Import and Export, Manufacturing', 'Apparel and Fashion',\n",
       "       'Entertainment, Media Production',\n",
       "       'Marketing and Advertising, Real Estate/Property Management',\n",
       "       'Construction - Residential & Commercial/Office, Engineering Services, Manufacturing',\n",
       "       'Plastics',\n",
       "       'Marine Manufacturing & Services, Recreational Facilities and Services',\n",
       "       'Manufacturing, Oil and Gas',\n",
       "       'Architectural and Design Services, Manufacturing',\n",
       "       'Pharmaceuticals, Veterinary',\n",
       "       'Training and Coaching, Recruitment and Staffing, Consulting Services',\n",
       "       'Marketing and Advertising, Healthcare and Medical Services, Pharmaceuticals',\n",
       "       'Transportation, Travel and Tourism',\n",
       "       'Agriculture/Fishing/Farming, Plastics',\n",
       "       'Translation and Localization, Other - Not Classified',\n",
       "       'Marketing and Advertising, Computer Games, Entertainment',\n",
       "       'Human Resources, Outsourcing/Offshoring',\n",
       "       'Cosmetics, Medical Devices and Supplies',\n",
       "       'Entertainment, Real Estate/Property Management, Retail',\n",
       "       'Automotive, Energy and Utilities, Engineering Services',\n",
       "       'Arts and Crafts, Internet/E-commerce',\n",
       "       'Textile and Clothing, Manufacturing', 'Consumer Services',\n",
       "       'Marketing and Advertising, Import and Export, Logistics and Supply Chain',\n",
       "       'Business Services - Other, Consumer Electronics, Retail',\n",
       "       'Computer Networking',\n",
       "       'Import and Export, Management Consulting, Manufacturing',\n",
       "       'Real Estate/Property Management, Recreational Facilities and Services, Sports',\n",
       "       'Marketing and Advertising, Information Technology Services, Internet/E-commerce',\n",
       "       'Construction - Industrial Facilities and Infrastructure, Logistics and Supply Chain, Manufacturing',\n",
       "       'Education, E-Learning',\n",
       "       'Construction - Industrial Facilities and Infrastructure, Engineering Services, Real Estate/Property Management',\n",
       "       'Computer Hardware, Computer Software, Internet/E-commerce',\n",
       "       'Computer Software, Consulting Services',\n",
       "       'Arts and Crafts, Retail, Wholesale Trade',\n",
       "       'Architectural and Design Services, Construction - Industrial Facilities and Infrastructure, Medical Devices and Supplies',\n",
       "       'Information Technology Services, Investment Banking',\n",
       "       'Human Resources, Outsourcing/Offshoring, Recruitment and Staffing',\n",
       "       'Information Technology Services, Financial Services',\n",
       "       'Automotive, Engineering Services, Transportation',\n",
       "       'Computer Networking, Computer Software, Information Technology Services',\n",
       "       'Education, Consulting Services, E-Learning',\n",
       "       'Automotive, Computer Software, Information Technology Services',\n",
       "       'Energy and Utilities, Oil and Gas',\n",
       "       'Automotive, Business Supplies and Equipment, Energy and Utilities',\n",
       "       'Computer Software, Furniture, Hospitality/Hotels',\n",
       "       'Computer Software, Information Technology Services, Market Research',\n",
       "       'Banking, Information Technology Services',\n",
       "       'Manufacturing, Plastics',\n",
       "       'Agriculture/Fishing/Farming, FMCG, Dairy', 'Media Production',\n",
       "       'Marketing and Advertising, Business Services - Other, Retail',\n",
       "       'Higher Education, Education, Training and Coaching',\n",
       "       'Computer Software, E-Learning',\n",
       "       'Computer Software, Manufacturing, Research',\n",
       "       'Computer Software, Manufacturing',\n",
       "       'Airlines/Aviation, Travel and Tourism',\n",
       "       'Marketing and Advertising, Media Production',\n",
       "       'Information Technology Services, Venture Capital and Private Equity',\n",
       "       'Agriculture/Fishing/Farming, FMCG, Logistics and Supply Chain',\n",
       "       'Architectural and Design Services, Engineering Services',\n",
       "       'Entertainment, Recreational Facilities and Services, Sports',\n",
       "       'Engineering Services, Manufacturing, Oil and Gas',\n",
       "       'Hospitality/Hotels, Non-Profit Organizations',\n",
       "       'Marketing and Advertising, Information Technology Services, Graphic Design',\n",
       "       'Computer Networking, Information Technology Services, Security and Surveillance',\n",
       "       'Consumer Services, Travel and Tourism', 'Banking',\n",
       "       'Apparel and Fashion, Computer Networking, Retail',\n",
       "       'Package/Freight Delivery',\n",
       "       'Accounting and Auditing Services, Human Resources, Recruitment and Staffing',\n",
       "       'Computer Software, Healthcare and Medical Services',\n",
       "       'Consumer Electronics, Telecommunications',\n",
       "       'Information Technology Services, Public Relations and Communications, Retail',\n",
       "       'Consumer Services, Food Services/Restaurants/Catering, Retail',\n",
       "       'Information Technology Services, Outsourcing/Offshoring, Consulting Services',\n",
       "       'Architectural and Design Services, Furniture, Manufacturing',\n",
       "       'Online Media', 'Computer Software, Research, E-Learning',\n",
       "       'Computer Software, Insurance',\n",
       "       'Energy and Utilities, Manufacturing',\n",
       "       'Agriculture/Fishing/Farming, Financial Services, Real Estate/Property Management',\n",
       "       'Marketing and Advertising, Banking, Financial Services',\n",
       "       'Agriculture/Fishing/Farming, Food and Beverage Production, Manufacturing',\n",
       "       'Airlines/Aviation', 'Apparel and Fashion, Automotive',\n",
       "       'Logistics and Supply Chain, Pharmaceuticals',\n",
       "       'Cosmetics, Healthcare and Medical Services, Retail',\n",
       "       'Agriculture/Fishing/Farming, Entertainment, Travel and Tourism',\n",
       "       'Healthcare and Medical Services, Consulting Services',\n",
       "       'Business Services - Other, Retail, Consulting Services',\n",
       "       'Furniture, Graphic Design, Internet/E-commerce',\n",
       "       'Computer and Network Security',\n",
       "       'Construction - Residential & Commercial/Office, Energy and Utilities',\n",
       "       'Information Technology Services, Engineering Services',\n",
       "       'Marketing and Advertising, Computer Software, Graphic Design',\n",
       "       'Computer Networking, Construction - Industrial Facilities and Infrastructure, Security and Surveillance',\n",
       "       'Management Consulting, Market Research',\n",
       "       'Business Services - Other, Information Technology Services',\n",
       "       'Computer Software, Security and Surveillance',\n",
       "       'Computer Software, Information Technology Services, Graphic Design',\n",
       "       'Computer Software, Media Production, Online Media',\n",
       "       'Business Supplies and Equipment, Engineering Services, Renewables and Environment',\n",
       "       'Import and Export, Logistics and Supply Chain, Online Media',\n",
       "       'Human Resources, Outsourcing/Offshoring, Telecommunications',\n",
       "       'Computer and Network Security, Computer Software',\n",
       "       'Computer Games, Computer Software, Entertainment',\n",
       "       'Computer Software, Information Technology Services, E-Learning',\n",
       "       'Media Production, Online Media, Writing and Editing',\n",
       "       'Internet/E-commerce, Retail', 'Cosmetics, Pharmaceuticals',\n",
       "       'Information Technology Services, Consumer Electronics',\n",
       "       'Engineering Services, Telecommunications',\n",
       "       'Marketing and Advertising, Automotive',\n",
       "       'Marketing and Advertising, Animation',\n",
       "       'Business Services - Other, Human Resources, Outsourcing/Offshoring',\n",
       "       'Information Technology Services, Consulting Services',\n",
       "       'Computer and Network Security, Information Technology Services, Healthcare and Medical Services',\n",
       "       'Biotechnology, Computer Software, Research',\n",
       "       'Information Technology Services, Health, Wellness and Fitness, Healthcare and Medical Services',\n",
       "       'Computer Software, Information Technology Services, Outsourcing/Offshoring',\n",
       "       'Airlines/Aviation, Hospitality/Hotels',\n",
       "       'Chemicals, Construction - Industrial Facilities and Infrastructure, Construction - Residential & Commercial/Office',\n",
       "       'Business Services - Other, Engineering Services',\n",
       "       'Cosmetics, Retail', 'Textile and Clothing, Wholesale Trade',\n",
       "       'Information Technology Services, Insurance',\n",
       "       'Computer Software, Medical Devices and Supplies',\n",
       "       'Information Technology Services, Financial Services, Internet/E-commerce',\n",
       "       'Information Technology Services, Internet/E-commerce',\n",
       "       'Information Technology Services, Education',\n",
       "       'Accounting and Auditing Services, Architectural and Design Services, Information Technology Services',\n",
       "       'Marketing and Advertising, Business Services - Other',\n",
       "       'Financial Services, Real Estate/Property Management',\n",
       "       'Business Supplies and Equipment, Engineering Services',\n",
       "       'Marketing and Advertising, Information Technology Services',\n",
       "       'Computer and Network Security, Computer Hardware, Information Technology Services',\n",
       "       'Paper and Forest Products',\n",
       "       'Business Services - Other, Healthcare and Medical Services, Medical Devices and Supplies',\n",
       "       'Business Services - Other, Information Technology Services, Engineering Services',\n",
       "       'Marketing and Advertising, Import and Export',\n",
       "       'Computer Software, Internet/E-commerce, Real Estate/Property Management',\n",
       "       'Marketing and Advertising, Computer Software',\n",
       "       'Information Technology Services, Media Production',\n",
       "       'Computer Software, Media Production',\n",
       "       'Business Services - Other, Chemicals, Research',\n",
       "       'Oil and Gas, Recruitment and Staffing',\n",
       "       'Cosmetics, Healthcare and Medical Services, Pharmaceuticals',\n",
       "       'Computer and Network Security, Information Technology Services',\n",
       "       'Textile and Clothing, Retail',\n",
       "       'Marketing and Advertising, Financial Services',\n",
       "       'Computer Software, Information Technology Services, Insurance',\n",
       "       'Marketing and Advertising, Apparel and Fashion, Computer Software',\n",
       "       'Real Estate/Property Management, Retail',\n",
       "       'Engineering Services, Consulting Services',\n",
       "       'Animation, Computer Software, Research',\n",
       "       'Computer and Network Security, Information Technology Services, Internet/E-commerce',\n",
       "       'Architectural and Design Services, Graphic Design',\n",
       "       'Computer Games', 'Marketing and Advertising, Graphic Design',\n",
       "       'Animation, Computer Software, Graphic Design', 'Sports',\n",
       "       'Engineering Services, Education', 'Recruitment and Staffing',\n",
       "       'Internet/E-commerce, Media Production, Telecommunications',\n",
       "       'Marketing and Advertising, Engineering Services',\n",
       "       'Healthcare and Medical Services, Insurance, Internet/E-commerce',\n",
       "       'Entertainment, Retail',\n",
       "       'Computer Software, Information Technology Services, Consumer Services',\n",
       "       'Business Services - Other, Human Resources',\n",
       "       'Marketing and Advertising, Human Resources, Recruitment and Staffing',\n",
       "       'Information Technology Services, Consumer Services',\n",
       "       'Business Services - Other, Business Supplies and Equipment, Computer and Network Security',\n",
       "       'Marketing and Advertising, Computer Software, Outsourcing/Offshoring',\n",
       "       'Outsourcing/Offshoring, Recruitment and Staffing',\n",
       "       'Real Estate/Property Management, Travel and Tourism, Investment Banking',\n",
       "       'Engineering Services, Wholesale Trade',\n",
       "       'Healthcare and Medical Services, Pharmaceuticals',\n",
       "       'Marketing and Advertising, Construction - Industrial Facilities and Infrastructure, Real Estate/Property Management',\n",
       "       'Media Production, Performing and Fine Arts',\n",
       "       'Architectural and Design Services, Construction - Residential & Commercial/Office, Engineering Services',\n",
       "       'Mining and Metals',\n",
       "       'Human Resources, Training and Coaching, Recruitment and Staffing',\n",
       "       'Engineering Services, Import and Export',\n",
       "       'Computer Software, Outsourcing/Offshoring, Travel and Tourism',\n",
       "       'Energy and Utilities', 'Marketing and Advertising, Furniture',\n",
       "       'Nanotechnology',\n",
       "       'Architectural and Design Services, Furniture, Retail',\n",
       "       'Health, Wellness and Fitness, Healthcare and Medical Services, Medical Devices and Supplies',\n",
       "       'Education, Consulting Services',\n",
       "       'Cosmetics, Retail, Wholesale Trade', 'Automotive, Transportation',\n",
       "       'Consumer Electronics, Internet/E-commerce',\n",
       "       'Non-Profit Organizations, Education',\n",
       "       'Information Technology Services, Training and Coaching, Recruitment and Staffing',\n",
       "       'Healthcare and Medical Services, Non-Profit Organizations',\n",
       "       'Engineering Services, Training and Coaching',\n",
       "       'FMCG, Hospitality/Hotels, Real Estate/Property Management',\n",
       "       'Construction - Industrial Facilities and Infrastructure, Transportation',\n",
       "       'Architectural and Design Services, Construction - Residential & Commercial/Office, Other - Not Classified',\n",
       "       'Furniture, Manufacturing, Retail',\n",
       "       'Architectural and Design Services, Construction - Industrial Facilities and Infrastructure, Engineering Services',\n",
       "       'Information Technology Services, Human Resources, Telecommunications',\n",
       "       'Architectural and Design Services, Construction - Residential & Commercial/Office',\n",
       "       'Manufacturing, Packaging and Containers',\n",
       "       'Business Supplies and Equipment, Construction - Industrial Facilities and Infrastructure, Engineering Services',\n",
       "       'Engineering Services, Real Estate/Property Management, Consulting Services',\n",
       "       'Business Supplies and Equipment, Other - Not Classified',\n",
       "       'Business Supplies and Equipment, Construction - Residential & Commercial/Office',\n",
       "       'Chemicals, Construction - Industrial Facilities and Infrastructure, Retail',\n",
       "       'Engineering Services, Management Consulting, Real Estate/Property Management',\n",
       "       'Architectural and Design Services, Furniture',\n",
       "       'Construction - Industrial Facilities and Infrastructure, Electronics and Semiconductors, Engineering Services',\n",
       "       'Accounting and Auditing Services, Construction - Industrial Facilities and Infrastructure, Construction - Residential & Commercial/Office',\n",
       "       'Construction - Industrial Facilities and Infrastructure, Manufacturing, Plastics',\n",
       "       'Engineering Services, Furniture, Manufacturing',\n",
       "       'Automotive, Business Services - Other',\n",
       "       'Renewables and Environment',\n",
       "       'Manufacturing, Packaging and Containers, Plastics',\n",
       "       'Engineering Services, Environmental Services, Waste Management',\n",
       "       'Business Supplies and Equipment, Engineering Services, Telecommunications',\n",
       "       'Chemicals, Oil and Gas',\n",
       "       'Energy and Utilities, Engineering Services, Import and Export',\n",
       "       'Construction - Industrial Facilities and Infrastructure, Food Services/Restaurants/Catering',\n",
       "       'Banking, Investment Banking',\n",
       "       'Biotechnology, Medical Devices and Supplies',\n",
       "       'Agriculture/Fishing/Farming, Business Supplies and Equipment, Engineering Services',\n",
       "       'Logistics and Supply Chain, Manufacturing',\n",
       "       'Engineering Services, Manufacturing, Paper and Forest Products',\n",
       "       'Chemicals, Manufacturing',\n",
       "       'FMCG, Dairy, Food and Beverage Production',\n",
       "       'Manufacturing, Pharmaceuticals',\n",
       "       'FMCG, Food and Beverage Production, Hospitality/Hotels',\n",
       "       'Supermarkets',\n",
       "       'Computer Software, Information Technology Services, Research',\n",
       "       'Aerospace and Defense, Transportation',\n",
       "       'Engineering Services, Manufacturing, Wholesale Trade',\n",
       "       'Internet/E-commerce, Real Estate/Property Management',\n",
       "       'Computer Software, Information Technology Services, Internet/E-commerce',\n",
       "       'Business Services - Other, Computer Software, Construction - Industrial Facilities and Infrastructure',\n",
       "       'Computer Software, Telecommunications',\n",
       "       'Computer and Network Security, Information Technology Services, Engineering Services',\n",
       "       'Computer Software, Information Technology Services, Financial Services',\n",
       "       'Automotive, Computer Software',\n",
       "       'Computer Software, Engineering Services, Internet/E-commerce',\n",
       "       'Information Technology Services, Human Resources, Consulting Services',\n",
       "       'Computer Software, Training and Coaching, Consulting Services',\n",
       "       'Engineering Services, Telecommunications, Other - Not Classified',\n",
       "       'Information Technology Services, Human Resources, Real Estate/Property Management',\n",
       "       'Capital Markets, Computer Software',\n",
       "       'Information Technology Services, Legal Services',\n",
       "       'FMCG, Supermarkets', 'Information Technology Services, Sports',\n",
       "       'Marketing and Advertising, Business Services - Other, Online Media',\n",
       "       'Plastics, Wholesale Trade',\n",
       "       'Computer Software, Information Technology Services, Healthcare and Medical Services',\n",
       "       'Marketing and Advertising, Training and Coaching, E-Learning',\n",
       "       'Apparel and Fashion, Graphic Design, Retail',\n",
       "       'Personal Care and Services, Retail',\n",
       "       'Education, Travel and Tourism',\n",
       "       'Information Technology Services, Healthcare and Medical Services',\n",
       "       'Computer Software, Construction - Residential & Commercial/Office, Cosmetics',\n",
       "       'Food and Beverage Production, Manufacturing',\n",
       "       'Engineering Services, Oil and Gas, Education',\n",
       "       'Computer Software, Human Resources',\n",
       "       'Construction - Industrial Facilities and Infrastructure, Plastics, Retail',\n",
       "       'Human Resources, Management Consulting, Consulting Services',\n",
       "       'Logistics and Supply Chain, Warehousing',\n",
       "       'Business Services - Other, Other - Not Classified',\n",
       "       'Law Enforcement, Legal Services',\n",
       "       'Apparel and Fashion, Internet/E-commerce, Publishing and Printing',\n",
       "       'Automotive, Logistics and Supply Chain, Transportation',\n",
       "       'Import and Export, Logistics and Supply Chain',\n",
       "       'Manufacturing, Telecommunications',\n",
       "       'Textile and Clothing, FMCG, Pharmaceuticals',\n",
       "       'Personal Care and Services',\n",
       "       'Logistics and Supply Chain, Marine Manufacturing & Services',\n",
       "       'Outsourcing/Offshoring, Real Estate/Property Management',\n",
       "       'Recreational Facilities and Services',\n",
       "       'Marketing and Advertising, Animation, Media Production',\n",
       "       'Architectural and Design Services, Chemicals, Manufacturing',\n",
       "       'Marketing and Advertising, Information Technology Services, Publishing and Printing',\n",
       "       'Retail, Sports',\n",
       "       'Construction - Residential & Commercial/Office, Furniture',\n",
       "       'Marketing and Advertising, Graphic Design, Photography',\n",
       "       'Architectural and Design Services, Furniture, Internet/E-commerce',\n",
       "       'Marketing and Advertising, Manufacturing',\n",
       "       'Marketing and Advertising, Construction - Industrial Facilities and Infrastructure',\n",
       "       'Import and Export, Package/Freight Delivery, Packaging and Containers',\n",
       "       'Automotive, Information Technology Services',\n",
       "       'Photography, Retail',\n",
       "       'Marketing and Advertising, Computer Software, Healthcare and Medical Services',\n",
       "       'Biotechnology, Healthcare and Medical Services, Medical Devices and Supplies',\n",
       "       'Apparel and Fashion, Import and Export',\n",
       "       'Marketing and Advertising, Financial Services, Management Consulting',\n",
       "       'Automotive, Logistics and Supply Chain, Wholesale Trade',\n",
       "       'Construction - Residential & Commercial/Office, Engineering Services, Real Estate/Property Management',\n",
       "       'Marketing and Advertising, Information Technology Services, Consumer Services',\n",
       "       'Furniture, Retail',\n",
       "       'Business Supplies and Equipment, Engineering Services, Import and Export',\n",
       "       'Information Technology Services, Travel and Tourism',\n",
       "       'Marketing and Advertising, Healthcare and Medical Services',\n",
       "       'Marketing and Advertising, Computer Software, Media Production',\n",
       "       'Arts and Crafts, Furniture, Luxury Goods and Jewelry',\n",
       "       'Financial Services, Internet/E-commerce', 'Management Consulting',\n",
       "       'Manufacturing, Medical Devices and Supplies',\n",
       "       'Media Production, Music, Online Media',\n",
       "       'Marketing and Advertising, Graphic Design, Publishing and Printing',\n",
       "       'Computer Software, Information Technology Services, Logistics and Supply Chain',\n",
       "       'Real Estate/Property Management, Recreational Facilities and Services',\n",
       "       'FMCG, Cosmetics, Pharmaceuticals',\n",
       "       'Consumer Electronics, Internet/E-commerce, Retail',\n",
       "       'Computer Software, Healthcare and Medical Services, Research'],\n",
       "      dtype=object)"
      ]
     },
     "execution_count": 39,
     "metadata": {},
     "output_type": "execute_result"
    }
   ],
   "source": [
    "df['company_field'].unique()"
   ]
  },
  {
   "cell_type": "code",
   "execution_count": 40,
   "id": "4f92072d",
   "metadata": {},
   "outputs": [
    {
     "data": {
      "text/plain": [
       "579"
      ]
     },
     "execution_count": 40,
     "metadata": {},
     "output_type": "execute_result"
    }
   ],
   "source": [
    "df['company_field'].nunique()"
   ]
  },
  {
   "cell_type": "code",
   "execution_count": 41,
   "id": "72e0f9aa",
   "metadata": {},
   "outputs": [
    {
     "data": {
      "text/plain": [
       "Information Technology Services                                                     1289\n",
       "Computer Software                                                                   1104\n",
       "Manufacturing                                                                        865\n",
       "Real Estate/Property Management                                                      815\n",
       "Engineering Services                                                                 650\n",
       "                                                                                    ... \n",
       "Renewables and Environment                                                             1\n",
       "Insurance, Real Estate/Property Management, Investment Banking                         1\n",
       "Construction - Industrial Facilities and Infrastructure, FMCG, Import and Export       1\n",
       "Marketing and Advertising, Cosmetics, Personal Care and Services                       1\n",
       "Computer Software, Healthcare and Medical Services, Research                           1\n",
       "Name: company_field, Length: 579, dtype: int64"
      ]
     },
     "execution_count": 41,
     "metadata": {},
     "output_type": "execute_result"
    }
   ],
   "source": [
    "df['company_field'].value_counts()"
   ]
  },
  {
   "cell_type": "code",
   "execution_count": 42,
   "id": "f0b42400",
   "metadata": {},
   "outputs": [
    {
     "data": {
      "text/plain": [
       "4193"
      ]
     },
     "execution_count": 42,
     "metadata": {},
     "output_type": "execute_result"
    }
   ],
   "source": [
    "df['company_field'].isnull().sum()"
   ]
  },
  {
   "cell_type": "markdown",
   "id": "d6dcaf7c",
   "metadata": {},
   "source": [
    "#### Company Size Column"
   ]
  },
  {
   "cell_type": "code",
   "execution_count": 43,
   "id": "3e7f3001",
   "metadata": {},
   "outputs": [
    {
     "data": {
      "text/plain": [
       "array([nan, ' More than 1000 employees', ' 101-500 employees',\n",
       "       ' 11-50 employees', ' 51-100 employees', ' 501-1000 employees',\n",
       "       ' 1-10 employees', ' '], dtype=object)"
      ]
     },
     "execution_count": 43,
     "metadata": {},
     "output_type": "execute_result"
    }
   ],
   "source": [
    "df['company_size'].unique()"
   ]
  },
  {
   "cell_type": "code",
   "execution_count": 44,
   "id": "20dc9759",
   "metadata": {},
   "outputs": [
    {
     "data": {
      "text/plain": [
       "7"
      ]
     },
     "execution_count": 44,
     "metadata": {},
     "output_type": "execute_result"
    }
   ],
   "source": [
    "df['company_size'].nunique()"
   ]
  },
  {
   "cell_type": "code",
   "execution_count": 45,
   "id": "a2712684",
   "metadata": {},
   "outputs": [
    {
     "data": {
      "text/plain": [
       "3727"
      ]
     },
     "execution_count": 45,
     "metadata": {},
     "output_type": "execute_result"
    }
   ],
   "source": [
    "df['company_size'].isnull().sum()"
   ]
  },
  {
   "cell_type": "markdown",
   "id": "1ea5d4bc",
   "metadata": {},
   "source": [
    "#### Experience Needed Column"
   ]
  },
  {
   "cell_type": "code",
   "execution_count": 46,
   "id": "637fbe9b",
   "metadata": {},
   "outputs": [
    {
     "data": {
      "text/plain": [
       "array(['0 to 1 year', '7 to 10 years', '1 to 3 years', '2 to 6 years',\n",
       "       '5 to 8 years', '4 to 7 years', '5 to 7 years',\n",
       "       'More than 3 years', '10 to 15 years', '4 to 9 years',\n",
       "       '2 to 4 years', '6 to 7 years', '5 to 10 years', '3 to 6 years',\n",
       "       '2 to 5 years', '3 to 7 years', '0 to 3 years', '3 to 5 years',\n",
       "       '3 to 10 years', '1 to 2 years', '2 to 3 years', '2 to 10 years',\n",
       "       '12 to 20 years', '3 to 8 years', 'More than 15 years',\n",
       "       'More than 10 years', '1 year', '6 to 8 years', '4 to 5 years',\n",
       "       'More than 1 year', '5 to 6 years', '3 to 4 years',\n",
       "       '10 to 12 years', '0 to 2 years', '8 to 10 years',\n",
       "       'More than 5 years', '10 to 17 years', 'More than 2 years',\n",
       "       '1 to 10 years', '5 to 9 years', '5 to 15 years', '4 to 6 years',\n",
       "       '4 to 10 years', 'More than 20 years', '7 to 15 years',\n",
       "       '1 to 7 years', '18 to 20 years', '2 to 7 years',\n",
       "       'More than 7 years', 'More than 6 years', '7 to 9 years',\n",
       "       '6 to 9 years', '4 to 8 years', 'Not Specified', '8 to 11 years',\n",
       "       '1 to 5 years', '5 to 12 years', '10 to 13 years', '1 to 4 years',\n",
       "       '7 to 12 years', '4 to 20 years', '5 to 20 years', '3 to 15 years',\n",
       "       'More than 12 years', '2 to 8 years', 'More than 4 years',\n",
       "       '1 to 6 years', '15 to 20 years', '8 to 12 years',\n",
       "       '10 to 20 years', '6 to 10 years', '8 to 20 years',\n",
       "       '10 to 18 years', '7 to 8 years', '10 to 14 years',\n",
       "       'More than 8 years', '12 to 15 years', '12 to 16 years',\n",
       "       '8 to 15 years', '0 to 5 years', '0 to 4 years', '2 to 20 years',\n",
       "       '9 to 10 years', '3 years', '7 to 11 years', '2 to 12 years',\n",
       "       '1 to 8 years', '9 to 15 years', '3 to 9 years', '4 to 15 years',\n",
       "       '0 to 7 years', '12 to 18 years', '20 years', '3 to 12 years',\n",
       "       '4 to 12 years', '6 to 12 years', '7 to 20 years', '0 to 6 years',\n",
       "       '2 years', '9 to 12 years', '8 to 9 years', 'More than 11 years',\n",
       "       '0 to 10 years', '3 to 20 years', 'More than 9 years',\n",
       "       '6 to 15 years', '9 to 11 years', '3 to 14 years', '15 years',\n",
       "       '2 to 15 years', '5 to 18 years', '0 to 9 years', '1 to 9 years',\n",
       "       '0 to 13 years', '0 to 15 years', '2 to 18 years', '9 to 14 years',\n",
       "       '10 to 11 years', '5 years', '7 to 13 years', '5 to 17 years',\n",
       "       '14 to 20 years', '15 to 17 years', '15 to 18 years',\n",
       "       '7 to 18 years', '12 to 17 years', '10 years', '6 to 11 years',\n",
       "       '2 to 9 years', '1 to 15 years', '13 to 15 years', '9 to 20 years',\n",
       "       '0 to 11 years', '1 to 13 years', '0 to 20 years', '0 to 8 years'],\n",
       "      dtype=object)"
      ]
     },
     "execution_count": 46,
     "metadata": {},
     "output_type": "execute_result"
    }
   ],
   "source": [
    "df['experience_needed'].unique()"
   ]
  },
  {
   "cell_type": "code",
   "execution_count": 47,
   "id": "6e290d0d",
   "metadata": {},
   "outputs": [
    {
     "data": {
      "text/plain": [
       "136"
      ]
     },
     "execution_count": 47,
     "metadata": {},
     "output_type": "execute_result"
    }
   ],
   "source": [
    "df['experience_needed'].nunique()"
   ]
  },
  {
   "cell_type": "code",
   "execution_count": 48,
   "id": "df65be1b",
   "metadata": {
    "scrolled": true
   },
   "outputs": [
    {
     "data": {
      "text/plain": [
       "3 to 5 years         2587\n",
       "1 to 3 years         2248\n",
       "2 to 4 years         1443\n",
       "More than 3 years    1094\n",
       "2 to 5 years         1080\n",
       "                     ... \n",
       "10 to 11 years          2\n",
       "1 to 15 years           1\n",
       "9 to 20 years           1\n",
       "7 to 13 years           1\n",
       "0 to 8 years            1\n",
       "Name: experience_needed, Length: 136, dtype: int64"
      ]
     },
     "execution_count": 48,
     "metadata": {},
     "output_type": "execute_result"
    }
   ],
   "source": [
    "df['experience_needed'].value_counts()"
   ]
  },
  {
   "cell_type": "code",
   "execution_count": 49,
   "id": "e1add338",
   "metadata": {},
   "outputs": [
    {
     "data": {
      "text/plain": [
       "306"
      ]
     },
     "execution_count": 49,
     "metadata": {},
     "output_type": "execute_result"
    }
   ],
   "source": [
    "df['experience_needed'][df['experience_needed'] == 'Not Specified'].count()"
   ]
  },
  {
   "cell_type": "code",
   "execution_count": 50,
   "id": "0cbcf63c",
   "metadata": {},
   "outputs": [
    {
     "data": {
      "text/plain": [
       "0"
      ]
     },
     "execution_count": 50,
     "metadata": {},
     "output_type": "execute_result"
    }
   ],
   "source": [
    "df['experience_needed'].isnull().sum()"
   ]
  },
  {
   "cell_type": "markdown",
   "id": "ddbf774e",
   "metadata": {},
   "source": [
    "#### Career Level Column"
   ]
  },
  {
   "cell_type": "code",
   "execution_count": 51,
   "id": "f44455ac",
   "metadata": {},
   "outputs": [
    {
     "data": {
      "text/plain": [
       "array(['Entry Level (Junior Level / Fresh Grad)', 'Manager ',\n",
       "       'Experienced (Non-Manager)',\n",
       "       'Senior Management (CEO, GM, Director, Head)',\n",
       "       'Student (Undergrad / Postgrad)'], dtype=object)"
      ]
     },
     "execution_count": 51,
     "metadata": {},
     "output_type": "execute_result"
    }
   ],
   "source": [
    "df['career_level'].unique()"
   ]
  },
  {
   "cell_type": "code",
   "execution_count": 52,
   "id": "3488c3dc",
   "metadata": {},
   "outputs": [
    {
     "data": {
      "text/plain": [
       "5"
      ]
     },
     "execution_count": 52,
     "metadata": {},
     "output_type": "execute_result"
    }
   ],
   "source": [
    "df['career_level'].nunique()"
   ]
  },
  {
   "cell_type": "code",
   "execution_count": 53,
   "id": "65490970",
   "metadata": {},
   "outputs": [
    {
     "data": {
      "text/plain": [
       "0"
      ]
     },
     "execution_count": 53,
     "metadata": {},
     "output_type": "execute_result"
    }
   ],
   "source": [
    "df['career_level'].isnull().sum()"
   ]
  },
  {
   "cell_type": "markdown",
   "id": "c8ab260e",
   "metadata": {},
   "source": [
    "#### Education Level Column"
   ]
  },
  {
   "cell_type": "code",
   "execution_count": 54,
   "id": "c26b91aa",
   "metadata": {},
   "outputs": [
    {
     "data": {
      "text/plain": [
       "array([\"Bachelor's Degree\", 'Not Specified', 'Diploma', 'MBA',\n",
       "       \"Master's Degree\", 'High School (or equivalent)'], dtype=object)"
      ]
     },
     "execution_count": 54,
     "metadata": {},
     "output_type": "execute_result"
    }
   ],
   "source": [
    "df['education_level'].unique()"
   ]
  },
  {
   "cell_type": "code",
   "execution_count": 55,
   "id": "6982a90e",
   "metadata": {},
   "outputs": [
    {
     "data": {
      "text/plain": [
       "6"
      ]
     },
     "execution_count": 55,
     "metadata": {},
     "output_type": "execute_result"
    }
   ],
   "source": [
    "df['education_level'].nunique()"
   ]
  },
  {
   "cell_type": "code",
   "execution_count": 56,
   "id": "0bed28b0",
   "metadata": {},
   "outputs": [
    {
     "data": {
      "text/plain": [
       "0"
      ]
     },
     "execution_count": 56,
     "metadata": {},
     "output_type": "execute_result"
    }
   ],
   "source": [
    "df['education_level'].isnull().sum()"
   ]
  },
  {
   "cell_type": "markdown",
   "id": "ceb5b565",
   "metadata": {},
   "source": [
    "#### Gender Column"
   ]
  },
  {
   "cell_type": "code",
   "execution_count": 57,
   "id": "87a40e85",
   "metadata": {},
   "outputs": [
    {
     "data": {
      "text/plain": [
       "array(['both', 'Male', 'Female', 'Males preferred', 'Females preferred'],\n",
       "      dtype=object)"
      ]
     },
     "execution_count": 57,
     "metadata": {},
     "output_type": "execute_result"
    }
   ],
   "source": [
    "df['gender'].unique()"
   ]
  },
  {
   "cell_type": "code",
   "execution_count": 58,
   "id": "00298a29",
   "metadata": {},
   "outputs": [
    {
     "data": {
      "text/plain": [
       "5"
      ]
     },
     "execution_count": 58,
     "metadata": {},
     "output_type": "execute_result"
    }
   ],
   "source": [
    "df['gender'].nunique()"
   ]
  },
  {
   "cell_type": "code",
   "execution_count": 59,
   "id": "83de328c",
   "metadata": {},
   "outputs": [
    {
     "data": {
      "text/plain": [
       "both                 22688\n",
       "Male                  1511\n",
       "Female                 648\n",
       "Males preferred        241\n",
       "Females preferred       73\n",
       "Name: gender, dtype: int64"
      ]
     },
     "execution_count": 59,
     "metadata": {},
     "output_type": "execute_result"
    }
   ],
   "source": [
    "df['gender'].value_counts()"
   ]
  },
  {
   "cell_type": "code",
   "execution_count": 60,
   "id": "6619a1a0",
   "metadata": {},
   "outputs": [
    {
     "data": {
      "text/plain": [
       "0"
      ]
     },
     "execution_count": 60,
     "metadata": {},
     "output_type": "execute_result"
    }
   ],
   "source": [
    "df['gender'].isnull().sum()"
   ]
  },
  {
   "cell_type": "markdown",
   "id": "40158df3",
   "metadata": {},
   "source": [
    "#### Salary Column"
   ]
  },
  {
   "cell_type": "code",
   "execution_count": 61,
   "id": "7b701f17",
   "metadata": {},
   "outputs": [
    {
     "data": {
      "text/plain": [
       "array(['Confidential', '3500 to 3500 EGP Per Month',\n",
       "       'Confidential, Bounces', ..., '60 to 80 EGP Per Hour',\n",
       "       '4000 to 5800 EGP Per Month',\n",
       "       'Confidential, Medical Insurance\\r\\nSocial Insurance\\r\\nTransportation Allowance'],\n",
       "      dtype=object)"
      ]
     },
     "execution_count": 61,
     "metadata": {},
     "output_type": "execute_result"
    }
   ],
   "source": [
    "df['salary'].unique()"
   ]
  },
  {
   "cell_type": "code",
   "execution_count": 62,
   "id": "47806e3f",
   "metadata": {},
   "outputs": [
    {
     "data": {
      "text/plain": [
       "1168"
      ]
     },
     "execution_count": 62,
     "metadata": {},
     "output_type": "execute_result"
    }
   ],
   "source": [
    "df['salary'].nunique()"
   ]
  },
  {
   "cell_type": "code",
   "execution_count": 63,
   "id": "e11f4cf7",
   "metadata": {},
   "outputs": [
    {
     "data": {
      "text/plain": [
       "Confidential                                                                                    18125\n",
       "Confidential, Commission                                                                          267\n",
       "Confidential, Bonus                                                                               212\n",
       "paid                                                                                              157\n",
       "Confidential, Commissions                                                                          76\n",
       "                                                                                                ...  \n",
       "Confidential, Social Insurance , Medical Insurance ,Transportation                                  1\n",
       "Confidential, Commission + Social & Medical insurance                                               1\n",
       "4000 to 8000 EGP Per Month, Commission for achieving targets\\r\\nImmediate bonuses and spiffs        1\n",
       "Confidential, Incentives, Social Insurance, Medical Insurance, and Transportation.                  1\n",
       "Confidential, share profit \\r\\nbounce                                                               1\n",
       "Name: salary, Length: 1168, dtype: int64"
      ]
     },
     "execution_count": 63,
     "metadata": {},
     "output_type": "execute_result"
    }
   ],
   "source": [
    "df['salary'].value_counts()"
   ]
  },
  {
   "cell_type": "code",
   "execution_count": 64,
   "id": "6a68aacb",
   "metadata": {},
   "outputs": [
    {
     "data": {
      "text/plain": [
       "0"
      ]
     },
     "execution_count": 64,
     "metadata": {},
     "output_type": "execute_result"
    }
   ],
   "source": [
    "df['salary'].isnull().sum()"
   ]
  },
  {
   "cell_type": "markdown",
   "id": "3a2e0294",
   "metadata": {},
   "source": [
    "#### Skills And Tools Column"
   ]
  },
  {
   "cell_type": "code",
   "execution_count": 65,
   "id": "3c488c64",
   "metadata": {},
   "outputs": [
    {
     "data": {
      "text/plain": [
       "array(['Accounting;Finance;Cost Accounting;Financial Analysis',\n",
       "       'Food & Beverage;Cost;FMCG;Finance;Accounting;Inventory;Management;Cost Control;Accounting System;Costing;Financial Analysis;Financial Management;Commerce;CMA;Pastry;bakery;patissier;Hotel, Restaurant, Cafe;horeca;Cafe;pizza',\n",
       "       'Accounting;Finance;Financial;Financial Reporting', ...,\n",
       "       'Customer Service;Customer Care;Customer Support;Call Center;Contact Center;English',\n",
       "       'realestate;Operations Management', 'Customer Care;English'],\n",
       "      dtype=object)"
      ]
     },
     "execution_count": 65,
     "metadata": {},
     "output_type": "execute_result"
    }
   ],
   "source": [
    "df['skills_and_tools'].unique()"
   ]
  },
  {
   "cell_type": "code",
   "execution_count": 66,
   "id": "8efb189c",
   "metadata": {},
   "outputs": [
    {
     "data": {
      "text/plain": [
       "7023"
      ]
     },
     "execution_count": 66,
     "metadata": {},
     "output_type": "execute_result"
    }
   ],
   "source": [
    "df['skills_and_tools'].nunique()"
   ]
  },
  {
   "cell_type": "code",
   "execution_count": 67,
   "id": "3ff0a81d",
   "metadata": {},
   "outputs": [
    {
     "data": {
      "text/plain": [
       "0"
      ]
     },
     "execution_count": 67,
     "metadata": {},
     "output_type": "execute_result"
    }
   ],
   "source": [
    "df['skills_and_tools'].isnull().sum()"
   ]
  },
  {
   "cell_type": "markdown",
   "id": "d3494c5c",
   "metadata": {},
   "source": [
    "#### Link Column"
   ]
  },
  {
   "cell_type": "code",
   "execution_count": 68,
   "id": "df9fc307",
   "metadata": {},
   "outputs": [
    {
     "data": {
      "text/plain": [
       "array(['https://wuzzuf.net/jobs/p/Ag1eTeHzp26L-Cost-Accountant-Alexandria-Egypt?o=1&l=bp&t=bj&bpv=np&a=Accounting-Finance-Jobs-in-Egypt',\n",
       "       'https://wuzzuf.net/jobs/p/oME6Pq8IbNE4-Costing-Manager---Pastry-Industry-FMCG-Giza-Egypt?o=2&l=bp&t=bj&bpv=np&a=Accounting-Finance-Jobs-in-Egypt',\n",
       "       'https://wuzzuf.net/jobs/p/TJGlRdDJ6Z8a-Female-Junior-Accountant-Giza-Egypt?o=3&l=bp&t=bj&bpv=np&a=Accounting-Finance-Jobs-in-Egypt',\n",
       "       ...,\n",
       "       'https://wuzzuf.net/jobs/p/Qr7O1jsPb81i-Electrical-Engineer-Misr-October-Industrial-Co--MOIC-Egypt-Giza-Egypt?o=2498&l=bp&t=bj&bpv=np&a=Engineering-Jobs-in-Egypt',\n",
       "       'https://wuzzuf.net/jobs/p/rHyqsT2TEHmn-Mechanical-Engineer-Misr-October-Industrial-Co--MOIC-Egypt-Giza-Egypt?o=2499&l=bp&t=bj&bpv=np&a=Engineering-Jobs-in-Egypt',\n",
       "       'https://wuzzuf.net/jobs/p/89B1XFeXXNNc-Backend-Developer-Nodejs-Nadeer-Cairo-Egypt?o=2500&l=bp&t=bj&bpv=np&a=Engineering-Jobs-in-Egypt'],\n",
       "      dtype=object)"
      ]
     },
     "execution_count": 68,
     "metadata": {},
     "output_type": "execute_result"
    }
   ],
   "source": [
    "df['link'].unique()"
   ]
  },
  {
   "cell_type": "code",
   "execution_count": 69,
   "id": "355dc8ef",
   "metadata": {},
   "outputs": [
    {
     "data": {
      "text/plain": [
       "25161"
      ]
     },
     "execution_count": 69,
     "metadata": {},
     "output_type": "execute_result"
    }
   ],
   "source": [
    "df['link'].nunique()"
   ]
  },
  {
   "cell_type": "code",
   "execution_count": 70,
   "id": "ba84efa2",
   "metadata": {},
   "outputs": [
    {
     "data": {
      "text/plain": [
       "0"
      ]
     },
     "execution_count": 70,
     "metadata": {},
     "output_type": "execute_result"
    }
   ],
   "source": [
    "df['link'].isnull().sum()"
   ]
  },
  {
   "cell_type": "markdown",
   "id": "281f1916",
   "metadata": {},
   "source": [
    "### Data Explore Conclusion\n",
    "- The data may appear to be complete, but I have handled most of it during scraping by adding neutral entries such as 'both' for gender, 'confidential' for company names, and making other modifications.\n",
    "- There are a lot of duplicated jobs, and despite the duplicated function displayed as 0, more investigation is needed.\n",
    "- The job type column needs to be organized into main types only.\n",
    "- We could try to narrow the variation in the job titles column.\n",
    "- We need to extract the main category for each job from the job categories column.\n",
    "- We can try to extract useful information from the job description and job requirements columns.\n",
    "- We can get the job area and city from the job location.\n",
    "- We can fill in the company location from the job location.\n",
    "- The company field can be refined and filled in with an approximation of the job field.\n",
    "- The company size can be filled in with the mode or any other method.\n",
    "- The career level needs to be more explanatory (with more categories).\n",
    "- The experience needed needs to be more refined with fewer categories (and be a minimum and maximum range).\n",
    "- The education level need more investigation.\n",
    "- The gender column need more investigation.\n",
    "- The salary column needs to be refined and made into a minimum and maximum range (if applicable).\n",
    "- Most of the salary column is not numeric, but I can get information such as insurance and commission jobs."
   ]
  },
  {
   "cell_type": "markdown",
   "id": "52867ced",
   "metadata": {},
   "source": [
    "## Data Cleaning"
   ]
  },
  {
   "cell_type": "code",
   "execution_count": 71,
   "id": "4751ff1f",
   "metadata": {},
   "outputs": [
    {
     "name": "stdout",
     "output_type": "stream",
     "text": [
      "<class 'pandas.core.frame.DataFrame'>\n",
      "Int64Index: 25161 entries, 0 to 633\n",
      "Data columns (total 17 columns):\n",
      " #   Column             Non-Null Count  Dtype \n",
      "---  ------             --------------  ----- \n",
      " 0   job_title          25161 non-null  object\n",
      " 1   job_type           25161 non-null  object\n",
      " 2   job_categories     25161 non-null  object\n",
      " 3   job_description    25161 non-null  object\n",
      " 4   job_requirements   24968 non-null  object\n",
      " 5   job_location       25161 non-null  object\n",
      " 6   company_name       25161 non-null  object\n",
      " 7   company_location   21434 non-null  object\n",
      " 8   company_field      20968 non-null  object\n",
      " 9   company_size       21434 non-null  object\n",
      " 10  experience_needed  25161 non-null  object\n",
      " 11  career_level       25161 non-null  object\n",
      " 12  education_level    25161 non-null  object\n",
      " 13  gender             25161 non-null  object\n",
      " 14  salary             25161 non-null  object\n",
      " 15  skills_and_tools   25161 non-null  object\n",
      " 16  link               25161 non-null  object\n",
      "dtypes: object(17)\n",
      "memory usage: 3.5+ MB\n"
     ]
    }
   ],
   "source": [
    "df.info()"
   ]
  },
  {
   "cell_type": "markdown",
   "id": "60a0d770",
   "metadata": {},
   "source": [
    "### Remove duplicate data\n",
    "To remove the duplicate data we need to find what is making the data read as unique in the duplicated function and after investigation, I have found that the same job could have more than one job URL because the companies post the same job over and over. So we need to drop link to remove duplicates"
   ]
  },
  {
   "cell_type": "code",
   "execution_count": 72,
   "id": "aaef21a2",
   "metadata": {},
   "outputs": [],
   "source": [
    "df.drop('link', inplace=True, axis=1)"
   ]
  },
  {
   "cell_type": "code",
   "execution_count": 73,
   "id": "05ef1d40",
   "metadata": {},
   "outputs": [
    {
     "data": {
      "text/plain": [
       "17932"
      ]
     },
     "execution_count": 73,
     "metadata": {},
     "output_type": "execute_result"
    }
   ],
   "source": [
    "df.duplicated().sum() # number of duplicated after removeing link column"
   ]
  },
  {
   "cell_type": "code",
   "execution_count": 74,
   "id": "4cc5a22e",
   "metadata": {},
   "outputs": [],
   "source": [
    "df.drop_duplicates(inplace=True) # remove duplicates"
   ]
  },
  {
   "cell_type": "markdown",
   "id": "0e537048",
   "metadata": {},
   "source": [
    "### Cleaninig Job type column\n",
    "In this column I will consider the main type of the job:\n",
    "\n",
    "[1] Full Time\n",
    "\n",
    "[2] Part Time\n",
    "\n",
    "[3] Freelance\n",
    "\n",
    "[4] Internship"
   ]
  },
  {
   "cell_type": "code",
   "execution_count": 75,
   "id": "0ab68928",
   "metadata": {},
   "outputs": [
    {
     "data": {
      "text/plain": [
       "Full Time                                       6624\n",
       "Full Time;Work From Home                         202\n",
       "Internship                                        86\n",
       "Full Time;Shift Based                             64\n",
       "Full Time;Part Time                               57\n",
       "Part Time                                         49\n",
       "Full Time;Freelance / Project                     20\n",
       "Freelance / Project                               16\n",
       "Full Time;Part Time;Freelance / Project           15\n",
       "Full Time;Part Time;Work From Home                14\n",
       "Full Time;Shift Based;Work From Home              14\n",
       "Part Time;Freelance / Project;Work From Home      11\n",
       "Work From Home                                    10\n",
       "Part Time;Freelance / Project                      8\n",
       "Part Time;Work From Home                           8\n",
       "Full Time;Freelance / Project;Work From Home       8\n",
       "Shift Based                                        6\n",
       "Freelance / Project;Work From Home                 6\n",
       "Full Time;Part Time;Shift Based                    4\n",
       "Part Time;Freelance / Project;Shift Based          4\n",
       "Full Time;Freelance / Project;Shift Based          1\n",
       "Full Time;Volunteering                             1\n",
       "Shift Based;Work From Home                         1\n",
       "Name: job_type, dtype: int64"
      ]
     },
     "execution_count": 75,
     "metadata": {},
     "output_type": "execute_result"
    }
   ],
   "source": [
    "df['job_type'].value_counts()"
   ]
  },
  {
   "cell_type": "code",
   "execution_count": 76,
   "id": "30976307",
   "metadata": {},
   "outputs": [],
   "source": [
    "to_be_replaced = {\n",
    "    'Full Time;Work From Home': 'Full Time',\n",
    "    'Full Time;Shift Based;Work From Home':'Full Time',\n",
    "    'Full Time;Shift Based': 'Full Time',\n",
    "    'Full Time;Part Time': 'Full Time',\n",
    "    'Full Time;Freelance / Project': 'Full Time',\n",
    "    'Full Time;Part Time;Freelance / Project': 'Full Time',\n",
    "    'Full Time;Part Time;Work From Home': 'Full Time',\n",
    "    'Part Time;Freelance / Project;Work From Home': 'Part Time',\n",
    "    'Work From Home': 'Part Time',\n",
    "    'Part Time;Freelance / Project': 'Part Time',\n",
    "    'Part Time;Work From Home': 'Part Time',\n",
    "    'Full Time;Freelance / Project;Work From Home': 'Full Time',\n",
    "    'Shift Based': 'Full Time',\n",
    "    'Freelance / Project;Work From Home': 'Freelance / Project',\n",
    "    'Full Time;Part Time;Shift Based': 'Full Time',\n",
    "    'Part Time;Freelance / Project;Shift Based': 'Part Time',\n",
    "    'Full Time;Freelance / Project;Shift Based': 'Full Time',\n",
    "    'Full Time;Volunteering': 'Full Time',\n",
    "    'Shift Based;Work From Home': 'Full Time'\n",
    "}\n",
    "\n",
    "df['job_type'].replace(to_be_replaced, inplace=True)"
   ]
  },
  {
   "cell_type": "code",
   "execution_count": 77,
   "id": "74f1084d",
   "metadata": {},
   "outputs": [
    {
     "data": {
      "text/plain": [
       "Full Time              7031\n",
       "Part Time                90\n",
       "Internship               86\n",
       "Freelance / Project      22\n",
       "Name: job_type, dtype: int64"
      ]
     },
     "execution_count": 77,
     "metadata": {},
     "output_type": "execute_result"
    }
   ],
   "source": [
    "df['job_type'].value_counts()"
   ]
  },
  {
   "cell_type": "markdown",
   "id": "ceeabfa1",
   "metadata": {},
   "source": [
    "### Cleaninig Job Category Cloumn\n",
    "In this column I have scrapped all the job categories but there were always a main job category per job that I will extract now from the data"
   ]
  },
  {
   "cell_type": "code",
   "execution_count": 78,
   "id": "ab6be981",
   "metadata": {},
   "outputs": [],
   "source": [
    "def get_the_main_job_category(job_categories):\n",
    "    return job_categories.split(';')[0]\n",
    "\n",
    "df['job_categories'] = df['job_categories'].apply(get_the_main_job_category)"
   ]
  },
  {
   "cell_type": "code",
   "execution_count": 79,
   "id": "e5a5cd0a",
   "metadata": {},
   "outputs": [
    {
     "data": {
      "text/plain": [
       "job_title               0\n",
       "job_type                0\n",
       "job_categories          0\n",
       "job_description         0\n",
       "job_requirements       91\n",
       "job_location            0\n",
       "company_name            0\n",
       "company_location     1074\n",
       "company_field        1220\n",
       "company_size         1074\n",
       "experience_needed       0\n",
       "career_level            0\n",
       "education_level         0\n",
       "gender                  0\n",
       "salary                  0\n",
       "skills_and_tools        0\n",
       "dtype: int64"
      ]
     },
     "execution_count": 79,
     "metadata": {},
     "output_type": "execute_result"
    }
   ],
   "source": [
    "df.isnull().sum()"
   ]
  },
  {
   "cell_type": "markdown",
   "id": "5fd81b1e",
   "metadata": {},
   "source": [
    "### Clean company Location\n",
    "we can fill empty company location from job location"
   ]
  },
  {
   "cell_type": "code",
   "execution_count": 80,
   "id": "491bb9d8",
   "metadata": {},
   "outputs": [],
   "source": [
    "def get_company_location(row):\n",
    "    if row['company_location'] is np.nan:\n",
    "        return row['job_location']\n",
    "    return row['company_location']\n",
    "\n",
    "df['company_location'] = df.apply(get_company_location, axis=1)"
   ]
  },
  {
   "cell_type": "markdown",
   "id": "d61100a5",
   "metadata": {},
   "source": [
    "### Clean company field\n",
    "we can infer company field from job category"
   ]
  },
  {
   "cell_type": "code",
   "execution_count": 81,
   "id": "3a34531a",
   "metadata": {},
   "outputs": [],
   "source": [
    "def get_company_field(row):\n",
    "    if row['company_field'] is np.nan:\n",
    "        try:\n",
    "            return df[(df['job_categories'].str.contains(row['job_categories'])) & (df['company_field'].isnull() == False)]['company_field'].mode()[0]\n",
    "        except Exception:\n",
    "            return np.nan\n",
    "    return row['company_field']\n",
    "\n",
    "df['company_field'] = df.apply(get_company_field, axis=1)"
   ]
  },
  {
   "cell_type": "markdown",
   "id": "e12b75f4",
   "metadata": {},
   "source": [
    "Fill the rest with the mode"
   ]
  },
  {
   "cell_type": "code",
   "execution_count": 82,
   "id": "404ca144",
   "metadata": {},
   "outputs": [],
   "source": [
    "df['company_field'].fillna(df['company_field'].mode()[0], inplace=True)"
   ]
  },
  {
   "cell_type": "markdown",
   "id": "24c406f0",
   "metadata": {},
   "source": [
    "### Clean Company Size"
   ]
  },
  {
   "cell_type": "code",
   "execution_count": 83,
   "id": "e288a44a",
   "metadata": {},
   "outputs": [],
   "source": [
    "df['company_size'].fillna(df['company_size'].mode()[0], inplace=True)"
   ]
  },
  {
   "cell_type": "markdown",
   "id": "bed283ed",
   "metadata": {},
   "source": [
    "### Clean experience needed\n",
    "I will put the experience in number of categories\n",
    "\n",
    "    [1] Min: 0 Max: 1\n",
    "\n",
    "    [2] Min: 1 Max: 2\n",
    "    \n",
    "    [3] Min: 3 Max: 5\n",
    "    \n",
    "    [4] Min: 5 Max: 7\n",
    "    \n",
    "    [5] Min: 7 Max: 10\n",
    "    \n",
    "    [6] Min: 10 Max: 15\n",
    "    \n",
    "    [7] Min: 15 Max: 20\n",
    "    \n",
    "    [8] Min: 20 Max: 25\n",
    "    \n",
    "    [9] Min: 25"
   ]
  },
  {
   "cell_type": "code",
   "execution_count": 84,
   "id": "0b5b3d47",
   "metadata": {},
   "outputs": [
    {
     "data": {
      "text/plain": [
       "3 to 5 years          738\n",
       "1 to 3 years          679\n",
       "2 to 4 years          416\n",
       "1 to 2 years          338\n",
       "2 to 5 years          317\n",
       "                     ... \n",
       "4 to 15 years           1\n",
       "12 to 18 years          1\n",
       "More than 11 years      1\n",
       "5 to 18 years           1\n",
       "0 to 8 years            1\n",
       "Name: experience_needed, Length: 136, dtype: int64"
      ]
     },
     "execution_count": 84,
     "metadata": {},
     "output_type": "execute_result"
    }
   ],
   "source": [
    "df['experience_needed'].value_counts()"
   ]
  },
  {
   "cell_type": "code",
   "execution_count": 85,
   "id": "2289ccf9",
   "metadata": {},
   "outputs": [],
   "source": [
    "def get_experience_needed(experience):\n",
    "    numbers = re.findall(r'\\d+', experience)\n",
    "    try:\n",
    "        if int(numbers[0]) == 0:\n",
    "            return 'Min: 0 Max: 1'\n",
    "        elif int(numbers[0]) <= 2:\n",
    "            return 'Min: 1 Max: 2'\n",
    "        elif int(numbers[0]) <= 5:\n",
    "            return 'Min: 3 Max: 5'\n",
    "        elif int(numbers[0]) <= 10:\n",
    "            return 'Min: 7 Max: 10'\n",
    "        elif int(numbers[0]) <= 15:\n",
    "            return 'Min: 10 Max: 15'\n",
    "        elif int(numbers[0]) <= 20:\n",
    "            return 'Min: 15 Max: 20'\n",
    "        elif int(numbers[0]) <= 25:\n",
    "            return 'Min: 20 Max: 25'\n",
    "        else:\n",
    "            return 'Min: 25'\n",
    "    except IndexError:\n",
    "        return np.nan\n",
    "    \n",
    "df['experience_needed'] = df['experience_needed'].apply(get_experience_needed)"
   ]
  },
  {
   "cell_type": "code",
   "execution_count": 86,
   "id": "cd5bd7ce",
   "metadata": {},
   "outputs": [
    {
     "data": {
      "text/plain": [
       "job_title              0\n",
       "job_type               0\n",
       "job_categories         0\n",
       "job_description        0\n",
       "job_requirements      91\n",
       "job_location           0\n",
       "company_name           0\n",
       "company_location       0\n",
       "company_field          0\n",
       "company_size           0\n",
       "experience_needed    121\n",
       "career_level           0\n",
       "education_level        0\n",
       "gender                 0\n",
       "salary                 0\n",
       "skills_and_tools       0\n",
       "dtype: int64"
      ]
     },
     "execution_count": 86,
     "metadata": {},
     "output_type": "execute_result"
    }
   ],
   "source": [
    "df.isnull().sum()"
   ]
  },
  {
   "cell_type": "markdown",
   "id": "b5af82c6",
   "metadata": {},
   "source": [
    "Any job with Internship Job type must be in 'Min: 0 Max: 1' level"
   ]
  },
  {
   "cell_type": "code",
   "execution_count": 87,
   "id": "5d694003",
   "metadata": {},
   "outputs": [],
   "source": [
    "def internship_experience_needed(row):\n",
    "    if row['experience_needed'] is np.nan and row['job_type'] == 'Internship':\n",
    "        return 'Min: 0 Max: 1'\n",
    "    return row['experience_needed']\n",
    "\n",
    "df['experience_needed'] = df.apply(internship_experience_needed, axis=1)"
   ]
  },
  {
   "cell_type": "markdown",
   "id": "94636014",
   "metadata": {},
   "source": [
    "Fill the experience needed based on the career level"
   ]
  },
  {
   "cell_type": "code",
   "execution_count": 88,
   "id": "d2743cf9",
   "metadata": {},
   "outputs": [],
   "source": [
    "def entry_level_experience_needed(row):\n",
    "    if row['experience_needed'] is np.nan and row['career_level'] == 'Entry Level (Junior Level / Fresh Grad)':\n",
    "        return df[df['career_level'].str.contains('Entry Level')]['experience_needed'].mode()[0]\n",
    "    elif row['experience_needed'] is np.nan and row['career_level'] == 'Experienced (Non-Manager)':\n",
    "        return df[df['career_level'].str.contains('Experienced')]['experience_needed'].mode()[0]\n",
    "    elif row['experience_needed'] is np.nan and row['career_level'] == 'Manager':\n",
    "        print(row['career_level'])\n",
    "        return df[df['career_level'].str.contains('Manager')]['experience_needed'].mode()[0]\n",
    "    return row['experience_needed']\n",
    "\n",
    "df['experience_needed'] = df.apply(entry_level_experience_needed, axis=1)"
   ]
  },
  {
   "cell_type": "markdown",
   "id": "b2394486",
   "metadata": {},
   "source": [
    "Fill the rest with the mode"
   ]
  },
  {
   "cell_type": "code",
   "execution_count": 89,
   "id": "a66b19c6",
   "metadata": {
    "scrolled": true
   },
   "outputs": [],
   "source": [
    "df['experience_needed'].fillna(df['experience_needed'].mode()[0], inplace=True)"
   ]
  },
  {
   "cell_type": "markdown",
   "id": "67dcb6de",
   "metadata": {},
   "source": [
    "### clean job requirments\n",
    "Fill the empty job requirment with the job description"
   ]
  },
  {
   "cell_type": "code",
   "execution_count": 90,
   "id": "517a42b3",
   "metadata": {},
   "outputs": [],
   "source": [
    "df['job_requirements'] = df.apply(lambda row: row['job_description'] if row['job_requirements'] is np.nan else row['job_requirements'], axis=1)"
   ]
  },
  {
   "cell_type": "markdown",
   "id": "75049ebf",
   "metadata": {},
   "source": [
    "### Clean Salary column\n",
    "most of salary data is not useful so I will drop the column"
   ]
  },
  {
   "cell_type": "code",
   "execution_count": 91,
   "id": "0ca26858",
   "metadata": {},
   "outputs": [],
   "source": [
    "df.drop('salary', axis=1, inplace=True)"
   ]
  },
  {
   "cell_type": "markdown",
   "id": "6dcb8a36",
   "metadata": {},
   "source": [
    "### Clean skills and tools column\n",
    "most of skills_and_tools data is not useful so I will drop the column"
   ]
  },
  {
   "cell_type": "code",
   "execution_count": 92,
   "id": "2c41eef9",
   "metadata": {},
   "outputs": [],
   "source": [
    "df.drop('skills_and_tools', axis=1, inplace=True)"
   ]
  },
  {
   "cell_type": "markdown",
   "id": "f81bdbb9",
   "metadata": {},
   "source": [
    "### Clean gender column"
   ]
  },
  {
   "cell_type": "code",
   "execution_count": 93,
   "id": "9136d75d",
   "metadata": {},
   "outputs": [],
   "source": [
    "data_to_be_replaced = {\n",
    "    'Males preferred': 'Male',\n",
    "    'Females preferred': 'Female'\n",
    "}\n",
    "\n",
    "df['gender'].replace(data_to_be_replaced, inplace=True)"
   ]
  },
  {
   "cell_type": "markdown",
   "id": "48cca267",
   "metadata": {},
   "source": [
    "Make sure that both genders are accepted in the job"
   ]
  },
  {
   "cell_type": "code",
   "execution_count": 94,
   "id": "ab834db3",
   "metadata": {},
   "outputs": [],
   "source": [
    "def extract_gender(row):\n",
    "    if row['gender'] == 'both': \n",
    "        # In the next step and based on some observation I will try to remove non experiance numbers as I can from the text\n",
    "        text = row['job_description'].lower()\n",
    "\n",
    "        # Split the text into sentences\n",
    "        sentences = nltk.sent_tokenize(text)\n",
    "\n",
    "        for sentence in sentences:\n",
    "            if re.search(r'male', sentence) and re.search(r'female', sentence):\n",
    "                return 'Both'\n",
    "            elif re.search(r'male', sentence):\n",
    "                return 'Male'\n",
    "            elif re.search(r'female', sentence):\n",
    "                return 'Female'\n",
    "        return 'Both'\n",
    "    return row['gender']\n",
    "\n",
    "df['gender'] = df.apply(extract_gender, axis=1)"
   ]
  },
  {
   "cell_type": "code",
   "execution_count": 95,
   "id": "b14ddd50",
   "metadata": {},
   "outputs": [
    {
     "data": {
      "text/plain": [
       "Bachelor's Degree              6570\n",
       "Not Specified                   606\n",
       "Master's Degree                  25\n",
       "High School (or equivalent)      15\n",
       "MBA                              11\n",
       "Diploma                           2\n",
       "Name: education_level, dtype: int64"
      ]
     },
     "execution_count": 95,
     "metadata": {},
     "output_type": "execute_result"
    }
   ],
   "source": [
    "df['education_level'].value_counts()"
   ]
  },
  {
   "cell_type": "markdown",
   "id": "cb8c10de",
   "metadata": {},
   "source": [
    "### Clean education level column\n",
    "make sure that I get most of the data right by extracting info from description and requirements columns"
   ]
  },
  {
   "cell_type": "code",
   "execution_count": 96,
   "id": "7fcf3b38",
   "metadata": {},
   "outputs": [],
   "source": [
    "def extract_education_level(row):\n",
    "    if row['education_level'] == 'Not Specified':\n",
    "        text_description = row['job_description'].lower()\n",
    "        text_requirements = row['job_requirements'].lower()\n",
    "        \n",
    "        \n",
    "        # Split the text into sentences\n",
    "        sentences_description = nltk.sent_tokenize(text_description)\n",
    "        sentences_requirements = nltk.sent_tokenize(text_requirements)\n",
    "        \n",
    "        for sentence in sentences_description:\n",
    "            if re.search(r'(bachelor|بكالوريوس|بكالريوس|bs degree|graduate|b.sc|bsc|مؤهلات عليا|university|مؤهل عالي)', sentence):\n",
    "                return \"Bachelor's Degree\"\n",
    "            elif re.search(r'(high school|diploma)', sentence):\n",
    "                return 'High School (or equivalent)'\n",
    "            elif re.search(r'master|mba', sentence):\n",
    "                return \"Master's Degree\"\n",
    "            \n",
    "        for sentence in sentences_requirements:\n",
    "            if re.search(r'(bachelor|بكالوريوس|بكالريوس|bs degree|graduate|b.sc|bsc|مؤهلات عليا|university|مؤهل عالي)', sentence):\n",
    "                return \"Bachelor's Degree\"\n",
    "            elif re.search(r'(high school|diploma)', sentence):\n",
    "                return 'High School (or equivalent)'\n",
    "            elif re.search(r'master|mba', sentence):\n",
    "                return \"Master's Degree\"\n",
    "        return np.nan\n",
    "    elif row['education_level'] == 'MBA':\n",
    "        return \"Master's Degree\"\n",
    "    \n",
    "    elif row['education_level'] == 'Diploma':\n",
    "        return \"High School (or equivalent)\"\n",
    "    \n",
    "    return row['education_level']\n",
    "    \n",
    "    \n",
    "df['education_level'] = df.apply(extract_education_level, axis=1)"
   ]
  },
  {
   "cell_type": "markdown",
   "id": "ddf78c35",
   "metadata": {},
   "source": [
    "Fill the rest with the mode"
   ]
  },
  {
   "cell_type": "code",
   "execution_count": 97,
   "id": "c6bb08cd",
   "metadata": {},
   "outputs": [],
   "source": [
    "df['education_level'].fillna(df['education_level'].mode()[0], inplace=True)"
   ]
  },
  {
   "cell_type": "code",
   "execution_count": 98,
   "id": "b6122637",
   "metadata": {},
   "outputs": [
    {
     "data": {
      "text/plain": [
       "Bachelor's Degree              7150\n",
       "Master's Degree                  56\n",
       "High School (or equivalent)      23\n",
       "Name: education_level, dtype: int64"
      ]
     },
     "execution_count": 98,
     "metadata": {},
     "output_type": "execute_result"
    }
   ],
   "source": [
    "df['education_level'].value_counts()"
   ]
  },
  {
   "cell_type": "markdown",
   "id": "2488c491",
   "metadata": {},
   "source": [
    "## Save after cleaning"
   ]
  },
  {
   "cell_type": "code",
   "execution_count": 99,
   "id": "404b0fe9",
   "metadata": {},
   "outputs": [],
   "source": [
    "df.to_csv('cleaned_wuzzuf_data.csv', encoding='utf-16')"
   ]
  },
  {
   "cell_type": "code",
   "execution_count": null,
   "id": "0f9279b4",
   "metadata": {},
   "outputs": [],
   "source": []
  }
 ],
 "metadata": {
  "kernelspec": {
   "display_name": "Python 3 (ipykernel)",
   "language": "python",
   "name": "python3"
  },
  "language_info": {
   "codemirror_mode": {
    "name": "ipython",
    "version": 3
   },
   "file_extension": ".py",
   "mimetype": "text/x-python",
   "name": "python",
   "nbconvert_exporter": "python",
   "pygments_lexer": "ipython3",
   "version": "3.9.13"
  }
 },
 "nbformat": 4,
 "nbformat_minor": 5
}
