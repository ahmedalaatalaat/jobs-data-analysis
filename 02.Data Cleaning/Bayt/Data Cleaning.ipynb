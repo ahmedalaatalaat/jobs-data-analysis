{
 "cells": [
  {
   "cell_type": "code",
   "execution_count": 1,
   "id": "b36a539f",
   "metadata": {},
   "outputs": [],
   "source": [
    "import pandas as pd\n",
    "import numpy as np\n",
    "import plotly.express as px"
   ]
  },
  {
   "cell_type": "code",
   "execution_count": 2,
   "id": "4d5c82ae",
   "metadata": {},
   "outputs": [],
   "source": [
    "df = pd.read_csv('bayt_job_data_20-12-2022.csv', encoding='utf-16', delimiter='~')"
   ]
  },
  {
   "cell_type": "markdown",
   "id": "1ffae864",
   "metadata": {},
   "source": [
    "## Explore The Data"
   ]
  },
  {
   "cell_type": "code",
   "execution_count": 3,
   "id": "6352b123",
   "metadata": {},
   "outputs": [
    {
     "data": {
      "text/html": [
       "<div>\n",
       "<style scoped>\n",
       "    .dataframe tbody tr th:only-of-type {\n",
       "        vertical-align: middle;\n",
       "    }\n",
       "\n",
       "    .dataframe tbody tr th {\n",
       "        vertical-align: top;\n",
       "    }\n",
       "\n",
       "    .dataframe thead th {\n",
       "        text-align: right;\n",
       "    }\n",
       "</style>\n",
       "<table border=\"1\" class=\"dataframe\">\n",
       "  <thead>\n",
       "    <tr style=\"text-align: right;\">\n",
       "      <th></th>\n",
       "      <th>job_title</th>\n",
       "      <th>job_type</th>\n",
       "      <th>job_categories</th>\n",
       "      <th>job_description</th>\n",
       "      <th>job_location</th>\n",
       "      <th>company_name</th>\n",
       "      <th>company_location</th>\n",
       "      <th>company_field</th>\n",
       "      <th>company_size</th>\n",
       "      <th>experience_needed</th>\n",
       "      <th>career_level</th>\n",
       "      <th>education_level</th>\n",
       "      <th>gender</th>\n",
       "      <th>salary</th>\n",
       "      <th>skills_and_tools</th>\n",
       "      <th>link</th>\n",
       "    </tr>\n",
       "  </thead>\n",
       "  <tbody>\n",
       "    <tr>\n",
       "      <th>0</th>\n",
       "      <td>مندوب مبيعات</td>\n",
       "      <td>Full Time Employee</td>\n",
       "      <td>Sales</td>\n",
       "      <td>\\n Job Description \\n \\n شركة كبيرة الصناعة مس...</td>\n",
       "      <td>10th of Ramadan, Cairo , Egypt</td>\n",
       "      <td>silk route</td>\n",
       "      <td>Egypt - Cairo</td>\n",
       "      <td>Perfume &amp; Cosmetics</td>\n",
       "      <td>50-99 Employees</td>\n",
       "      <td>NaN</td>\n",
       "      <td>NaN</td>\n",
       "      <td>NaN</td>\n",
       "      <td>both</td>\n",
       "      <td>Unspecified</td>\n",
       "      <td>\\n;Skills;\\n;خبرة في مجال مستحضرات التجميل;الث...</td>\n",
       "      <td>https://www.bayt.com/en/egypt/jobs/%D9%85%D9%8...</td>\n",
       "    </tr>\n",
       "    <tr>\n",
       "      <th>1</th>\n",
       "      <td>IT Project Manager</td>\n",
       "      <td>Full Time Employee</td>\n",
       "      <td>Information Technology</td>\n",
       "      <td>\\n Job Description \\n \\n Job brief We are look...</td>\n",
       "      <td>Alexandria, Egypt</td>\n",
       "      <td>iLAW</td>\n",
       "      <td>United Arab Emirates - Dubai</td>\n",
       "      <td>Law Firm; Marketing</td>\n",
       "      <td>10-49 Employees</td>\n",
       "      <td>Min: 5 Max: 10</td>\n",
       "      <td>Senior Executive</td>\n",
       "      <td>NaN</td>\n",
       "      <td>both</td>\n",
       "      <td>Unspecified</td>\n",
       "      <td>\\n;Skills;\\n;+5 Years Proven experience in pro...</td>\n",
       "      <td>https://www.bayt.com/en/egypt/jobs/it-project-...</td>\n",
       "    </tr>\n",
       "    <tr>\n",
       "      <th>2</th>\n",
       "      <td>مسؤول تامينات وتراخيص</td>\n",
       "      <td>Full Time Employee</td>\n",
       "      <td>Finance and Investment</td>\n",
       "      <td>\\n Job Description \\n \\n  1) تمثيل الشركة لدى ...</td>\n",
       "      <td>Egypt</td>\n",
       "      <td>TH For Transport &amp; General Supplies</td>\n",
       "      <td>Egypt</td>\n",
       "      <td>Insurance &amp; TPA</td>\n",
       "      <td>100-499 Employees</td>\n",
       "      <td>Min: 3</td>\n",
       "      <td>Mid Career</td>\n",
       "      <td>NaN</td>\n",
       "      <td>both</td>\n",
       "      <td>Unspecified</td>\n",
       "      <td>\\n;Skills;\\n;- مؤهل عالى مناسب; - خبرة لا تقل ...</td>\n",
       "      <td>https://www.bayt.com/en/egypt/jobs/%D9%85%D8%B...</td>\n",
       "    </tr>\n",
       "    <tr>\n",
       "      <th>3</th>\n",
       "      <td>محاسب مالي</td>\n",
       "      <td>Full Time Employee</td>\n",
       "      <td>Accounting and Auditing</td>\n",
       "      <td>\\n Job Description \\n \\n مطلوب محاسب خبرة 3 سن...</td>\n",
       "      <td>Nasr City, Cairo , Egypt</td>\n",
       "      <td>ابتكارات التطوير</td>\n",
       "      <td>Egypt - Cairo</td>\n",
       "      <td>Accounting</td>\n",
       "      <td>50-99 Employees</td>\n",
       "      <td>NaN</td>\n",
       "      <td>NaN</td>\n",
       "      <td>NaN</td>\n",
       "      <td>both</td>\n",
       "      <td>Unspecified</td>\n",
       "      <td>\\n;Skills;\\n;يجيد على على البرامج المحاسبية و ...</td>\n",
       "      <td>https://www.bayt.com/en/egypt/jobs/%D9%85%D8%A...</td>\n",
       "    </tr>\n",
       "    <tr>\n",
       "      <th>4</th>\n",
       "      <td>Planning Engineer</td>\n",
       "      <td>Full Time Employee</td>\n",
       "      <td>Engineering</td>\n",
       "      <td>\\n Job Description \\n \\n Key Accountability Ar...</td>\n",
       "      <td>Cairo, Egypt</td>\n",
       "      <td>Confidential Company</td>\n",
       "      <td>NaN</td>\n",
       "      <td>Construction &amp; Building</td>\n",
       "      <td>NaN</td>\n",
       "      <td>Min: 3 Max: 19</td>\n",
       "      <td>NaN</td>\n",
       "      <td>Bachelor's degree / higher diploma</td>\n",
       "      <td>both</td>\n",
       "      <td>Unspecified</td>\n",
       "      <td>\\n;Skills;\\n;Knowledge and Experience; ·      ...</td>\n",
       "      <td>https://www.bayt.com/en/egypt/jobs/planning-en...</td>\n",
       "    </tr>\n",
       "  </tbody>\n",
       "</table>\n",
       "</div>"
      ],
      "text/plain": [
       "               job_title            job_type           job_categories  \\\n",
       "0           مندوب مبيعات  Full Time Employee                    Sales   \n",
       "1     IT Project Manager  Full Time Employee   Information Technology   \n",
       "2  مسؤول تامينات وتراخيص  Full Time Employee   Finance and Investment   \n",
       "3             محاسب مالي  Full Time Employee  Accounting and Auditing   \n",
       "4      Planning Engineer  Full Time Employee              Engineering   \n",
       "\n",
       "                                     job_description  \\\n",
       "0  \\n Job Description \\n \\n شركة كبيرة الصناعة مس...   \n",
       "1  \\n Job Description \\n \\n Job brief We are look...   \n",
       "2  \\n Job Description \\n \\n  1) تمثيل الشركة لدى ...   \n",
       "3  \\n Job Description \\n \\n مطلوب محاسب خبرة 3 سن...   \n",
       "4  \\n Job Description \\n \\n Key Accountability Ar...   \n",
       "\n",
       "                     job_location                         company_name  \\\n",
       "0  10th of Ramadan, Cairo , Egypt                           silk route   \n",
       "1               Alexandria, Egypt                                 iLAW   \n",
       "2                           Egypt  TH For Transport & General Supplies   \n",
       "3        Nasr City, Cairo , Egypt                     ابتكارات التطوير   \n",
       "4                    Cairo, Egypt                 Confidential Company   \n",
       "\n",
       "               company_location            company_field       company_size  \\\n",
       "0                 Egypt - Cairo      Perfume & Cosmetics    50-99 Employees   \n",
       "1  United Arab Emirates - Dubai      Law Firm; Marketing    10-49 Employees   \n",
       "2                         Egypt          Insurance & TPA  100-499 Employees   \n",
       "3                 Egypt - Cairo               Accounting    50-99 Employees   \n",
       "4                           NaN  Construction & Building                NaN   \n",
       "\n",
       "  experience_needed      career_level                     education_level  \\\n",
       "0               NaN               NaN                                 NaN   \n",
       "1    Min: 5 Max: 10  Senior Executive                                 NaN   \n",
       "2            Min: 3        Mid Career                                 NaN   \n",
       "3               NaN               NaN                                 NaN   \n",
       "4    Min: 3 Max: 19               NaN  Bachelor's degree / higher diploma   \n",
       "\n",
       "  gender       salary                                   skills_and_tools  \\\n",
       "0   both  Unspecified  \\n;Skills;\\n;خبرة في مجال مستحضرات التجميل;الث...   \n",
       "1   both  Unspecified  \\n;Skills;\\n;+5 Years Proven experience in pro...   \n",
       "2   both  Unspecified  \\n;Skills;\\n;- مؤهل عالى مناسب; - خبرة لا تقل ...   \n",
       "3   both  Unspecified  \\n;Skills;\\n;يجيد على على البرامج المحاسبية و ...   \n",
       "4   both  Unspecified  \\n;Skills;\\n;Knowledge and Experience; ·      ...   \n",
       "\n",
       "                                                link  \n",
       "0  https://www.bayt.com/en/egypt/jobs/%D9%85%D9%8...  \n",
       "1  https://www.bayt.com/en/egypt/jobs/it-project-...  \n",
       "2  https://www.bayt.com/en/egypt/jobs/%D9%85%D8%B...  \n",
       "3  https://www.bayt.com/en/egypt/jobs/%D9%85%D8%A...  \n",
       "4  https://www.bayt.com/en/egypt/jobs/planning-en...  "
      ]
     },
     "execution_count": 3,
     "metadata": {},
     "output_type": "execute_result"
    }
   ],
   "source": [
    "df.head()"
   ]
  },
  {
   "cell_type": "code",
   "execution_count": 4,
   "id": "8d536b70",
   "metadata": {},
   "outputs": [
    {
     "data": {
      "text/html": [
       "<div>\n",
       "<style scoped>\n",
       "    .dataframe tbody tr th:only-of-type {\n",
       "        vertical-align: middle;\n",
       "    }\n",
       "\n",
       "    .dataframe tbody tr th {\n",
       "        vertical-align: top;\n",
       "    }\n",
       "\n",
       "    .dataframe thead th {\n",
       "        text-align: right;\n",
       "    }\n",
       "</style>\n",
       "<table border=\"1\" class=\"dataframe\">\n",
       "  <thead>\n",
       "    <tr style=\"text-align: right;\">\n",
       "      <th></th>\n",
       "      <th>job_title</th>\n",
       "      <th>job_type</th>\n",
       "      <th>job_categories</th>\n",
       "      <th>job_description</th>\n",
       "      <th>job_location</th>\n",
       "      <th>company_name</th>\n",
       "      <th>company_location</th>\n",
       "      <th>company_field</th>\n",
       "      <th>company_size</th>\n",
       "      <th>experience_needed</th>\n",
       "      <th>career_level</th>\n",
       "      <th>education_level</th>\n",
       "      <th>gender</th>\n",
       "      <th>salary</th>\n",
       "      <th>skills_and_tools</th>\n",
       "      <th>link</th>\n",
       "    </tr>\n",
       "  </thead>\n",
       "  <tbody>\n",
       "    <tr>\n",
       "      <th>5768</th>\n",
       "      <td>Routing and Quality Analyst</td>\n",
       "      <td>Unspecified</td>\n",
       "      <td>Quality Control</td>\n",
       "      <td>\\n Job Description \\n \\n The Operations team i...</td>\n",
       "      <td>Egypt</td>\n",
       "      <td>Cequens</td>\n",
       "      <td>Egypt - Cairo</td>\n",
       "      <td>Other Business Support Services</td>\n",
       "      <td>NaN</td>\n",
       "      <td>NaN</td>\n",
       "      <td>NaN</td>\n",
       "      <td>NaN</td>\n",
       "      <td>both</td>\n",
       "      <td>Unspecified</td>\n",
       "      <td>NaN</td>\n",
       "      <td>https://www.bayt.com/en/egypt/jobs/routing-and...</td>\n",
       "    </tr>\n",
       "    <tr>\n",
       "      <th>5769</th>\n",
       "      <td>Solutions Architect</td>\n",
       "      <td>Unspecified</td>\n",
       "      <td>Information Technology</td>\n",
       "      <td>\\n Job Description \\n \\n Lead the requirements...</td>\n",
       "      <td>Cairo, Egypt</td>\n",
       "      <td>Giza Systems</td>\n",
       "      <td>Egypt - Cairo</td>\n",
       "      <td>IT Services</td>\n",
       "      <td>500 Employees or more</td>\n",
       "      <td>NaN</td>\n",
       "      <td>NaN</td>\n",
       "      <td>Bachelor's degree / higher diploma</td>\n",
       "      <td>both</td>\n",
       "      <td>Unspecified</td>\n",
       "      <td>NaN</td>\n",
       "      <td>https://www.bayt.com/en/egypt/jobs/solutions-a...</td>\n",
       "    </tr>\n",
       "    <tr>\n",
       "      <th>5770</th>\n",
       "      <td>Presales Engineer - SCADA</td>\n",
       "      <td>Unspecified</td>\n",
       "      <td>Engineering</td>\n",
       "      <td>\\n Job Description \\n \\n Responsible for handl...</td>\n",
       "      <td>Cairo, Egypt</td>\n",
       "      <td>Giza Systems</td>\n",
       "      <td>Egypt - Cairo</td>\n",
       "      <td>Telecommunications</td>\n",
       "      <td>500 Employees or more</td>\n",
       "      <td>NaN</td>\n",
       "      <td>NaN</td>\n",
       "      <td>Bachelor's degree / higher diploma</td>\n",
       "      <td>both</td>\n",
       "      <td>Unspecified</td>\n",
       "      <td>NaN</td>\n",
       "      <td>https://www.bayt.com/en/egypt/jobs/presales-en...</td>\n",
       "    </tr>\n",
       "    <tr>\n",
       "      <th>5771</th>\n",
       "      <td>Senior Front End Deveoper</td>\n",
       "      <td>Unspecified</td>\n",
       "      <td>Engineering</td>\n",
       "      <td>\\n Job Description \\n \\n Applies developed sub...</td>\n",
       "      <td>Cairo, Egypt</td>\n",
       "      <td>Giza Systems</td>\n",
       "      <td>Egypt - Cairo</td>\n",
       "      <td>IT Services</td>\n",
       "      <td>500 Employees or more</td>\n",
       "      <td>NaN</td>\n",
       "      <td>NaN</td>\n",
       "      <td>Bachelor's degree / higher diploma</td>\n",
       "      <td>both</td>\n",
       "      <td>Unspecified</td>\n",
       "      <td>NaN</td>\n",
       "      <td>https://www.bayt.com/en/egypt/jobs/senior-fron...</td>\n",
       "    </tr>\n",
       "    <tr>\n",
       "      <th>5772</th>\n",
       "      <td>Presales Consultant - Software</td>\n",
       "      <td>Unspecified</td>\n",
       "      <td>Information Technology</td>\n",
       "      <td>\\n Job Description \\n \\n Perform pre-investiga...</td>\n",
       "      <td>Cairo, Egypt</td>\n",
       "      <td>Giza Systems</td>\n",
       "      <td>Egypt - Cairo</td>\n",
       "      <td>Telecommunications</td>\n",
       "      <td>500 Employees or more</td>\n",
       "      <td>NaN</td>\n",
       "      <td>NaN</td>\n",
       "      <td>Bachelor's degree / higher diploma</td>\n",
       "      <td>both</td>\n",
       "      <td>Unspecified</td>\n",
       "      <td>NaN</td>\n",
       "      <td>https://www.bayt.com/en/egypt/jobs/presales-co...</td>\n",
       "    </tr>\n",
       "  </tbody>\n",
       "</table>\n",
       "</div>"
      ],
      "text/plain": [
       "                           job_title     job_type          job_categories  \\\n",
       "5768     Routing and Quality Analyst  Unspecified         Quality Control   \n",
       "5769             Solutions Architect  Unspecified  Information Technology   \n",
       "5770       Presales Engineer - SCADA  Unspecified             Engineering   \n",
       "5771       Senior Front End Deveoper  Unspecified             Engineering   \n",
       "5772  Presales Consultant - Software  Unspecified  Information Technology   \n",
       "\n",
       "                                        job_description  job_location  \\\n",
       "5768  \\n Job Description \\n \\n The Operations team i...         Egypt   \n",
       "5769  \\n Job Description \\n \\n Lead the requirements...  Cairo, Egypt   \n",
       "5770  \\n Job Description \\n \\n Responsible for handl...  Cairo, Egypt   \n",
       "5771  \\n Job Description \\n \\n Applies developed sub...  Cairo, Egypt   \n",
       "5772  \\n Job Description \\n \\n Perform pre-investiga...  Cairo, Egypt   \n",
       "\n",
       "      company_name company_location                    company_field  \\\n",
       "5768       Cequens    Egypt - Cairo  Other Business Support Services   \n",
       "5769  Giza Systems    Egypt - Cairo                      IT Services   \n",
       "5770  Giza Systems    Egypt - Cairo               Telecommunications   \n",
       "5771  Giza Systems    Egypt - Cairo                      IT Services   \n",
       "5772  Giza Systems    Egypt - Cairo               Telecommunications   \n",
       "\n",
       "               company_size experience_needed career_level  \\\n",
       "5768                    NaN               NaN          NaN   \n",
       "5769  500 Employees or more               NaN          NaN   \n",
       "5770  500 Employees or more               NaN          NaN   \n",
       "5771  500 Employees or more               NaN          NaN   \n",
       "5772  500 Employees or more               NaN          NaN   \n",
       "\n",
       "                         education_level gender       salary skills_and_tools  \\\n",
       "5768                                 NaN   both  Unspecified              NaN   \n",
       "5769  Bachelor's degree / higher diploma   both  Unspecified              NaN   \n",
       "5770  Bachelor's degree / higher diploma   both  Unspecified              NaN   \n",
       "5771  Bachelor's degree / higher diploma   both  Unspecified              NaN   \n",
       "5772  Bachelor's degree / higher diploma   both  Unspecified              NaN   \n",
       "\n",
       "                                                   link  \n",
       "5768  https://www.bayt.com/en/egypt/jobs/routing-and...  \n",
       "5769  https://www.bayt.com/en/egypt/jobs/solutions-a...  \n",
       "5770  https://www.bayt.com/en/egypt/jobs/presales-en...  \n",
       "5771  https://www.bayt.com/en/egypt/jobs/senior-fron...  \n",
       "5772  https://www.bayt.com/en/egypt/jobs/presales-co...  "
      ]
     },
     "execution_count": 4,
     "metadata": {},
     "output_type": "execute_result"
    }
   ],
   "source": [
    "df.tail()"
   ]
  },
  {
   "cell_type": "code",
   "execution_count": 5,
   "id": "b6b40d0a",
   "metadata": {},
   "outputs": [
    {
     "name": "stdout",
     "output_type": "stream",
     "text": [
      "<class 'pandas.core.frame.DataFrame'>\n",
      "RangeIndex: 5773 entries, 0 to 5772\n",
      "Data columns (total 16 columns):\n",
      " #   Column             Non-Null Count  Dtype \n",
      "---  ------             --------------  ----- \n",
      " 0   job_title          5773 non-null   object\n",
      " 1   job_type           5773 non-null   object\n",
      " 2   job_categories     458 non-null    object\n",
      " 3   job_description    5773 non-null   object\n",
      " 4   job_location       5773 non-null   object\n",
      " 5   company_name       5773 non-null   object\n",
      " 6   company_location   999 non-null    object\n",
      " 7   company_field      5773 non-null   object\n",
      " 8   company_size       788 non-null    object\n",
      " 9   experience_needed  127 non-null    object\n",
      " 10  career_level       76 non-null     object\n",
      " 11  education_level    249 non-null    object\n",
      " 12  gender             5773 non-null   object\n",
      " 13  salary             5773 non-null   object\n",
      " 14  skills_and_tools   227 non-null    object\n",
      " 15  link               5773 non-null   object\n",
      "dtypes: object(16)\n",
      "memory usage: 721.8+ KB\n"
     ]
    }
   ],
   "source": [
    "df.info()"
   ]
  },
  {
   "cell_type": "code",
   "execution_count": 6,
   "id": "b89c2270",
   "metadata": {},
   "outputs": [
    {
     "data": {
      "text/plain": [
       "189"
      ]
     },
     "execution_count": 6,
     "metadata": {},
     "output_type": "execute_result"
    }
   ],
   "source": [
    "df.duplicated().sum()"
   ]
  },
  {
   "cell_type": "code",
   "execution_count": 7,
   "id": "1a380a74",
   "metadata": {},
   "outputs": [
    {
     "data": {
      "text/plain": [
       "job_title               0\n",
       "job_type                0\n",
       "job_categories       5315\n",
       "job_description         0\n",
       "job_location            0\n",
       "company_name            0\n",
       "company_location     4774\n",
       "company_field           0\n",
       "company_size         4985\n",
       "experience_needed    5646\n",
       "career_level         5697\n",
       "education_level      5524\n",
       "gender                  0\n",
       "salary                  0\n",
       "skills_and_tools     5546\n",
       "link                    0\n",
       "dtype: int64"
      ]
     },
     "execution_count": 7,
     "metadata": {},
     "output_type": "execute_result"
    }
   ],
   "source": [
    "df.isnull().sum()"
   ]
  },
  {
   "cell_type": "markdown",
   "id": "af0b5551",
   "metadata": {},
   "source": [
    "### Column by Column Exploration"
   ]
  },
  {
   "cell_type": "code",
   "execution_count": 8,
   "id": "d3193e67",
   "metadata": {},
   "outputs": [
    {
     "data": {
      "text/plain": [
       "array(['مندوب مبيعات', 'IT Project Manager', 'مسؤول تامينات وتراخيص', ...,\n",
       "       'Presales Engineer - SCADA', 'Senior Front End Deveoper',\n",
       "       'Presales Consultant - Software'], dtype=object)"
      ]
     },
     "execution_count": 8,
     "metadata": {},
     "output_type": "execute_result"
    }
   ],
   "source": [
    "df['job_title'].unique()"
   ]
  },
  {
   "cell_type": "code",
   "execution_count": 9,
   "id": "bd4bf07e",
   "metadata": {
    "scrolled": false
   },
   "outputs": [
    {
     "data": {
      "text/plain": [
       "4583"
      ]
     },
     "execution_count": 9,
     "metadata": {},
     "output_type": "execute_result"
    }
   ],
   "source": [
    "df['job_title'].nunique()"
   ]
  },
  {
   "cell_type": "code",
   "execution_count": 10,
   "id": "6a46a2c4",
   "metadata": {},
   "outputs": [
    {
     "data": {
      "text/plain": [
       "0"
      ]
     },
     "execution_count": 10,
     "metadata": {},
     "output_type": "execute_result"
    }
   ],
   "source": [
    "df['job_title'].isnull().sum()"
   ]
  },
  {
   "cell_type": "markdown",
   "id": "e5269cf5",
   "metadata": {},
   "source": [
    "#### Job Type Column"
   ]
  },
  {
   "cell_type": "code",
   "execution_count": 11,
   "id": "76da760e",
   "metadata": {},
   "outputs": [
    {
     "data": {
      "text/plain": [
       "array(['Full Time Employee', 'Part Time Employee', '--', 'Contractor',\n",
       "       'Unspecified'], dtype=object)"
      ]
     },
     "execution_count": 11,
     "metadata": {},
     "output_type": "execute_result"
    }
   ],
   "source": [
    "df['job_type'].unique()"
   ]
  },
  {
   "cell_type": "code",
   "execution_count": 12,
   "id": "962d174f",
   "metadata": {
    "scrolled": true
   },
   "outputs": [
    {
     "data": {
      "text/plain": [
       "5"
      ]
     },
     "execution_count": 12,
     "metadata": {},
     "output_type": "execute_result"
    }
   ],
   "source": [
    "df['job_type'].nunique()"
   ]
  },
  {
   "cell_type": "code",
   "execution_count": 13,
   "id": "b87857ee",
   "metadata": {},
   "outputs": [
    {
     "data": {
      "text/plain": [
       "18     --\n",
       "41     --\n",
       "197    --\n",
       "Name: job_type, dtype: object"
      ]
     },
     "execution_count": 13,
     "metadata": {},
     "output_type": "execute_result"
    }
   ],
   "source": [
    "df['job_type'][df['job_type'] == '--']"
   ]
  },
  {
   "cell_type": "code",
   "execution_count": 14,
   "id": "192655a9",
   "metadata": {},
   "outputs": [
    {
     "data": {
      "text/plain": [
       "Unspecified           5547\n",
       "Full Time Employee     216\n",
       "Part Time Employee       4\n",
       "--                       3\n",
       "Contractor               3\n",
       "Name: job_type, dtype: int64"
      ]
     },
     "execution_count": 14,
     "metadata": {},
     "output_type": "execute_result"
    }
   ],
   "source": [
    "df['job_type'].value_counts()"
   ]
  },
  {
   "cell_type": "code",
   "execution_count": 15,
   "id": "1ff84b48",
   "metadata": {},
   "outputs": [
    {
     "data": {
      "text/plain": [
       "0"
      ]
     },
     "execution_count": 15,
     "metadata": {},
     "output_type": "execute_result"
    }
   ],
   "source": [
    "df['job_type'].isnull().sum()"
   ]
  },
  {
   "cell_type": "markdown",
   "id": "2c89dca1",
   "metadata": {},
   "source": [
    "#### Job Categories Column"
   ]
  },
  {
   "cell_type": "code",
   "execution_count": 16,
   "id": "42692b95",
   "metadata": {},
   "outputs": [
    {
     "data": {
      "text/plain": [
       "array(['Sales', 'Information Technology', 'Finance and Investment',\n",
       "       'Accounting and Auditing', 'Engineering', 'Electrical Engineering',\n",
       "       'Secretarial', 'Architecture', 'Design, Creative, and Arts',\n",
       "       'Administration', 'Hospitality and Tourism', 'Marketing and PR',\n",
       "       'Customer Service and Call Center', 'Manufacturing',\n",
       "       'Maintenance, Repair, and Technician',\n",
       "       'Logistics and Transportation', 'Support Services',\n",
       "       'Community Services', 'Training and Development',\n",
       "       'Purchasing and Procurement', 'Human Resources and Recruitment',\n",
       "       'Quality Control', 'Medical, Healthcare, and Nursing',\n",
       "       'Translation', 'Legal', 'Management', 'Writing and Journalism',\n",
       "       'Teaching and Academics', 'Safety', nan, 'Other', '--',\n",
       "       'Mechanical Engineering', 'Banking'], dtype=object)"
      ]
     },
     "execution_count": 16,
     "metadata": {},
     "output_type": "execute_result"
    }
   ],
   "source": [
    "df['job_categories'].unique()"
   ]
  },
  {
   "cell_type": "code",
   "execution_count": 17,
   "id": "097d26db",
   "metadata": {},
   "outputs": [
    {
     "data": {
      "text/plain": [
       "33"
      ]
     },
     "execution_count": 17,
     "metadata": {},
     "output_type": "execute_result"
    }
   ],
   "source": [
    "df['job_categories'].nunique()"
   ]
  },
  {
   "cell_type": "code",
   "execution_count": 18,
   "id": "8795a9ff",
   "metadata": {
    "scrolled": true
   },
   "outputs": [
    {
     "data": {
      "text/plain": [
       "2553    --\n",
       "3988    --\n",
       "3993    --\n",
       "4265    --\n",
       "4268    --\n",
       "4270    --\n",
       "4271    --\n",
       "4273    --\n",
       "4274    --\n",
       "4275    --\n",
       "4276    --\n",
       "4277    --\n",
       "4278    --\n",
       "4421    --\n",
       "5466    --\n",
       "Name: job_categories, dtype: object"
      ]
     },
     "execution_count": 18,
     "metadata": {},
     "output_type": "execute_result"
    }
   ],
   "source": [
    "df['job_categories'][df['job_categories'] == '--'] "
   ]
  },
  {
   "cell_type": "code",
   "execution_count": 19,
   "id": "1f6807cf",
   "metadata": {},
   "outputs": [
    {
     "data": {
      "text/plain": [
       "Engineering                            66\n",
       "Sales                                  58\n",
       "Information Technology                 54\n",
       "Maintenance, Repair, and Technician    26\n",
       "Accounting and Auditing                26\n",
       "Management                             25\n",
       "Marketing and PR                       20\n",
       "Administration                         19\n",
       "Human Resources and Recruitment        18\n",
       "Other                                  16\n",
       "--                                     15\n",
       "Hospitality and Tourism                13\n",
       "Teaching and Academics                 12\n",
       "Support Services                       11\n",
       "Purchasing and Procurement              9\n",
       "Legal                                   8\n",
       "Finance and Investment                  7\n",
       "Medical, Healthcare, and Nursing        7\n",
       "Design, Creative, and Arts              6\n",
       "Logistics and Transportation            6\n",
       "Manufacturing                           5\n",
       "Customer Service and Call Center        5\n",
       "Training and Development                4\n",
       "Secretarial                             4\n",
       "Electrical Engineering                  4\n",
       "Quality Control                         3\n",
       "Architecture                            3\n",
       "Community Services                      2\n",
       "Safety                                  2\n",
       "Mechanical Engineering                  1\n",
       "Translation                             1\n",
       "Writing and Journalism                  1\n",
       "Banking                                 1\n",
       "Name: job_categories, dtype: int64"
      ]
     },
     "execution_count": 19,
     "metadata": {},
     "output_type": "execute_result"
    }
   ],
   "source": [
    "df['job_categories'].value_counts()"
   ]
  },
  {
   "cell_type": "code",
   "execution_count": 20,
   "id": "9ffaf9d8",
   "metadata": {},
   "outputs": [
    {
     "data": {
      "text/html": [
       "<div>\n",
       "<style scoped>\n",
       "    .dataframe tbody tr th:only-of-type {\n",
       "        vertical-align: middle;\n",
       "    }\n",
       "\n",
       "    .dataframe tbody tr th {\n",
       "        vertical-align: top;\n",
       "    }\n",
       "\n",
       "    .dataframe thead th {\n",
       "        text-align: right;\n",
       "    }\n",
       "</style>\n",
       "<table border=\"1\" class=\"dataframe\">\n",
       "  <thead>\n",
       "    <tr style=\"text-align: right;\">\n",
       "      <th></th>\n",
       "      <th>job_title</th>\n",
       "      <th>job_type</th>\n",
       "      <th>job_categories</th>\n",
       "      <th>job_description</th>\n",
       "      <th>job_location</th>\n",
       "      <th>company_name</th>\n",
       "      <th>company_location</th>\n",
       "      <th>company_field</th>\n",
       "      <th>company_size</th>\n",
       "      <th>experience_needed</th>\n",
       "      <th>career_level</th>\n",
       "      <th>education_level</th>\n",
       "      <th>gender</th>\n",
       "      <th>salary</th>\n",
       "      <th>skills_and_tools</th>\n",
       "      <th>link</th>\n",
       "    </tr>\n",
       "  </thead>\n",
       "  <tbody>\n",
       "    <tr>\n",
       "      <th>227</th>\n",
       "      <td>SC QC Associate - CoMan</td>\n",
       "      <td>Unspecified</td>\n",
       "      <td>NaN</td>\n",
       "      <td>\\n Job Description \\n \\n Responsibilities Cond...</td>\n",
       "      <td>Egypt</td>\n",
       "      <td>Pepsico</td>\n",
       "      <td>NaN</td>\n",
       "      <td>Other Business Support Services</td>\n",
       "      <td>NaN</td>\n",
       "      <td>NaN</td>\n",
       "      <td>NaN</td>\n",
       "      <td>NaN</td>\n",
       "      <td>both</td>\n",
       "      <td>Unspecified</td>\n",
       "      <td>NaN</td>\n",
       "      <td>https://www.bayt.com/en/egypt/jobs/sc-qc-assoc...</td>\n",
       "    </tr>\n",
       "    <tr>\n",
       "      <th>228</th>\n",
       "      <td>Sales Zone Manager - Canal</td>\n",
       "      <td>Unspecified</td>\n",
       "      <td>NaN</td>\n",
       "      <td>\\n Job Description \\n \\n Responsibilities Lead...</td>\n",
       "      <td>Egypt</td>\n",
       "      <td>Pepsico</td>\n",
       "      <td>NaN</td>\n",
       "      <td>Other Business Support Services</td>\n",
       "      <td>NaN</td>\n",
       "      <td>NaN</td>\n",
       "      <td>NaN</td>\n",
       "      <td>NaN</td>\n",
       "      <td>both</td>\n",
       "      <td>Unspecified</td>\n",
       "      <td>NaN</td>\n",
       "      <td>https://www.bayt.com/en/egypt/jobs/sales-zone-...</td>\n",
       "    </tr>\n",
       "    <tr>\n",
       "      <th>229</th>\n",
       "      <td>Sales Associate - October DC Key Accounts</td>\n",
       "      <td>Unspecified</td>\n",
       "      <td>NaN</td>\n",
       "      <td>\\n Job Description \\n \\n Responsibilities Job ...</td>\n",
       "      <td>Egypt</td>\n",
       "      <td>Pepsico</td>\n",
       "      <td>NaN</td>\n",
       "      <td>Other Business Support Services</td>\n",
       "      <td>NaN</td>\n",
       "      <td>NaN</td>\n",
       "      <td>NaN</td>\n",
       "      <td>NaN</td>\n",
       "      <td>both</td>\n",
       "      <td>Unspecified</td>\n",
       "      <td>NaN</td>\n",
       "      <td>https://www.bayt.com/en/egypt/jobs/sales-assoc...</td>\n",
       "    </tr>\n",
       "    <tr>\n",
       "      <th>230</th>\n",
       "      <td>BO IP Security Team Leader</td>\n",
       "      <td>Unspecified</td>\n",
       "      <td>NaN</td>\n",
       "      <td>\\n Job Description \\n \\n As the tech firm that...</td>\n",
       "      <td>Cairo, Egypt</td>\n",
       "      <td>Ericsson</td>\n",
       "      <td>Sweden</td>\n",
       "      <td>Other Business Support Services</td>\n",
       "      <td>NaN</td>\n",
       "      <td>NaN</td>\n",
       "      <td>NaN</td>\n",
       "      <td>NaN</td>\n",
       "      <td>both</td>\n",
       "      <td>Unspecified</td>\n",
       "      <td>NaN</td>\n",
       "      <td>https://www.bayt.com/en/egypt/jobs/bo-ip-secur...</td>\n",
       "    </tr>\n",
       "    <tr>\n",
       "      <th>231</th>\n",
       "      <td>Resourcing Coordinator - German Speaker (_VOIS)</td>\n",
       "      <td>Unspecified</td>\n",
       "      <td>NaN</td>\n",
       "      <td>\\n Job Description \\n \\n \\n Role purpose: Owne...</td>\n",
       "      <td>Cairo, Egypt</td>\n",
       "      <td>Vodafone - Egypt</td>\n",
       "      <td>Egypt</td>\n",
       "      <td>Other Business Support Services</td>\n",
       "      <td>50-99 Employees</td>\n",
       "      <td>NaN</td>\n",
       "      <td>NaN</td>\n",
       "      <td>NaN</td>\n",
       "      <td>both</td>\n",
       "      <td>Unspecified</td>\n",
       "      <td>NaN</td>\n",
       "      <td>https://www.bayt.com/en/egypt/jobs/resourcing-...</td>\n",
       "    </tr>\n",
       "    <tr>\n",
       "      <th>...</th>\n",
       "      <td>...</td>\n",
       "      <td>...</td>\n",
       "      <td>...</td>\n",
       "      <td>...</td>\n",
       "      <td>...</td>\n",
       "      <td>...</td>\n",
       "      <td>...</td>\n",
       "      <td>...</td>\n",
       "      <td>...</td>\n",
       "      <td>...</td>\n",
       "      <td>...</td>\n",
       "      <td>...</td>\n",
       "      <td>...</td>\n",
       "      <td>...</td>\n",
       "      <td>...</td>\n",
       "      <td>...</td>\n",
       "    </tr>\n",
       "    <tr>\n",
       "      <th>5759</th>\n",
       "      <td>Front-End Developer</td>\n",
       "      <td>Unspecified</td>\n",
       "      <td>NaN</td>\n",
       "      <td>\\n Job Description \\n \\n e.construct We are an...</td>\n",
       "      <td>Cairo, Egypt</td>\n",
       "      <td>ECONSTRUCT DESIGN &amp; BUILD Pvt Ltd.</td>\n",
       "      <td>NaN</td>\n",
       "      <td>Other Business Support Services</td>\n",
       "      <td>NaN</td>\n",
       "      <td>NaN</td>\n",
       "      <td>NaN</td>\n",
       "      <td>NaN</td>\n",
       "      <td>both</td>\n",
       "      <td>Unspecified</td>\n",
       "      <td>NaN</td>\n",
       "      <td>https://www.bayt.com/en/egypt/jobs/front-end-d...</td>\n",
       "    </tr>\n",
       "    <tr>\n",
       "      <th>5760</th>\n",
       "      <td>Senior Back-End Developer</td>\n",
       "      <td>Unspecified</td>\n",
       "      <td>NaN</td>\n",
       "      <td>\\n Job Description \\n \\n e.construct We are an...</td>\n",
       "      <td>Cairo, Egypt</td>\n",
       "      <td>ECONSTRUCT DESIGN &amp; BUILD Pvt Ltd.</td>\n",
       "      <td>NaN</td>\n",
       "      <td>Other Business Support Services</td>\n",
       "      <td>NaN</td>\n",
       "      <td>NaN</td>\n",
       "      <td>NaN</td>\n",
       "      <td>NaN</td>\n",
       "      <td>both</td>\n",
       "      <td>Unspecified</td>\n",
       "      <td>NaN</td>\n",
       "      <td>https://www.bayt.com/en/egypt/jobs/senior-back...</td>\n",
       "    </tr>\n",
       "    <tr>\n",
       "      <th>5762</th>\n",
       "      <td>Multidisciplinary Designer Graphic</td>\n",
       "      <td>Unspecified</td>\n",
       "      <td>NaN</td>\n",
       "      <td>\\n Job Description \\n \\n e.construct We are an...</td>\n",
       "      <td>Cairo, Egypt</td>\n",
       "      <td>ECONSTRUCT DESIGN &amp; BUILD Pvt Ltd.</td>\n",
       "      <td>NaN</td>\n",
       "      <td>Other Business Support Services</td>\n",
       "      <td>NaN</td>\n",
       "      <td>NaN</td>\n",
       "      <td>NaN</td>\n",
       "      <td>NaN</td>\n",
       "      <td>both</td>\n",
       "      <td>Unspecified</td>\n",
       "      <td>NaN</td>\n",
       "      <td>https://www.bayt.com/en/egypt/jobs/multidiscip...</td>\n",
       "    </tr>\n",
       "    <tr>\n",
       "      <th>5763</th>\n",
       "      <td>Back-End Developer</td>\n",
       "      <td>Unspecified</td>\n",
       "      <td>NaN</td>\n",
       "      <td>\\n Job Description \\n \\n e.construct We are an...</td>\n",
       "      <td>Cairo, Egypt</td>\n",
       "      <td>ECONSTRUCT DESIGN &amp; BUILD Pvt Ltd.</td>\n",
       "      <td>NaN</td>\n",
       "      <td>Other Business Support Services</td>\n",
       "      <td>NaN</td>\n",
       "      <td>NaN</td>\n",
       "      <td>NaN</td>\n",
       "      <td>NaN</td>\n",
       "      <td>both</td>\n",
       "      <td>Unspecified</td>\n",
       "      <td>NaN</td>\n",
       "      <td>https://www.bayt.com/en/egypt/jobs/back-end-de...</td>\n",
       "    </tr>\n",
       "    <tr>\n",
       "      <th>5764</th>\n",
       "      <td>Environmental Researcher &amp; Project Coordinator...</td>\n",
       "      <td>Unspecified</td>\n",
       "      <td>NaN</td>\n",
       "      <td>\\n Job Description \\n \\n e.construct We are an...</td>\n",
       "      <td>Cairo, Egypt</td>\n",
       "      <td>ECONSTRUCT DESIGN &amp; BUILD Pvt Ltd.</td>\n",
       "      <td>NaN</td>\n",
       "      <td>Other Business Support Services</td>\n",
       "      <td>NaN</td>\n",
       "      <td>NaN</td>\n",
       "      <td>NaN</td>\n",
       "      <td>NaN</td>\n",
       "      <td>both</td>\n",
       "      <td>Unspecified</td>\n",
       "      <td>NaN</td>\n",
       "      <td>https://www.bayt.com/en/egypt/jobs/environment...</td>\n",
       "    </tr>\n",
       "  </tbody>\n",
       "</table>\n",
       "<p>5315 rows × 16 columns</p>\n",
       "</div>"
      ],
      "text/plain": [
       "                                              job_title     job_type  \\\n",
       "227                             SC QC Associate - CoMan  Unspecified   \n",
       "228                          Sales Zone Manager - Canal  Unspecified   \n",
       "229           Sales Associate - October DC Key Accounts  Unspecified   \n",
       "230                          BO IP Security Team Leader  Unspecified   \n",
       "231     Resourcing Coordinator - German Speaker (_VOIS)  Unspecified   \n",
       "...                                                 ...          ...   \n",
       "5759                                Front-End Developer  Unspecified   \n",
       "5760                          Senior Back-End Developer  Unspecified   \n",
       "5762                 Multidisciplinary Designer Graphic  Unspecified   \n",
       "5763                                 Back-End Developer  Unspecified   \n",
       "5764  Environmental Researcher & Project Coordinator...  Unspecified   \n",
       "\n",
       "     job_categories                                    job_description  \\\n",
       "227             NaN  \\n Job Description \\n \\n Responsibilities Cond...   \n",
       "228             NaN  \\n Job Description \\n \\n Responsibilities Lead...   \n",
       "229             NaN  \\n Job Description \\n \\n Responsibilities Job ...   \n",
       "230             NaN  \\n Job Description \\n \\n As the tech firm that...   \n",
       "231             NaN  \\n Job Description \\n \\n \\n Role purpose: Owne...   \n",
       "...             ...                                                ...   \n",
       "5759            NaN  \\n Job Description \\n \\n e.construct We are an...   \n",
       "5760            NaN  \\n Job Description \\n \\n e.construct We are an...   \n",
       "5762            NaN  \\n Job Description \\n \\n e.construct We are an...   \n",
       "5763            NaN  \\n Job Description \\n \\n e.construct We are an...   \n",
       "5764            NaN  \\n Job Description \\n \\n e.construct We are an...   \n",
       "\n",
       "      job_location                        company_name company_location  \\\n",
       "227          Egypt                             Pepsico              NaN   \n",
       "228          Egypt                             Pepsico              NaN   \n",
       "229          Egypt                             Pepsico              NaN   \n",
       "230   Cairo, Egypt                            Ericsson           Sweden   \n",
       "231   Cairo, Egypt                    Vodafone - Egypt            Egypt   \n",
       "...            ...                                 ...              ...   \n",
       "5759  Cairo, Egypt  ECONSTRUCT DESIGN & BUILD Pvt Ltd.              NaN   \n",
       "5760  Cairo, Egypt  ECONSTRUCT DESIGN & BUILD Pvt Ltd.              NaN   \n",
       "5762  Cairo, Egypt  ECONSTRUCT DESIGN & BUILD Pvt Ltd.              NaN   \n",
       "5763  Cairo, Egypt  ECONSTRUCT DESIGN & BUILD Pvt Ltd.              NaN   \n",
       "5764  Cairo, Egypt  ECONSTRUCT DESIGN & BUILD Pvt Ltd.              NaN   \n",
       "\n",
       "                        company_field     company_size experience_needed  \\\n",
       "227   Other Business Support Services              NaN               NaN   \n",
       "228   Other Business Support Services              NaN               NaN   \n",
       "229   Other Business Support Services              NaN               NaN   \n",
       "230   Other Business Support Services              NaN               NaN   \n",
       "231   Other Business Support Services  50-99 Employees               NaN   \n",
       "...                               ...              ...               ...   \n",
       "5759  Other Business Support Services              NaN               NaN   \n",
       "5760  Other Business Support Services              NaN               NaN   \n",
       "5762  Other Business Support Services              NaN               NaN   \n",
       "5763  Other Business Support Services              NaN               NaN   \n",
       "5764  Other Business Support Services              NaN               NaN   \n",
       "\n",
       "     career_level education_level gender       salary skills_and_tools  \\\n",
       "227           NaN             NaN   both  Unspecified              NaN   \n",
       "228           NaN             NaN   both  Unspecified              NaN   \n",
       "229           NaN             NaN   both  Unspecified              NaN   \n",
       "230           NaN             NaN   both  Unspecified              NaN   \n",
       "231           NaN             NaN   both  Unspecified              NaN   \n",
       "...           ...             ...    ...          ...              ...   \n",
       "5759          NaN             NaN   both  Unspecified              NaN   \n",
       "5760          NaN             NaN   both  Unspecified              NaN   \n",
       "5762          NaN             NaN   both  Unspecified              NaN   \n",
       "5763          NaN             NaN   both  Unspecified              NaN   \n",
       "5764          NaN             NaN   both  Unspecified              NaN   \n",
       "\n",
       "                                                   link  \n",
       "227   https://www.bayt.com/en/egypt/jobs/sc-qc-assoc...  \n",
       "228   https://www.bayt.com/en/egypt/jobs/sales-zone-...  \n",
       "229   https://www.bayt.com/en/egypt/jobs/sales-assoc...  \n",
       "230   https://www.bayt.com/en/egypt/jobs/bo-ip-secur...  \n",
       "231   https://www.bayt.com/en/egypt/jobs/resourcing-...  \n",
       "...                                                 ...  \n",
       "5759  https://www.bayt.com/en/egypt/jobs/front-end-d...  \n",
       "5760  https://www.bayt.com/en/egypt/jobs/senior-back...  \n",
       "5762  https://www.bayt.com/en/egypt/jobs/multidiscip...  \n",
       "5763  https://www.bayt.com/en/egypt/jobs/back-end-de...  \n",
       "5764  https://www.bayt.com/en/egypt/jobs/environment...  \n",
       "\n",
       "[5315 rows x 16 columns]"
      ]
     },
     "execution_count": 20,
     "metadata": {},
     "output_type": "execute_result"
    }
   ],
   "source": [
    "df[df['job_categories'].isnull() == True]"
   ]
  },
  {
   "cell_type": "code",
   "execution_count": 21,
   "id": "c0c81760",
   "metadata": {},
   "outputs": [
    {
     "data": {
      "text/plain": [
       "'https://www.bayt.com/en/egypt/jobs/partner-order-management-specialist-german-speaker-_vois-67482679/'"
      ]
     },
     "execution_count": 21,
     "metadata": {},
     "output_type": "execute_result"
    }
   ],
   "source": [
    "df[df['job_categories'].isnull() == True].iloc[9]['link']"
   ]
  },
  {
   "cell_type": "code",
   "execution_count": 22,
   "id": "b3f41317",
   "metadata": {},
   "outputs": [
    {
     "data": {
      "text/plain": [
       "5315"
      ]
     },
     "execution_count": 22,
     "metadata": {},
     "output_type": "execute_result"
    }
   ],
   "source": [
    "df['job_categories'].isnull().sum()"
   ]
  },
  {
   "cell_type": "markdown",
   "id": "43636379",
   "metadata": {},
   "source": [
    "#### Job Description Column"
   ]
  },
  {
   "cell_type": "code",
   "execution_count": 23,
   "id": "df270166",
   "metadata": {},
   "outputs": [
    {
     "data": {
      "text/plain": [
       "array(['\\n Job Description \\n \\n شركة كبيرة الصناعة مستحضرات تجميل\\xa0 والمستحضرات الطبية ترغب في تعيين مندوب دعايا\\xa0خبرة في مجال مستحضرات التجميل ويشترط من لديه داتا للعمل في جميع المحافظات الجمهورية تقدم الشركة\\xa0 رواتب مجزية - بدلات - عمولات - تأمين صحي \\n \\n',\n",
       "       '\\n Job Description \\n \\n Job brief We are looking for an experienced Project Manager to manage organization of key client projects. As our project manager, your job will be to coordinate people and processes to ensure that our projects are delivered on time and produce the desired results. You will be the go-to person for everything involving a project’s organization and timeline. Project Manager Requirements: Project managers should have a background in business skills, management, budgeting and analysis. You should be an excellent communicator and comfortable managing multiple tasks. you also need to be a team player and have a problem-solving aptitude. Responsibilities Coordinate internal resources and third parties/vendors for the flawless execution of projects Ensure that all projects\\xa0are delivered\\xa0on-time, within scope and within budget Developing project scopes and objectives, involving all relevant stakeholders and ensuring\\xa0technical feasibility Ensure resource availability and allocation Develop a detailed project plan to track progress Use appropriate verification techniques to manage changes in project scope, schedule and costs Measure project performance using appropriate systems, tools and techniques Report and escalate to management as needed Manage the relationship with the client and all stakeholders Perform risk management to\\xa0minimize\\xa0project risks Establish and maintain relationships with third parties/vendors Create and maintain comprehensive project documentation \\n \\n',\n",
       "       '\\n Job Description \\n \\n  1) تمثيل الشركة لدى مصلحة التأمينات الإجتماعية لإستخراج شهادات تأمين السيارات لإستكمال مستندات الترخيص.  2) تنفيذ كل الإجراءات المتعلقة بعملية استخراج شهادات التأمين (توريد نقدية – استيفاء أوراق – اعتمادات).  3) إنشاء قاعدة بيانات لشهادات تأمينات السيارات تشمل كافة المعلومات عنهم ( الرقم التأميني – نوع الرخصة – موعد الاصدار – موعد التجديد).  4)متابعة تواريخ انتهاء التراخيص وجدولتها لضمان اتخاذ الإجراءات اللازمة للتجديد قبل مواعيد الإنتهاء.  5) التنسيق مع إدارة الموارد البشرية لمعرفة تعيينات السائقين الجدد لاستخراج شهادات التأمينات لهم ، ولمعرفة استقالات السائقين \\n \\n',\n",
       "       ...,\n",
       "       '\\n Job Description \\n \\n Responsible for handling Proposal activities and Technical support for the running projects, \\xa0including providing designs and/or recommended solutions, fulfilling all technical support needs to sales and operations team. Along with suggested pricing based on the price list of the suppliers and expected competition. \\n Design highly technical solutions for the entire integrated solution components. (MV, LV,…etc)  \\n Identify the potential supplier(s) list for the provided solution(s).  \\n Prepare technical submittals for the running projects and ensure technical compliance with tender requirement. \\n Act as a consultant/advisor for the sales person, project manager and client in the complex technical issues and conducts presentations when required. \\n Review the technical components of the proposal before submission to the sales team for final compilation. \\n Prepare technical submittals for the running projects and ensure technical compliance with tender requirement. \\n Prepare technical write-up and associated drawings that describe the solution and highlight the advantages of the proposed solution. \\n Study the available solutions of the competitors to be able to provide the optimum solution emphasizing our strong points and hiding our weak points. \\n Involve in customer meetings aimed to describe/discuss the proposed solution and highlight advantages over competitors. \\n To produce proposals, technical documentation as required and to ensure other Team members and teams knowledge are up to date. \\n Conduct awareness sessions for the team and GS employees when needed. \\n \\n \\n',\n",
       "       '\\n Job Description \\n \\n Applies developed subject matter knowledge to solve common and complex business issues within established guidelines and recommends appropriate alternatives. \\n Works on problems / projects of diverse complexity and scope.  \\n Participates as a member of development team or teams; may lead a small development team. \\n Performs analysis of functional and business requirements. \\n Prepares code stubs for others. \\n Completes code to implement solutions. \\n Contributes to design activities; may design solutions. \\n Codes independently; participates in code reviews and may lead code reviews.  \\n Designs, prepares and executes Unit tests. \\n Applies in-depth or broad technical knowledge to maintain one or more technology areas (e.g. Database Administration). \\n Performs solution design. \\n Applies Giza Systems and 3rd party technologies to highly complex infrastructure and software solutions.  \\n Independently implements end-user or enterprise infrastructure of moderate complexity or services prepared by more senior technologist for more complex solutions.  \\n May seek advice in order to make decisions on complex business issues. \\n May act as a team or project leader providing direction to team activities and facilitates information validation and team decision-making process.  \\n Ability to handle most unique situations. \\n Exercises independent judgment within generally defined policies and practices to identify and select a solution. \\n \\n \\n',\n",
       "       '\\n Job Description \\n \\n Perform pre-investigation data gathering and requirement analysis at the customer premises. \\n Estimate and size the customer requirements with reference to the pre-investigation and using the help of the technical/functional staff or third party, if necessary. \\n Prepare and conduct presentation on the proposed solution if required by the customer. \\n Receive the Request for Proposal (RFP) from the Senior Pre-Sales Consultants. \\n Study the RFP to prepare the technical write-up and the costing of the proposed solution, whilst engaging the vendor for a matching proposal (if required). \\n Receive assistance from Development Consultants and technical/ functional Staff to fill compliance sheets (if required). \\n Respond to customer inquiries to explain the proposed solution. \\n Prepare technological trends analysis reports & new solution coverage report. \\n Act as a consultant/advisor for the sales person and client in the complex technical issues and conducts presentations when required. \\n Involved in customer meetings with the aim to describe/discuss the proposed solution and highlight advantages over competitors \\n Ensure\\xa0 the review of the technical aspect of the Project implementation plan prepared by the Project Managers ensuring it is achievable and within the set time frame. \\n Contribute to the regular preparation and update of the offerings Portfolio. (Introduce new offerings, retire old offerings) \\n Assist in educating the Account Management Team on the basic technicalities and functionality of new offerings to guide them in identifying leads within the assigned sectors. \\n Communicate with Sales, PMs and Technical teams to gather insights and information on different aspects such as clients’ needs and projects challenges which can be an added value to the offerings portfolio or changes in proposal. \\n \\n \\n'],\n",
       "      dtype=object)"
      ]
     },
     "execution_count": 23,
     "metadata": {},
     "output_type": "execute_result"
    }
   ],
   "source": [
    "df['job_description'].unique()"
   ]
  },
  {
   "cell_type": "code",
   "execution_count": 24,
   "id": "015e81d2",
   "metadata": {},
   "outputs": [
    {
     "data": {
      "text/plain": [
       "5219"
      ]
     },
     "execution_count": 24,
     "metadata": {},
     "output_type": "execute_result"
    }
   ],
   "source": [
    "df['job_description'].nunique()"
   ]
  },
  {
   "cell_type": "code",
   "execution_count": 25,
   "id": "fca2b66c",
   "metadata": {
    "scrolled": true
   },
   "outputs": [
    {
     "data": {
      "text/html": [
       "<div>\n",
       "<style scoped>\n",
       "    .dataframe tbody tr th:only-of-type {\n",
       "        vertical-align: middle;\n",
       "    }\n",
       "\n",
       "    .dataframe tbody tr th {\n",
       "        vertical-align: top;\n",
       "    }\n",
       "\n",
       "    .dataframe thead th {\n",
       "        text-align: right;\n",
       "    }\n",
       "</style>\n",
       "<table border=\"1\" class=\"dataframe\">\n",
       "  <thead>\n",
       "    <tr style=\"text-align: right;\">\n",
       "      <th></th>\n",
       "      <th>job_title</th>\n",
       "      <th>job_type</th>\n",
       "      <th>job_categories</th>\n",
       "      <th>job_description</th>\n",
       "      <th>job_location</th>\n",
       "      <th>company_name</th>\n",
       "      <th>company_location</th>\n",
       "      <th>company_field</th>\n",
       "      <th>company_size</th>\n",
       "      <th>experience_needed</th>\n",
       "      <th>career_level</th>\n",
       "      <th>education_level</th>\n",
       "      <th>gender</th>\n",
       "      <th>salary</th>\n",
       "      <th>skills_and_tools</th>\n",
       "      <th>link</th>\n",
       "    </tr>\n",
       "  </thead>\n",
       "  <tbody>\n",
       "    <tr>\n",
       "      <th>756</th>\n",
       "      <td>Business Lead, Cairo Egypt</td>\n",
       "      <td>Unspecified</td>\n",
       "      <td>NaN</td>\n",
       "      <td>\\n Job Description \\n \\n \\n \\n \\n</td>\n",
       "      <td>Cairo, Egypt</td>\n",
       "      <td>Acino International AG</td>\n",
       "      <td>NaN</td>\n",
       "      <td>Other Business Support Services</td>\n",
       "      <td>NaN</td>\n",
       "      <td>NaN</td>\n",
       "      <td>NaN</td>\n",
       "      <td>NaN</td>\n",
       "      <td>both</td>\n",
       "      <td>Unspecified</td>\n",
       "      <td>NaN</td>\n",
       "      <td>https://www.bayt.com/en/egypt/jobs/business-le...</td>\n",
       "    </tr>\n",
       "    <tr>\n",
       "      <th>5130</th>\n",
       "      <td>MEP &amp; Rail Systems Construction Manager</td>\n",
       "      <td>Unspecified</td>\n",
       "      <td>NaN</td>\n",
       "      <td>\\n Job Description \\n \\n \\n \\n \\n</td>\n",
       "      <td>Egypt</td>\n",
       "      <td>Hill International</td>\n",
       "      <td>Egypt</td>\n",
       "      <td>Other Business Support Services</td>\n",
       "      <td>500 Employees or more</td>\n",
       "      <td>NaN</td>\n",
       "      <td>NaN</td>\n",
       "      <td>NaN</td>\n",
       "      <td>both</td>\n",
       "      <td>Unspecified</td>\n",
       "      <td>NaN</td>\n",
       "      <td>https://www.bayt.com/en/egypt/jobs/mep-rail-sy...</td>\n",
       "    </tr>\n",
       "    <tr>\n",
       "      <th>764</th>\n",
       "      <td>Medical Representatives, Egypt</td>\n",
       "      <td>Unspecified</td>\n",
       "      <td>NaN</td>\n",
       "      <td>\\n Job Description \\n \\n \\n \\n \\n</td>\n",
       "      <td>Cairo, Egypt</td>\n",
       "      <td>Acino International AG</td>\n",
       "      <td>NaN</td>\n",
       "      <td>Other Business Support Services</td>\n",
       "      <td>NaN</td>\n",
       "      <td>NaN</td>\n",
       "      <td>NaN</td>\n",
       "      <td>NaN</td>\n",
       "      <td>both</td>\n",
       "      <td>Unspecified</td>\n",
       "      <td>NaN</td>\n",
       "      <td>https://www.bayt.com/en/egypt/jobs/medical-rep...</td>\n",
       "    </tr>\n",
       "    <tr>\n",
       "      <th>650</th>\n",
       "      <td>Customer Solution Coordinator - Spanish Speake...</td>\n",
       "      <td>Unspecified</td>\n",
       "      <td>NaN</td>\n",
       "      <td>\\n Job Description \\n \\n \\n \\n \\n</td>\n",
       "      <td>Cairo, Egypt</td>\n",
       "      <td>Vodafone - Egypt</td>\n",
       "      <td>Egypt</td>\n",
       "      <td>Other Business Support Services</td>\n",
       "      <td>50-99 Employees</td>\n",
       "      <td>NaN</td>\n",
       "      <td>NaN</td>\n",
       "      <td>NaN</td>\n",
       "      <td>both</td>\n",
       "      <td>Unspecified</td>\n",
       "      <td>NaN</td>\n",
       "      <td>https://www.bayt.com/en/egypt/jobs/customer-so...</td>\n",
       "    </tr>\n",
       "    <tr>\n",
       "      <th>520</th>\n",
       "      <td>Junior Lawyer</td>\n",
       "      <td>Unspecified</td>\n",
       "      <td>NaN</td>\n",
       "      <td>\\n Job Description \\n \\n \\n \\n \\n</td>\n",
       "      <td>Egypt</td>\n",
       "      <td>MBC group</td>\n",
       "      <td>NaN</td>\n",
       "      <td>Other Business Support Services</td>\n",
       "      <td>NaN</td>\n",
       "      <td>NaN</td>\n",
       "      <td>NaN</td>\n",
       "      <td>NaN</td>\n",
       "      <td>both</td>\n",
       "      <td>Unspecified</td>\n",
       "      <td>NaN</td>\n",
       "      <td>https://www.bayt.com/en/egypt/jobs/junior-lawy...</td>\n",
       "    </tr>\n",
       "  </tbody>\n",
       "</table>\n",
       "</div>"
      ],
      "text/plain": [
       "                                              job_title     job_type  \\\n",
       "756                          Business Lead, Cairo Egypt  Unspecified   \n",
       "5130            MEP & Rail Systems Construction Manager  Unspecified   \n",
       "764                      Medical Representatives, Egypt  Unspecified   \n",
       "650   Customer Solution Coordinator - Spanish Speake...  Unspecified   \n",
       "520                                       Junior Lawyer  Unspecified   \n",
       "\n",
       "     job_categories                    job_description  job_location  \\\n",
       "756             NaN  \\n Job Description \\n \\n \\n \\n \\n  Cairo, Egypt   \n",
       "5130            NaN  \\n Job Description \\n \\n \\n \\n \\n         Egypt   \n",
       "764             NaN  \\n Job Description \\n \\n \\n \\n \\n  Cairo, Egypt   \n",
       "650             NaN  \\n Job Description \\n \\n \\n \\n \\n  Cairo, Egypt   \n",
       "520             NaN  \\n Job Description \\n \\n \\n \\n \\n         Egypt   \n",
       "\n",
       "                company_name company_location  \\\n",
       "756   Acino International AG              NaN   \n",
       "5130      Hill International            Egypt   \n",
       "764   Acino International AG              NaN   \n",
       "650         Vodafone - Egypt            Egypt   \n",
       "520                MBC group              NaN   \n",
       "\n",
       "                        company_field           company_size  \\\n",
       "756   Other Business Support Services                    NaN   \n",
       "5130  Other Business Support Services  500 Employees or more   \n",
       "764   Other Business Support Services                    NaN   \n",
       "650   Other Business Support Services        50-99 Employees   \n",
       "520   Other Business Support Services                    NaN   \n",
       "\n",
       "     experience_needed career_level education_level gender       salary  \\\n",
       "756                NaN          NaN             NaN   both  Unspecified   \n",
       "5130               NaN          NaN             NaN   both  Unspecified   \n",
       "764                NaN          NaN             NaN   both  Unspecified   \n",
       "650                NaN          NaN             NaN   both  Unspecified   \n",
       "520                NaN          NaN             NaN   both  Unspecified   \n",
       "\n",
       "     skills_and_tools                                               link  \n",
       "756               NaN  https://www.bayt.com/en/egypt/jobs/business-le...  \n",
       "5130              NaN  https://www.bayt.com/en/egypt/jobs/mep-rail-sy...  \n",
       "764               NaN  https://www.bayt.com/en/egypt/jobs/medical-rep...  \n",
       "650               NaN  https://www.bayt.com/en/egypt/jobs/customer-so...  \n",
       "520               NaN  https://www.bayt.com/en/egypt/jobs/junior-lawy...  "
      ]
     },
     "execution_count": 25,
     "metadata": {},
     "output_type": "execute_result"
    }
   ],
   "source": [
    "df.sort_values('job_description').head()"
   ]
  },
  {
   "cell_type": "code",
   "execution_count": 26,
   "id": "a8dd33fd",
   "metadata": {},
   "outputs": [
    {
     "data": {
      "text/html": [
       "<div>\n",
       "<style scoped>\n",
       "    .dataframe tbody tr th:only-of-type {\n",
       "        vertical-align: middle;\n",
       "    }\n",
       "\n",
       "    .dataframe tbody tr th {\n",
       "        vertical-align: top;\n",
       "    }\n",
       "\n",
       "    .dataframe thead th {\n",
       "        text-align: right;\n",
       "    }\n",
       "</style>\n",
       "<table border=\"1\" class=\"dataframe\">\n",
       "  <thead>\n",
       "    <tr style=\"text-align: right;\">\n",
       "      <th></th>\n",
       "      <th>job_title</th>\n",
       "      <th>job_type</th>\n",
       "      <th>job_categories</th>\n",
       "      <th>job_description</th>\n",
       "      <th>job_location</th>\n",
       "      <th>company_name</th>\n",
       "      <th>company_location</th>\n",
       "      <th>company_field</th>\n",
       "      <th>company_size</th>\n",
       "      <th>experience_needed</th>\n",
       "      <th>career_level</th>\n",
       "      <th>education_level</th>\n",
       "      <th>gender</th>\n",
       "      <th>salary</th>\n",
       "      <th>skills_and_tools</th>\n",
       "      <th>link</th>\n",
       "    </tr>\n",
       "  </thead>\n",
       "  <tbody>\n",
       "    <tr>\n",
       "      <th>2326</th>\n",
       "      <td>Commercial Medico-Marketing Executive - Hurghada</td>\n",
       "      <td>Unspecified</td>\n",
       "      <td>NaN</td>\n",
       "      <td>\\n Job Description \\n \\n •Scheduling and plann...</td>\n",
       "      <td>Egypt</td>\n",
       "      <td>CADUCEUS LANE</td>\n",
       "      <td>NaN</td>\n",
       "      <td>Other Business Support Services</td>\n",
       "      <td>NaN</td>\n",
       "      <td>NaN</td>\n",
       "      <td>NaN</td>\n",
       "      <td>NaN</td>\n",
       "      <td>both</td>\n",
       "      <td>Unspecified</td>\n",
       "      <td>NaN</td>\n",
       "      <td>https://www.bayt.com/en/egypt/jobs/commercial-...</td>\n",
       "    </tr>\n",
       "    <tr>\n",
       "      <th>4704</th>\n",
       "      <td>Deep Learning Engineer</td>\n",
       "      <td>Unspecified</td>\n",
       "      <td>NaN</td>\n",
       "      <td>\\n Job Description \\n \\n ○ Perform state-of-th...</td>\n",
       "      <td>Cairo, Egypt</td>\n",
       "      <td>Contact Centers Company (CCC)</td>\n",
       "      <td>NaN</td>\n",
       "      <td>Other Business Support Services</td>\n",
       "      <td>NaN</td>\n",
       "      <td>NaN</td>\n",
       "      <td>NaN</td>\n",
       "      <td>NaN</td>\n",
       "      <td>both</td>\n",
       "      <td>Unspecified</td>\n",
       "      <td>NaN</td>\n",
       "      <td>https://www.bayt.com/en/egypt/jobs/deep-learni...</td>\n",
       "    </tr>\n",
       "    <tr>\n",
       "      <th>473</th>\n",
       "      <td>Graphic Designer</td>\n",
       "      <td>Unspecified</td>\n",
       "      <td>NaN</td>\n",
       "      <td>\\n Job Description \\n \\n ● Developing design b...</td>\n",
       "      <td>Egypt</td>\n",
       "      <td>NNCPR</td>\n",
       "      <td>NaN</td>\n",
       "      <td>Other Business Support Services</td>\n",
       "      <td>NaN</td>\n",
       "      <td>NaN</td>\n",
       "      <td>NaN</td>\n",
       "      <td>NaN</td>\n",
       "      <td>both</td>\n",
       "      <td>Unspecified</td>\n",
       "      <td>NaN</td>\n",
       "      <td>https://www.bayt.com/en/egypt/jobs/graphic-des...</td>\n",
       "    </tr>\n",
       "    <tr>\n",
       "      <th>219</th>\n",
       "      <td>مطلوب #استشاريين و #اخصائيين و #اخصائيات #طبيب...</td>\n",
       "      <td>Full Time Employee</td>\n",
       "      <td>Medical, Healthcare, and Nursing</td>\n",
       "      <td>\\n Job Description \\n \\n ✅#استشاري_عظام #لوكم ...</td>\n",
       "      <td>Egypt</td>\n",
       "      <td>maalina for recruitmen</td>\n",
       "      <td>Egypt</td>\n",
       "      <td>Medical &amp; Healthcare Equipment; Recruitment &amp; ...</td>\n",
       "      <td>10-49 Employees</td>\n",
       "      <td>NaN</td>\n",
       "      <td>NaN</td>\n",
       "      <td>NaN</td>\n",
       "      <td>both</td>\n",
       "      <td>Unspecified</td>\n",
       "      <td>\\n;Skills;\\n;حاصلين على زمالة - ودكتوراه - ماج...</td>\n",
       "      <td>https://www.bayt.com/en/egypt/jobs/%D9%85%D8%B...</td>\n",
       "    </tr>\n",
       "    <tr>\n",
       "      <th>90</th>\n",
       "      <td>Implementer</td>\n",
       "      <td>Full Time Employee</td>\n",
       "      <td>Accounting and Auditing</td>\n",
       "      <td>\\n Job Description \\n \\n 📌 Males only 📌 Gard's...</td>\n",
       "      <td>Egypt</td>\n",
       "      <td>Brandimic</td>\n",
       "      <td>Egypt</td>\n",
       "      <td>Business Consultancy Services</td>\n",
       "      <td>10-49 Employees</td>\n",
       "      <td>NaN</td>\n",
       "      <td>NaN</td>\n",
       "      <td>NaN</td>\n",
       "      <td>both</td>\n",
       "      <td>Unspecified</td>\n",
       "      <td>\\n;Skills;\\n;English language;Good speaking an...</td>\n",
       "      <td>https://www.bayt.com/en/egypt/jobs/implementer...</td>\n",
       "    </tr>\n",
       "  </tbody>\n",
       "</table>\n",
       "</div>"
      ],
      "text/plain": [
       "                                              job_title            job_type  \\\n",
       "2326   Commercial Medico-Marketing Executive - Hurghada         Unspecified   \n",
       "4704                             Deep Learning Engineer         Unspecified   \n",
       "473                                    Graphic Designer         Unspecified   \n",
       "219   مطلوب #استشاريين و #اخصائيين و #اخصائيات #طبيب...  Full Time Employee   \n",
       "90                                          Implementer  Full Time Employee   \n",
       "\n",
       "                        job_categories  \\\n",
       "2326                               NaN   \n",
       "4704                               NaN   \n",
       "473                                NaN   \n",
       "219   Medical, Healthcare, and Nursing   \n",
       "90             Accounting and Auditing   \n",
       "\n",
       "                                        job_description  job_location  \\\n",
       "2326  \\n Job Description \\n \\n •Scheduling and plann...         Egypt   \n",
       "4704  \\n Job Description \\n \\n ○ Perform state-of-th...  Cairo, Egypt   \n",
       "473   \\n Job Description \\n \\n ● Developing design b...         Egypt   \n",
       "219   \\n Job Description \\n \\n ✅#استشاري_عظام #لوكم ...         Egypt   \n",
       "90    \\n Job Description \\n \\n 📌 Males only 📌 Gard's...         Egypt   \n",
       "\n",
       "                       company_name company_location  \\\n",
       "2326                  CADUCEUS LANE              NaN   \n",
       "4704  Contact Centers Company (CCC)              NaN   \n",
       "473                           NNCPR              NaN   \n",
       "219          maalina for recruitmen            Egypt   \n",
       "90                        Brandimic            Egypt   \n",
       "\n",
       "                                          company_field     company_size  \\\n",
       "2326                    Other Business Support Services              NaN   \n",
       "4704                    Other Business Support Services              NaN   \n",
       "473                     Other Business Support Services              NaN   \n",
       "219   Medical & Healthcare Equipment; Recruitment & ...  10-49 Employees   \n",
       "90                        Business Consultancy Services  10-49 Employees   \n",
       "\n",
       "     experience_needed career_level education_level gender       salary  \\\n",
       "2326               NaN          NaN             NaN   both  Unspecified   \n",
       "4704               NaN          NaN             NaN   both  Unspecified   \n",
       "473                NaN          NaN             NaN   both  Unspecified   \n",
       "219                NaN          NaN             NaN   both  Unspecified   \n",
       "90                 NaN          NaN             NaN   both  Unspecified   \n",
       "\n",
       "                                       skills_and_tools  \\\n",
       "2326                                                NaN   \n",
       "4704                                                NaN   \n",
       "473                                                 NaN   \n",
       "219   \\n;Skills;\\n;حاصلين على زمالة - ودكتوراه - ماج...   \n",
       "90    \\n;Skills;\\n;English language;Good speaking an...   \n",
       "\n",
       "                                                   link  \n",
       "2326  https://www.bayt.com/en/egypt/jobs/commercial-...  \n",
       "4704  https://www.bayt.com/en/egypt/jobs/deep-learni...  \n",
       "473   https://www.bayt.com/en/egypt/jobs/graphic-des...  \n",
       "219   https://www.bayt.com/en/egypt/jobs/%D9%85%D8%B...  \n",
       "90    https://www.bayt.com/en/egypt/jobs/implementer...  "
      ]
     },
     "execution_count": 26,
     "metadata": {},
     "output_type": "execute_result"
    }
   ],
   "source": [
    "df.sort_values('job_description').tail()"
   ]
  },
  {
   "cell_type": "code",
   "execution_count": 27,
   "id": "9efce68c",
   "metadata": {},
   "outputs": [
    {
     "data": {
      "text/plain": [
       "0"
      ]
     },
     "execution_count": 27,
     "metadata": {},
     "output_type": "execute_result"
    }
   ],
   "source": [
    "df['job_description'].isnull().sum()"
   ]
  },
  {
   "cell_type": "markdown",
   "id": "e198fc21",
   "metadata": {},
   "source": [
    "#### Job location Column"
   ]
  },
  {
   "cell_type": "code",
   "execution_count": 28,
   "id": "0e2b479b",
   "metadata": {},
   "outputs": [
    {
     "data": {
      "text/plain": [
       "array(['10th of Ramadan, Cairo , Egypt', 'Alexandria, Egypt', 'Egypt',\n",
       "       'Nasr City, Cairo , Egypt', 'Cairo, Egypt',\n",
       "       'Badr City, Cairo , Egypt', '6th of October, Cairo , Egypt',\n",
       "       'Maadi, Cairo , Egypt', 'Sheraton El Salam, Cairo , Egypt',\n",
       "       'Giza, Cairo , Egypt', 'Helwan, Cairo , Egypt',\n",
       "       'As Sayyidah Zaynab, Cairo , Egypt',\n",
       "       'Mahatet El Raml, Alexandria , Egypt', 'New Cairo, Cairo , Egypt',\n",
       "       'Mansoura, Egypt', 'Menoufia, Egypt', 'Heliopolis, Cairo , Egypt',\n",
       "       'Port Said, Egypt', 'Suez, Egypt', 'Qena, Egypt',\n",
       "       'Smart Village, Cairo , Egypt', 'Obour City, Cairo , Egypt',\n",
       "       'Al Alamayn, Egypt', 'Kafr El Sheikh, Egypt',\n",
       "       'Borg El Arab, Alexandria , Egypt', 'Almazah, Cairo , Egypt',\n",
       "       'Agami, Alexandria , Egypt', 'Mokattam, Cairo , Egypt',\n",
       "       'Mandara, Alexandria , Egypt', 'Faisal, Cairo , Egypt',\n",
       "       'Dahab, Egypt', 'Sidi Bishr, Alexandria , Egypt', 'Tanta, Egypt',\n",
       "       'Madinat as Sadat, Cairo , Egypt', 'Asyut, Egypt',\n",
       "       'Sharm el Sheikh, Egypt', 'Luxor, Egypt', 'Damietta, Egypt',\n",
       "       'Ismailia, Egypt', 'Sohag, Egypt', 'Aswan, Egypt'], dtype=object)"
      ]
     },
     "execution_count": 28,
     "metadata": {},
     "output_type": "execute_result"
    }
   ],
   "source": [
    "df['job_location'].unique()"
   ]
  },
  {
   "cell_type": "code",
   "execution_count": 29,
   "id": "68b7d60b",
   "metadata": {
    "scrolled": true
   },
   "outputs": [
    {
     "data": {
      "text/plain": [
       "41"
      ]
     },
     "execution_count": 29,
     "metadata": {},
     "output_type": "execute_result"
    }
   ],
   "source": [
    "df['job_location'].nunique()"
   ]
  },
  {
   "cell_type": "code",
   "execution_count": 30,
   "id": "8937a249",
   "metadata": {},
   "outputs": [
    {
     "data": {
      "text/plain": [
       "Cairo, Egypt                           3907\n",
       "Egypt                                  1312\n",
       "Alexandria, Egypt                       380\n",
       "Suez, Egypt                              26\n",
       "Luxor, Egypt                             22\n",
       "Sharm el Sheikh, Egypt                   14\n",
       "Heliopolis, Cairo , Egypt                13\n",
       "Nasr City, Cairo , Egypt                 11\n",
       "Asyut, Egypt                              9\n",
       "Port Said, Egypt                          8\n",
       "Menoufia, Egypt                           8\n",
       "New Cairo, Cairo , Egypt                  8\n",
       "10th of Ramadan, Cairo , Egypt            6\n",
       "Giza, Cairo , Egypt                       6\n",
       "Maadi, Cairo , Egypt                      5\n",
       "6th of October, Cairo , Egypt             5\n",
       "Obour City, Cairo , Egypt                 3\n",
       "Borg El Arab, Alexandria , Egypt          2\n",
       "Mansoura, Egypt                           2\n",
       "Mahatet El Raml, Alexandria , Egypt       2\n",
       "Damietta, Egypt                           2\n",
       "Ismailia, Egypt                           2\n",
       "Badr City, Cairo , Egypt                  2\n",
       "Faisal, Cairo , Egypt                     1\n",
       "Sohag, Egypt                              1\n",
       "Madinat as Sadat, Cairo , Egypt           1\n",
       "Tanta, Egypt                              1\n",
       "Sidi Bishr, Alexandria , Egypt            1\n",
       "Dahab, Egypt                              1\n",
       "Smart Village, Cairo , Egypt              1\n",
       "Mandara, Alexandria , Egypt               1\n",
       "Mokattam, Cairo , Egypt                   1\n",
       "Agami, Alexandria , Egypt                 1\n",
       "Almazah, Cairo , Egypt                    1\n",
       "Kafr El Sheikh, Egypt                     1\n",
       "Al Alamayn, Egypt                         1\n",
       "Qena, Egypt                               1\n",
       "As Sayyidah Zaynab, Cairo , Egypt         1\n",
       "Helwan, Cairo , Egypt                     1\n",
       "Sheraton El Salam, Cairo , Egypt          1\n",
       "Aswan, Egypt                              1\n",
       "Name: job_location, dtype: int64"
      ]
     },
     "execution_count": 30,
     "metadata": {},
     "output_type": "execute_result"
    }
   ],
   "source": [
    "df['job_location'].value_counts()"
   ]
  },
  {
   "cell_type": "code",
   "execution_count": 31,
   "id": "96e7872d",
   "metadata": {},
   "outputs": [
    {
     "data": {
      "text/plain": [
       "0"
      ]
     },
     "execution_count": 31,
     "metadata": {},
     "output_type": "execute_result"
    }
   ],
   "source": [
    "df['job_location'].isnull().sum()"
   ]
  },
  {
   "cell_type": "markdown",
   "id": "4a68929a",
   "metadata": {},
   "source": [
    "#### Company Name Column"
   ]
  },
  {
   "cell_type": "code",
   "execution_count": 32,
   "id": "07b23df5",
   "metadata": {},
   "outputs": [
    {
     "data": {
      "text/plain": [
       "array(['silk route', 'iLAW', 'TH For Transport & General Supplies',\n",
       "       'ابتكارات التطوير', 'Confidential Company', 'be-steam',\n",
       "       'مكتب المنظور الشامل للاستشارات الهندسيه',\n",
       "       'Dawlia21 For producing colored aluminum profiles',\n",
       "       'SARAYA-ELALFY GROUP', 'El-Maaly Egypt', 'New Turquoise Palace',\n",
       "       'Memphis', 'On Time Advertising', 'Giza Systems', 'kyanlabs',\n",
       "       'The Oriental Bookshop', 'Hala Consulting', 'Social Web',\n",
       "       'Mena Business Investment Group', 'Reveil', 'Al Futtaim Group',\n",
       "       'شركه الصفا و المروه', 'Palm Hills Developments',\n",
       "       'World Food Program - Other locations',\n",
       "       'Paradise Inn Group Le Metropole, Windsor Palace , Paradise Inn Resort Maamoura',\n",
       "       'Amazon MENA', 'شركة ريال فريندز لإدارة النوادي الصحية والرياضية',\n",
       "       'OVERSEAS', 'YallaMotor', 'YMS', 'Tea House',\n",
       "       'Raya Holding for Financial Investments', 'Digitalouco',\n",
       "       'dome fdh', 'Alshaya Group',\n",
       "       'الرواد العرب لتوظيف المصريين بالخارج', 'Trillium Preschool',\n",
       "       'Green Apple', 'المكتب الامريكي USFAAF', 'Agility',\n",
       "       'Vantage Travel International',\n",
       "       '3e egyptian co for engineering equipments', 'Tathkarah',\n",
       "       'Haroon For Consulting', 'المصرية',\n",
       "       'جمعيه المستقبل للتمويل الاصغر', 'dmv real estates',\n",
       "       'Modern system for software development',\n",
       "       'Americana Group - Egypt', 'Alshrouk Trading', 'OLX Egypt',\n",
       "       'International Law Firm', 'Beyond', 'Elevance',\n",
       "       'El Azzab Group A To Z', 'Rockdal', 'Blackstone eiT', 'malakia',\n",
       "       'المصرية الصينية للبوليستر', 'Brandimic',\n",
       "       'مكتب يحيى مهران - للمحاسبة المراجعة', 'high end',\n",
       "       'Burger King -Egypt', 'Nafham by Tyro', 'Asia', 'Property Network',\n",
       "       'Al Raed For Modern Construction', 'فيول', 'RecruitMe Plus',\n",
       "       'laranj', 'VAS Integrated Solutions', 'Rawaj HCM', 'ROCOL EGYPT',\n",
       "       'Hazem Mansour for Engineering Service', 'Flint Consulting Ltd',\n",
       "       'jewelryboxjb', 'انجاز', 'Teba Import & Export',\n",
       "       'European Talent Hub', 'Talent School', 'مؤسسة وادي المقطورة',\n",
       "       'Sany Group', 'يقين جروب لتوريد العمالة بالداخل', 'TCL ALFA',\n",
       "       'Master for contracting', 'Jafeer Technologies', 'الفريده هوم',\n",
       "       'ETA for engineering, Trading and Agency',\n",
       "       'Action Zone Paintball &Fun Park', 'Man Crew', 'digitalcorner',\n",
       "       'A&M International for Engineering works LLC', 'مايلز',\n",
       "       'حلول المطابخ', 'اماز للتسويق الرقمي والبرمجة', 'Elmasry hospital',\n",
       "       'Order king', 'Al Eman for installment',\n",
       "       'Al-Amal Foodstuff Company', 'IPG Telecom', 'Fine Group',\n",
       "       'عيادة دكتور حازم المهندس للامراض الجلدية والتجميل',\n",
       "       'University of East London', 'العطاء و النور للتجارة و التوزيع',\n",
       "       '4level1', 'GE Power',\n",
       "       'Drivien transport logisties services Co.ltd',\n",
       "       'Tropitel Hotels & Resorts', 'Akwad',\n",
       "       'شركة البدوي للتوظيف/ Albadwy Recruitment', 'Bayt.com',\n",
       "       'Black & Grey HR', 'Future Pipe Industries',\n",
       "       'RTC1 Recruitment Services', 'Andalusia Careers',\n",
       "       'consultancy for new systems', 'maalina for recruitmen',\n",
       "       'Ernst & Young - MENA', 'LLCEG', 'Pepsico', 'Ericsson',\n",
       "       'Vodafone - Egypt', 'Citi bank', 'Four Seasons Hotels and Resorts',\n",
       "       'Unilever', 'Dell', 'IBM WTC Egypt',\n",
       "       'Marriott International, Inc & Ritz Carlton Hotel Company L.L.C.',\n",
       "       'Path Solutions', 'Henkel', 'Luxoft', 'Property Finder Egypt',\n",
       "       'GUC', 'Envisions Employment Solutions', 'MaxAB', 'ALPLA',\n",
       "       'Mondelez International', 'AstraZeneca', 'The Coca-Cola Company',\n",
       "       'Fugro', 'Kuehne & Nagel Logistics', 'PwC Middle East',\n",
       "       'Dentsu Inc.', 'EY', 'Viatris Inc',\n",
       "       'United Nations Development Programme', 'Future Group', 'RAWAJ',\n",
       "       'HSBC', 'Pathfinder International', 'Talents Mine',\n",
       "       'Japanese Tobacco International', 'PaxeraHealth Corp', 'InstaShop',\n",
       "       'Chalhoub Group', 'Giza Arabia Systems', 'General Pants Co.',\n",
       "       'Valeo North America', 'Housing Bank for Trade and Finance',\n",
       "       'Sandoz', 'AKQA São Paulo', 'SEGMATEK', 'Consultancy',\n",
       "       'PricewaterhouseCoopers', 'Shift EV', 'Reliance Health, Inc',\n",
       "       'Esaal', 'BrainCX', 'Sharwa', 'CIPPO Egypt', 'Nutreco',\n",
       "       'XPAY Solutions', 'Siemens', 'Security and Safety Things',\n",
       "       'SAP - Germany', 'Majed el Futtiam',\n",
       "       'Contact Centers Company (CCC)', 'Talent 360', 'Sary', 'Tagaddod',\n",
       "       'Nile Bits, LLC.', 'OLX MENA - EMPG company', 'Instabug',\n",
       "       'Novartis Group.', 'Acino', 'GSK Group of Companies', 'Algoriza',\n",
       "       'Jotun - Egypt', 'Cyshield', 'Homzmart', 'Dailymealz',\n",
       "       'CyShield For Technology', 'Bupa', 'On-Hire', 'Accor Hotels',\n",
       "       'Seventh Generation Inc.', 'Foodics', 'General Electric', 'AKQA',\n",
       "       'MAJID AL FUTTAIM', 'Nagwa', 'FAO', 'sceel.io GmbH',\n",
       "       'Education Development Center', 'Tdxpert', 'Tireco, Inc',\n",
       "       'Dentsu Inc', 'SPIRULA', 'HIRED', 'PaxeraHealth',\n",
       "       'Commercial International Group', 'EgyGamer LLC.', 'Creadits',\n",
       "       'KONE France', 'Cotecna Group', 'Trufla Technology Ltd.',\n",
       "       'Wadi Group', 'Philips', 'MediaMonks', 'Publicis Groupe',\n",
       "       'PILLARS CONSULTANCY & RECRUITMENT', 'Oxbridge School', 'NNCPR',\n",
       "       'CX Customer Experience', 'PwC', 'Nestle Cwa', 'Shell Oil Company',\n",
       "       'Shell', 'Nokhc', 'Aramex International', 'Unionengineering',\n",
       "       'Thyssenkruppdelicate', 'UNDRR Arab States',\n",
       "       'El Sewedy Electric Company', 'Tucows', 'Orange Digital Ventures',\n",
       "       'Adidas Group', 'PAE', 'Hewlett Packard Enterprise', 'Cisco',\n",
       "       'MBC group', 'Medtronic', 'MN Mobile Networks', 'Ecolab',\n",
       "       'DXC.technology', 'Cibeg', 'Talabat', 'Givaudan', 'Heineken',\n",
       "       'Publicis Group', 'citPEAK', 'Archerirm', 'Mondia Group',\n",
       "       'EFS Facilities Services Group', 'Leo Burnett',\n",
       "       'Plan International', 'World Health Org',\n",
       "       'Misr Technology Services', 'Arrowwood Resort', 'Assembly',\n",
       "       'VMware, Inc', 'Novartis ÖSterreich', 'KONE',\n",
       "       'Hilton Worldwide Holdings Inc', 'IFFCO',\n",
       "       'Japan Tobacco International', 'ARPUPLUS', 'Air Liquide',\n",
       "       'Money Fellows', 'Sanofi', 'Informa PLC', 'Concentrix Corporation',\n",
       "       'Flutterwave', 'Jamjoom Pharma', 'CARMA', 'KnowledgeNet',\n",
       "       'Egis Group', 'Aramex', 'Central Specialties, Inc.',\n",
       "       'Willis Towers Watson plc', 'Jones Lang LaSalle Incorporated',\n",
       "       'Thales e-Security, Inc.', 'Oracle - Egypt', 'GSEC',\n",
       "       'GSK - Other locations', 'Thales Group', 'Halliburton', 'DHL',\n",
       "       'Philip Morris Internationl', 'CNS Cloud and Network Services',\n",
       "       'DISCOVERED', 'McKinsey & Company', 'Jones Lang LaSalle IP, Inc',\n",
       "       'Diversey Holdings, Ltd.', 'Pentavalue', 'Alexandria Industries',\n",
       "       'Kone Ag', 'Dentsu International', \"Nando''s Australia PTY LTD\",\n",
       "       'O7 Therapy', 'NCR', 'Sarmad', 'AUMET Inc.', 'Halian',\n",
       "       'Nintex UK Ltd', 'Khatib & Alami', 'Acino International AG',\n",
       "       'Kone', 'Mondia Media', 'Fusion Academy', 'Silicon Mind',\n",
       "       'Passionately Pets', 'Strategic Gears', 'Mondia', 'Ahm Hotels',\n",
       "       'Rubikal', 'Li & Fung Limited', 'Siemens Gamesa Renewable Energy',\n",
       "       'EVONIK', 'Siemens Industry Software GmbH', 'Teradata',\n",
       "       'Raya Trade & Distribution', 'Atomica', 'NowPay', 'Roche',\n",
       "       'Wego Pte Ltd', 'Majorel Egypt', 'Bayzat', 'FieldCore, Inc.',\n",
       "       'Archirodon', 'Afreximbank', 'Arrow Security and Training',\n",
       "       'Kantar Worldpanel', 'Brainnest', 'MGM Resorts', 'Evapharma So',\n",
       "       'TKH Student Group', 'ArchirodonGroup',\n",
       "       'Silverado Senior Living, Inc.', 'Voltalia SA', 'Enozom',\n",
       "       'Rewaa Technology Company', 'Digisay', 'Arrow Electronics, Inc',\n",
       "       'Cequens', 'Premier Services and Recruitment',\n",
       "       'BlueCloud Technologies', 'Klivvr',\n",
       "       'International Labour Organization', 'Infomineo', 'Saladplate',\n",
       "       'MRSOOL Inc', 'Tamara', 'b_labs',\n",
       "       'AlAlamein International University',\n",
       "       'Chevron Lubricants Lanka PLC',\n",
       "       'Novartis Pharmaceuticals (HK) Limited',\n",
       "       'Souq.com for E-Commerce LLC', 'CME', 'Grant Thornton',\n",
       "       'Albostany for real estate', 'Sarhan Inc', 'LXT',\n",
       "       'Signify Holding', 'Nielsen Consumer LLC', 'DigiSay',\n",
       "       'ShipBlu Technology', 'Geotech', 'ARIA Technologies', 'ABK',\n",
       "       'IQVIA', 'ISEC - Intelligent Security Solutions', 'Worley group',\n",
       "       'Locaria', 'WorkMotion', 'Azdan Business Analytics',\n",
       "       'GEMS Group Holdings Limited', 'Unilever Kenya Ltd.',\n",
       "       'CommuniCare Health', 'Sanofi-Aventis Deutschland GmbH', 'Yodawy',\n",
       "       'Unilever Schweiz GmbH', 'Halliburton Energy Services, Inc.',\n",
       "       'RSA', 'SC Johnson', 'Worley Parsons', 'Systra',\n",
       "       'United Nations Development Program', 'Ekaterratea',\n",
       "       'Liquidity Finder Limited', 'Adidas AG', 'Cairo Festival City',\n",
       "       'Pepsi Co', 'Tamweely Microfinance', 'Agcmn',\n",
       "       'The Louisiana State University', 'The Knowledge Hub Universities',\n",
       "       'Integrant', 'dopay', 'RemotePass', 'Navigatebp', 'Wabtec',\n",
       "       'National Oilwell Varco, Inc.', 'GreatAuPair, LLC',\n",
       "       'Schneiderelectricrepair', 'Jones Lang LaSalle SAS', 'Novartis AG',\n",
       "       'Azdan Business Analytics DMCC', 'VMware, Inc.', 'Petco', 'Careem',\n",
       "       'Alshaya Trade', 'Rotana Hotel Management Corporation',\n",
       "       'Siemens AG', 'Alstom Transportation, Inc.', 'Amgen Inc',\n",
       "       'Itinerishr', 'Alexandria Area Economic Development Commission',\n",
       "       'Reece Ltd', 'ARB Call Facilities, Inc.', 'Axa Egypt',\n",
       "       'Development Alternatives Inc', 'Under Armour, Inc.', 'Sylndr',\n",
       "       'StatsBomb Services Limited', 'nexAir LLC.', 'the ENTERTAINER',\n",
       "       'NUMRAH', 'CROSSBOUNDARY GROUP', 'Baheya Hospital',\n",
       "       'Acino and Aspen Pharmacare Holdings Limited',\n",
       "       'Grand Rotana Resort & Spa', 'Assembly Global',\n",
       "       'Jumia Technologies AG', 'GSD', 'AMIT Experts', 'Talabat.com',\n",
       "       'DANONE', 'AKWAD', 'Rackspace', 'Sumerge', 'Hitachi Energy Ltd',\n",
       "       'Integrant, Inc.', 'Farmers Home Furniture',\n",
       "       'Applied Research Associates', 'Thyssenkrupp Steel', 'Zenith USA',\n",
       "       'Zenith', 'Arabyads', 'robusta', 'Semiengineering', 'Alsco Inc.',\n",
       "       'Nestlé', 'CADUCEUS LANE', 'PepsiCo, Inc.',\n",
       "       'Antal International - Egypt', 'SNC-Lavalin Fayez Engineering',\n",
       "       'Daimler AG', 'Maersk Line Limited', 'Orascomhd',\n",
       "       'Poverty Action Lab', 'S.C. Johnson & Son Inc', 'Trend Micro',\n",
       "       'Mercedes-Benz AG', 'StatsBomb Inc', 'Beyti Egypt', 'savetime',\n",
       "       'Sportline Co.', 'Aqarmap', 'Mandiant, Inc.',\n",
       "       'Danville Community College', 'Whitecollars',\n",
       "       'Procore Technologies, Inc', 'Orchidiapharma', 'NNC.',\n",
       "       'Baker Hughes Digital Solutions', 'Fleet Farm',\n",
       "       'Visasoutheasteurope', 'Addus', 'Marsh McLennan', 'Unilever PLC',\n",
       "       'Tribexdigital', 'Visa Inc.', 'Aumet, Inc', 'The Universal Group',\n",
       "       'SNC-Lavalin', 'Elsevier', 'Arrow', 'Baker Hughes',\n",
       "       'Kyan Marketing solutions', '500 Global', 'EMAS',\n",
       "       'Axios International', 'Xator Corporation', 'Rabbit Mart',\n",
       "       'Mace Group', 'EgyBell Outsourcing and Payroll Solutions',\n",
       "       'Newcross Healthcare Solutions', 'TransPioneers', 'RELX Group plc',\n",
       "       'H.B. Fuller', 'Education Development Center, Inc.',\n",
       "       'Twinkl Limited', 'Sabre', 'Areeba',\n",
       "       'CATS Applicant Tracking System', 'Energizer Holdings, Inc',\n",
       "       'Mavericks Hub', 'Minly',\n",
       "       'Mercedes-Benz Financial Services Australia Pty. Ltd.', 'TIE',\n",
       "       'Yassir', 'Affinity Plus Federal Credit Union', 'Battelle U K Ltd',\n",
       "       'Mastercard', 'LxT AI', 'Sitel Corp.', 'Novartis', 'IDC',\n",
       "       'Unifonic', 'Emdad', 'Swenson He', 'Faydety', 'Khazna Tech',\n",
       "       'Foreground Consultancy', 'Bob Sumerel Tire & Service Inc',\n",
       "       'Future Pipe Group', 'GfK GeoMarketing GmbH', 'GoTrah', 'CLSLearn',\n",
       "       'Promech Solutions', 'Micro Engineering Tech Inc',\n",
       "       'Strategic Gears Management Consultancy', 'odootec',\n",
       "       'Tempo Interactive Inc.', 'Aumet, Inc.', 'GFK', 'Udacity, Inc.',\n",
       "       'Maurices Inc.', 'Sutherland', 'Arpu Telecommunication Services',\n",
       "       'Pharco Corporation', 'Azadea Group', 'FIRST',\n",
       "       'ManTech International', 'Tetra Tech, Inc.',\n",
       "       'Pixelogic Media Partners, LLC', 'Informa plc', 'Uplift Plus',\n",
       "       'Grifols', 'Dsquares', 'Joinfiveguys', 'Create Group', 'El Dokan',\n",
       "       'Outseer', 'Search for Common Ground',\n",
       "       'Meeting Point International', 'Staples, Inc.',\n",
       "       'Kantar Group and Affiliates', 'Virtual Worker Now, Inc',\n",
       "       'NI Network Infrastructure', 'DLOCAL',\n",
       "       'Procore Technologies, Inc.', 'Air Products Inc.', 'Jumia',\n",
       "       'Trella', 'GOMYCODE HOLDING B.V', 'Lucidya',\n",
       "       'AVECO - Advanced Ventures for Engineering & Contracting',\n",
       "       'Mavericks School', 'Amva.Dev', 'Twinkl', 'Zilla Capital',\n",
       "       'Gadventures', 'LSU Eunice', 'Equinix, Inc.', 'Grub Tech FZ LLC',\n",
       "       'Stllr', 'Coda Payments Pte. Ltd.', 'udacity',\n",
       "       'Orange - Other locations', 'WEAVEWORKS', 'Edvectus',\n",
       "       'ECONSTRUCT DESIGN & BUILD Pvt Ltd.', 'Nana', 'Nana Direct',\n",
       "       'Hill International', 'Proto Global Ltd', 'Flextock',\n",
       "       'OneHealth, Inc', 'NVFS Company', 'Danaher', 'Link Development',\n",
       "       'Spa Staff.com', 'e.construct Fz LLC', 'Temenos Headquarters',\n",
       "       'GIZA Systems', 'CPO Chief People Office',\n",
       "       'Bridgestone Corporation', 'Eagle chemicals', 'Agoda',\n",
       "       'UrbanPiper', 'Luxor Rotana Resort & Spa',\n",
       "       'Rotana - North Coast, Egypt', 'ManTech', 'Tabby', 'eksab',\n",
       "       'Optasia', 'partner & more', 'Logicom Group', 'Kantar Australia',\n",
       "       'Silverback Strategies'], dtype=object)"
      ]
     },
     "execution_count": 32,
     "metadata": {},
     "output_type": "execute_result"
    }
   ],
   "source": [
    "df['company_name'].unique()"
   ]
  },
  {
   "cell_type": "code",
   "execution_count": 33,
   "id": "48470f5e",
   "metadata": {},
   "outputs": [
    {
     "data": {
      "text/plain": [
       "612"
      ]
     },
     "execution_count": 33,
     "metadata": {},
     "output_type": "execute_result"
    }
   ],
   "source": [
    "df['company_name'].nunique()"
   ]
  },
  {
   "cell_type": "code",
   "execution_count": 34,
   "id": "1c82844b",
   "metadata": {
    "scrolled": true
   },
   "outputs": [
    {
     "data": {
      "text/plain": [
       "EgyGamer LLC.                             2183\n",
       "Talents Mine                               134\n",
       "Giza Systems                                76\n",
       "Raya Holding for Financial Investments      75\n",
       "RAWAJ                                       72\n",
       "                                          ... \n",
       "Pentavalue                                   1\n",
       "Diversey Holdings, Ltd.                      1\n",
       "DISCOVERED                                   1\n",
       "DHL                                          1\n",
       "Silverback Strategies                        1\n",
       "Name: company_name, Length: 612, dtype: int64"
      ]
     },
     "execution_count": 34,
     "metadata": {},
     "output_type": "execute_result"
    }
   ],
   "source": [
    "df['company_name'].value_counts()"
   ]
  },
  {
   "cell_type": "code",
   "execution_count": 35,
   "id": "5d369d48",
   "metadata": {},
   "outputs": [
    {
     "data": {
      "text/plain": [
       "6"
      ]
     },
     "execution_count": 35,
     "metadata": {},
     "output_type": "execute_result"
    }
   ],
   "source": [
    "df['company_name'][df['company_name'] == 'Confidential Company'].count()"
   ]
  },
  {
   "cell_type": "code",
   "execution_count": 36,
   "id": "cfd2d2d4",
   "metadata": {},
   "outputs": [
    {
     "data": {
      "text/plain": [
       "0"
      ]
     },
     "execution_count": 36,
     "metadata": {},
     "output_type": "execute_result"
    }
   ],
   "source": [
    "df['company_name'].isnull().sum()"
   ]
  },
  {
   "cell_type": "markdown",
   "id": "75491093",
   "metadata": {},
   "source": [
    "#### Company Location Column"
   ]
  },
  {
   "cell_type": "code",
   "execution_count": 37,
   "id": "7f9b6226",
   "metadata": {
    "scrolled": true
   },
   "outputs": [
    {
     "data": {
      "text/plain": [
       "array(['Egypt - Cairo', 'United Arab Emirates - Dubai', 'Egypt', nan,\n",
       "       'Egypt - Cairo - Nasr City', 'Saudi Arabia',\n",
       "       'United Arab Emirates - Abu Dhabi', '500 Employees or more',\n",
       "       'Egypt - Alexandria - Mahatet El Raml', 'Egypt - Alexandria',\n",
       "       'Egypt - Qena', 'Egypt - Cairo - Heliopolis', '1-9 Employees',\n",
       "       'Egypt - Cairo - 6th of October', 'Saudi Arabia - Riyadh',\n",
       "       'Saudi Arabia - Riyadh - Ar Rayyan', 'Qatar - Doha',\n",
       "       'Egypt - Alexandria - Borg El Arab', 'United Kingdom - London',\n",
       "       'Egypt - Mansoura', 'United States - South Boston',\n",
       "       '100-499 Employees', 'United Arab Emirates', 'Egypt - Asyut',\n",
       "       'Sweden', 'Canada - Ontario', 'United States - Texas - Round Rock',\n",
       "       'Germany', 'United States - Massachusetts - Boston', 'Netherlands',\n",
       "       'United States - California - San Francisco',\n",
       "       'United States - Minnesota - Minneapolis',\n",
       "       'United States - Minnesota - Saint Paul',\n",
       "       'United States - Virginia', 'Saudi Arabia - Jeddah',\n",
       "       'United States - Texas - Houston', 'Switzerland',\n",
       "       'United States - New Jersey'], dtype=object)"
      ]
     },
     "execution_count": 37,
     "metadata": {},
     "output_type": "execute_result"
    }
   ],
   "source": [
    "df['company_location'].unique()"
   ]
  },
  {
   "cell_type": "code",
   "execution_count": 38,
   "id": "6c369fcd",
   "metadata": {
    "scrolled": true
   },
   "outputs": [
    {
     "data": {
      "text/plain": [
       "37"
      ]
     },
     "execution_count": 38,
     "metadata": {},
     "output_type": "execute_result"
    }
   ],
   "source": [
    "df['company_location'].nunique()"
   ]
  },
  {
   "cell_type": "code",
   "execution_count": 39,
   "id": "27cc6351",
   "metadata": {},
   "outputs": [
    {
     "data": {
      "text/plain": [
       "Egypt - Cairo                                 356\n",
       "Egypt                                         328\n",
       "Saudi Arabia                                   56\n",
       "Germany                                        52\n",
       "United Arab Emirates - Abu Dhabi               43\n",
       "Canada - Ontario                               29\n",
       "United Arab Emirates - Dubai                   24\n",
       "United Kingdom - London                        19\n",
       "Egypt - Cairo - Heliopolis                     11\n",
       "Sweden                                         11\n",
       "United States - New Jersey                      8\n",
       "United States - Massachusetts - Boston          7\n",
       "Egypt - Cairo - 6th of October                  6\n",
       "Egypt - Alexandria                              6\n",
       "500 Employees or more                           5\n",
       "United States - Texas - Houston                 4\n",
       "United States - Texas - Round Rock              4\n",
       "Switzerland                                     3\n",
       "Netherlands                                     3\n",
       "Egypt - Cairo - Nasr City                       3\n",
       "1-9 Employees                                   3\n",
       "Egypt - Alexandria - Mahatet El Raml            2\n",
       "100-499 Employees                               2\n",
       "United Arab Emirates                            1\n",
       "Egypt - Asyut                                   1\n",
       "United States - South Boston                    1\n",
       "Egypt - Qena                                    1\n",
       "Egypt - Alexandria - Borg El Arab               1\n",
       "Qatar - Doha                                    1\n",
       "United States - California - San Francisco      1\n",
       "United States - Minnesota - Minneapolis         1\n",
       "United States - Minnesota - Saint Paul          1\n",
       "United States - Virginia                        1\n",
       "Saudi Arabia - Jeddah                           1\n",
       "Saudi Arabia - Riyadh - Ar Rayyan               1\n",
       "Saudi Arabia - Riyadh                           1\n",
       "Egypt - Mansoura                                1\n",
       "Name: company_location, dtype: int64"
      ]
     },
     "execution_count": 39,
     "metadata": {},
     "output_type": "execute_result"
    }
   ],
   "source": [
    "df['company_location'].value_counts()"
   ]
  },
  {
   "cell_type": "code",
   "execution_count": 40,
   "id": "1d21b36e",
   "metadata": {},
   "outputs": [
    {
     "data": {
      "text/plain": [
       "4774"
      ]
     },
     "execution_count": 40,
     "metadata": {},
     "output_type": "execute_result"
    }
   ],
   "source": [
    "df['company_location'].isnull().sum()"
   ]
  },
  {
   "cell_type": "markdown",
   "id": "fd6c9b18",
   "metadata": {},
   "source": [
    "#### Company Field Column"
   ]
  },
  {
   "cell_type": "code",
   "execution_count": 41,
   "id": "006d4122",
   "metadata": {},
   "outputs": [
    {
     "data": {
      "text/plain": [
       "array(['Perfume & Cosmetics', 'Law Firm; Marketing', 'Insurance & TPA',\n",
       "       'Accounting', 'Construction & Building',\n",
       "       'Computer Hardware & High-Tech Manufacture; Hardware & Building Materials; Software Development',\n",
       "       'General Engineering Consultancy', 'Manufacturing',\n",
       "       'Graphic Design; Virtual Assistant Services; Computer Hardware & High-Tech Manufacture',\n",
       "       'Jewelry & Gold; Advertising', 'Travel Agency',\n",
       "       'Distribution, Supply Chain & Logistics',\n",
       "       'Administration Support Services',\n",
       "       'Pharmaceutical Manufacturing; Advertising; Sales Outsourcing',\n",
       "       '--', 'Software Development',\n",
       "       'Distribution, Supply Chain & Logistics; Medical & Healthcare Equipment',\n",
       "       'Call Centers & Customer Care Outsourcing',\n",
       "       'Internet & E-commerce',\n",
       "       'Construction & Building; Electric Power Production & Transmission',\n",
       "       'Motor Vehicle Passenger Transport', 'Fashion & Apparel',\n",
       "       'Recruitment & Employee Placement Agency', 'Real Estate',\n",
       "       'Non-profit Organization', 'Hospitality & Accomodation',\n",
       "       'Other Healthcare Services', 'Marketing', 'IT Services',\n",
       "       'Investment, Securities & Funds; Banking', 'Medical Hospital',\n",
       "       'Catering, Food Service, & Restaurant',\n",
       "       'Food & Beverage Production',\n",
       "       'Graphic Design; Video & Film Production', 'Civil Engineering',\n",
       "       'Food & Beverage Production; Catering, Food Service, & Restaurant',\n",
       "       'Higher Education', 'Medical Clinic',\n",
       "       'Veterinary Hospital & Clinic', 'Economics & Financial Consulting',\n",
       "       'Heavy Industry & Metallurgy; Mechanical Engineering',\n",
       "       'Tourism, Museum, & Cultural', 'Business Consultancy Services',\n",
       "       'Public Administration', 'Marketing; Sales Outsourcing',\n",
       "       'Other Healthcare Services; Software Development', 'FMCG',\n",
       "       'Trading & Commodity Trading; Manufacturing',\n",
       "       'Internet & E-commerce; Real Estate',\n",
       "       'Investment, Securities & Funds',\n",
       "       'Management Consulting; Business Consultancy Services',\n",
       "       'Real Estate; Law Firm', 'Banking',\n",
       "       'Internet & E-commerce; Software Development',\n",
       "       'Industrial Production', 'Retail & Wholesale',\n",
       "       'Primary, Prep, & Secondary School', 'Management Consulting',\n",
       "       'Corporate Management Office', 'Project & Construction Planning',\n",
       "       'Merchandising', 'Cyber & Network Security',\n",
       "       'Electrical Engineering', 'Chemicals Manufacture',\n",
       "       'Jewelry & Gold', 'Computer Hardware & High-Tech Manufacture',\n",
       "       'Facilities & Property Management', 'Mechanical Engineering',\n",
       "       'Civil Engineering; Construction & Building',\n",
       "       'Household Appliances; Retail & Wholesale',\n",
       "       'Administration Support Services; Business Support Services',\n",
       "       'Entertainment; Amusement & Recreation Facility; Toys & Leisure',\n",
       "       'General Engineering Consultancy; Construction & Building',\n",
       "       'Advertising', 'Telecommunications', 'Home & Office Furniture',\n",
       "       'Software Development; Internet & E-commerce; Telemarketing',\n",
       "       'Merchandising; Warehousing', 'Agriculture & Crop Production',\n",
       "       'Home Accessories & Decor',\n",
       "       'Medical Clinic; Medical & Healthcare Equipment; Other Healthcare Services',\n",
       "       'Paper & Paper Product Manufacture', 'Training & Education Center',\n",
       "       'FMCG; Food & Beverage Production',\n",
       "       'Electric Power Production & Transmission', 'Personal Services',\n",
       "       'Pharmaceutical Manufacturing; Distribution, Supply Chain & Logistics; Medical & Healthcare Equipment',\n",
       "       'Catering, Food Service, & Restaurant; Catering, Food Service, & Restaurant; Accounting',\n",
       "       'Catering, Food Service, & Restaurant; Catering, Food Service, & Restaurant',\n",
       "       'Architecture', 'Business Support Services',\n",
       "       'Oil & Gas; Sales Outsourcing',\n",
       "       'General Engineering Consultancy; Oil & Gas',\n",
       "       'Accounting; Financial Services; Financial Auditing',\n",
       "       'Automotive Manufacture', 'Civil Engineering; Civil Engineering',\n",
       "       'Business Support Services; Administration Support Services',\n",
       "       'Computer Hardware & High-Tech Manufacture; IT Services',\n",
       "       'Medical & Healthcare Equipment; Recruitment & Employee Placement Agency; Medical Clinic',\n",
       "       'Construction & Building; General Engineering Consultancy; Real Estate',\n",
       "       'Distribution, Supply Chain & Logistics; Petrochemicals & Refined Petroleum Products Manufacture',\n",
       "       'Other Business Support Services', 'Sales Outsourcing', 'Law Firm',\n",
       "       'Vocational Education', 'Financial Services',\n",
       "       'Consumer Electronics'], dtype=object)"
      ]
     },
     "execution_count": 41,
     "metadata": {},
     "output_type": "execute_result"
    }
   ],
   "source": [
    "df['company_field'].unique()"
   ]
  },
  {
   "cell_type": "code",
   "execution_count": 42,
   "id": "5a5a1421",
   "metadata": {},
   "outputs": [
    {
     "data": {
      "text/plain": [
       "107"
      ]
     },
     "execution_count": 42,
     "metadata": {},
     "output_type": "execute_result"
    }
   ],
   "source": [
    "df['company_field'].nunique()"
   ]
  },
  {
   "cell_type": "code",
   "execution_count": 43,
   "id": "36949cbd",
   "metadata": {},
   "outputs": [
    {
     "data": {
      "text/plain": [
       "Other Business Support Services                         4596\n",
       "General Engineering Consultancy                          304\n",
       "Management Consulting                                    226\n",
       "Sales Outsourcing                                        124\n",
       "Marketing                                                 89\n",
       "                                                        ... \n",
       "Management Consulting; Business Consultancy Services       1\n",
       "Internet & E-commerce; Real Estate                         1\n",
       "Trading & Commodity Trading; Manufacturing                 1\n",
       "Other Healthcare Services; Software Development            1\n",
       "Internet & E-commerce; Software Development                1\n",
       "Name: company_field, Length: 107, dtype: int64"
      ]
     },
     "execution_count": 43,
     "metadata": {},
     "output_type": "execute_result"
    }
   ],
   "source": [
    "df['company_field'].value_counts()"
   ]
  },
  {
   "cell_type": "code",
   "execution_count": 44,
   "id": "404abc3b",
   "metadata": {},
   "outputs": [
    {
     "data": {
      "text/plain": [
       "0"
      ]
     },
     "execution_count": 44,
     "metadata": {},
     "output_type": "execute_result"
    }
   ],
   "source": [
    "df['company_field'].isnull().sum()"
   ]
  },
  {
   "cell_type": "markdown",
   "id": "ba04006e",
   "metadata": {},
   "source": [
    "#### Company Size Column"
   ]
  },
  {
   "cell_type": "code",
   "execution_count": 45,
   "id": "1965a92d",
   "metadata": {},
   "outputs": [
    {
     "data": {
      "text/plain": [
       "array(['50-99 Employees', '10-49 Employees', '100-499 Employees', nan,\n",
       "       '500 Employees or more', '1-9 Employees'], dtype=object)"
      ]
     },
     "execution_count": 45,
     "metadata": {},
     "output_type": "execute_result"
    }
   ],
   "source": [
    "df['company_size'].unique()"
   ]
  },
  {
   "cell_type": "code",
   "execution_count": 46,
   "id": "57d76386",
   "metadata": {
    "scrolled": false
   },
   "outputs": [
    {
     "data": {
      "text/plain": [
       "5"
      ]
     },
     "execution_count": 46,
     "metadata": {},
     "output_type": "execute_result"
    }
   ],
   "source": [
    "df['company_size'].nunique()"
   ]
  },
  {
   "cell_type": "code",
   "execution_count": 47,
   "id": "9d6b2729",
   "metadata": {},
   "outputs": [
    {
     "data": {
      "text/plain": [
       "500 Employees or more    406\n",
       "100-499 Employees        154\n",
       "50-99 Employees          123\n",
       "10-49 Employees           75\n",
       "1-9 Employees             30\n",
       "Name: company_size, dtype: int64"
      ]
     },
     "execution_count": 47,
     "metadata": {},
     "output_type": "execute_result"
    }
   ],
   "source": [
    "df['company_size'].value_counts()"
   ]
  },
  {
   "cell_type": "code",
   "execution_count": 48,
   "id": "d4ae145d",
   "metadata": {},
   "outputs": [
    {
     "data": {
      "text/plain": [
       "4985"
      ]
     },
     "execution_count": 48,
     "metadata": {},
     "output_type": "execute_result"
    }
   ],
   "source": [
    "df['company_size'].isnull().sum()"
   ]
  },
  {
   "cell_type": "markdown",
   "id": "2acac198",
   "metadata": {},
   "source": [
    "#### Experience Needed Column"
   ]
  },
  {
   "cell_type": "code",
   "execution_count": 49,
   "id": "3a429fd6",
   "metadata": {},
   "outputs": [
    {
     "data": {
      "text/plain": [
       "array([nan, 'Min: 5 Max: 10', 'Min: 3', 'Min: 3 Max: 19', 'Min: 2 Max: 5',\n",
       "       'Min: 2 Max: 4', 'Min: 3 Max: 10', 'Min: 3 Max: 5',\n",
       "       'Min: 4 Max: 6', 'Min: 5', 'Max: 5', 'Min: 1', 'Min: 12',\n",
       "       'Min: 3 Max: 4', 'Min: 1 Max: 3', 'Min: 13', 'Min: 10',\n",
       "       'Min: 2 Max: 15', 'Min: 5 Max: 8', 'Min: 6 Max: 12',\n",
       "       'Min: 1 Max: 5', 'Min: 5 Max: 15', 'Min: 0 Max: 2', 'Max: 10',\n",
       "       'Min: 2 Max: 6', 'Min: 0 Max: 3', 'Min: 5 Max: 20', 'Min: 2',\n",
       "       'Min: 20', 'Min: 8 Max: 10', 'Max: 3', 'Max: 7', 'Min: 3 Max: 15',\n",
       "       'Min: 10 Max: 15', 'Min: 10 Max: 18', 'Min: 5 Max: 7',\n",
       "       'Min: 1 Max: 1', 'Min: 12 Max: 15', 'Min: 7 Max: 10',\n",
       "       'Min: 9 Max: 13', 'Min: 1 Max: 2', 'Min: 0 Max: 1',\n",
       "       'Min: 1 Max: 4', 'Min: 7 Max: 9', 'Min: 2 Max: 7', 'Min: 3 Max: 6',\n",
       "       'Min: 8', 'Min: 10 Max: 0', 'Min: 4 Max: 10', 'Max: 13'],\n",
       "      dtype=object)"
      ]
     },
     "execution_count": 49,
     "metadata": {},
     "output_type": "execute_result"
    }
   ],
   "source": [
    "df['experience_needed'].unique()"
   ]
  },
  {
   "cell_type": "code",
   "execution_count": 50,
   "id": "50ff6124",
   "metadata": {},
   "outputs": [
    {
     "data": {
      "text/plain": [
       "49"
      ]
     },
     "execution_count": 50,
     "metadata": {},
     "output_type": "execute_result"
    }
   ],
   "source": [
    "df['experience_needed'].nunique()"
   ]
  },
  {
   "cell_type": "code",
   "execution_count": 51,
   "id": "6ea53113",
   "metadata": {
    "scrolled": true
   },
   "outputs": [
    {
     "data": {
      "text/plain": [
       "Min: 3             12\n",
       "Min: 1              9\n",
       "Min: 5 Max: 7       7\n",
       "Min: 5              7\n",
       "Min: 1 Max: 3       7\n",
       "Min: 3 Max: 5       7\n",
       "Min: 10             6\n",
       "Min: 5 Max: 10      5\n",
       "Min: 0 Max: 1       4\n",
       "Min: 2              4\n",
       "Min: 2 Max: 5       4\n",
       "Min: 0 Max: 2       4\n",
       "Min: 1 Max: 5       3\n",
       "Min: 10 Max: 15     3\n",
       "Min: 2 Max: 4       3\n",
       "Min: 1 Max: 4       2\n",
       "Min: 5 Max: 20      2\n",
       "Min: 8              2\n",
       "Min: 5 Max: 15      2\n",
       "Min: 0 Max: 3       2\n",
       "Min: 6 Max: 12      2\n",
       "Min: 3 Max: 10      2\n",
       "Min: 4 Max: 6       2\n",
       "Min: 1 Max: 1       1\n",
       "Min: 4 Max: 10      1\n",
       "Min: 10 Max: 0      1\n",
       "Min: 3 Max: 19      1\n",
       "Min: 3 Max: 6       1\n",
       "Min: 2 Max: 7       1\n",
       "Min: 7 Max: 9       1\n",
       "Min: 1 Max: 2       1\n",
       "Min: 9 Max: 13      1\n",
       "Min: 7 Max: 10      1\n",
       "Min: 12 Max: 15     1\n",
       "Max: 5              1\n",
       "Min: 5 Max: 8       1\n",
       "Min: 10 Max: 18     1\n",
       "Min: 12             1\n",
       "Min: 3 Max: 15      1\n",
       "Max: 7              1\n",
       "Max: 3              1\n",
       "Min: 8 Max: 10      1\n",
       "Min: 20             1\n",
       "Min: 3 Max: 4       1\n",
       "Min: 13             1\n",
       "Min: 2 Max: 15      1\n",
       "Min: 2 Max: 6       1\n",
       "Max: 10             1\n",
       "Max: 13             1\n",
       "Name: experience_needed, dtype: int64"
      ]
     },
     "execution_count": 51,
     "metadata": {},
     "output_type": "execute_result"
    }
   ],
   "source": [
    "df['experience_needed'].value_counts()"
   ]
  },
  {
   "cell_type": "code",
   "execution_count": 52,
   "id": "864915c5",
   "metadata": {},
   "outputs": [
    {
     "data": {
      "text/plain": [
       "5646"
      ]
     },
     "execution_count": 52,
     "metadata": {},
     "output_type": "execute_result"
    }
   ],
   "source": [
    "df['experience_needed'].isnull().sum()"
   ]
  },
  {
   "cell_type": "markdown",
   "id": "5710ffac",
   "metadata": {},
   "source": [
    "#### Career Level Column"
   ]
  },
  {
   "cell_type": "code",
   "execution_count": 53,
   "id": "13d8b7bc",
   "metadata": {},
   "outputs": [
    {
     "data": {
      "text/plain": [
       "array([nan, 'Senior Executive', 'Mid Career', 'Fresh Graduate',\n",
       "       'Management', 'Entry Level', 'Director/Head'], dtype=object)"
      ]
     },
     "execution_count": 53,
     "metadata": {},
     "output_type": "execute_result"
    }
   ],
   "source": [
    "df['career_level'].unique()"
   ]
  },
  {
   "cell_type": "code",
   "execution_count": 54,
   "id": "d971bd95",
   "metadata": {},
   "outputs": [
    {
     "data": {
      "text/plain": [
       "6"
      ]
     },
     "execution_count": 54,
     "metadata": {},
     "output_type": "execute_result"
    }
   ],
   "source": [
    "df['career_level'].nunique()"
   ]
  },
  {
   "cell_type": "code",
   "execution_count": 55,
   "id": "cd0b6e33",
   "metadata": {},
   "outputs": [
    {
     "data": {
      "text/plain": [
       "5697"
      ]
     },
     "execution_count": 55,
     "metadata": {},
     "output_type": "execute_result"
    }
   ],
   "source": [
    "df['career_level'].isnull().sum()"
   ]
  },
  {
   "cell_type": "markdown",
   "id": "bb9ce87b",
   "metadata": {},
   "source": [
    "#### Education Level Column"
   ]
  },
  {
   "cell_type": "code",
   "execution_count": 56,
   "id": "3130d359",
   "metadata": {},
   "outputs": [
    {
     "data": {
      "text/plain": [
       "array([nan, \"Bachelor's degree / higher diploma\",\n",
       "       'Certification / diploma', 'High school or equivalent',\n",
       "       \"Master's degree\"], dtype=object)"
      ]
     },
     "execution_count": 56,
     "metadata": {},
     "output_type": "execute_result"
    }
   ],
   "source": [
    "df['education_level'].unique()"
   ]
  },
  {
   "cell_type": "code",
   "execution_count": 57,
   "id": "5154e919",
   "metadata": {},
   "outputs": [
    {
     "data": {
      "text/plain": [
       "4"
      ]
     },
     "execution_count": 57,
     "metadata": {},
     "output_type": "execute_result"
    }
   ],
   "source": [
    "df['education_level'].nunique()"
   ]
  },
  {
   "cell_type": "code",
   "execution_count": 58,
   "id": "7bf8fa8a",
   "metadata": {},
   "outputs": [
    {
     "data": {
      "text/plain": [
       "5524"
      ]
     },
     "execution_count": 58,
     "metadata": {},
     "output_type": "execute_result"
    }
   ],
   "source": [
    "df['education_level'].isnull().sum()"
   ]
  },
  {
   "cell_type": "markdown",
   "id": "bca0f5eb",
   "metadata": {},
   "source": [
    "#### Gender Column"
   ]
  },
  {
   "cell_type": "code",
   "execution_count": 59,
   "id": "d2c2c461",
   "metadata": {},
   "outputs": [
    {
     "data": {
      "text/plain": [
       "array(['both', 'Male', 'Female'], dtype=object)"
      ]
     },
     "execution_count": 59,
     "metadata": {},
     "output_type": "execute_result"
    }
   ],
   "source": [
    "df['gender'].unique()"
   ]
  },
  {
   "cell_type": "code",
   "execution_count": 60,
   "id": "b4f5a04d",
   "metadata": {},
   "outputs": [
    {
     "data": {
      "text/plain": [
       "3"
      ]
     },
     "execution_count": 60,
     "metadata": {},
     "output_type": "execute_result"
    }
   ],
   "source": [
    "df['gender'].nunique()"
   ]
  },
  {
   "cell_type": "code",
   "execution_count": 61,
   "id": "db0ea8bd",
   "metadata": {},
   "outputs": [
    {
     "data": {
      "text/plain": [
       "both      5714\n",
       "Male        39\n",
       "Female      20\n",
       "Name: gender, dtype: int64"
      ]
     },
     "execution_count": 61,
     "metadata": {},
     "output_type": "execute_result"
    }
   ],
   "source": [
    "df['gender'].value_counts()"
   ]
  },
  {
   "cell_type": "code",
   "execution_count": 62,
   "id": "ba8a397c",
   "metadata": {},
   "outputs": [
    {
     "data": {
      "text/plain": [
       "0"
      ]
     },
     "execution_count": 62,
     "metadata": {},
     "output_type": "execute_result"
    }
   ],
   "source": [
    "df['gender'].isnull().sum()"
   ]
  },
  {
   "cell_type": "markdown",
   "id": "549bb05e",
   "metadata": {},
   "source": [
    "#### Salary Column"
   ]
  },
  {
   "cell_type": "code",
   "execution_count": 63,
   "id": "11a3c541",
   "metadata": {},
   "outputs": [
    {
     "data": {
      "text/plain": [
       "array(['Unspecified', '$0 - $500', '$5,000 - $6,000', '$1,000 - $1,500',\n",
       "       '$500 - $1,000', '$3,000 - $4,000', '$6,000 - $7,000',\n",
       "       '$1,500 - $2,000', '$30,000 - $50,000'], dtype=object)"
      ]
     },
     "execution_count": 63,
     "metadata": {},
     "output_type": "execute_result"
    }
   ],
   "source": [
    "df['salary'].unique()"
   ]
  },
  {
   "cell_type": "code",
   "execution_count": 64,
   "id": "364cde3b",
   "metadata": {},
   "outputs": [
    {
     "data": {
      "text/plain": [
       "9"
      ]
     },
     "execution_count": 64,
     "metadata": {},
     "output_type": "execute_result"
    }
   ],
   "source": [
    "df['salary'].nunique()"
   ]
  },
  {
   "cell_type": "code",
   "execution_count": 65,
   "id": "b026aa3f",
   "metadata": {},
   "outputs": [
    {
     "data": {
      "text/plain": [
       "Unspecified          5745\n",
       "$0 - $500              14\n",
       "$5,000 - $6,000         4\n",
       "$500 - $1,000           4\n",
       "$1,000 - $1,500         2\n",
       "$3,000 - $4,000         1\n",
       "$6,000 - $7,000         1\n",
       "$1,500 - $2,000         1\n",
       "$30,000 - $50,000       1\n",
       "Name: salary, dtype: int64"
      ]
     },
     "execution_count": 65,
     "metadata": {},
     "output_type": "execute_result"
    }
   ],
   "source": [
    "df['salary'].value_counts()"
   ]
  },
  {
   "cell_type": "code",
   "execution_count": 66,
   "id": "9c3c1350",
   "metadata": {},
   "outputs": [
    {
     "data": {
      "text/plain": [
       "0"
      ]
     },
     "execution_count": 66,
     "metadata": {},
     "output_type": "execute_result"
    }
   ],
   "source": [
    "df['salary'].isnull().sum()"
   ]
  },
  {
   "cell_type": "markdown",
   "id": "a74faf0f",
   "metadata": {},
   "source": [
    "#### Skills And Tools Column"
   ]
  },
  {
   "cell_type": "code",
   "execution_count": 67,
   "id": "87db229d",
   "metadata": {},
   "outputs": [
    {
     "data": {
      "text/plain": [
       "array(['\\n;Skills;\\n;خبرة في مجال مستحضرات التجميل;الثقة والمرونة;الاستماع الفعال - فهم احتياجات العملاء;راتب مجزي + عمولة +تامينات;\\n',\n",
       "       \"\\n;Skills;\\n;+5 Years Proven experience in project management. ( Seniors Required Only );\\xa0Proven experience in data analysis.;A bachelor’s degree or master's degree in a related field.;Project Management Professional (PMP) certification is a plus.;Ability to lead project teams of various sizes and see them through to completion.;Strong understanding of formal project management methodologies.;Experience as a construction project manager, IT project manager, or ERP project manager.;Able to complete projects in a timely manner.;Understanding of ERP implementation.;Experience overseeing a construction project.;Budget management experience.;\\n\",\n",
       "       '\\n;Skills;\\n;- مؤهل عالى مناسب; - خبرة لا تقل عن 3 سنوات فى نفس المجال; -اجادة استخدام الحاسب الالى ( Word , Excel );-خبره في التأمينات و الضرائب;-خبره في انهاء التراخيص لدى ادارات المرور;-معرفه كامله بمتطلبات تراخيص سيارات النقل;-معرفه كامله بتجهيزات مستندات الفحص المروري;\\n',\n",
       "       '\\n;Skills;\\n;يجيد على على البرامج المحاسبية و الاوفيس و يجيد استخدام الانترنت;\\n',\n",
       "       '\\n;Skills;\\n;Knowledge and Experience; ·\\xa0\\xa0\\xa0\\xa0\\xa0\\xa0\\xa0\\xa0\\xa03-5 Years of Experience ;·\\xa0\\xa0\\xa0\\xa0\\xa0\\xa0\\xa0\\xa0\\xa0Excellent Primavera/Excel experience.;Education and Certifications; ·\\xa0\\xa0\\xa0\\xa0\\xa0\\xa0\\xa0\\xa0\\xa0Bachelor’s Degree in Civil Engineering.;\\n',\n",
       "       '\\n;Skills;\\n;Job Requirements;experience +3 years ;JavaScript, CSS, HTML, and other front-end languages expertise.;Experience in user interface design is a bonus.;You should be familiar with the performance testing frameworks Mocha and Jest.;Experience with browser-based debugging and performance testing applications.;Problem-solving talents are exceptional.;\\n',\n",
       "       '\\n;Skills;\\n;مطلوب مهندس كهرباء ;لدية الخبرة على التصميم المشاريع السكنية وعلى دراية بالكود السعودي والعمل في مكتب هندسي بمصر الجديدة;\\n',\n",
       "       '\\n;Skills;\\n;Excellent verbal and written communication skills.;Excellent organizational skills and attention to detail.;Excellent time management skills with a proven ability to meet deadlines.;Ability to function well in a high-paced and at times stressful environment.;Extensive knowledge of office administration, clerical procedures, and recordkeeping systems.;Extremely proficient with Microsoft Office Suite with the ability to learn new or updated software.;Very good command in English Language.;\\n',\n",
       "       '\\n;Skills;\\n;اجادة استخدام الحاسب الالى ;المحاسبه العامه والمشتريات;حد ادنى من خبرة العمل بالجانب الادارى;اجادة العمل ضمن فريق عمل;\\n',\n",
       "       '\\n;Skills;\\n;لدية الخبرة في التصميم والمراجعة والتنسيق والمطابقة بين المخططات الهندسية بجميع تخصصاتها للعمل بمكتب هندسي بالقاهرة ;\\n',\n",
       "       \"\\n;Skills;\\n;Job Requirements;3: 8 Years experience\\xa0in real-estate;Bachelor's degree in Accounting;Enthusiastic candidate with an Accounting background, ready to tackle the challenges in the core Finance; domain.;Strong understanding of accounting aspects like balance sheets, cash flow management, business forecast, and profitability.;Proven command of negotiation skills to build long-lasting partnerships with clients.;Strong attention to detail and good analytical skills.;Presenting an in-depth analysis of the company's financial statements through concise reports.;Ability to handle relevant software like Microsoft Suite for efficient preparation of reports and statements.;\\n\",\n",
       "       '\\n;Skills;\\n; Requirements;3+ years of Design Experience;Experience creating interactive modern user interfaces;Proficiency with Adobe Creative Suite and Figma;Knowledge of Usability and Accessibility Standards and how they apply in design;Knowledge of Agile values;Experience working in agile software development frameworks (Scrum, Kanban);Preferred Skills;Prior experience with Enterprise Design;A creative portfolio that can demonstrate design proficiency (can be web based or printed material);\\n',\n",
       "       '\\n;Skills;\\n;اجادة التعامل على السوشيال ميديا ;والدعايا والاعلان;\\n',\n",
       "       '\\n;Skills;\\n;خبرة 3 سنوات على الأقل;اجاده اللغه الانجليزيه\\xa0;اجادة العمل على الكمبيوتر;يشترط حسن المظهر والكفاءه في العمل;\\n',\n",
       "       \"\\n;Skills;\\n;Bachelor's degree in a related field.;Proven experience as marketing specialist or similar role;Thorough understanding of marketing elements (including traditional and digital marketing such as SEO/Social media etc.) and market research methods;Demonstrable experience in marketing data analytics and tools;Solid computer skills, including MS Office, marketing software (Adobe Creative Suite & CRM) and applications (Web analytics, Google Adwords etc.);Knowledge of HTML, CSS and web development tools (e.g. Dreamweaver) desired;Well-organized and detail oriented;Exceptional communication and writing skills;Commercial awareness partnered with a creative mind;Preferably around Nasr city, Alnozha Al Gadida, Misr Al Gadida, Ain Shams, Gisr Al suez, Sheraton.;\\n\",\n",
       "       '\\n;Skills;\\n;A bachelor degree or equivalent.;Five years of experience in office administration;Presentable;Good command of English is a must;Proven experience as an Office Manager, Front Office Manager or Administrative Assistant;Knowledge of Office Administrator responsibilities, systems and procedures;Proficiency in MS Office (MS Excel and MS Outlook, in particular);Hands on experience with office machines (e.g. fax machines and printers);Familiarity with email scheduling tools, like Email Scheduler and Boomerang;Excellent time management skills and ability to multi-task and prioritise work;Attention to detail and problem solving skills;Excellent written and verbal communication skills;Strong organisational and planning skills in a fast-paced environment;A creative mind with an ability to suggest improvements;Preferred to be around Nasr city, Alnozha Al Gadida, Misr Al Gadida, Ain Shams, Gisr Al suez, Sheraton.;\\n',\n",
       "       \"\\n;Skills;\\n;Experienced with the same role for 2 to 5 years.;Excellent knowledge of accounting regulations and procedures, including the Generally Accepted Accounting Principles (GAAP) as well as general ledger functions.;Enthusiastic candidate with an Accounting background, ready to tackle the challenges in the core Finance domain.;Expertise in handling financial activities by implementing the latest management and cost reduction trends.;Strong communication and negotiation skills in partnership management and inter-department coordination.;A keen eye for minute details coupled with an instant ability to make sound decisions.;Strong attention to detail and good analytical skills.;Experience in Taxation is a must.;Presenting an in-depth analysis of the company's financial statements through concise reports.;Qualified Microsoft Suite professional with a proven track record of implementing technology in financial tasks as well as FreshBooks and QuickBooks.;Preferred to be around Nasr city, Alnozha Al Gadida, Misr Al Gadida, Ain Shams, Gisr Al suez, Sheraton.;\\n\",\n",
       "       '\\n;Skills;\\n;يفضل خبرة مع الشركات الطبية\\xa0;إجادة التعامل مع شركات الأدوية;خبرة في مجال الدعاية والإعلان;الخبرة المطلوبة من سنة إالى خمس سنوات;اجادة مهارات التواصل مع الشخصيات المختلفة;امتلاك مهارات البيع وبناء العلاقات;\\n',\n",
       "       '\\n;Skills;\\n;Bachelor’s degree or equivalent experience preferred Computer Science or Engineering;\\n;Passionate about design solutions and do necessary customization with collaboration with the team or himself/herself to fulfill the customer requirements;\\n;Strong personal ownership and ability to set and meet high professional standards, flexible and responsive work style.;\\n;\\n;Ability to multi-task and work under pressure;\\n;\\n;\\n;Excellent leadership and people management skills;\\n;\\n;\\n;Strong communication, interpersonal and presentation skills;\\n;\\n;\\n;Excellent command of English;\\n;\\n;A minimum of 12 years of related experience.;\\n;\\n',\n",
       "       '\\n;Skills;\\n;Bachelor degree / Higher degree.;Excellent Communication Skills.;Good Command\\xa0of English.;Comfortable using computers.;Prior work exposure in the field of customer support and service for 3+ years;Knowledge of online tools and platforms that enhance customer experience by leveraging appropriate features.;Proficient in answering phone calls with professional etiquette and a friendly tone.;Fluent communicator with an ability to present ideas and concepts through hi-tech and conventional channels.;Thorough understanding of setting priorities for a task to comply with the set deadlines and responsibilities.;Well-versed in handling digital tools and modern computer hardware.;Resident within ( Nasr City, Misr Al gadida, Sheraton) era.;\\n',\n",
       "       \"\\n;Skills;\\n;Understanding of the sales process and dynamics.;Adept at communicating with the in-house team, clients, and management through formal documentation and discussions.;Ability to implement the 'customer first' approach by providing a personalized and convenient sales pitch.;Tremendous enthusiasm to efficiently achieve sales goals under tight deadlines.;Apt in dealing with clients and engagingly presenting product data for potential leads.;Ability to find the right balance between client requirements and company terms, thereby improving profit margins and maintaining fruitful customer relationships.;\\n\",\n",
       "       \"\\n;Skills;\\n;Marketing officer job requirements:-;Bachelor's degree at least;Experience from 3 to 4 years;Age not more than 30 years;Full proficiency in Microsoft Office programs (Word, Outlook, Excel, PowerPoint) and ERPs Software;An excellent level of spoken and written English, preferably with more than one language other than English. Priority is given to graduates of (I.G.C.S.E. & G.C.S.E) or ((American High School Diploma) schools and those who have passed (S.A.T.II);He has a special talent in selling, marketing and market arts, especially the medical supplies market;Preferably someone who owns a car;\\n\",\n",
       "       '\\n;Skills;\\n;NA;\\n',\n",
       "       '\\n;Skills;\\n;This is a barrier for this job :;- At least 2 years of relevant sales experience (medical insurance sales experience );- Must have a car ;- Excellent communication skills & able to influence through proven sales experience;- Customer focused & capable of building strong relationships with clients;- Excellent command of English language (written & spoken);Work environment :;- Days off : Friday & Saturday ;- Working hrs : 8;\\n',\n",
       "       '\\n;Skills;\\n;متطلبات الوظيفة :;1. يفضل ان يكون تم العمل فى مجال\\xa0الشركة .;2. خبره فى بيع الخدمات .\\xa0;3. سنين الخبره يجب الا تقل عن\\xa0سنة في مجال المبيعات.;4-من ساكني مدينة نصر او من المنطقة المحيطة;\\n',\n",
       "       '\\n;Skills;\\n;• Bachelor’s degree in Mechanical / Power Plant Engineering. ;• Minimum 15 years professional experience in the Power Plants. Experience with Cement WHR Power Plants operation is desirable. ;• Experience in Engineering / Construction of Power Plants is desirable. ;• Entrepreneurial thinking and good cost awareness in terms of business economics ;• Demonstrated experience in project management, problem solving and creativity, operation cost optimisation and decision making ;• Fluency in English.;Any nationality worldwide will be accepted.;\\n',\n",
       "       '\\n;Skills;\\n;يجب أن لا تقل الخبرة عن 10 سنوات في مجال الصيانة;فنى - ميكانيكى;مكان العمل شيراتون;تأمينات اجتماعية و صحية;يفضل من معه رخصة قيادة له الاولوية;\\n',\n",
       "       '\\n;Skills;\\n;التفهم الجيد لطبيعة عمله كسائق سيارة; مهارات القيادة فى الظروف المناخية الصعبة;مهارات القيادة لفترة طويله\\xa0;الإلمام بمبادىء الصيانة الأساسية للسيارات;رخصة قيادة\\xa0درجة اولى و درجة ثانية\\xa0\\xa0;الإنضباط فى المواعيد;حسن المظهر;خبرة فى وظيفة سائق;يوجد تامينات وبدلات سفر;\\n',\n",
       "       '\\n;Skills;\\n;Bachelor’s degree;Microsoft Office;Professionally fluent in English and Arabic;Fast learner;Strong communication skills and attention to detail;High initiative and able to multitask and work with minimal supervision;Problem solver with process improvement mindset;Strong planning and organizational skills;\\n',\n",
       "       \"\\n;Skills;\\n;PERSON SPECIFIC:;Education:;\\xa0Engineering Bachelor's degree [electrical or mechanical];Minimum Experience and Knowledge:\\xa0;8 years with similar background;Must be familiar with chilled water supply system and energy transfer stations (ETS).;Familiar with mechanical systems specially HVAC system, Firefighting system, Fire suppression system, water supply system, plumbing system, hood systems, ventilation systems, smoke management systems, etc.;Familiar with electrical systems specially lighting system, power low voltage and medium voltage systems, distribution and panel boards system, fire alarm system, public address system, cable tray system, motor control centers and control equipment, building management system, etc.;Familiar with OSHA and HSE codes.;Familiar with local Egyptian codes and international codes (NFPA, IEC, IBC, ASHRE, ASME, IEEE, EN, BS, ISO, etc.).;Familiar with tendering process including technical and financial data collection, evaluation until finally awarding in addition to Invoicing and LPO issuing;\\xa0;Job-Specific/Technical Skills required to complete the tasks: :;Good knowledge for sustainability needs and development.;Proficient in using Computer Aided Facility Management (CAFM).;Proficient in using Microsoft office (word, Excel, PowerPoint, Visio, etc.).;Proficient in using computer skills.;Proficient in using Auto Cad.;Proficient in using data analysis software.;Good knowledge in using attendance software (Navision) system.;Proficient in English language.;Excellent communication skills.;Good leadership skills:;Active listening.;Empathy.;The ability to share clear messages and make complex ideas easy to understand for everyone.;Strategic thinking skills.;Creativity.;The ability to inspire and convince others.;Flexibility.;\\n\",\n",
       "       '\\n;Skills;\\n;التسويق ;\\n',\n",
       "       '\\n;Skills;\\n;Required:;\\n;Solid experience in creating and maintaining network and security systems;.;\\n;Experience in maintaining, configuring, and troubleshooting routers, switches, and firewalls;.;\\n;Good troubleshooting experience of Windows and Linux latest operating systems;.;\\n;Excellent knowledge on MS Office products;.;\\n;Excellent command of English language (reading, writing and oral);.;\\n;Excellent communication and customer-oriented skills;.;\\n;Excellent analytical skills.;\\n;Desirable:;\\n;CCNP Certification.;\\n;ITIL Certification.;\\n;\\xa0;\\n',\n",
       "       '\\n;Skills;\\n;STANDARD MINIMUM QUALIFICATIONS;\\xa0;Education:;-\\xa0\\xa0\\xa0University student with graduation years in 2022 and 2023;-\\xa0\\xa0\\xa0Recent graduate (max. 6 months after graduation)\\xa0;-\\xa0\\xa0\\xa0Strong academic track record (good, very good, or excellent ratings) preferred studies in International Relations; Security; Counter Terrorism or Extremism in the Middle East, Political Science.;\\xa0;Minimum Qualifications:;•\\xa0\\xa0\\xa0The incumbent should have the following skills and experience:;•\\xa0\\xa0\\xa0Advanced Arabic and English language skills both written and oral.;•\\xa0\\xa0\\xa0Experience utilizing computer programs, including word processing, and spreadsheets\\xa0;•\\xa0\\xa0\\xa0Interest in media, current news and regional politics.;•\\xa0\\xa0\\xa0Accurate, creative open-minded team player with strong initiative and willingness to learn.;Language;:;Fluent in English and, ideally, in an additional UN language;\\n',\n",
       "       '\\n;Skills;\\n;STANDARD MINIMUM QUALIFICATIONS;Education:;Bachelor’s degree in Computer Science, Information Sciences, Information Systems, Data Management, Electrical/Computer Engineering or another related functional area.;\\xa0;Experience:;6 years of experience in the area of data science, data analytics, applied mathematics, information / data management, data visualization project, web management or related area.;\\xa0;Knowledge & Skills;Proven experience working in a busy analytical environment and handling complex analysis.;Strong written and oral communication skills. Experience working with teams and team processes.\\xa0;Ability to work in multi-cultural and multi-ethic environments.\\xa0;The candidate must demonstrate strong data analysis skills;Comprehensive analytical skills and advanced level of knowledge in application such as Microsoft package and any of the following tools: Palantir Foundry, Tableau, PowerBI, Python, PySpark, R, Excel. Sound knowledge of Relational Database (MS-SQL, PostgreSQL, MySQL, Oracle, etc.).;\\xa0;Languages:;Fluency in both oral and written communication in the UN language in use at the duty station (English and Arabic).;COMPENSATION AND BENEFITS;WFP offers a\\xa0competitive\\xa0compensation package including:;Attractive salary in accordance with industry standards. Please visit\\xa0United Nations Salary Scales\\xa0for more details.;Attractive pension plan;Child allowance;Language allowance (subject to passing language assessment);Medical coverage for staff and eligible dependents;Variety of leave entitlements, including but not limited to 30 days annual leaves per year, maternity/paternity leave, and special leave arrangements.;\\n',\n",
       "       '\\n;Skills;\\n;Executive Chef Requirements:;\\xa02+ years of culinary education.;Previous experience in Hotels or 5 stars restaurants.;5+ years of experience in a similar position.;\\xa0Advanced knowledge of food professional principles and practices.;Proficient knowledge of human resources management.;\\xa0Excellent knowledge of BOH systems, ordering and inventory.;Excellent communication skills.;\\xa0Ability to meet deadlines.;Benefits:;Basic Salary + Monthly Bonus;Full accommodation for Non Residents ;Health Care;Skills;Budgeting\\xa0for\\xa0expenses and managing employees.;Communicating instructions clearly and effectively to staff.;Motivating kitchen staff and developing constructive and cooperative working relationships.;Developing and preparing creative, interesting and innovative recipes.;Having a keen sense of taste and smell to create meals that customers will enjoy;Communication\\xa0Skills.;Self-Awareness.;Emotional Intelligence.;Patience.;Adaptability.;Project Management.;Problem Solving\\xa0Skills.;Teamwork and Collaboration.;Conflict Resolution.;\\n',\n",
       "       '\\n;Skills;\\n;Job Requirements;Business degree or equivalent;Proven experience as an office manager or similar role.;Knowledge of accounting, data and administrative management practices and procedures;Knowledge of clerical practices and procedures.;Knowledge of human resources management practices and procedures;Knowledge of business and management principles;Computer skills and knowledge of office software packages;Excellent communication skills;Problem analysis and assessment, problem solving.;Decision making;Planning and organizing;Work and time management;Attention to detail and high level of accuracy;Delegation of authority and responsibility;\\n',\n",
       "       \"\\n;Skills;\\n;Required Skills to be Successful;\\xa0;Leadership;Teamwork;Communication;\\xa0;What equips you for the role;\\xa0;Bachelor's degree in Electrical Engineering.;5 - 7 years of experience in electrical, (Low & Medium voltage), mechanical, HVAC, Plumbing, and Fire systems within a shopping mall, retail, or any related industry.\\xa0;Expertise in conducting a full tendering process to evaluate quotes on Hard/Soft services.;Excellent command of both English & Arabic Languages.;Familiarity with HSE Systems and experience in MOI.;\\xa0;\\n\",\n",
       "       '\\n;Skills;\\n;BASIC QUALIFICATIONS;You hold a degree in logistics, business administration, or in a related field, or you have an equivalent qualification;A strong team player, you thrive when working with others,;You have previous experience as a manager, involving sizable teams; you’re a natural at motivating others around you,;You demonstrate problem-solving and analytical capabilities: conducting and driving Dive Deep analysis on complex processes isn’t a problem for you,;You’re a quick thinker, able to act decisively in a fast-paced environment,;You’re willing and able to work to flexible schedules and shifts: you always commit the time required to get the job done.;PREFERRED QUALIFICATIONS;Previous experience as a manager in a distribution center or logistics warehouse is a nice to have;\\n',\n",
       "       '\\n;Skills;\\n;لباقة حسن الشكل والاسلوب;\\n',\n",
       "       '\\n;Skills;\\n;This is a barrier to apply for this job:;- Minimum 5 years of experience in manufacturing as procurement manager or any senior position.;• Engineering graduate is a plus;• Fluent in English;• Familiarity with sourcing and SRM management;• Familiarity with sourcing engineering tools and materials suppliers.;• Deep knowledge of inventory and supply chain management.;• Supervisory and management experience.;• Proficiency in Microsoft Office and purchasing software.;• Excellent communication skills, both written and verbal.;• He should be able to conduct price index reports to track the market changes.;Work location : 10dth of Ramadn city , Egypt;Working hours : 6 days per week / 8 hours;\\n',\n",
       "       '\\n;Skills;\\n;Excellent knowledge of MS Office.;Having a good personality (ambitious and enthusiastic) , professional attitude and good looking.;Excellent communication, interpersonal, negotiation ,problem-solving, selling ,presentation, and organizational skills.;\\n',\n",
       "       \"\\n;Skills;\\n;Qualification;\\n;Diploma or Bachelor's Degree preferably in Business administration, Sales and Marketing, or Public Relations;\\n;2+ years of experience\\xa0;\\n;Fluency in English and Arabic is a must (Any additional languages would be an advantage);\\n;Required Skills;\\n;Goal-oriented and adaptable;\\n;Tech-savvy individual with ability to keen eye for detail;\\n;You have excellent communication skills and thinks out of the box;\\n;You are comfortable to use technology and update data;\\n;\\xa0;\\n;While we sincerely appreciate every application received, only those candidates selected for an interview will be contacted.;\\n\",\n",
       "       '\\n;Skills;\\n;Previous experience in a customer support role.;Efficient in communicating clearly with the caller by following appropriate telephonic etiquette.;Adroit multi-tasker with an ability to note important pointers while attending a vital customer call.;Good computer skills.;Good command of effective negotiations with a knack for explaining all the benefits of a product or service.;Ready to adapt and elevate existing skills based on improvement feedback.;\\n',\n",
       "       \"\\n;Skills;\\n;Experience with Medical companies is a Must.;Proficiency in how to deal with pharmaceutical companies.;Bachelor's degree in marketing, medical management, or related field is preferred.;Years of experience min 1 to 5 in medical Conference and events field and max age 35.;Excellent organizational and consultative sales skills.;\\n\",\n",
       "       '\\n;Skills;\\n;Desired Qualifications:;-\\xa0\\xa0\\xa0\\xa0\\xa0\\xa0\\xa0Bachelor’s degree from reputable university ;-\\xa0\\xa0\\xa0\\xa0\\xa0\\xa0\\xa0Post graduate diploma in HR as a minimum & MBA holder is preferred.;-\\xa0\\xa0\\xa0\\xa0\\xa0\\xa0\\xa0Minimum 10 Years’ experience in HR Practices of which 5 years are in managerial level;-\\xa0\\xa0\\xa0\\xa0\\xa0\\xa0\\xa0Excellent English speaking and writing skills;-\\xa0\\xa0\\xa0\\xa0\\xa0\\xa0\\xa0Ability to handle and prioritize multiple tasks.;-\\xa0\\xa0\\xa0\\xa0\\xa0\\xa0\\xa0Excellent Microsoft Office Applications Skills.;\\n',\n",
       "       '\\n;Skills;\\n;Complete understanding of, and adhere to the company’s policy relating to food hygiene and safe food handling practices.;Excellent skills in collaborating and communicating with team members to execute various kitchen operations successfully.;Prior experience of work in multiple kitchen settings and preparing quality food items.;Experienced in developing food items according to the instructions of the head chef.;\\n',\n",
       "       '\\n;Skills;\\n;Ownership ;\\n;Functional Skills;\\n;Ideas presentation and Taking initiative ;\\n;Continuous Learning ;\\n;Customer Centricity;\\n;Good awareness of testing methods, GMP;\\n;Familiarity with 7 quality tools.;\\n;Familiarity with BRC & ISO 9001/2015 & ISO 22000-2018;\\n;\\n',\n",
       "       '\\n;Skills;\\n;Graphic Design Adobe Programs;\\n',\n",
       "       '\\n;Skills;\\n;skills: ;Earned value management EVM;Critical path method scheduling (CPM);Productivity rates and resource estimation ;Work breakdown structure WBS;Create activities list;Sequence activities and create relationships;Estimate activity cost and create cost loading ;Create cash flow and S curve ;Develop revised & recovery schedule ;Develop shop drawings log;Develop material log;Analyse project delays;Create EOT claims and narrative reports (optional);\\n',\n",
       "       '\\n;Skills;\\n;Technical Support;\\n',\n",
       "       '\\n;Skills;\\n;- يجيد بشكل جيد مهارة التواصل باللغة العربية.;- شخصية قيادية.;- يفضل ان يكون حاصل على مؤهل عالي.;- حسن المظهر.;- السن لا يزيد عن 35 سنة.;\\n',\n",
       "       '\\n;Skills;\\n;Working hours: 8:00 - 4:30;Females only.;Very good English.;Very good communication skills.;Very good command of Microsoft Office.;\\n',\n",
       "       \"\\n;Skills;\\n; Excellent communication skills and a passion for organization. ;A bachelor's degree in relevant field.;Excellent organizational skills.;Problem-solving skills;\\n\",\n",
       "       '\\n;Skills;\\n;Good analytical and decision-making skills ;\\n;Excellent organizational skills;\\n;Excellent communication skills;\\n;The ability to work as part of a team and independently.;\\n;Excellent command of English;\\n;Very good time management skills;\\n',\n",
       "       '\\n;Skills;\\n;منقوول;مطلوب للتعيين دكتورة علاج طبيعي للعمل بعيادات تغذية علاجية بفرع;( بورسعيد );- حديثة التخرج او طالبة امتياز .;- من سكان بورسعيد او المناطق المجاورة\\xa0.;- دوام كلي .;- طبيعة العمل (جلسات تخسيس موضعية ).;\\n',\n",
       "       '\\n;Skills;\\n;العمل في مجال المجازر الالية;بداية من 5 سنوات خبرة;\\n',\n",
       "       '\\n;Skills;\\n;Experience: 4 years in the sales field;Customer handling skills;Very good in English;College: Alsun or English commerce is required;Excellent selling, communication, negotiation, Presentation and Closing Skills;Age Min: 25 Max: 30;\\n',\n",
       "       \"\\n;Skills;\\n;Your Qualifications:;Bachelor's degree in any field;Must be bilingual (English & Arabic) and biliterate (in English and candidate's native language).;Have ability to understand and effectively carry out oral and written instructions.;Be able to read and write. Have the ability to understand, and effectively carry out oral and written instructions.;Demonstrate an interest in learning Customs and Supply Chain domain.;Experience in working on a Project in a group setting.;Ability to work well with Government officials, Software development team, Functional Team and other staff with courtesy, tact, and good judgment along with having good stakeholder service skills.;Be of good character, neat in personal appearance, dependable, reliable, prompt, and flexible and have pleasing manners and personality.;Ability to cooperate with Project Team members and willingness to take directions from senior team members.;\\n\",\n",
       "       '\\n;Skills;\\n;Have strong interpersonal skills and demonstrate excellent writing and graphic skills.;Able to multitask well, display creativity and keep abreast with the latest industry developments.;Strong analytical skills and experience working in Online Marketing.;Self-starter and able to work independently and within a team.;knowledge of digital marketing tactics and ability to advise on and revise trends.;\\n',\n",
       "       '\\n;Skills;\\n;Skills;Job Requirements;Experience: 0: 2 years in the sales field;Customer handling skills;Very good in English;Excellent negotiations;BS/BA degree or equivalent;Excellent selling, communication, negotiation, Presentation and Closing Skills;Proven work experience as a sales representative in education center.;Team player.;owns a car;Age Min: 25 Max: 40;\\n',\n",
       "       '\\n;Skills;\\n;Your Qualifications:;Bachelors in IT Engineering/Computer Science or Masters in Computer Application or degree in Business Administration, Management, Project Management or related field.;Minimum 8 years of practical & professional experience in managing large IT projects for Applications implementation.;PMI Institute Certification, PMP is a must.;Proficient with MS Project, in-depth knowledge of TFS, JIRA;Demonstrated experience in leading cross-functional project teams.;Ability to adjust and set priorities to meet deadlines.;Should be highly fluent in English and Arabic, should be able to address large audience during important presentations and kickoff meetings.;Candidate should have a pleasing personality and a great attitude.;Candidate should have handled govt. projects.;Customs/Supply chain domain experience is an advantage.;\\n',\n",
       "       '\\n;Skills;\\n;Your Qualifications:;10+ experience in Information Technology in support of Business Services, or equivalent demonstrated through one or a combination of the following: work experience, training, military experience, education;10+ years of experience in product development & Systems Engineering;5+ years of experience with CI/CD technologies such as Jenkins, Github, Artifactory;Experience in product management/development, program management, strategy, marketing and/or related position in a consumer-oriented, technology-dependent tools;Product or Program or Change Management experience - Migration of products/tools to cloud infrastructure (GCP/Azure/AWS);Product or Program or Change Management experience - On CICD tools (On prem/Cloud) towards managing product/platform health - e.g.: scalability, resilience & stability;Advanced Microsoft Office (Word, Excel, Outlook and PowerPoint) skills;Solid creative and strategic thinking skills for product roadmap - Tactical and long-term strategic goals;Strong analytical skills with high attention to detail and accuracy;Ability to manage large-scale initiatives and effectively partner with stakeholders across technical teams;Experienced and well versed in Agile practices, good exposure to tools like JIRA;Good to have - Knowledge of container Technologies such as Docker, Kubernetes, AWS, OpenStack Cloud especially for migration and maintenance of observability tools;Good to have - Certifications on GCP or Azure.;Should have experience with .Net core, Angular, SQL server, GIT, REST API,;Experience in building reusable framework for consuming and providing APIs.;Thinking critically to analyze the pros and cons of solving a problem or using a technology in a certain way.;Proficiency in English and Arabic and vice versa;\\n',\n",
       "       '\\n;Skills;\\n; Degree in Mechanical Engineering is preferred or equivalent. At least 1:3 years’ sales experience in heavy equipment.;- Strong interpersonal skills; ability to communicate with customers & colleagues at all levels.;- Must be able to work in a structured manner.;- Strong organizational skills to balance workload and prioritize effectively.;- Must be highly motivated and efficient: a self-starter.;- Excellent written and oral communication skills.;- Commercial fluency in English and Arabic is mandatory.;- Excellent computer skills.;\\n',\n",
       "       '\\n;Skills;\\n;Job requirement:;- +2 Years of Experience in customer service is necessary.;- Excellent command of English both written and spoken.;- Bachelor or license degree holders.;- Tourism and hotels background is preferred.;- Age from 23 : 30 years.;- Able to use Microsoft office.;- Ability to work in rotational shifts.;- Have High command of interpersonal skills.;\\n',\n",
       "       '\\n;Skills;\\n;Your Qualifications:;Bachelors/Masters in Computers or IT;5-7 years of IBM Cloud pack for Integration (App Connect, API Connect, MQ, API Gateway, Kafka) experience;Strong experience in MQ, Message Broker, API Management, along with working experience on various operating systems/platforms (Unix, Windows, Linux) or RedHat Open Shift;Experience working with SOAP Nodes, MQ Nodes, File Nodes, Timer Nodes, Compute Node, Filter Node, JMS Nodes, HTTP Nodes, Routing Nodes etc.;Experience in designing enterprise level exception and audit logging frameworks.;Must have working experience of SOAP & REST based Web services;Must have working experience with ESQL, Mapping, and Java.;Experience with Java/J2EE, JSON, JMS, XML, XSLT, XSD, SOAP, REST, WSDL, ETL, EDIFACT.;Should have IIB Admin related experience.;Understand integration patterns, standards, guidelines, and best practices;Knowledge in Installation, configuration, Scalability, High availability of an IBM middleware environment.;Should be capable of Performance optimization;Configuration of WMB/IIB in Testing and Production environment;Participate in all aspects of the Software Development Lifecycle (SDLC) including definition, design, implementation, testing, delivery and support.;Develop and execute unit test and integration test scenarios;Very good verbal and written communication skills and the ability to build and maintain trusted relationships with a diverse group of clients, team members, managers, and subject matter expects (SME);Good command over English and Arabic language;\\n',\n",
       "       '\\n;Skills;\\n;Qualifications for Lawyer;JD or LLM with exceptional academic credentials;License to practice law in the state you are working in;3-10 years of experience at a law firm or within an in-house legal department;Exceptional written and verbal communication and negotiation skills;Excellent business judgment and high level of professionalism;Ability to work in teams;Excellent time management and organizational skills;\\n',\n",
       "       '\\n;Skills;\\n;خبرة كبيرة فى مجال الحسابات;\\n',\n",
       "       '\\n;Skills;\\n;ان يكون المرشح لديه معرفه اساسيه باللغه الانجليزيه ;ومعرفه اساسيه بالحاسب الالي ;والقدره علي استخدام مايكروسوفت اوفيس ;ان يكون لديه قدره علي اداره فريق العمل ;والقدره علي تحقيق المستهدفات ورسم الخطط للعاملين تحت ادارته ;ان يكون مفاوض جيد;ان يتحمل العمل تحت ضغط ;\\n',\n",
       "       '\\n;Skills;\\n;لا يشترط مهارات اكثر من اللباقه وحسن التصرف وحسن المظهر والقدره علي اجتذاب العملاء ;\\n',\n",
       "       '\\n;Skills;\\n;have a good experiance ;\\n',\n",
       "       '\\n;Skills;\\n;Have A Good Experance in real Estates ;\\n',\n",
       "       '\\n;Skills;\\n;Ability to analyze the goal, target customer, and challenges to overcome before planning sales-oriented activities.;Proficient in creating sales records, client interactions, and developing precise reports.;Knowledge of customer service principles and processes.;A high level of focus on driving sales with consistent performance and teamwork.;Portraying superb soft skills during customer interaction and seminars as per requirement.;Demonstrated ability to forge long-lasting work relationships by leveraging information, tactics, and excellent communication.;\\n',\n",
       "       '\\n;Skills;\\n;Critical thinking.;Technological knowledge.;Active learning.;Interpersonal skills.;Organizational skills.;Complex problem-solving skills.;Mathematics and physics skills.;Innovative thinking.;\\n',\n",
       "       '\\n;Skills;\\n;Bachelor’s degree in Business administration or equivalent.;(3 – 5 years) experience in furniture industry.;Proven experience in sourcing processes.;Understanding of sourcing methodologies.;Strong negotiation skills and time-management\\xa0;\\n',\n",
       "       '\\n;Skills;\\n;Good English Communication;Good Sales Experience;Good Negotiation Skills;\\n',\n",
       "       '\\n;Skills;\\n;QUALIFICATIONS, EXPERIENCE, & SKILLS:;Minimum Qualifications and Knowledge:\\xa0;High School Degree;Minimum Experience:\\xa0;1-3 years of retail sales experience.\\xa0\\xa0Analytical, Time Management, Communication, Leadership, Teamwork;Job-Specific Skills:\\xa0\\xa0;\\xa0Advance MS Office.\\xa0SAP experience would be beneficial.;\\n',\n",
       "       '\\n;Skills;\\n;Required Skills to be successful:;-\\xa0\\xa0Bachelor’s degree in finance or business Admin. or commerce\\xa0;-\\xa0\\xa0Min. 2 years’ experience\\xa0;-\\xa0\\xa0Good communication skills in English\\xa0;-\\xa0\\xa0Preferred experience in same field\\xa0;\\xa0\\xa0;What equips you for the role:;Minimum Qualifications and Knowledge: University graduated, Faculty of Commerce.;Minimum Experience: 2 years of experience in Finance As A Cashier Back office Accountant;\\n',\n",
       "       '\\n;Skills;\\n;Job-Specific Skills:;5+ years of professional experience leading influencer marketing strategy and campaign execution for an influencer network, agency within Retail or fashion space;Native Arabic Speaker & Fluency in English;In-depth knowledge and understanding of current and emerging social media platforms;Must have a huge database of social media influencers / celebrities within the MENA region;Strong background running influencer marketing / ambassador programs across MENA;Experience with influencer and social management tools;\\n',\n",
       "       '\\n;Skills;\\n;Qualifications for Lawyer;JD or LLM with exceptional academic credentials;License to pratice law in the state you are working in;3-10 years of experience at a law firm or within an in-house legal department;Exceptional written and verbal communication and negotiation skills;Excellent business judgment and high level of professionalism;Ability to work in teams;Excellent time management and organizational skills;\\n',\n",
       "       '\\n;Skills;\\n;Requirements:;Has at least 3 years of experience in any of the following fields: ;o Business Management Consulting. ;o Marketing & Advertising or other creative fields.;Construct and follow chains of reasoning quickly and able to point out reasoning flaws.;Contribute new perspectives on an issue, i.e., look at an issue or a phenomenon in a unique way and be able to clearly communicate it.;Resourceful and able to think differently.;Strong research capabilities.;Strong analytical skills.;Strong problem-solving skills.;Strong Arabic and English writing skills.;Strong PowerPoint and Visualization skills.;\\n',\n",
       "       '\\n;Skills;\\n;مطلوب عدد ٢ سيلز (إناث) و عدد ١ (ذكر ) موظفين مبيعات مصاعد للعمل لدي شركة اليفانس للمصاعد والسلالم المتحركه.; المؤهلات:-; 1- مؤهل عالي ; 2- خبره وبدون;الشروط:-; 1- إجاده العمل علي برامج الكومبيوتر; 2- حسن المظهر ; 3- ;إج;اده التحدث مع العملاء; المميزات:-; 1- فتره تدريب مجاني; 2- رواتب مغرية; 3- حوافز وعمولات مجزيه; 4- تأمينات اجتماعيه ; * مواعيد العمل من ٩ الي ٥ ; العنوان :- ١٢٧ مصطفي النحاس مدينة نصر\\xa0;\\n',\n",
       "       '\\n;Skills;\\n;Qualifications:;➢ Shall be qualified with a Bachelor of Science degree in Quantity Surveying/ Commercial Management or equivalent from an accredited internationally recognized university.;➢ must be 10 years chartered by a recognized international body such as the Royal Institution of Chartered Surveyors (RICS). Minimum twenty-five (25) years experience of which ten (10) years in Contract / Commercial / Procurement Management discipline.;➢ Experience in FIDIC contracts.;➢ Experience with pre-& post contract experience.;➢ Excellent written and verbal communication skills in English. ;➢ Experience working within a consultancy environment.;➢ Previously worked in a client-facing role.;\\n',\n",
       "       '\\n;Skills;\\n;Qualifications:;•\\tDegree Holder.;•\\tHave more than 2 year’s experience;•\\tVery Good in English.;•\\tExcellent communication skills;•\\tAttention to details, prioritization skill and time management.;\\n',\n",
       "       '\\n;Skills;\\n;BSc. degree preferable\\xa0(Commerce or English or any relevant ).;3or 5 years of experience as Admin or Secretary or similar role.;Proven admin or Secretary experience.;Knowledge of office management systems and procedures.;Excellent time management skills and ability to multi-task and priorities work.;Attention to details and problem solving skills.;Must be fluent in English..;Excellent written and verbal communication skills.;Strong organizational and planning skills.;Proficiency in MS Office.;·\\xa0\\xa0\\xa0\\xa0\\xa0\\xa0\\xa0\\xa0Residence: Nasser city, Heliopolis and New Cairo or any place close from Nasser City.;\\n',\n",
       "       '\\n;Skills;\\n;Preferred Qualifications:;Experience in working with product owners to define acceptance criteria;Experience in coaching agile team members in relevant aspects of testing;QA Tester\\xa0;Essential Qualifications:;Bachelor’s degree in Computer Science or its equivalent.;5+ years of experience in performance and functionality testing as part of the development cycle.;4+ years of experience in E2E testing automation tools (e.g., WebdriverIO, Appium, Selenium, Cypress);2+ years of experience in API and performance testing tools (e.g., Gatling, k6, jMeter);\\n',\n",
       "       '\\n;Skills;\\n;تطوير المواقع الالكترونية;البرمجة;\\n',\n",
       "       '\\n;Skills;\\n;Academic and professional qualifications:;\\ufeff;§\\xa0BSc/BA in Accounting, Finance or relevant field; MSc/MBA is a plus.;§\\xa0CFA, CPA, CMA or other relevant qualifications is a plus.;\\n',\n",
       "       '\\n;Skills;\\n;صيانة مكانيكي و كهرباء ;\\n',\n",
       "       '\\n;Skills;\\n;English language;Good speaking and explanation skills ;presentable ;\\n',\n",
       "       '\\n;Skills;\\n;اجادة الكمبيوتر ;\\n',\n",
       "       '\\n;Skills;\\n;يجيد استخدام الحاسب الالي و برامج الاوفيس;\\xa0خبرة سنتين يفضل الخبرة على الترتيب ( الفيديو جيمز - الكمبيوتر و لوازمة - الالكترونيات ;\\n',\n",
       "       \"\\n;Skills;\\n;Bachelor's degree in Engineering (Architectural Engineering).;5 Years of experience in Engineering, construction, and design.;Great leadership and organizational skills.;Project management skills.;Excellent command of English.;\\n\",\n",
       "       '\\n;Skills;\\n;Job Requirements;A bachelor degree in English educational field (preferred).;Candidates having a teaching certificate such as TEFL, TESOL, or CELTA is a plus.;English Fluency.;Native like accent is preferred.;Able to make the session both valuable and fun.;Effective communication (verbal and written) and interpersonal skills.;Candidates should be able to have comprehensive understanding of teaching practices and principles including experience in the sector.;Being able to join immediately;At least 1 year of experience;British and American English is required.;\\n',\n",
       "       '\\n;Skills;\\n;7 essential skills of a business analyst\\u200b;The following are some of the specific skills a business analyst needs in order to be successful:;Effective stakeholder engagement;Business analysts are likely to deal with stakeholders at all levels of an organisation right up to the CEO;Critical thinking;The ability to understand and analyze problems and find solutions;Problem-solving;The ability to think creatively and work collaboratively with teams to solve business challenges;Decision making;The ability to make decisions around things such as requirement prioritisation, scope, assessing viability of solutions etc;Good listener & communicator;Requirement gathering is a key part of the role so the ability to ask the right questions and correctly understand the information received is essential;Documentation and writing skills;Business analysts will find themselves creating documents such as use cases and business requirement documents;Confident presenter;The ability to present findings and recommendations to senior leaders and to manage stakeholder meetings;\\n',\n",
       "       '\\n;Skills;\\n;Qualifications;Bachelor’s Degree;1-3 years’ experience in sales (Insurance – Pharmaceuticals – Real Estate);Excellent command of spoken & written English Language;Excellent use of Word & Excel;PowerPoint is an asset;Must own a car;Lives in or within the vicinity of New Cairo;Excellent communication & negotiation skills;Target oriented;\\n',\n",
       "       '\\n;Skills;\\n;JOB CONTEXT:;Range presentation: store media and display techniques skills;Knowledge about IKEA store equipment;QUALIFICATIONS;Minimum Qualifications and Knowledge:;Degree / Diploma in Interior Designing or Architecture;\\xa0EXPERIENCE;Minimum Experience:;0-2 years in relevant area in interior design firms;SKILLS;Job-Specific Skills:;Excellent written and verbal English;Excellent Design & Creative skills;Good knowledge in home furnishing, market, social trends, fashion;Good knowledge of AutoCAD & sketch up;Strong drafting, space planning, interior and architectural design skills;\\n',\n",
       "       '\\n;Skills;\\n;خبرة في أعمال التشطيبات ;القدرة على التعامل مع مقاولين الباطن;\\n',\n",
       "       '\\n;Skills;\\n;القدرة على العمل في العاصمة الادارية ;القدرة على التعامل مع ضغط الاعمال في الموقع .;\\n',\n",
       "       '\\n;Skills;\\n;يجيد استخدام الحاسب الالي ;جيد باللغة لانجليزية ;\\n',\n",
       "       '\\n;Skills;\\n;Excellent communication skills;\\n;Agile and resilient.;\\n;Curious and always looking to learn and develop;\\n',\n",
       "       '\\n;Skills;\\n;خبرة 3 سنوات;\\n',\n",
       "       '\\n;Skills;\\n;JOB CONTEXT:;Range presentation: store media and display techniques skills;Knowledge about IKEA store equipment;QUALIFICATIONS;Minimum Qualifications and Knowledge:;Degree / Diploma in Interior Designing or Architecture;\\xa0EXPERIENCE;Minimum Experience:;0-2 years in relevant area in interior design firms;SKILLS;Job-Specific Skills:;Excellent written and verbal English;Excellent Design & Creative skills;Good knowledge in home furnishing, market, social trends, fashion;Good knowledge of AutoCAD & sketch up;Strong drafting, space planning, interior and architectural design skills;\\xa0;Behavioural Competencies:;Respect / Collaboration / Integrity / Excellence;We’re here to provide excellent service but a little help from you can ensure a five-star candidate experience from start to finish.;\\n',\n",
       "       '\\n;Skills;\\n;Requirements;Proven experience as a Full Stack Developer or similar role;Experience developing desktop and mobile applications;Familiarity with common stacks;Knowledge of multiple front-end languages and libraries (e.g. HTML/ CSS, JavaScript, XML, jQuery);Knowledge of multiple back-end languages (e.g. C#, Java, Python) and JavaScript frameworks (e.g. Angular, React, Node.js);Familiarity with databases (e.g. MySQL, MongoDB), web servers (e.g. Apache) and UI/UX design;Excellent communication and teamwork skills;Great attention to detail;Organizational skills;An analytical mind;Degree in Computer Science, Statistics or relevant field;\\n',\n",
       "       '\\n;Skills;\\n;خبره فى المجال بدايه من سنة;\\n',\n",
       "       '\\n;Skills;\\n;-Minimum 3 years of experience with system design, programming, and data structuring in iOS/Android development on the React Native stack;-Bachelor’s degree in computer science or equivalent;-Excellent frontend skills, backend experiance is a plus\\xa0;-Excellent analytical and problem-solving skills;-Experience working in a team environment;-Excellent verbal and written communication skills;-Ability to distill complex technical plans into easily understandable concepts for executive reports;\\n',\n",
       "       '\\n;Skills;\\n;Good using MS office and suitable typing speed;\\n;Excellent organizational skills;\\n;Good communication, interpersonal and negotiation skills.;\\n;Good relationship building and excellent team player.;\\n;Good analytical skills.;\\n;V. Good command of English;\\n;\\n',\n",
       "       '\\n;Skills;\\n;Jon Requirements:;\\ufeff;BSc Degree in Electrical Engineering is a must.;From 10 to 15 Years of experience in an HV substation is a must.;Experience in GIS is preferred.;Strong client and project management skills are required.;\\n',\n",
       "       '\\n;Skills;\\n;Management skills and ability to multi-task and prioritize work.;Ability to creatively explain and present complex issues.;Strong organizational and planning skills.;Strong listening and communication skills.;Presentation skills and time management skills.;\\n',\n",
       "       '\\n;Skills;\\n;Bachelor’s degree in Mechanical Engineering.;5+ years of Experience - Background in industrial FMCG is a must .;Strong verbal and written communication skills.;Strong time management skills and excellent attention to detail.;Ability to work on multiple projects/deadlines.;\\n',\n",
       "       '\\n;Skills;\\n;Proactive and go getter.;\\n;Agile and resilient.;\\n;Curious and always looking to learn and develop.;\\n;Role model.;\\n;Understand the needs of the client and has customer excellence attitude;\\n;\\n',\n",
       "       \"\\n;Skills;\\n;Ability to conduct interviews in a clear and concise manner.;Portraying sound knowledge of the recruitment cycle through streamlined thinking and clear decision-making.;Time management skills;;Exhibiting thorough knowledge in corporate recruitment activities spanning from planning to onboarding.;Solid ability to conduct different types of interviews ;Bachelor's Degree in HR or any related field.;5+ Years of Experience Middle East Experience;Experience in IT and Telecom sourcing;\\n\",\n",
       "       \"\\n;Skills;\\n;Required Skills to be Successful;\\xa0;Teamwork;Communication;Professional Knowledge;Training and coaching;Personal Leadership;\\xa0\\xa0;What equips you for the role;\\xa0;Bachelor's degree in Mechanical/Electrical Engineering.;7 - 10 years of experience in facility management of MEP and Civil works in real estate developers.\\xa0\\xa0;FM certification (FMP, CFM) is an asset.;\\n\",\n",
       "       '\\n;Skills;\\n;QUALIFICATIONS, EXPERIENCE, & SKILLS:;Minimum Qualifications and Knowledge:;High school education or equivalent preferred;\\xa0;Minimum Experience:;Minimum two years Assistant Store Manager experience with a proven track record for driving sales and profit results and training and developing a team of individuals;\\xa0;Job-Specific Skills:\\xa0\\xa0;\\xa0;Good command of business English (written and verbal);Good computer skills (Outlook, Excel & SAP) and detailed report analysis skills;Strong level of numeracy & literacy;Some heavy lifting;Scheduled shifts may require standing for a minimum of eight hours;\\n',\n",
       "       '\\n;Skills;\\n;PERSON SPECIFIC:;Education:;A University Degree in Business Administration/Finance/Commerce;\\xa0;Minimum Experience and Knowledge:\\xa0;Minimum of 5 years finance & accounting experience preferably in retail industry.;Experience in Audit & managing teams/departments.;Advanced user of MS Office apps, especially Excel.;Must have strong analytical and tactical planning abilities;Must have a highly developed understanding of retail operations;Must have an interest in home furnishings;\\xa0;Job-Specific/Technical Skills required to complete the tasks:;Budgeting and forecasting knowledge and skills.;Cost management.;Business & financial analysis.;Very Good Command of English language.;Very Good Command of Arabic language is preferred;\\xa0;Behavioural Competencies & Interpersonal skills:;Must have excellent Communication skills;Must be able to share their knowledge and learning with others;Must have the ability to build solid working relationships;Good coaching & training skills.;Ability to bring out the best in Co-workers and to motivate and develop the organisation;Ability to create an environment where the IKEA values are a strong and living reality that embraces the diversity of Co-workers and visitors;Business Acumen.;Problem Solving skills;\\n',\n",
       "       \"\\n;Skills;\\n;Qualifications;1-3 years' of marketing experience ;BS/BA in Marketing or a related field of study ;Excellent writing and communication skills;\\n\",\n",
       "       '\\n;Skills;\\n;Bachelor’s Degree in Mechanical Engineering – Industrial or Equivalent.;Must have food production management experience of not less than 5 consecutive years.;Must have general food production not less than 12 to 15 consecutive years.;Received the needed training and qualification of Food Safety Regulations.;Self-Starter;Excellent interpersonal/relationship building skills.;Able to communicate clearly and concisely orally and in writing;Professional attitude and appearance at all times;\\n',\n",
       "       '\\n;Skills;\\n;Bachelor’s degree in business or related field.;Experience in planning and implementing sales strategies.;Experience in customer relationship management.;Experience managing and directing a sales team.;Excellent written and verbal communication skills.;Dedication to providing great customer service.;Ability to lead a sales team.;\\n',\n",
       "       '\\n;Skills;\\n;الذكاء و العمل جيدا باللغه الانجليزيه ;\\n',\n",
       "       '\\n;Skills;\\n;You have a relevant Bachelor or Master’s degree in a business or technical field;You are fluent in English;You are able to communicate clearly and navigate in a remote and intercultural work environment;You are eager to develop yourself, are open-minded and are constantly looking for learning opportunities;technical background;\\n',\n",
       "       \"\\n;Skills;\\n;Required skills/experience to be successful:;Payroll & personnel experience;Corporate function exposure;SAP Successfactors experience;Experience working in shared services team;\\xa0;What equips you for the role:;Bachelor's Degree;Min 3-4 years of experience facilities management experience is preferable.;Ability to own initiatives within a very dynamic environment.;Possess strong leadership skills to deal with diversified teams.;Excellent customer service, interpersonal and communication skills.;Very Good command of Arabic and English language.;Proficient with computer usage of Microsoft office.;Problem solving skills.;Planning and analytical skills.;\\n\",\n",
       "       '\\n;Skills;\\n;PERSON SPECIFIC;Education: Degree in Civil Engineering, Architecture, PMP or similar Project Management Certification / Facilities Management / Property Management. Ability to read CAD Drawings and other Technical drawings, Certification in Microsoft Project or similar software, Minimum Experience and Knowledge: Minimum five years’ experience working in the Construction and Project Management and Facilities Management Industry. Retail Project Management Experience. Experience managing a project delivery team, Excellent Command of English Job-Specific Skills: Understanding the expected rate of implementation of Retail Projects, Good Market Knowledge on Construction and Project Management. Good Understanding of Retail Store Development Processes. Understanding the expected rate of implementation of Retail Projects, Good Market Knowledge on Construction and Project Management. Good Understanding of Retail Store Development Processe;\\n',\n",
       "       '\\n;Skills;\\n;خبرة لا تقل عن 3 سنوات;\\n',\n",
       "       '\\n;Skills;\\n;المثابرة وحب التعلم;\\n',\n",
       "       '\\n;Skills;\\n;Must-Have Skills:;In-depth knowledge of AWS services, infrastructure, and functionality:;CloudFormation.;AWScli;IaaS - VMs, Storage, Networking, Images, ExpressRoute/DirectConnect, Load Balancing,;Availability Sets/Zones, Scale Sets.;Operations Management Suite (OMS), CloudWatch;AWS Cost Management.;Hands-on experience with Kubernetes (preferably AKS and/or EKS) specifically:;Hands-on experience with OpenShift preferred.;Expert level knowledge of pods, nodes, deployments (blue-green, canary, rollbacks, etc.), load balancers, and Helm charts.;Deploying microservices / Java REST-based containers.;Maintaining Security in a Kubernetes cluster.;Deploying tools for container monitoring, metrics, and logging.;AWS SQS and SNS.;Strong server administration skills (Windows, RHEL, and Ubuntu);Hands-on experience designing systems for automation, orchestration, and system configuration tools (Jenkins, Ansible, Puppet, Chef, Bash, PowerShell, Python, Terraform);Experience with source code management (Git);Ability to anticipate production needs and provide architectural solutions.;Experience with user acceptance testing and environment troubleshooting.;Experience with working in DevOps teams and prior experience with automation projects (cloud);Experience with AWS big data solutions including, Kafka.;Preferred:;AWS certifications;Experience or awareness of working in an environment that handles confidential data.;Experience creating infrastructure as code, including applications/servers blueprints, load balancers, networks, and other deployments.;Experience with automating HA and DR Failovers.;Understanding of API automation and tools integration.;\\n',\n",
       "       '\\n;Skills;\\n;8+ years of software development experience in Java;3+ years of using Spring;Experience with developing REST based APIs;Experience using Git and understanding of Git workflows;Solid understanding of application security, best practices;Familiar with CI/CD;Familiar with containers / Kubernetes / cloud deployments;(Optional) Experience with C/C++;(Optional) Experience implementing complex data analysis algorithms;\\n',\n",
       "       '\\n;Skills;\\n;The Candidate;Extensive HR Generalist experience built up within regional business;Experience managing remote stakeholders;Proven Middle East experience;Ability to lead on process improvement and manage change effectively;Comfortable with a high-volume workload;Flexible with a willingness to proactively roll up your sleeves; ASAP Available will be advantage.;Company Overview;Size: ;10000+ Employees globally;Founded: ;1984;Type: ;Company - Public, Global F500;Industry: Heavy ;Machinery manufacture;Revenue: Multi Hundred Billion Dollar;\\n',\n",
       "       '\\n;Skills;\\n;سرعة التعلم ;التعامل مع الاخرين;\\n',\n",
       "       '\\n;Skills;\\n; العمل علي برامج مايكرو سوفت اوفس;\\n',\n",
       "       \"\\n;Skills;\\n;Bachelor's degree in Civil\\\\Architectural Engineering.;5-7 years of experience.;A background in finishing works is a must.;QS experience is required.;Males only;Site-Based.;\\n\",\n",
       "       '\\n;Skills;\\n;خبرة لا تقل عن 6 اشهر في مجال المحاسبة;اللغة الانجليزية جيدة;القدرة على الشرح جيدا;\\n',\n",
       "       '\\n;Skills;\\n;Excellent communication skills;\\n;Excellent problem-solving skills.;\\n;Ability to manage and balance own time among multiple tasks, and lead junior staff when required;\\n;Ability to successfully interface with clients (internal and external);\\n;Ability to document and explain technical details in a concise, understandable manner;\\n;Excellent command of English;\\n;\\n',\n",
       "       '\\n;Skills;\\n;مطلوب مندوبين مبيعات خارجية;شرط الخبرة في مجال الادوات المنزلية;لا يزيد السن عن 40 عاما;شرط الخبره;شباب فقط;العمل 8 ساعات يوميا;اجازة ثابتة يوم الجمعه;الراتب يبدء من 3000 ج ثابت + 500 ج بدل انتقالات ثابت;عموله شهريه على المبيعات تصل الي 3500 ج;تأمينات اجتماعية و صحيه;اجازات سنوية;\\n',\n",
       "       '\\n;Skills;\\n;QUALIFICATIONS:;Minimum Qualifications and Knowledge:\\xa0;Degree (Appropriate Collage Degree);Minimum Experience: \\uf0b7 3 to 5 years in a similar role;\\n',\n",
       "       '\\n;Skills;\\n;QUALIFICATIONS, EXPERIENCE, & SKILLS:;Minimum Qualifications and Knowledge:\\xa0;Post Graduate or Finance Professional (CA/CPA/CIA) or MBA – Finance / Operations management;Minimum Experience:\\xa0;3-5 years’ experience in process compliance/Audit , preferably in retail\\xa0\\xa0;Job-Specific Skills:;Working knowledge in SAP/Navision – ERP system (preferred);Good knowledge of MS Excel, Word and PowerPoint;Strong analytical skills;Behavioural Competencies\\xa0;:;Excellent communication skills;Good presentation skills;good interpersonal skills;\\n',\n",
       "       '\\n;Skills;\\n;To be successful in this role, you should be well-organized, have great time management skills and be able to act without guidance.;Work experience as an Executive Assistant, Personal Assistant or similar role;Excellent MS Office knowledge;Outstanding organizational and time management skills;Familiarity with office gadgets and applications (e.g. e-calendars and copy machines);Excellent verbal and written communications skills;Discretion and confidentiality;english business degree ;\\n',\n",
       "       '\\n;Skills;\\n;Polite, presentable, neat, and professional appearance.;People oriented with exceptional communication & networking skills.;Good verbal communication in Arabic & English.;Proactive and energetic.;Excellent teamwork attitude.;\\n',\n",
       "       '\\n;Skills;\\n;\\xa0*** مميزات _ وظروف _ العمل:- ;\\xa0تامينات اجتماعية;\\xa0تامين صحى حكومى ;\\xa0انتقالات ;\\xa0حوافز شهرية;\\xa0مكافات;\\xa0;\\xa0;مواعيد العمل من 8 ص : 4 م;\\n',\n",
       "       '\\n;Skills;\\n;Communication.\\xa0...;Creativity and Problem-Solving.\\xa0...;Attention to Detail.\\xa0...;Interpersonal Skills.\\xa0...;Leadership.\\xa0...;Adaptability.\\xa0...;Writing.\\xa0...;Data Analysis & Analytics.;\\n',\n",
       "       '\\n;Skills;\\n;Job Requirements;University degree;Degree in accounting, business management or a similar field preferred.;1-2 years of experience as a Procurement/logistics Officer\\xa0;SAP user ( Basics level);Strong communication and negotiation skills.;Good analytical and strategic thinking skills.;Attention to detail.;Preferably males\\xa0;\\n',\n",
       "       '\\n;Skills;\\n;Job Requirements;interpersonal Skills: Ownership - Functional Skills - Ideas presentation and Taking initiative - Continuous Learning - Customer Centricity.;* CCNA Knowledge;\\n',\n",
       "       '\\n;Skills;\\n;ميكروسوفت اكسل + وورد;\\n',\n",
       "       '\\n;Skills;\\n;يجيد العمل على برامج AutoCAD، imos، polyboard، solid worksأو ما يعادلها;شهادة جامعية / فنون جميلة أو تطبيقية او ما يعادلها;\\n',\n",
       "       '\\n;Skills;\\n;التسويق وقدرتة على اقناع العميل والتسويق وجذب عملاء جدد;\\n',\n",
       "       '\\n;Skills;\\n;-القدرة علي العمل تحت ضغط;\\n',\n",
       "       '\\n;Skills;\\n;Understanding of the sales process and dynamics.;Proven track record of maintaining professional ethics through the portrayal of exemplary soft skills.;Approaching new and existing customers by following optimum consumer service standards.;Performance-driven and capable of achieving targets under pressure.;Apt in dealing with clients and engagingly presenting product data for potential leads.;Strong negotiation skills.;\\n',\n",
       "       '\\n;Skills;\\n;الالتزام - طموح - مفيمي محافظة الاسكندرية - متفرغ- اجادة برامج الاوفيس والحاسب الالي - هادئ - التحكم في الانفعال - يجيد العمليات الحسابية - العمل الجماعي - العمل تحت الضغط - مؤهل عالي - خبرة لا تقل عن سنه - السن لايقل عن 21 سنه - جاهز للتنقل بين الفروع - انهى الخدمة العسكرية او اعفاء ;\\n',\n",
       "       '\\n;Skills;\\n;القدرة علي التنظيم والمتابعة واتخاذ القرارات ;\\n',\n",
       "       \"\\n;Skills;\\n;Bachelor's degree in computer science or a relevant field.;Minimum 1 year of experience in the same or similar role.;Max age is 25 years old.;Good English language is written and oral;Excellent communication and time management skills.;Excellent problem-solving skills.;Good experience windows troubleshooting and backup solutions.;Background about NCR product and POS ,cash drawers troubleshooting.;\\n\",\n",
       "       \"\\n;Skills;\\n;A bachelor's degree.;6 months to 1 year of experience in personnel;Very good command of English.;Excellent Communication skills.;Eager to learn and committed.;HR Certificate or Diploma is preferred.;Maximum age is 25 years.;Familiar with filing system.;\\n\",\n",
       "       \"\\n;Skills;\\n;A bachelor's degree.;1 Year of Experience in Recruitment.;Very good command of English.;Excellent Communication & Negotiation skills.;Eager to learn and committed.;HR Certificate or Diploma is preferred.;Maximum age is 25 years.;\\n\",\n",
       "       '\\n;Skills;\\n;SW architecture development background;extensive embedded/C/C++/Linux/OpenWRT experience;communication and leadership skills;code review and CI/CD experience;Preferred skills:;background in wireless (Wi-Fi, WiMAX, LTE, etc.) and network protocols;Qualcomm QSDK, firmware/microcode development experience;frontend development;low-level bootloader, BSP, device drivers, ASM-development;\\n',\n",
       "       '\\n;Skills;\\n;1-2 Years’ Experience in Relevant Field.;In-depth understanding of entire MS Office suite.;Fluent in English and Arabic, French is a plus.;Ability to organize a daily workload by priorities.;Must be able to meet deadlines in a fast-paced quickly changing environment.;A proactive approach to problem-solving with strong decision-making skills.;Professional level verbal and written communications skills.;Excellent organizational and time-management skills;Integrity and confidentiality;Degree in business administration or relative field;\\n',\n",
       "       '\\n;Skills;\\n;الالتزام بالمواعيد والامانة وحسن المظهر ومتطلبات الوظيفة من استقبال المرضي والحفاظ علي ترتيب ونظافة المكان ;\\n',\n",
       "       '\\n;Skills;\\n;Essential Criteria:;Experience of working in student recruitment or similar environment for 3-5 years.;Demonstrated knowledge of the United Kingdom higher education sector and relevant overseas agencies, high schools and university sectors, particularly MENA.;Experience of developing collaborative agreements and ability to demonstrate strong communication and interpersonal skills to deliver concise written reports, prepare and deliver presentations, provide ethical and accurate study advice, and professionally represent the organisation.;Demonstrate organisational and project management skills with an ability to prioritise workload, work independently and take initiative within a small collaborative team.;Experience of counselling students and parents.;Experience in arranging events and marketing initiatives within timelines to contribute to performance targets.;Ability to communicate well with a wide range of audiences.;Highly developed interpersonal, negotiation, presentation, and communication skills.;Demonstrated team player.;Customer-focused.;Goal-driven and results-oriented profile.;Ability to work under pressure and to deadlines, to meet challenging targets.;Strong organizational and planning skills, self-motivated and committed.;Must be willing to travel extensively throughout the region very soon into the role.;Flexibility with working hours including working over weekends when required.;Desirable:;Knowledge of International Recruitment practices within the HE sector.;Knowledge of UK immigration and compliance regulations relating to overseas students.;Strong understanding of virtual event platforms and experience presenting in a virtual capacity.;Experience developing marketing campaigns to support international recruitment.; SKILLS & KNOWLEDGE ;Desirable Criteria:;Knowledge of Power BI.;Knowledge of Microsoft systems including Microsoft Teams.;Experience working with developed CRM systems (Microsoft Dynamics preferred).;Comfortable presenting on GoTo Webinar, Virtual Recruitment Days.;OTHER ESSENTIAL CRITERIA ;High attention to detail and ability to lead a wider team.;Willingness to work at university open days and offer holder events which may involve working at evenings or weekends.;\\n',\n",
       "       '\\n;Skills;\\n;ترويج وبيع منتجات الشركه الي العملاء الحاليين;تسجيل المعاملات البيعيه في السجلات التي تحددها الشركه .;جذب العملاء الجدد للتعامل مع الشركه وفقا للسياسات التي تحددها.;تحقيق الاهداف البيعية المطلوبة.;التجهيز والإعداد المسبق لأي أوراق أو مستندات قد يحتاج إليها العميل لإجراء الاتفاقات وإبرام العقود.;شرح تفصيلي لكافة منتجات وخدمات الشركة العامل بها، وتشجيع العملاء على اقتنائها.;الاهتمام بمشاكل العملاء والمساعدة في حلها، ونقل الشكاوى والاقتراحات إلى إدارة الشركة.;بناء العلاقات والتواصل الدائم مع العملاء الحاليين والمحتملين.;إعداد خطط عمل واضحة (يومية/أسبوعية/شهرية) وإجراء التحسينات الدورية عليها;\\n',\n",
       "       '\\n;Skills;\\n;\\n;Education;\\n;:;\\n;Bachelor’s degree.;\\n;Work Experience;\\n;:;\\n;1 to 4 years of relevant experience.;\\n;PC Knowledge;\\n;:;\\n;Proficient use and command of computer (office: word-excel-power-point).;\\n;Technical skills;\\n;:;\\n;Excellent communication and interpersonal skills, emotional intelligence, customer orientation, and presentation skills.;\\n;Work Location;\\n;:;\\n;Smart Village – 6th October;\\n;Special requirements;\\n;:;\\n;Excellent command of the English language, French, and other foreign languages are an asset.;\\n',\n",
       "       '\\n;Skills;\\n;\\n;Education;\\n;:;\\n;Bachelor of Science in Architectural Engineering;\\n;Work\\xa0Experience;\\n;Work Location;\\n;:;\\n;4 - 6 years;\\n;\\xa0;Smart Village - 6th October;\\n;PC Knowledge;\\n;:;\\n;3D Max is a must;\\xa0- AutoCAD –Photoshop – Microsoft Office – Revit ;\\n;Technical skills;\\n;:;\\n;Project management;\\n;Special requirements;\\n;:;\\n;Creative – Leadership – Eager to learn – Fast Learner – Adaptive;\\n',\n",
       "       '\\n;Skills;\\n;مطلوب مندوبين مبيعات خارجية ;شرط الخبرة في مجال الادوات المنزلية ;لا يزيد السن عن 40 عاما ;شرط الخبره ; شباب فقط;العمل 8 ساعات يوميا ;اجازة ثابتة يوم الجمعه ;الراتب يبدء من 3000 ج ثابت + 500 ج بدل انتقالات ثابت ;عموله شهريه على المبيعات تصل الي 3500 ج ;تأمينات اجتماعية و صحيه ;اجازات سنوية ;\\n',\n",
       "       '\\n;Skills;\\n;المؤهلات:;•\\tالممرضات: بكالوريوس, خبره 2 سنه في مكان العمل المطلوب;•\\tالCN مطلوب سنه خبره كsenior nurse\\xa0او CN;•\\tالHead nurse\\xa0مطلوب 3 سنوات خبره senior nurse او CN\\xa0او Head Nurse\\xa0\\xa0;•\\tشرط الحصول على البروماتيرك و data Flow;\\n',\n",
       "       '\\n;Skills;\\n;\\xa0;\\n;Excellent organizational and time management skills;\\n;Excellent communication skills;\\n;Very good knowledge of Microsoft Office;\\n;Excellent command of English;\\n;\\n',\n",
       "       '\\n;Skills;\\n;خبرة بداية من 3 سنوات ;خبرة في مصانع الكرتون و الورق المقوى ;\\n',\n",
       "       '\\n;Skills;\\n;Required skills to be successful;The job holder needs to demonstrate strong organization and communication skills with full understanding of debt products, as well as good knowledge of banking practices and internal operational processes.;Job-Specific Skills: Good knowledge of loan documentation, comfortable with using TMS, Anaplan for loan monitoring purposes.;Behavioral Competencies: excellent communication and interpersonal skills, fact-based approach towards daily deliverables.;\\xa0\\xa0;What equips you for the role;Minimum Qualifications and Knowledge:\\xa0Bachelor’s degree minimum required. Fluent in both Arabic and English languages.;Minimum Experience:\\xa0ideal candidate would have 5 to 7 years’ experience in treasury / funding functions.;\\xa0;\\xa0;\\n',\n",
       "       \"\\n;Skills;\\n;Job Requirements;English language fluency.;Native like accent.;Experience in teaching ESL is preferred.;Having a bachelor's degree [Preferable];Other Knowledge, Skills, and Abilities:;Working days: Sat,Tue / Sun,Wed / Mon,Thu;Working hours: 7 working hours between 2:30 PM till 10:30 PM\\xa0;according to business needs.;Flexibility and adaptability;Presentation Skills;\\n\",\n",
       "       '\\n;Skills;\\n;coordination;support;multitasking;technology literate;\\n',\n",
       "       '\\n;Skills;\\n;Job Requirements;Strong attention to detail;Speed typing;Great decision-making skills.;Ability to interact well with customers.;Previous experience in telesales.;Ability to maintain performance goals.;\\n',\n",
       "       '\\n;Skills;\\n;Qualifications/Requirements;Diploma/ Machinist Trade Certificate or Technical college.;Familiar with mechanical drawings, dimensions and geometric tolerances;A minimum of 1 year up to 8 years of experience in operation of machining activities onsite or workshop environment.\\xa0;Good verbal and written communications skills in English and the ability to communicate effectively with individuals at all levels of the organization;Familiarity with onsite Machining, such as Portable Lathe, Boring bar, Portable milling, drilling and grinding would be added advantage.;Good hands-on skill;Ability to use and read measurement devices such as inside/outside micrometers and dial calipers/ indicators;Machining experience in heavy-duty equipment.;Familiarity with CAD software, drawing/sketch creation would be added advantage;Flexible with travelling at short notice (domestic & international) for an extended period;Must have Valid Passport and Driver License.;Strong team player;Capable of creative thinking and quick problem solving;Strong interpersonal skill;Strong entrepreneurial spirit with strong desire to win;Project management and coordination skill;\\n',\n",
       "       '\\n;Skills;\\n;يشترط حصولها على مؤهل عالي ;لا يتعدى السن عن 35 عام ;\\n',\n",
       "       '\\n;Skills;\\n;Very Good communication and interpersonal skills.;\\n;Very Good English;\\n',\n",
       "       \"\\n;Skills;\\n;Required Skills to be Successful;\\xa0;Professional Knowledge;Communication;Teamwork;\\xa0;About the Team;This role works closely with shared services team and report directly to the Financial Controller.;\\xa0;What equips you for the role;\\xa0;Bachelor's Degree in Finance, Accounting or any related field.;7 - 10 years of solid experience in all tax functions preferably in tax firms.;Proficient use of Microsoft Applications is a must.;Exposure to ERP is an asset, especially SAP.;Tax certification/ post-grad studies is an asset.;\\n\",\n",
       "       '\\n;Skills;\\n;١- إجادة اللغه الانجليزية;٢- إجادة التعامل مع برامج و آنظمة الكمبيوتر ذات الصلة;\\n',\n",
       "       '\\n;Skills;\\n;آن يكون ملم بحسابات شركات النقل; لديه خبره حسابات من ٥ الي ١٠ سنوات في مجال النقل البري;\\n',\n",
       "       '\\n;Skills;\\n;Required Skills to be successful:;-\\xa0\\xa0Bachelor’s degree in finance or business Admin. or commerce\\xa0;-\\xa0\\xa0Min. 2 years’ experience\\xa0;-\\xa0\\xa0Good communication skills in English\\xa0;-\\xa0\\xa0Preferred experience in same field\\xa0;\\xa0;What equips you for the role:;Minimum Qualifications and Knowledge: University graduated, Faculty of Commerce.;Minimum Experience: 2 years of experience in Finance As A Cashier Back office Accountant;\\xa0;\\n',\n",
       "       '\\n;Skills;\\n;About the Requirements;Minimum of 3 - 5 years L&D management experience, retail preferred;Strong mediation and counselling skills;Must have strategic, analytical and tactical abilities;Experienced in project management & change management able to communicate effectively;Solid Stakeholders management;Ability to complete tasks efficiently, accurately, and in a timely manner;Strong team player, with ability to take initiative and operate independently.;Excellent verbal and written communication skills.;\\xa0;\\n',\n",
       "       '\\n;Skills;\\n;QUALIFICATIONS, EXPERIENCE, & SKILLS;\\xa0Education Qualification:;MBA Finance, ACA, CFA, CIMA qualified accountant or equivalent;Excellent Coordination and stakeholder management skills;Six sigma certified holder (preferably green belt);Ability to communicate and interact well;Minimum Experience and Knowledge:;Minimum 10-12 years of experience in project and process improvements in shared services organization, with a good knowledge of ERP systems (Preferably SAP).;Job-Specific Skills:;Excellent project management skills, analytical mindset, process oriented, well organized, Analyze end to end F&A process for identification of gaps/risks and mapping of quality controls (corrective & preventive);Behavioral Competencies:;Leader: Deliver service improvement activity across the business through employing process improvement methodologies;Stakeholder management: excel in developing strong client relationships, drive client dialogue both at finance manager and at CFO level, and in originating, shaping and delivering value-led finance projects;\\xa0;\\xa0;\\n',\n",
       "       \"\\n;Skills;\\n;Required skills to be successful:;Bachelor's Degree.;Min 3-4 years of experience. Facilities management experience is preferable.;Ability to own initiatives within a very dynamic environment.;Possess strong leadership skills to deal with diversified teams.;Excellent customer service, interpersonal and communication skills.;Very Good command of Arabic and English language.;Proficient with computer usage of Microsoft office.;Problem solving skills.;Planning and analytical skills.;\\xa0;What equips you for the role:;Supervisors are usually required to use Microsoft Office and should demonstrate proficiency with Microsoft Word, Outlook, PowerPoint and Excel.;\\n\",\n",
       "       \"\\n;Skills;\\n;1.\\xa0Professional Competencies:\\xa01\\xa0Bachelor degree in Pharmacy/Vet/Science.2\\xa0Advanced Business Management & Marketing.3\\xa0Commercial Business Management 4\\xa0Excellent Language Skills\\xa0(Verbal & written)2.\\xa0\\xa0\\xa0\\xa0Business Insights:.Multi functional and over 20 years diversified experience in Marketing, Sales, Importation/Distribution and International Account Management..Experience in the pharmaceutical industry is preferred Deep understanding of the commercial business. Strong business acumen allowing to build and sustain alliances & partnership with Producers, Manufacturers and Distributors of API's and FG.\\xa0Successful experiences working with local outside authorities (EDA, MOH, CAPA, NODCAR) and functions (Supply Chain, Procurement, Marketing, Regulatory) Experience in optimizing and growing business portfolio.\\xa0\\xa0\\xa0\\xa0Behavioral Competencies\\xa0Strategic Mindset\\xa0Negotiation skills\\xa0Drives results\\xa0Presentation skills\\xa0Communication skillsTeamwork skillsAttention to DetailsAnalytical skills\\xa0Planning capabilities\\xa0interpersonal skills;\\n\",\n",
       "       '\\n;Skills;\\n;Commitment and drive;Appreciation of diversity;Enthusiasm;Max. age 28;\\n',\n",
       "       '\\n;Skills;\\n;Experience from 3 : 5 years in fast food industry;Bachelor degrees;Good English level;Client relationships;Max age 35;\\n',\n",
       "       '\\n;Skills;\\n;Qualifications:;Possess a Diploma/Higher Diploma or Degree in Food Technology, Microbiology, Nutrition or equivalent;Proficient in Microsoft Word, Excel, and PowerPoint;Must be a team player and possess good communication and interpersonal skills;Proficient English.;Knowledge of complex government and industry regulations, and ability to monitor compliance with these regulations;\\n',\n",
       "       '\\n;Skills;\\n;Bachelor’s degree in computer science, information technology, or a similar field.;Previous experience working as a react.js developer.;In-depth knowledge of JavaScript, CSS, HTML, and front-end languages.;Knowledge of REACT tools including React.js, Webpack, Enzyme, Redux, and Flux.;Experience with user interface design.;Knowledge of performance testing frameworks including Mocha and Jest.;Experience with browser-based debugging and performance testing software.;Excellent troubleshooting skills.;\\n',\n",
       "       '\\n;Skills;\\n;مطلوب_مدرسيين_كمبيوتر_لكبرى_المدارس_الدولية_بالسعودية ;المطلوب;- مؤهل تربوى;- خبرة لا تقل عن 5 سنوات;- خبرة بالمرحله المتوسطه والثانوية;- خبرة بالمدارس الدولية ;\\n',\n",
       "       '\\n;Skills;\\n;Required__for_Consulting_offices_in_Saudi_Arabia;( civil design engineering );Required:;*Bachelor of Civil Engineering;*Experience Minmum 10 years in structural design;*Experience in ( AutoCad / SATDD / SAP / Etab )\\xa0;*Experience in consulting offices;\\n',\n",
       "       '\\n;Skills;\\n;Required__for_Consulting_offices_in_Saudi_Arabia;( Architectural design engineering );Required:;*Bachelor of Architects Engineering;*Experience of 8 - 10 years in design and drafting;*Experience in ( AutoCad / Adobe Photoshop / Revit /3D max\\xa0)\\xa0;*Experience in Consulting design o;\\n',\n",
       "       \"\\n;Skills;\\n;\\xa0You have a relevant Bachelor's or Master’s degree in a business or\\xa0technical field\\u200b\\u200b;\\xa0You are fluent in English\\u200b;\\xa0You\\xa0are able to\\xa0communicate clearly and navigate in a remote and\\xa0intercultural work environment\\u200b;\\xa0You are eager to develop yourself, are open-minded and are constantly\\xa0looking for learning opportunities;Must have industrial certifications including CISA, GSEC, and CEH to tackle the cyber security issues in a firm. ;\\n\",\n",
       "       '\\n;Skills;\\n;Skills And Tools:;Electrical Engineering;Engineering;Electrical;Power;Control Cable Connections;Maintenance;Drawings;English;Electrical Connections;Mechanical Engineering;Power/Control;Job Requirements: ;Bachelor degree in Electrical Engineering;Ability to read drawings of electrical connections;Aware of power/control cable connections;Experience from 1-3;English language is preferable;\\n',\n",
       "       '\\n;Skills;\\n;Strong driving record.;Navigation.;Customer service.;Basic maintenance knowledge.;Physical fitness and strength.;Efficiency and time-management.;Problem-solving.;Detail-oriented.;\\n',\n",
       "       '\\n;Skills;\\n;Knowledge of modern techniques and their implementation to boost sales activities.;Proven track record of maintaining professional ethics through the portrayal of exemplary soft skills.;Excellent command of soft skills and a deep understanding of sales values and principles.;Performance-driven and capable of achieving targets under pressure.;Portraying superb soft skills during customer interaction and seminars as per requirement.;Depicting remarkable command to convert leads into customers through passionate discussions and debates.;\\n',\n",
       "       '\\n;Skills;\\n;Proven work experience as a Sales Engineer;Proven track record selling complex enterprise solutions;Ability to forge strong, long-lasting relationships with senior executives;Ability to creatively explain and present complex concepts in an easy to understand manner;Solid technical background with understanding and/or hands-on experience in software development and web technologies;Excellent written and verbal communication skills;Excellent presentation and creativity skills;Willingness to travel;BA/BS degree or equivalent, preferably with a numeracy base;\\n',\n",
       "       \"\\n;Skills;\\n;Bachelor's degree holder with a proven track record of academic or work experience in the Finance sector.;Knowledge of finance, accounting, budgeting, and cost control principles.;Adroit soft skills to enable fluent in-house operations and maintain strong partner relationships.;A keen eye for minute details coupled with an instant ability to make sound decisions.;Ability to prepare detailed and accurate reports within the given timeframe as per requirements.;Qualified Microsoft Suite professional with a proven track record of implementing technology in financial tasks.;\\n\",\n",
       "       '\\n;Skills;\\n;مستوي جيد في اللغة الانجليزية;(خبرة أكثر من 5 سنوات);\\n',\n",
       "       '\\n;Skills;\\n;Computer Skills ( Microsoft Office fluent );\\xa0\\xa0\\xa0\\xa0\\xa0English Language ( very good in written and spoken );\\n',\n",
       "       '\\n;Skills;\\n;\\xa01-3 years of experience in sales, preferably in a call center.;\\n;Skilled at building rapport, opening doors, and understanding the business requirements of senior decision-makers.;\\n;Excellent interpersonal, communication, presentation, and negotiation skills;\\n;Bachelor’s Degree;\\n;Highly energetic, self-starter with a purpose-driven, result-oriented attitude;\\n;Competitive, ambitious, career-driven, and accountable personality;\\n;Empathy and the ability to understand customer viewpoint and customer service;\\n;Ability to work independently and with others.;\\n;Excellent written and verbal communication skills.;\\n;\\n',\n",
       "       '\\n;Skills;\\n;From 10 – 12 years of experience in Recruitment with Proven working experience as HR manager;Bachelor degree holder in HR or relevant subject ;HR Diploma holder or Certified from a reputable institute is preferred.;People oriented and results driven;Demonstrable experience with human resources metrics;Knowledge of HR systems and databases;Ability to architect strategy along with leadership skills;Excellent active listening, negotiation and presentation skills;Competence to build and effectively manage interpersonal relationships at all levels of the company;In-depth knowledge of labour law and HR best practices;Manufacturing electronics, automotive sector experience.\\xa0;\\n',\n",
       "       '\\n;Skills;\\n;\\xa02 - 4 years of proven working experience as a customer service representative or in hospitality is preferred;\\n;Strong communication/ interpersonal skills. Responsive to customer and business requests.;\\n;Strong client-facing communication skills (written, oral, presentation);\\n;Highly motivated self-starter who possesses a desire to succeed and learn for future growth and development.;\\n;BA/BS degree;\\n;\\n',\n",
       "       '\\n;Skills;\\n;- Proven experience as a General Manager or similar executive role ;\\n- Experience in planning and budgeting ;\\n- Knowledge of business process and functions (finance, HR, procurement, operations etc.) ;\\n- Strong analytical ability ;\\n- Excellent communication skills ;\\n- Outstanding organizational and leadership skills ;\\n- Problem-solving aptitude ;\\n;\\n;\\n',\n",
       "       '\\n;Skills;\\n;Bachelor degree in Science / Agriculture / engineering;\\xa0Minimum of 3 - 5 years of experience in HSE field.\\xa0;\\xa0Knowledgeable in ISO 14001 and OSHAS 18001, standards and HSE management systems.\\xa0;NEBOSH IGC is preferred.;Knowledge in relevant local and international legislations in HSE;Excellent incident investigation skills;Knowledge in emergency procedures;Very good in English language.;Proficient in Microsoft office applications.;Effective communication skills.;Well-organized and able to lead by example.\\xa0;\\n',\n",
       "       '\\n;Skills;\\n;QUALIFICATIONS, EXPERIENCE, & SKILLS:;\\n;Required Qualifications:;\\n;Bachelor’s Degree in Law;\\n;Preferred Experience:;\\n;10+ years of Experience;\\n;Job-Specific Skills:;\\n;Excellent knowledge of corporate law;\\n;Excellent knowledge of Labour Law;\\n;Knowledge of Ministry and Court procedures;\\n;Knowledge and awareness of new laws updates;\\n;Thorough knowledge of local rules and regulations;\\n;\\n',\n",
       "       '\\n;Skills;\\n;مستوي متقدم في اللغة الأنجليزية;خبرة لا تقل عن 10 سنوات في مشاريع البنية التحتية;\\n',\n",
       "       '\\n;Skills;\\n;Required Skills to be successful:;Bachelor’s in Mechanical Engineering\\xa0;Min. 3 years’ experience in Body & Paint\\xa0;Technical Background Body & Paint\\xa0;Excellent communication skills in English\\xa0;\\xa0\\xa0;What equips you for the role:;B.Sc. in Mechanical Engineering;From 3 years of experience.\\xa0\\xa0;Experienced in all aspects of vehicle diagnosis and diagnostic equipment;Possess good people handling and leadership skills;Good time management skills;Good administrative skills;Proficient with computer programs (MS Office, Windows and etc…);Proactive, hardworking, motivated approach;Strong Communication skills in both Arabic and English\\xa0;Analytical skills;Ability to accept additional tasks, duties\\xa0;\\xa0;\\n',\n",
       "       '\\n;Skills;\\n;Required skills to be successful:;Proficient in MS office (MS Excel / Word) and Knowledge of proprietary.;Hands-on knowledge & experience working with ERP tools like SAP MM & procurement specific system like ARIBA P2P;Experience in procurement process, form of Contracts;Negotiation skills;\\xa0;What equips you for the role:;6+ years of experience in procurement or commercial role (Contractors, Clients, Consultants and Developers);Knowledge of procurement process, procedures, preparing, managing costs and administering contracts gained through formal training or work experience.;Bachelor’s Degree or Equivalent. Degree in Procurement / Supply Chain is a plus;\\xa0;\\n',\n",
       "       '\\n;Skills;\\n;Required skills to be successful:;Proficient in MS office (MS Excel / Word) and Knowledge of proprietary.;Hands-on knowledge & experience working with ERP tools like SAP MM & procurement specific system like ARIBA P2P;Experience in procurement process, form of contracts;Negotiation skills;\\xa0;What equips you for the role:;Bachelor’s Degree or Equivalent. Knowledge of procurement process, procedures, preparing, managing costs and administering contracts gained through formal training or work experience;4+ years of experience in procurement or commercial role (Contractors, Clients, Consultants and Developers);\\n',\n",
       "       '\\n;Skills;\\n;QUALIFICATIONS, EXPERIENCE, & SKILLS;Minimum Qualifications and Knowledge:;Bachelor of Commerce (Accounting), Chartered Accountant (CPA, ACA, ESAA etc.), CIA, ACCA, MBA (Finance) with knowledge of internal audit function;Minimum Experience:;\\xa0\\xa0\\xa0\\xa0\\xa0Minimum of 3-6 years of experience in internal audit function, external auditor wishing to shift can also apply.;Job-Specific Skills:;Have a thorough knowledge of internal controls and internal auditing standards.;Be well versed with data analytics through spreadsheets;Have a good grasp of verbal (English/Arabic) and written communication, including report writing skills (English).;Be self-driven to execute audit assignments with minimal supervision.;Be able to effectively communicate with personnel across the organizational hierarchy and influence business constructively.;Be able to multi-task when the situation demands.;Exposure to ERP software such as SAP and Oracle is highly desirable.;Familiarity with data analytics software and audit management /documentation systems is desirable.;\\n',\n",
       "       '\\n;Skills;\\n;Qualifications: ;Open to Egyptian nationals;35 years old and above;Bachelor’s degree or equivalent in kitchen management;Atleast 10 years of kitchen management experience (Hotels & Catering Companies) ;Should have experience in International cuisines;Immediate joiners or with maximum 1 month notice will be prioritized;\\n',\n",
       "       '\\n;Skills;\\n;Qualifications: ;Open to Egyptian nationals;35 years old and above;Bachelor’s degree in Kitchen Management or any relevant ;At least 10 years’ experience in kitchen management from Hotel and Catering companies\\xa0;\\n',\n",
       "       '\\n;Skills;\\n;Medical degree, must have graduated, better ranking medical schools preferred.Preferred experience in dermatology medicine practice.Strong knowledge of dermatology fields of medicine.A drive to stay up to date with recent advancement in medicine, illness, diagnoses, and treatments with special focus on dermatology.Needed License or accreditation to practice as a medical doctor.;\\n',\n",
       "       '\\n;Skills;\\n;خبرة لا تقل عن سنة في مجال الصيانة \\xa0يفضل خبرة بمجال المطاعم;دبلوم صنايع ;مكان الاقامة القاهرة او الجيزة\\xa0;\\n',\n",
       "       '\\n;Skills;\\n; خبرة لا تقل عن سنة في مجال التبريد و التكييف\\xa0يفضل خبرة بمجال المطاعم;دبلوم صنايع قسم تبريد و تكيف;مكان الاقامة القاهرة او الجيزة\\xa0;\\n',\n",
       "       '\\n;Skills;\\n;Excellent business communication skills, proficient in reporting and documentation;\\n;Ability to deliver work within tight timescales, to budget and to a high quality;\\n;Demonstrate attention to detail;\\n;\\n',\n",
       "       '\\n;Skills;\\n;Proven work experience as an Administrative Officer, Administrator or similar role;Solid knowledge of office procedures;Experience with office management software like MS Office (MS Excel and MS Word, specifically);Strong organization skills with a problem-solving attitude;Excellent written and verbal communication skills;Attention to detail;English Business Grad;\\n',\n",
       "       '\\n;Skills;\\n;مهارات قوية والكتابة والمحادثة والتواصل مع الموردين الخارجيين والموظفين;خبرة في صيانة الحاسب الالي وتركيب الشبكات وكاميرات المراقبه.;القدرة على التخطيط والتنظيم وإدارة الوقت.;الفهم العميق لأنظمة الكمبيوتر والشبكات المختلفة.;المعرفة الجيدة بأنظمة الحماية وأمن المعلومات.;القدرة على متابعة التفاصيل الصغيرة والتحليل.;القدرة على إدارة ومتابعة عمل شبكة الكمبيوتر الخاصة بالمؤسسة وما يتعلق بها من خوادم.;معرفة إجراءات الحماية والمراقبة الأمنية للمعلومات.;\\n',\n",
       "       '\\n;Skills;\\n;الخبره المطلوبه لا تقل عن 3 سنوات ;القدرة على اجراء العديد من المكالمات الهاتفية والتواصل عبر البريد الإلكتروني خلال اليوم.;اجادة مهارات التعامل مع شبكات الانترنت والقدرة على عرض المنتجات والخدمات.;اجادة مهارات التواصل الشفوي والكتابي بشكل ممتاز.;القدرة على الاستماع والعرض بشكل ابداعي.;القدرة على القيام بالمهام المتعددة وتحديد الأولويات وإدارة الوقت بفعالية.;\\n',\n",
       "       '\\n;Skills;\\n;حاصلين على زمالة - ودكتوراه - ماجستير - بكالوريوس;\\n',\n",
       "       '\\n;Skills;\\n;المقابلات يوم الخميس الموافق 27/10 الساعة 11ص بمقر شركة معالينا للتوظيف 47 ميدان الدقي بجوار محطة مترو انفاق الدقي;#شركه_معالينا_للتوظيف;#توظيف #شغل #وظائف #وظفني #توظيف #وظائفي;\\n',\n",
       "       '\\n;Skills;\\n;Skills and attributes for success;Adding value by demonstrating a thorough understanding of trends and market knowledge of sector applying knowledge and experience to inform actions and adapt sourcing plans and improve recruitment processes;Planning, organising and delivering appropriate recruitment plans based on a thorough understanding of recruitment methods and concepts working with minimal supervision;Demonstrating an understanding of assessment methods e.g. competency-based interviewing, psychometric testing, technical testing and assessment centres;Collaboration with regional and functional leads (campus recruitment, experienced hire recruitment, mobility, talent Sourcing and employer branding);To qualify for the role you must have;Approximately 6-8 years of experienced hire recruitment experience, preferably from a professional services environment;A degree in Human Resources or a related discipline.;In-depth knowledge and experience of recruiting end to end attracting candidates up to Director from a variety of sources - headhunting candidates directly for vacancies, resourcing candidates from job boards, recruitment systems, mapping, internal networks and Search etc;Proven track record of managing and executing specialist or complex recruitment briefs, including senior hires, with minimal guidance;Ideally, you’ll also have;Ability to quickly pick up full account management of key recruitment areas and able to establish their self as a valued and trusted recruitment business partner;Able to work independently but able to readily identify when to share information with immediate team (for knowledge or best practise) or when to escalate significant issues;What we look for;You will be an experienced Recruitment Advisor with a passion for direct sourcing and desire to provide an exceptional candidate experience.\\xa0You will also work closely with Partners and Directors across the business so the ability to build strong and effective relationships, delivering at times difficult messages, will also be key.;\\n',\n",
       "       '\\n;Skills;\\n;Bank Accountant;Must have exceprince in real state field;Must have exceprince in Escrow Account;must have exceprince in banking accountant;exceprince 5-10 years;\\n',\n",
       "       '\\n;Skills;\\n;\\n;Education:;\\n;Bachelor’s degree in relevant discipline.;\\n;Work Experience & Location:;\\n;Minimum of 5 years of experience in the field.;\\n;Work location is in smart village.;\\n;\\n;Skills:;\\n;•\\xa0\\xa0\\xa0\\xa0\\xa0\\xa0\\xa0\\xa0\\xa0\\xa0 Strategic planning;\\n;•\\xa0\\xa0\\xa0\\xa0\\xa0\\xa0\\xa0\\xa0\\xa0\\xa0 Leadership & influence;\\n;•\\xa0\\xa0\\xa0\\xa0\\xa0\\xa0\\xa0\\xa0\\xa0\\xa0 Communication & presentation;\\n;•\\xa0\\xa0\\xa0\\xa0\\xa0\\xa0\\xa0\\xa0\\xa0\\xa0 Problem solving;\\n',\n",
       "       '\\n;Skills;\\n;Experience with MS Office and data programs.;Familiarity with administrative duties.;Experience using office equipment, like fax machine and scanner.;Typing speed and accuracy.;Excellent knowledge of correct spelling, grammar and punctuation.;Attention to detail.;Confidentiality.;Organization skills, with an ability to stay focused on assigned tasks.;Business english speaking and writing.;------------------------------------------------------------;خبرة مع مايكروسوفت أوفيس وبرامج البيانات.;الإلمام بالواجبات الإدارية.;خبرة في استخدام المعدات المكتبية ، مثل جهاز الفاكس والماسح الضوئي.;سرعة ودقة الكتابة.;معرفة ممتازة بالإملاء الصحيح والنحو وعلامات الترقيم.;انتبه للتفاصيل.;سرية.;مهارات التنظيم ، مع القدرة على الاستمرار في التركيز على المهام المعينة.;تحدث اللغة الإنجليزية للأعمال والكتابة بطلاقه.;\\n',\n",
       "       '\\n;Skills;\\n;يفضل خبرة في العمل بمجال الرخام و الجرانيت;إجادة العمل علي برامج التصميم;لديه حد ادنى من مهارات التواصل مع فريق العمل;Auto cad ;m.s project . primaver ;office;english : good;\\n',\n",
       "       '\\n;Skills;\\n;يجيد العمل علي برامج التصميم ;Auto cad ;solid works;cuting list;shop drawing;يفضل خريجي هندسة مدني- معماري-فنون تطبيقية ;خبرة من 3 الي 7 سنوات ;يجيد العمل علي برامج التصميم ;Auto cad ;solid works;cuting list;shop drawing;\\n',\n",
       "       nan], dtype=object)"
      ]
     },
     "execution_count": 67,
     "metadata": {},
     "output_type": "execute_result"
    }
   ],
   "source": [
    "df['skills_and_tools'].unique()"
   ]
  },
  {
   "cell_type": "code",
   "execution_count": 68,
   "id": "495f4bff",
   "metadata": {},
   "outputs": [
    {
     "data": {
      "text/plain": [
       "219"
      ]
     },
     "execution_count": 68,
     "metadata": {},
     "output_type": "execute_result"
    }
   ],
   "source": [
    "df['skills_and_tools'].nunique()"
   ]
  },
  {
   "cell_type": "code",
   "execution_count": 69,
   "id": "49b6819d",
   "metadata": {},
   "outputs": [
    {
     "data": {
      "text/plain": [
       "5546"
      ]
     },
     "execution_count": 69,
     "metadata": {},
     "output_type": "execute_result"
    }
   ],
   "source": [
    "df['skills_and_tools'].isnull().sum()"
   ]
  },
  {
   "cell_type": "markdown",
   "id": "c6b0f7a2",
   "metadata": {},
   "source": [
    "#### Link Column"
   ]
  },
  {
   "cell_type": "code",
   "execution_count": 70,
   "id": "51144eb9",
   "metadata": {},
   "outputs": [
    {
     "data": {
      "text/plain": [
       "array(['https://www.bayt.com/en/egypt/jobs/%D9%85%D9%86%D8%AF%D9%88%D8%A8-%D9%85%D8%A8%D9%8A%D8%B9%D8%A7%D8%AA-4649246/',\n",
       "       'https://www.bayt.com/en/egypt/jobs/it-project-manager-4647658/',\n",
       "       'https://www.bayt.com/en/egypt/jobs/%D9%85%D8%B3%D8%A4%D9%88%D9%84-%D8%AA%D8%A7%D9%85%D9%8A%D9%86%D8%A7%D8%AA-%D9%88%D8%AA%D8%B1%D8%A7%D8%AE%D9%8A%D8%B5-4649127/',\n",
       "       ...,\n",
       "       'https://www.bayt.com/en/egypt/jobs/presales-engineer-scada-53251998/',\n",
       "       'https://www.bayt.com/en/egypt/jobs/senior-front-end-deveoper-53224023/',\n",
       "       'https://www.bayt.com/en/egypt/jobs/presales-consultant-software-52833838/'],\n",
       "      dtype=object)"
      ]
     },
     "execution_count": 70,
     "metadata": {},
     "output_type": "execute_result"
    }
   ],
   "source": [
    "df['link'].unique()"
   ]
  },
  {
   "cell_type": "code",
   "execution_count": 71,
   "id": "a0efa45b",
   "metadata": {},
   "outputs": [
    {
     "data": {
      "text/plain": [
       "5583"
      ]
     },
     "execution_count": 71,
     "metadata": {},
     "output_type": "execute_result"
    }
   ],
   "source": [
    "df['link'].nunique()"
   ]
  },
  {
   "cell_type": "code",
   "execution_count": 72,
   "id": "56a7f419",
   "metadata": {},
   "outputs": [
    {
     "data": {
      "text/plain": [
       "0"
      ]
     },
     "execution_count": 72,
     "metadata": {},
     "output_type": "execute_result"
    }
   ],
   "source": [
    "df['link'].isnull().sum()"
   ]
  },
  {
   "cell_type": "markdown",
   "id": "88a96080",
   "metadata": {},
   "source": [
    "### Data Explore Conclusion\n",
    "- The data may appear to be complete, but I have handled most of it during scraping by adding neutral entries such as 'both' for gender, 'confidential' for company names, and making other modifications.\n",
    "- There are a lot of duplicated jobs, and despite the duplicated function displayed as 0, more investigation is needed.\n",
    "- The job type column needs to be organized into main types only.\n",
    "- We could try to narrow the variation in the job titles column.\n",
    "- We need to extract the main category for each job from the job categories column.\n",
    "- We can try to extract useful information from the job description and job requirements columns.\n",
    "- We can get the job area and city from the job location.\n",
    "- We can fill in the company location from the job location.\n",
    "- The company field can be refined and filled in with an approximation of the job field.\n",
    "- The company size can be filled in with the mode or any other method.\n",
    "- The career level needs to be more explanatory (with more categories).\n",
    "- The experience needed needs to be more refined with fewer categories (and be a minimum and maximum range).\n",
    "- The education level is good.\n",
    "- The gender column needs to be refined.\n",
    "- The salary column needs to be refined and made into a minimum and maximum range.\n",
    "- Most of the salary column is not numeric, but I can get information such as insurance and commission jobs.\n",
    "- We could get useful information from the skills and tools column.\""
   ]
  },
  {
   "cell_type": "markdown",
   "id": "13521fb6",
   "metadata": {},
   "source": [
    "## Data Cleaning"
   ]
  },
  {
   "cell_type": "markdown",
   "id": "78f838f4",
   "metadata": {},
   "source": [
    "### Remove Duplicated Data"
   ]
  },
  {
   "cell_type": "code",
   "execution_count": 73,
   "id": "b17ec9f3",
   "metadata": {},
   "outputs": [
    {
     "data": {
      "text/plain": [
       "189"
      ]
     },
     "execution_count": 73,
     "metadata": {},
     "output_type": "execute_result"
    }
   ],
   "source": [
    "df.duplicated().sum()"
   ]
  },
  {
   "cell_type": "code",
   "execution_count": 74,
   "id": "d916bc7b",
   "metadata": {},
   "outputs": [],
   "source": [
    "df.drop_duplicates(inplace=True, ignore_index=True)"
   ]
  },
  {
   "cell_type": "code",
   "execution_count": 75,
   "id": "0db62455",
   "metadata": {
    "scrolled": true
   },
   "outputs": [
    {
     "name": "stdout",
     "output_type": "stream",
     "text": [
      "<class 'pandas.core.frame.DataFrame'>\n",
      "RangeIndex: 5584 entries, 0 to 5583\n",
      "Data columns (total 16 columns):\n",
      " #   Column             Non-Null Count  Dtype \n",
      "---  ------             --------------  ----- \n",
      " 0   job_title          5584 non-null   object\n",
      " 1   job_type           5584 non-null   object\n",
      " 2   job_categories     455 non-null    object\n",
      " 3   job_description    5584 non-null   object\n",
      " 4   job_location       5584 non-null   object\n",
      " 5   company_name       5584 non-null   object\n",
      " 6   company_location   989 non-null    object\n",
      " 7   company_field      5584 non-null   object\n",
      " 8   company_size       779 non-null    object\n",
      " 9   experience_needed  127 non-null    object\n",
      " 10  career_level       76 non-null     object\n",
      " 11  education_level    246 non-null    object\n",
      " 12  gender             5584 non-null   object\n",
      " 13  salary             5584 non-null   object\n",
      " 14  skills_and_tools   227 non-null    object\n",
      " 15  link               5584 non-null   object\n",
      "dtypes: object(16)\n",
      "memory usage: 698.1+ KB\n"
     ]
    }
   ],
   "source": [
    "df.info()"
   ]
  },
  {
   "cell_type": "code",
   "execution_count": 76,
   "id": "50f7f6c8",
   "metadata": {
    "scrolled": true
   },
   "outputs": [
    {
     "data": {
      "text/plain": [
       "job_title               0\n",
       "job_type                0\n",
       "job_categories       5129\n",
       "job_description         0\n",
       "job_location            0\n",
       "company_name            0\n",
       "company_location     4595\n",
       "company_field           0\n",
       "company_size         4805\n",
       "experience_needed    5457\n",
       "career_level         5508\n",
       "education_level      5338\n",
       "gender                  0\n",
       "salary                  0\n",
       "skills_and_tools     5357\n",
       "link                    0\n",
       "dtype: int64"
      ]
     },
     "execution_count": 76,
     "metadata": {},
     "output_type": "execute_result"
    }
   ],
   "source": [
    "df.isnull().sum()"
   ]
  },
  {
   "cell_type": "markdown",
   "id": "7eae454c",
   "metadata": {},
   "source": [
    "### Filling the nan values "
   ]
  },
  {
   "cell_type": "markdown",
   "id": "c2e8c1d5",
   "metadata": {},
   "source": [
    "In the next cells, I will try to fill in both the career_level and experience_needed columns. From my exploration of the data, I found that these two columns are related, so I can use one to fill the other. However, since most of the data in these columns is null, I will try a different approach:\n",
    "\n",
    "- Fill the experience_needed column by parsing the data from the job_description, as it often contains information about the required experience.\n",
    "- Fill the career_level column by parsing the data from the job_title, such as \"senior,\" \"manager,\" \"intern,\" etc.\n",
    "- Use the relationship between career_level and experience_needed to fill in any missing values in either column.\n",
    "- For the small amount of data that remains missing in both columns, we can fill it using the mode of each column."
   ]
  },
  {
   "cell_type": "code",
   "execution_count": 77,
   "id": "351c77b8",
   "metadata": {
    "scrolled": false
   },
   "outputs": [
    {
     "name": "stderr",
     "output_type": "stream",
     "text": [
      "[nltk_data] Downloading package punkt to\n",
      "[nltk_data]     C:\\Users\\Ahmed\\AppData\\Roaming\\nltk_data...\n",
      "[nltk_data]   Package punkt is already up-to-date!\n",
      "[nltk_data] Downloading package stopwords to\n",
      "[nltk_data]     C:\\Users\\Ahmed\\AppData\\Roaming\\nltk_data...\n",
      "[nltk_data]   Package stopwords is already up-to-date!\n",
      "[nltk_data] Downloading package averaged_perceptron_tagger to\n",
      "[nltk_data]     C:\\Users\\Ahmed\\AppData\\Roaming\\nltk_data...\n",
      "[nltk_data]   Package averaged_perceptron_tagger is already up-to-\n",
      "[nltk_data]       date!\n"
     ]
    },
    {
     "data": {
      "text/plain": [
       "True"
      ]
     },
     "execution_count": 77,
     "metadata": {},
     "output_type": "execute_result"
    }
   ],
   "source": [
    "import nltk\n",
    "from collections import defaultdict\n",
    "from langdetect import detect\n",
    "import re\n",
    "nltk.download('punkt')\n",
    "nltk.download('stopwords')\n",
    "nltk.download('averaged_perceptron_tagger')"
   ]
  },
  {
   "cell_type": "markdown",
   "id": "a5386076",
   "metadata": {},
   "source": [
    "The next function is used for finding the most frequent words in the text. I use it for data observation purposes."
   ]
  },
  {
   "cell_type": "code",
   "execution_count": 78,
   "id": "4dd09193",
   "metadata": {
    "scrolled": true
   },
   "outputs": [
    {
     "data": {
      "text/plain": [
       "[{'job': 17727},\n",
       " {'experience': 13850},\n",
       " {'skills': 10084},\n",
       " {'description': 9184},\n",
       " {'team': 7992},\n",
       " {'work': 7323},\n",
       " {'business': 6582},\n",
       " {'level': 6559},\n",
       " {'management': 5601},\n",
       " {'years': 5551},\n",
       " {'requirements': 5395},\n",
       " {'customer': 5306},\n",
       " {'ensure': 4659},\n",
       " {'new': 4498},\n",
       " {'cairo': 4443},\n",
       " {'company': 4441},\n",
       " {'knowledge': 4433},\n",
       " {'support': 4228},\n",
       " {'development': 4227},\n",
       " {'sales': 4159},\n",
       " {'data': 3997},\n",
       " {'degree': 3890},\n",
       " {'ability': 3807},\n",
       " {'technical': 3793},\n",
       " {'tools': 3641},\n",
       " {'project': 3602},\n",
       " {'design': 3602},\n",
       " {'egypt': 3567},\n",
       " {'working': 3501},\n",
       " {'customers': 3310},\n",
       " {'communication': 3283},\n",
       " {'excellent': 3195},\n",
       " {'services': 3174},\n",
       " {'education': 3129},\n",
       " {'service': 3080},\n",
       " {'strong': 3059},\n",
       " {'bachelor': 3059},\n",
       " {'career': 2955},\n",
       " {'needed': 2928},\n",
       " {'software': 2905},\n",
       " {'provide': 2897},\n",
       " {'quality': 2829},\n",
       " {'good': 2779},\n",
       " {'solutions': 2774},\n",
       " {'ago': 2768},\n",
       " {'english': 2724},\n",
       " {'required': 2693},\n",
       " {'including': 2679},\n",
       " {'develop': 2661},\n",
       " {'information': 2611},\n",
       " {'manager': 2602},\n",
       " {'process': 2599},\n",
       " {'product': 2583},\n",
       " {'role': 2566},\n",
       " {'systems': 2509},\n",
       " {'details': 2504},\n",
       " {'salary': 2460},\n",
       " {'performance': 2450},\n",
       " {'position': 2445},\n",
       " {'responsible': 2380},\n",
       " {'open': 2352},\n",
       " {'time': 2335},\n",
       " {'manage': 2221},\n",
       " {'products': 2183},\n",
       " {'related': 2181},\n",
       " {'reports': 2174},\n",
       " {'projects': 2168},\n",
       " {'engineering': 2166},\n",
       " {'environment': 2148},\n",
       " {'clients': 2145},\n",
       " {'responsibilities': 2116},\n",
       " {'within': 2090},\n",
       " {'marketing': 2085},\n",
       " {'teams': 2084},\n",
       " {'maintain': 2050},\n",
       " {'activities': 2050},\n",
       " {'confidential': 2011},\n",
       " {'people': 2004},\n",
       " {'training': 1970},\n",
       " {'posted': 1957},\n",
       " {'system': 1949},\n",
       " {'categories': 1949},\n",
       " {'hours': 1938},\n",
       " {'across': 1907},\n",
       " {'understanding': 1844},\n",
       " {'needs': 1844},\n",
       " {'must': 1819},\n",
       " {'office': 1812},\n",
       " {'using': 1809},\n",
       " {'applications': 1807},\n",
       " {'financial': 1788},\n",
       " {'help': 1769},\n",
       " {'opportunities': 1764},\n",
       " {'issues': 1755},\n",
       " {'employees': 1746},\n",
       " {'processes': 1735},\n",
       " {'technology': 1714},\n",
       " {'apply': 1704},\n",
       " {'relevant': 1703},\n",
       " {'professional': 1703},\n",
       " {'create': 1699},\n",
       " {'senior': 1691},\n",
       " {'analysis': 1676},\n",
       " {'operations': 1667},\n",
       " {'looking': 1663},\n",
       " {'digital': 1616},\n",
       " {'plan': 1604},\n",
       " {'build': 1600},\n",
       " {'best': 1599},\n",
       " {'internal': 1590},\n",
       " {'delivery': 1586},\n",
       " {'make': 1575},\n",
       " {'key': 1554},\n",
       " {'industry': 1552},\n",
       " {'applicants': 1550},\n",
       " {'client': 1535},\n",
       " {'global': 1532},\n",
       " {'well': 1531},\n",
       " {'procedures': 1523},\n",
       " {'field': 1517},\n",
       " {'high': 1506},\n",
       " {'standards': 1503},\n",
       " {'application': 1494},\n",
       " {'us': 1494},\n",
       " {'use': 1482},\n",
       " {'world': 1479},\n",
       " {'lead': 1453},\n",
       " {'experienced': 1427},\n",
       " {'computer': 1425},\n",
       " {'medical': 1422},\n",
       " {'location': 1419},\n",
       " {'security': 1418},\n",
       " {'planning': 1405},\n",
       " {'part': 1405},\n",
       " {'based': 1394},\n",
       " {'market': 1374},\n",
       " {'review': 1371},\n",
       " {'one': 1363},\n",
       " {'different': 1353},\n",
       " {'social': 1346},\n",
       " {'opportunity': 1345},\n",
       " {'qualifications': 1305},\n",
       " {'implementation': 1304},\n",
       " {'plans': 1304},\n",
       " {'prepare': 1302},\n",
       " {'identify': 1284},\n",
       " {'meet': 1273},\n",
       " {'testing': 1264},\n",
       " {'written': 1259},\n",
       " {'reporting': 1243},\n",
       " {'building': 1236},\n",
       " {'organization': 1235},\n",
       " {'tasks': 1235},\n",
       " {'able': 1229},\n",
       " {'plus': 1223},\n",
       " {'first': 1212},\n",
       " {'providing': 1211},\n",
       " {'consideration': 1207},\n",
       " {'perform': 1199},\n",
       " {'selected': 1189},\n",
       " {'engineer': 1185},\n",
       " {'personal': 1180},\n",
       " {'policies': 1179},\n",
       " {'international': 1176},\n",
       " {'full': 1163},\n",
       " {'test': 1161},\n",
       " {'etc': 1155},\n",
       " {'developing': 1153},\n",
       " {'user': 1140},\n",
       " {'compliance': 1135},\n",
       " {'deliver': 1130},\n",
       " {'ensuring': 1122},\n",
       " {'learning': 1115},\n",
       " {'follow': 1105},\n",
       " {'managing': 1104},\n",
       " {'improve': 1104},\n",
       " {'relationships': 1096},\n",
       " {'research': 1094},\n",
       " {'problems': 1093},\n",
       " {'giza': 1092},\n",
       " {'department': 1090},\n",
       " {'staff': 1087},\n",
       " {'viewed': 1085},\n",
       " {'technologies': 1079},\n",
       " {'practices': 1071},\n",
       " {'members': 1070},\n",
       " {'stakeholders': 1065},\n",
       " {'control': 1062},\n",
       " {'monitor': 1061},\n",
       " {'status': 1058},\n",
       " {'accounting': 1055},\n",
       " {'local': 1055},\n",
       " {'network': 1049},\n",
       " {'join': 1047},\n",
       " {'preferred': 1043},\n",
       " {'assist': 1023},\n",
       " {'media': 1021},\n",
       " {'also': 1020},\n",
       " {'growth': 1016},\n",
       " {'implement': 1012},\n",
       " {'daily': 1001},\n",
       " {'account': 998},\n",
       " {'potential': 994},\n",
       " {'future': 993},\n",
       " {'insurance': 992},\n",
       " {'minimum': 989},\n",
       " {'benefits': 989},\n",
       " {'program': 986},\n",
       " {'report': 983},\n",
       " {'drive': 981},\n",
       " {'group': 973},\n",
       " {'school': 971},\n",
       " {'code': 969},\n",
       " {'programs': 965},\n",
       " {'leadership': 964},\n",
       " {'content': 964},\n",
       " {'finance': 961},\n",
       " {'purpose': 960},\n",
       " {'monthly': 955},\n",
       " {'students': 954},\n",
       " {'assigned': 953},\n",
       " {'leading': 947},\n",
       " {'complex': 945},\n",
       " {'production': 941},\n",
       " {'per': 940},\n",
       " {'strategy': 939},\n",
       " {'partners': 936},\n",
       " {'effective': 933},\n",
       " {'impact': 923},\n",
       " {'external': 920},\n",
       " {'specialist': 914},\n",
       " {'language': 908},\n",
       " {'culture': 903},\n",
       " {'analytical': 892},\n",
       " {'line': 881},\n",
       " {'maintenance': 881},\n",
       " {'science': 881},\n",
       " {'resources': 877},\n",
       " {'offer': 873},\n",
       " {'following': 872},\n",
       " {'hr': 871},\n",
       " {'city': 868},\n",
       " {'appropriate': 867},\n",
       " {'duties': 867},\n",
       " {'order': 867},\n",
       " {'value': 863},\n",
       " {'site': 861},\n",
       " {'results': 860},\n",
       " {'like': 852},\n",
       " {'may': 852},\n",
       " {'candidates': 846},\n",
       " {'documents': 841},\n",
       " {'web': 839},\n",
       " {'timely': 832},\n",
       " {'achieve': 832},\n",
       " {'junior': 827},\n",
       " {'various': 824},\n",
       " {'equipment': 818},\n",
       " {'need': 809},\n",
       " {'effectively': 801},\n",
       " {'hiring': 801},\n",
       " {'take': 798},\n",
       " {'accounts': 797},\n",
       " {'strategies': 796},\n",
       " {'tax': 795},\n",
       " {'necessary': 794},\n",
       " {'communicate': 789},\n",
       " {'safety': 789},\n",
       " {'maintaining': 788},\n",
       " {'access': 786},\n",
       " {'online': 783},\n",
       " {'existing': 782},\n",
       " {'meetings': 781},\n",
       " {'conduct': 781},\n",
       " {'day': 781},\n",
       " {'recruitment': 781},\n",
       " {'microsoft': 778},\n",
       " {'monitoring': 771},\n",
       " {'employment': 770},\n",
       " {'understand': 767},\n",
       " {'coordinate': 762},\n",
       " {'analyze': 761},\n",
       " {'documentation': 756},\n",
       " {'learn': 756},\n",
       " {'diverse': 750},\n",
       " {'solution': 749},\n",
       " {'proven': 746},\n",
       " {'grow': 745},\n",
       " {'success': 745},\n",
       " {'objectives': 742},\n",
       " {'goals': 739},\n",
       " {'multiple': 734},\n",
       " {'cost': 733},\n",
       " {'contact': 732},\n",
       " {'positions': 732},\n",
       " {'set': 731},\n",
       " {'risk': 730},\n",
       " {'health': 730},\n",
       " {'real': 729},\n",
       " {'developer': 727},\n",
       " {'countries': 727},\n",
       " {'track': 723},\n",
       " {'talent': 723},\n",
       " {'candidate': 720},\n",
       " {'platform': 717},\n",
       " {'highly': 715},\n",
       " {'participate': 710},\n",
       " {'creating': 709},\n",
       " {'improvement': 706},\n",
       " {'progress': 704},\n",
       " {'areas': 703},\n",
       " {'every': 703},\n",
       " {'days': 696},\n",
       " {'operational': 695},\n",
       " {'administration': 695},\n",
       " {'oracle': 693},\n",
       " {'feedback': 692},\n",
       " {'gender': 692},\n",
       " {'managers': 688},\n",
       " {'specified': 688},\n",
       " {'please': 688},\n",
       " {'include': 685},\n",
       " {'others': 683},\n",
       " {'database': 683},\n",
       " {'detail': 682},\n",
       " {'basis': 682},\n",
       " {'fresh': 682},\n",
       " {'creative': 677},\n",
       " {'cloud': 677},\n",
       " {'advanced': 673},\n",
       " {'infrastructure': 667},\n",
       " {'entry': 667},\n",
       " {'nbsp': 667},\n",
       " {'region': 666},\n",
       " {'published': 664},\n",
       " {'current': 663},\n",
       " {'expertise': 663},\n",
       " {'life': 662},\n",
       " {'suppliers': 660},\n",
       " {'according': 659},\n",
       " {'better': 658},\n",
       " {'employee': 658},\n",
       " {'functional': 657},\n",
       " {'basic': 656},\n",
       " {'supply': 656},\n",
       " {'maadi': 656},\n",
       " {'competitive': 654},\n",
       " {'contribute': 652},\n",
       " {'ideas': 648},\n",
       " {'healthcare': 646},\n",
       " {'complete': 645},\n",
       " {'strategic': 644},\n",
       " {'travel': 640},\n",
       " {'focus': 640},\n",
       " {'committed': 637},\n",
       " {'regular': 636},\n",
       " {'architecture': 632},\n",
       " {'successful': 632},\n",
       " {'companies': 632},\n",
       " {'writing': 630},\n",
       " {'verbal': 630},\n",
       " {'date': 625},\n",
       " {'handle': 624},\n",
       " {'year': 619},\n",
       " {'center': 619},\n",
       " {'delivering': 619},\n",
       " {'materials': 615},\n",
       " {'schedule': 614},\n",
       " {'trends': 613},\n",
       " {'interpersonal': 612},\n",
       " {'command': 612},\n",
       " {'platforms': 610},\n",
       " {'excel': 610},\n",
       " {'alexandria': 609},\n",
       " {'closely': 608},\n",
       " {'around': 606},\n",
       " {'direct': 606},\n",
       " {'corporate': 603},\n",
       " {'organizational': 603},\n",
       " {'core': 600},\n",
       " {'execution': 596},\n",
       " {'annual': 596},\n",
       " {'change': 596},\n",
       " {'preparing': 595},\n",
       " {'agile': 593},\n",
       " {'manner': 592},\n",
       " {'area': 591},\n",
       " {'legal': 591},\n",
       " {'problem': 588},\n",
       " {'general': 588},\n",
       " {'requests': 588},\n",
       " {'levels': 588},\n",
       " {'employer': 586},\n",
       " {'equal': 584},\n",
       " {'least': 583},\n",
       " {'jobs': 582},\n",
       " {'accurate': 579},\n",
       " {'right': 577},\n",
       " {'regulations': 575},\n",
       " {'budget': 572},\n",
       " {'grad': 572},\n",
       " {'provides': 571},\n",
       " {'country': 571},\n",
       " {'leader': 571},\n",
       " {'ms': 570},\n",
       " {'collaborate': 569},\n",
       " {'markets': 568},\n",
       " {'records': 567},\n",
       " {'integration': 567},\n",
       " {'attention': 567},\n",
       " {'making': 566},\n",
       " {'equivalent': 565},\n",
       " {'presentation': 565},\n",
       " {'proficiency': 564},\n",
       " {'background': 561},\n",
       " {'continuous': 560},\n",
       " {'brands': 559},\n",
       " {'targets': 557},\n",
       " {'operating': 548},\n",
       " {'policy': 547},\n",
       " {'events': 546},\n",
       " {'care': 545},\n",
       " {'record': 541},\n",
       " {'share': 540},\n",
       " {'innovation': 540},\n",
       " {'implementing': 538},\n",
       " {'solid': 538},\n",
       " {'users': 535},\n",
       " {'contract': 534},\n",
       " {'brand': 533},\n",
       " {'orders': 533},\n",
       " {'food': 532},\n",
       " {'specifications': 527},\n",
       " {'end': 525},\n",
       " {'innovative': 523},\n",
       " {'great': 523},\n",
       " {'arabic': 523},\n",
       " {'range': 523},\n",
       " {'supporting': 523},\n",
       " {'commercial': 522},\n",
       " {'functions': 522},\n",
       " {'engineers': 521},\n",
       " {'action': 518},\n",
       " {'responsibility': 517},\n",
       " {'works': 517},\n",
       " {'together': 512},\n",
       " {'audit': 511},\n",
       " {'mission': 510},\n",
       " {'decisions': 509},\n",
       " {'overall': 508},\n",
       " {'previous': 508},\n",
       " {'mobile': 508},\n",
       " {'languages': 505},\n",
       " {'way': 504},\n",
       " {'flexible': 502},\n",
       " {'departments': 500},\n",
       " {'positive': 499},\n",
       " {'individual': 498},\n",
       " {'tech': 498},\n",
       " {'via': 497},\n",
       " {'update': 496},\n",
       " {'present': 496},\n",
       " {'features': 495},\n",
       " {'specific': 494},\n",
       " {'initiatives': 493},\n",
       " {'partner': 492},\n",
       " {'changes': 490},\n",
       " {'construction': 490},\n",
       " {'campaigns': 489},\n",
       " {'leads': 489},\n",
       " {'keep': 488},\n",
       " {'document': 488},\n",
       " {'preparation': 487},\n",
       " {'resolve': 485},\n",
       " {'analytics': 484},\n",
       " {'handling': 483},\n",
       " {'additional': 482},\n",
       " {'satisfaction': 482},\n",
       " {'fluent': 479},\n",
       " {'techniques': 478},\n",
       " {'execute': 478},\n",
       " {'experiences': 478},\n",
       " {'regional': 477},\n",
       " {'similar': 476},\n",
       " {'values': 475},\n",
       " {'reviews': 471},\n",
       " {'solving': 471},\n",
       " {'channels': 469},\n",
       " {'store': 469},\n",
       " {'scope': 467},\n",
       " {'standard': 465},\n",
       " {'collaboration': 464},\n",
       " {'university': 464},\n",
       " {'individuals': 460},\n",
       " {'retail': 458},\n",
       " {'estate': 458},\n",
       " {'portfolio': 457},\n",
       " {'evaluate': 457},\n",
       " {'uae': 457},\n",
       " {'automation': 457},\n",
       " {'get': 456},\n",
       " {'act': 455},\n",
       " {'believe': 455},\n",
       " {'power': 454},\n",
       " {'teaching': 452},\n",
       " {'communications': 451},\n",
       " {'operation': 449},\n",
       " {'growing': 448},\n",
       " {'programming': 448},\n",
       " {'passionate': 447},\n",
       " {'type': 445},\n",
       " {'ensures': 445},\n",
       " {'community': 443},\n",
       " {'executive': 442},\n",
       " {'target': 441},\n",
       " {'unit': 441},\n",
       " {'thinking': 440},\n",
       " {'dynamic': 440},\n",
       " {'questions': 437},\n",
       " {'identifying': 436},\n",
       " {'month': 435},\n",
       " {'cases': 434},\n",
       " {'place': 431},\n",
       " {'weekly': 431},\n",
       " {'member': 431},\n",
       " {'sap': 430},\n",
       " {'troubleshooting': 429},\n",
       " {'efficiency': 429},\n",
       " {'bring': 428},\n",
       " {'know': 428},\n",
       " {'age': 428},\n",
       " {'risks': 427},\n",
       " {'unique': 427},\n",
       " {'challenges': 427},\n",
       " {'active': 423},\n",
       " {'approach': 423},\n",
       " {'law': 423},\n",
       " {'businesses': 423},\n",
       " {'available': 422},\n",
       " {'vision': 421},\n",
       " {'africa': 421},\n",
       " {'would': 420},\n",
       " {'calls': 419},\n",
       " {'middle': 419},\n",
       " {'negotiation': 418},\n",
       " {'throughout': 417},\n",
       " {'weeks': 415},\n",
       " {'provided': 413},\n",
       " {'identity': 413},\n",
       " {'top': 412},\n",
       " {'exceptional': 411},\n",
       " {'recommendations': 410},\n",
       " {'colleagues': 409},\n",
       " {'sql': 409},\n",
       " {'inventory': 408},\n",
       " {'efficient': 408},\n",
       " {'offers': 407},\n",
       " {'critical': 406},\n",
       " {'processing': 406},\n",
       " {'essential': 406},\n",
       " {'master': 406},\n",
       " {'vendors': 405},\n",
       " {'pricing': 405},\n",
       " {'guidelines': 404},\n",
       " {'insights': 404},\n",
       " {'primary': 403},\n",
       " {'write': 402},\n",
       " {'familiarity': 402},\n",
       " {'actions': 400},\n",
       " {'orientation': 399},\n",
       " {'terms': 398},\n",
       " {'physical': 398},\n",
       " {'offering': 397},\n",
       " {'journey': 396},\n",
       " {'concepts': 395},\n",
       " {'assurance': 395},\n",
       " {'solve': 394},\n",
       " {'human': 394},\n",
       " {'siemens': 393},\n",
       " {'proper': 392},\n",
       " {'electrical': 392},\n",
       " {'assessment': 392},\n",
       " {'minutes': 391},\n",
       " {'ownership': 391},\n",
       " {'main': 391},\n",
       " {'october': 390},\n",
       " {'contracts': 389},\n",
       " {'principles': 389},\n",
       " {'expert': 388},\n",
       " {'variety': 388},\n",
       " {'relationship': 387},\n",
       " {'head': 387},\n",
       " {'east': 387},\n",
       " {'find': 385},\n",
       " {'kpis': 383},\n",
       " {'payment': 383},\n",
       " {'ekaterra': 383},\n",
       " {'coordination': 382},\n",
       " {'presentations': 380},\n",
       " {'point': 380},\n",
       " {'regarding': 380},\n",
       " {'mindset': 379},\n",
       " {'meeting': 378},\n",
       " {'mena': 377},\n",
       " {'practice': 377},\n",
       " {'tests': 376},\n",
       " {'national': 376},\n",
       " {'capabilities': 375},\n",
       " {'deadlines': 375},\n",
       " {'accordance': 375},\n",
       " {'phone': 375},\n",
       " {'diversity': 375},\n",
       " {'chain': 374},\n",
       " {'databases': 374},\n",
       " {'proficient': 374},\n",
       " {'designing': 373},\n",
       " {'check': 373},\n",
       " {'increase': 373},\n",
       " {'ways': 373},\n",
       " {'reach': 372},\n",
       " {'subject': 372},\n",
       " {'banking': 372},\n",
       " {'logistics': 371},\n",
       " {'transactions': 370},\n",
       " {'complaints': 370},\n",
       " {'consulting': 370},\n",
       " {'cycle': 369},\n",
       " {'revenue': 369},\n",
       " {'website': 369},\n",
       " {'want': 369},\n",
       " {'performing': 368},\n",
       " {'activity': 368},\n",
       " {'enhance': 368},\n",
       " {'possible': 367},\n",
       " {'clear': 364},\n",
       " {'designs': 364},\n",
       " {'tracking': 364},\n",
       " {'material': 363},\n",
       " {'inclusive': 363},\n",
       " {'deep': 362},\n",
       " {'consultant': 362},\n",
       " {'components': 361},\n",
       " {'cash': 360},\n",
       " {'nasr': 360},\n",
       " {'framework': 359},\n",
       " {'excellence': 359},\n",
       " {'always': 358},\n",
       " {'call': 357},\n",
       " {'agreed': 356},\n",
       " {'commitment': 355},\n",
       " {'jumia': 355},\n",
       " {'developers': 354},\n",
       " {'methods': 354},\n",
       " {'preferably': 353},\n",
       " {'establish': 352},\n",
       " {'includes': 352},\n",
       " {'representative': 352},\n",
       " {'passion': 351},\n",
       " {'home': 349},\n",
       " {'coaching': 349},\n",
       " {'without': 348},\n",
       " {'resolution': 347},\n",
       " {'conditions': 346},\n",
       " {'administrative': 345},\n",
       " {'centers': 345},\n",
       " {'priorities': 345},\n",
       " {'procurement': 344},\n",
       " {'director': 344},\n",
       " {'aspects': 343},\n",
       " {'bank': 342},\n",
       " {'guidance': 341},\n",
       " {'awareness': 340},\n",
       " {'helping': 340},\n",
       " {'communities': 339},\n",
       " {'inquiries': 338},\n",
       " {'personnel': 337},\n",
       " {'industries': 337},\n",
       " {'promote': 336},\n",
       " {'established': 336},\n",
       " {'disability': 336},\n",
       " {'free': 335},\n",
       " {'updates': 334},\n",
       " {'limited': 334},\n",
       " {'maxab': 333},\n",
       " {'detailed': 332},\n",
       " {'email': 332},\n",
       " {'environments': 332},\n",
       " {'determine': 331},\n",
       " {'consumers': 331},\n",
       " {'javascript': 330},\n",
       " {'accuracy': 330},\n",
       " {'today': 330},\n",
       " {'wide': 330},\n",
       " {'fluency': 330},\n",
       " {'egp': 330},\n",
       " {'paid': 329},\n",
       " {'leaders': 329},\n",
       " {'category': 329},\n",
       " {'major': 327},\n",
       " {'spoken': 327},\n",
       " {'define': 326},\n",
       " {'stock': 326},\n",
       " {'ongoing': 326},\n",
       " {'view': 326},\n",
       " {'demonstrate': 325},\n",
       " {'independently': 325},\n",
       " {'setting': 324},\n",
       " {'used': 324},\n",
       " {'receive': 324},\n",
       " {'engagement': 324},\n",
       " {'methodologies': 323},\n",
       " {'remote': 323},\n",
       " {'attitude': 322},\n",
       " {'networks': 322},\n",
       " {'sure': 321},\n",
       " {'analyst': 321},\n",
       " {'expected': 321},\n",
       " {'sector': 321},\n",
       " {'payments': 319},\n",
       " {'academic': 318},\n",
       " {'qualified': 318},\n",
       " {'summary': 316},\n",
       " {'word': 316},\n",
       " {'consistent': 315},\n",
       " {'latest': 314},\n",
       " {'credit': 314},\n",
       " {'supervision': 313},\n",
       " {'applicable': 313},\n",
       " {'driven': 313},\n",
       " {'protected': 313},\n",
       " {'manufacturing': 312},\n",
       " {'enterprise': 311},\n",
       " {'scale': 310},\n",
       " {'gems': 310},\n",
       " {'close': 308},\n",
       " {'saudi': 308},\n",
       " {'important': 307},\n",
       " {'metrics': 307},\n",
       " {'profile': 307},\n",
       " {'look': 306},\n",
       " {'professionals': 306},\n",
       " {'mechanical': 306},\n",
       " {'java': 306},\n",
       " {'state': 305},\n",
       " {'family': 305},\n",
       " {'flexibility': 304},\n",
       " {'collection': 303},\n",
       " {'optimize': 303},\n",
       " {'post': 303},\n",
       " {'generation': 301},\n",
       " {'matters': 301},\n",
       " {'next': 301},\n",
       " {'vmware': 301},\n",
       " {'availability': 300},\n",
       " {'lives': 300},\n",
       " {'taking': 298},\n",
       " {'privacy': 298},\n",
       " {'player': 297},\n",
       " {'outstanding': 297},\n",
       " {'currently': 297},\n",
       " {'oriented': 297},\n",
       " {'public': 296},\n",
       " {'decision': 295},\n",
       " {'package': 295},\n",
       " {'deployment': 294},\n",
       " {'large': 293},\n",
       " {'laws': 292},\n",
       " {'hardware': 291},\n",
       " {'driving': 291},\n",
       " {'makes': 291},\n",
       " {'drawings': 290},\n",
       " {'analyzing': 289},\n",
       " {'hotel': 288},\n",
       " {'organizations': 288},\n",
       " {'dedicated': 288},\n",
       " {'student': 288},\n",
       " {'study': 287},\n",
       " {'transportation': 287},\n",
       " {'controls': 287},\n",
       " {'respond': 286},\n",
       " {'improvements': 285},\n",
       " {'bonus': 285},\n",
       " {'encourage': 285},\n",
       " {'supervise': 284},\n",
       " {'certification': 284},\n",
       " {'note': 284},\n",
       " {'updated': 283},\n",
       " {'officer': 283},\n",
       " {'server': 283},\n",
       " {'firm': 283},\n",
       " {'function': 283},\n",
       " {'groups': 282},\n",
       " {'address': 282},\n",
       " {'expectations': 282},\n",
       " {'source': 281},\n",
       " {'schedules': 280},\n",
       " {'integrity': 280},\n",
       " {'assistant': 280},\n",
       " {'seeking': 279},\n",
       " {'secure': 279},\n",
       " {'discipline': 279},\n",
       " {'facilitate': 278},\n",
       " {'egyptian': 277},\n",
       " {'installation': 276},\n",
       " {'facilities': 275},\n",
       " {'audits': 275},\n",
       " {'goal': 275},\n",
       " {'distribution': 275},\n",
       " {'items': 274},\n",
       " {'proposals': 274},\n",
       " {'acquisition': 274},\n",
       " {'become': 274},\n",
       " {'payroll': 274},\n",
       " {'oversee': 272},\n",
       " {'interest': 272},\n",
       " {'fully': 272},\n",
       " {'familiar': 272},\n",
       " {'intelligence': 272},\n",
       " {'love': 272},\n",
       " {'costs': 271},\n",
       " {'think': 271},\n",
       " {'assess': 270},\n",
       " {'و': 270},\n",
       " {'pressure': 270},\n",
       " {'frameworks': 269},\n",
       " {'government': 269},\n",
       " {'organize': 269},\n",
       " {'hire': 269},\n",
       " {'teachers': 269},\n",
       " {'demonstrated': 269},\n",
       " {'number': 268},\n",
       " {'shift': 268},\n",
       " {'sexual': 268},\n",
       " {'deliverables': 266},\n",
       " {'actively': 266},\n",
       " {'smart': 266},\n",
       " {'invoices': 265},\n",
       " {'capital': 265},\n",
       " {'supports': 265},\n",
       " {'prior': 265},\n",
       " {'send': 265},\n",
       " {'case': 264},\n",
       " {'safe': 264},\n",
       " {'efficiently': 264},\n",
       " {'conducting': 263},\n",
       " {'enable': 263},\n",
       " {'assisting': 263},\n",
       " {'produce': 262},\n",
       " {'directly': 262},\n",
       " {'provider': 261},\n",
       " {'united': 261},\n",
       " {'defined': 260},\n",
       " {'storage': 260},\n",
       " {'raya': 260},\n",
       " {'private': 259},\n",
       " {'accountant': 259},\n",
       " {'comprehensive': 258},\n",
       " {'reviewing': 258},\n",
       " {'configuration': 258},\n",
       " {'resource': 257},\n",
       " {'fit': 257},\n",
       " {'assets': 256},\n",
       " {'roles': 256},\n",
       " {'generate': 255},\n",
       " {'recruiting': 255},\n",
       " {'achieving': 255},\n",
       " {'serve': 254},\n",
       " {'selling': 254},\n",
       " {'prioritize': 254},\n",
       " {'investment': 254},\n",
       " {'go': 254},\n",
       " {'race': 254},\n",
       " {'keeping': 253},\n",
       " {'models': 253},\n",
       " {'creation': 253},\n",
       " {'pm': 252},\n",
       " {'c': 252},\n",
       " {'supplier': 251},\n",
       " {'quarterly': 251},\n",
       " {'collaborative': 251},\n",
       " {'color': 251},\n",
       " {'person': 250},\n",
       " {'completion': 250},\n",
       " {'fast': 250},\n",
       " {'agent': 250},\n",
       " {'trusted': 250},\n",
       " {'assistance': 249},\n",
       " {'give': 249},\n",
       " {'google': 249},\n",
       " {'months': 249},\n",
       " {'develops': 248},\n",
       " {'proactive': 248},\n",
       " {'start': 248},\n",
       " {'respect': 247},\n",
       " {'title': 247},\n",
       " {'advice': 246},\n",
       " {'heliopolis': 246},\n",
       " {'desired': 245},\n",
       " {'along': 245},\n",
       " {'criteria': 245},\n",
       " {'crm': 245},\n",
       " {'trade': 245},\n",
       " {'highest': 245},\n",
       " {'globally': 245},\n",
       " {'types': 244},\n",
       " {'manages': 244},\n",
       " {'issue': 244},\n",
       " {'focused': 244},\n",
       " {'interested': 244},\n",
       " {'request': 243},\n",
       " {'special': 243},\n",
       " {'motivated': 243},\n",
       " {'consumer': 242},\n",
       " {'charge': 242},\n",
       " {'four': 242},\n",
       " {'erp': 242},\n",
       " {'workforce': 241},\n",
       " {'welcome': 240},\n",
       " {'vendor': 240},\n",
       " {'base': 239},\n",
       " {'property': 239},\n",
       " {'week': 239},\n",
       " {'sustainable': 239},\n",
       " {'towards': 238},\n",
       " {'proactively': 238},\n",
       " {'python': 238},\n",
       " {'oral': 238},\n",
       " {'modern': 237},\n",
       " {'many': 237},\n",
       " {'class': 237},\n",
       " {'coordinator': 237},\n",
       " {'associate': 237},\n",
       " {'productivity': 237},\n",
       " {'capacity': 237},\n",
       " {'talented': 237},\n",
       " {'coordinating': 236},\n",
       " {'supervisor': 236},\n",
       " {'compensation': 236},\n",
       " {'worldwide': 236},\n",
       " {'onehealth': 236},\n",
       " {'parties': 235},\n",
       " {'closing': 234},\n",
       " {'inclusion': 234},\n",
       " {'evaluation': 233},\n",
       " {'demand': 233},\n",
       " {'sourcing': 233},\n",
       " {'exciting': 233},\n",
       " {'queries': 232},\n",
       " {'networking': 232},\n",
       " {'engage': 232},\n",
       " {'educational': 232},\n",
       " {'internet': 232},\n",
       " {'powerpoint': 232},\n",
       " {'competencies': 232},\n",
       " {'abilities': 232},\n",
       " {'clean': 231},\n",
       " {'graphic': 231},\n",
       " {'optimization': 230},\n",
       " {'purchase': 230},\n",
       " {'certifications': 230},\n",
       " {'skill': 230},\n",
       " {'times': 229},\n",
       " {'upon': 229},\n",
       " {'graduates': 229},\n",
       " {'discuss': 229},\n",
       " {'changing': 229},\n",
       " {'founded': 229},\n",
       " {'connect': 228},\n",
       " {'shifts': 228},\n",
       " {'hour': 228},\n",
       " {'collect': 227},\n",
       " {'patterns': 227},\n",
       " {'purposes': 227},\n",
       " {'operate': 227},\n",
       " {'extensive': 227},\n",
       " {'origin': 227},\n",
       " {'emerging': 227},\n",
       " {'dealing': 226},\n",
       " {'train': 226},\n",
       " {'model': 226},\n",
       " {'advantage': 226},\n",
       " {'receiving': 226},\n",
       " {'measure': 225},\n",
       " {'structure': 225},\n",
       " {'submit': 225},\n",
       " {'selection': 225},\n",
       " {'applying': 225},\n",
       " {'challenging': 225},\n",
       " {'religion': 225},\n",
       " {'come': 224},\n",
       " {'balance': 224},\n",
       " {'purchasing': 224},\n",
       " {'willingness': 224},\n",
       " {'من': 223},\n",
       " {'electronic': 223},\n",
       " {'offices': 223},\n",
       " {'regulatory': 223},\n",
       " {'organized': 222},\n",
       " {'assessments': 222},\n",
       " {'budgets': 222},\n",
       " ...]"
      ]
     },
     "execution_count": 78,
     "metadata": {},
     "output_type": "execute_result"
    }
   ],
   "source": [
    "def most_frequent_words(sentences):    \n",
    "    most_frequest_words_list = []\n",
    "    # Step 1: Tokenize the sentences and check if the senntences is in English language\n",
    "    words = []\n",
    "    for sentence in sentences:\n",
    "        words += nltk.word_tokenize(sentence)\n",
    "\n",
    "    # Step 2: Remove stop words and punctuation\n",
    "    stop_words = set(nltk.corpus.stopwords.words('english'))\n",
    "    words = [word for word in words if word.lower() not in stop_words and word.isalpha()]\n",
    "\n",
    "    # Step 3: Count the frequency of each word\n",
    "    word_counts = defaultdict(int)\n",
    "    for word in words:\n",
    "        word_counts[word] += 1\n",
    "\n",
    "    # Step 4: Sort the dictionary by the frequency of the words\n",
    "    sorted_word_counts = sorted(word_counts.items(), key=lambda x: x[1], reverse=True)\n",
    "\n",
    "    # Step 5: Return the top N most frequent words\n",
    "    for word, count in sorted_word_counts:\n",
    "        most_frequest_words_list.append({word: count})\n",
    "    \n",
    "    return most_frequest_words_list\n",
    "# most_frequent_words([job[0].lower() for index, job in df.iterrows()])\n",
    "most_frequent_words([job[3].lower() for index, job in df.iterrows()])"
   ]
  },
  {
   "cell_type": "markdown",
   "id": "1d64ffe7",
   "metadata": {},
   "source": [
    "### Clean Experience Needed & Career Level"
   ]
  },
  {
   "cell_type": "markdown",
   "id": "25ee1521",
   "metadata": {},
   "source": [
    "Filling the experience_needed column by getting data from the job_description column:\n",
    "\n",
    "- First, I will pass the job description to the function extract_experience to parse the years of experience from the text. In this step, I will remove any unwanted numbers from the text. I identified these unwanted numbers through observation. Then, I will tokenize the text and split it into groups of sentences. If I find the word \"experience\" in a sentence with a number, I will take that number and return it to fill the column."
   ]
  },
  {
   "cell_type": "code",
   "execution_count": 79,
   "id": "dc6b4f38",
   "metadata": {},
   "outputs": [],
   "source": [
    "def find_closest_numbers(numbers):\n",
    "    # Sort the list of numbers in ascending order\n",
    "    numbers.sort()\n",
    "\n",
    "    # Initialize variables to store the minimum difference and the two numbers\n",
    "    min_difference = float('inf')\n",
    "    closest_numbers = None\n",
    "\n",
    "    # Iterate through the sorted list of numbers\n",
    "    for i in range(len(numbers) - 1):\n",
    "        # Compute the absolute difference between the two numbers\n",
    "        difference = abs(numbers[i] - numbers[i + 1])\n",
    "\n",
    "        # If the difference is less than the minimum difference, update the minimum difference and store the pair of numbers\n",
    "        if difference < min_difference:\n",
    "            min_difference = difference\n",
    "            closest_numbers = (numbers[i], numbers[i + 1])\n",
    "  \n",
    "    # Return the pair of numbers that are closest to each other\n",
    "    return closest_numbers\n",
    "\n",
    "def extract_experience(text):\n",
    "    # In the next step and based on some observation I will try to remove non experiance numbers as I can from the text\n",
    "    text = text.lower()\n",
    "    text = re.sub(r\"(\\d+,\\d+)\", lambda m: m.group().replace(\",\", \"\"), text) # money 5,000\n",
    "    text = re.sub(r\"(\\d+. ())\", \"\", text) # order list (1., 2., etc..)\n",
    "    text = re.sub(r\"($\\d+)\", \"\", text) # money $500\n",
    "    text = re.sub(r\"(\\d+:\\d+)\", lambda m: m.group().replace(\":\", \"\"), text) # data 12-12-2022\n",
    "    text = re.sub(r\"(\\d+-\\d+-\\d+)\", lambda m: m.group().replace(\"-\", \"\"), text) # data: 12/12/2022\n",
    "    text = re.sub(r\"(\\d+ viewed)\", \"\", text) # 5 viewed\n",
    "    text = re.sub(r\"(\\d+ open position)\", \"\", text) # 5 open position\n",
    "    text = re.sub(r\"(\\d+ open applicants)\", \"\", text) # 5 open applicants\n",
    "    text = re.sub(r\"(\\d+ applicants)\", \"\", text) # 5 applicants\n",
    "    text = re.sub(r\"(\\d+ in consideration)\", \"\", text) # 5 in consideration\n",
    "    text = re.sub(r\"(\\d+ not selected)\", \"\", text) # 5 not selected\n",
    "    text = re.sub(r\"(\\d+( )h)\", \"\", text) # 3h\n",
    "    text = re.sub(r\"(\\d+( )hour(s))\", \"\", text) # 3 hour(s)\n",
    "    text = re.sub(r\"(\\d+( )week(s))\", \"\", text) # 3 week(s)\n",
    "    text = re.sub(r\"(\\d+( )d)\", \"\", text) # 3d\n",
    "    text = re.sub(r\"(\\d+( )day(s))\", \"\", text) # 3 day(s)\n",
    "    text = re.sub(r\"(\\d+( )m)\", \"\", text) # 3m\n",
    "    text = re.sub(r\"(\\d+( )month(s))\", \"\", text) # 3 month(s)\n",
    "    text = re.sub(r\"(\\d+rd)\", \"\", text) # 3rd\n",
    "    text = re.sub(r\"(\\d+nd)\", \"\", text) # 2nd\n",
    "    text = re.sub(r\"(\\d+th)\", \"\", text) # 4th\n",
    "    text = re.sub(r\"\\d+(:| |\\d|)*a( ||.)m\", \"\", text) # 04 am 9:\n",
    "    text = re.sub(r\"\\d+(:| |\\d|)*p( ||.)m\", \"\", text) # 04 pm\n",
    "    \n",
    "    # Split the text into sentences\n",
    "    sentences = nltk.sent_tokenize(text)\n",
    "  \n",
    "    accepted_numbers = []\n",
    "    for sentence in sentences:\n",
    "        if re.search(r'experience', sentence) and re.search(r'\\d+', sentence):\n",
    "            numbers = re.findall(r'\\d+', sentence)\n",
    "            for number in numbers: \n",
    "                if int(number) <= 25:\n",
    "                    accepted_numbers.append(int(number))\n",
    "\n",
    "    # remove_duplicates\n",
    "    accepted_numbers = list(set(accepted_numbers))\n",
    "    if len(accepted_numbers) > 1:\n",
    "        years_of_experience = find_closest_numbers(accepted_numbers)\n",
    "        if years_of_experience[0] == years_of_experience[1]:\n",
    "            return f'Min: {years_of_experience[0]}'\n",
    "        return f'Min: {years_of_experience[0]} Max: {years_of_experience[1]}'\n",
    "    elif len(accepted_numbers) == 1:\n",
    "        return f'Min: {accepted_numbers[0]}'\n",
    "    return np.nan"
   ]
  },
  {
   "cell_type": "code",
   "execution_count": 80,
   "id": "93b5cd5f",
   "metadata": {},
   "outputs": [],
   "source": [
    "def fill_experience(row):\n",
    "    if row['experience_needed'] is np.nan:\n",
    "        return extract_experience(row['job_description'])\n",
    "    return row['experience_needed']\n",
    "\n",
    "df['experience_needed'] = df.apply(fill_experience, axis=1)"
   ]
  },
  {
   "cell_type": "markdown",
   "id": "75d68e49",
   "metadata": {},
   "source": [
    "Second: fill the career_level column using the job_title:\n",
    "- After observing the job titles, I found that there are key words that can help fill the career_level column, such as \"senior\" or \"manager\" or \"junior.\" So I used these words to fill some of the null values in the career_level column."
   ]
  },
  {
   "cell_type": "code",
   "execution_count": 81,
   "id": "430e8a6f",
   "metadata": {},
   "outputs": [],
   "source": [
    "def fill_career_level(row):\n",
    "    if row['career_level'] is np.nan:\n",
    "        if any(bool(re.search(r'\\b{}\\b'.format(substring), row['job_title'].lower())) for substring in ['internship', 'intern']):\n",
    "            return 'Internship Level'\n",
    "        elif any(bool(re.search(r'\\b{}\\b'.format(substring), row['job_title'].lower())) for substring in ['junior']):\n",
    "            return 'Entry Level'\n",
    "        elif any(bool(re.search(r'\\b{}\\b'.format(substring), row['job_title'].lower())) for substring in ['manager', 'chief']):\n",
    "            return 'Management'\n",
    "        elif any(bool(re.search(r'\\b{}\\b'.format(substring), row['job_title'].lower())) for substring in ['senior', 'lead', 'executive', 'consultant', 'supervisor', 'head', 'advisor', 'director', 'leader', 'expert', 'auditor']):\n",
    "            return 'Experienced (Non-Manager)'\n",
    "    return row['career_level']\n",
    "\n",
    "df['career_level'] = df.apply(fill_career_level, axis=1)"
   ]
  },
  {
   "cell_type": "markdown",
   "id": "591e2f6f",
   "metadata": {},
   "source": [
    "Third: I will use data from the experience_level column to fill the career_level column.\n",
    " - if min <= 2: Entry Level.\n",
    " - else if min > 2 and max <=8: Experienced (Non-Manager).\n",
    " - else: 'Management'"
   ]
  },
  {
   "cell_type": "code",
   "execution_count": 82,
   "id": "4616a776",
   "metadata": {},
   "outputs": [],
   "source": [
    "def fill_career_level_using_experience_needed(row):\n",
    "    if row['experience_needed'] is not np.nan and row['career_level'] is np.nan:\n",
    "        numbers = re.findall(r'\\d+', row['experience_needed'])\n",
    "        if int(numbers[0]) <= 2:\n",
    "            return 'Entry Level'\n",
    "        elif int(numbers[0]) <= 8:\n",
    "            return 'Experienced (Non-Manager)'\n",
    "        else:\n",
    "            return 'Management'\n",
    "    return row['career_level']\n",
    "        \n",
    "df['career_level'] = df.apply(fill_career_level_using_experience_needed, axis=1)"
   ]
  },
  {
   "cell_type": "markdown",
   "id": "c11d66d0",
   "metadata": {},
   "source": [
    "Fourth: I will use data from the career_level column to fill the experience_level column."
   ]
  },
  {
   "cell_type": "code",
   "execution_count": 83,
   "id": "fb8f1947",
   "metadata": {},
   "outputs": [],
   "source": [
    "def fill_experience_needed_using_career_level(row):\n",
    "    if row['experience_needed'] is np.nan and row['career_level'] is not np.nan:\n",
    "        if row['career_level'] == 'Senior Executive':\n",
    "            return df[df['career_level'] == 'Senior Executive']['experience_needed'].mode()[0]\n",
    "        elif row['career_level'] == 'Mid Career':\n",
    "            return df[df['career_level'] == 'Mid Career']['experience_needed'].mode()[0]\n",
    "        elif row['career_level'] == 'Experienced (Non-Manager)':\n",
    "            return df[df['career_level'] == 'Experienced (Non-Manager)']['experience_needed'].mode()[0]\n",
    "        elif row['career_level'] == 'Fresh Graduate':\n",
    "            return df[df['career_level'] == 'Fresh Graduate']['experience_needed'].mode()[0]\n",
    "        elif row['career_level'] == 'Management':\n",
    "            return df[df['career_level'] == 'Management']['experience_needed'].mode()[0]\n",
    "        elif row['career_level'] == 'Entry Level':\n",
    "            return df[df['career_level'] == 'Entry Level']['experience_needed'].mode()[0]\n",
    "        elif row['career_level'] == 'Internship Level':\n",
    "            return df[df['career_level'] == 'Internship Level']['experience_needed'].mode()[0]\n",
    "        elif row['career_level'] == 'Director/Head':\n",
    "            return df[df['career_level'] == 'Director/Head']['experience_needed'].mode()[0]\n",
    "        else:\n",
    "            return row['experience_needed']\n",
    "    return row['experience_needed']\n",
    "    \n",
    "df['experience_needed'] = df.apply(fill_experience_needed_using_career_level, axis=1)"
   ]
  },
  {
   "cell_type": "markdown",
   "id": "709ff001",
   "metadata": {},
   "source": [
    "Fifth: I will use the mode to fill the remaining null data, after I verify that the mode for both the experience_needed and career_level columns are compatible with each other."
   ]
  },
  {
   "cell_type": "code",
   "execution_count": 84,
   "id": "ed2d7577",
   "metadata": {},
   "outputs": [
    {
     "name": "stdout",
     "output_type": "stream",
     "text": [
      "Min: 3 Max: 5\n",
      "Experienced (Non-Manager)\n"
     ]
    }
   ],
   "source": [
    "print(df['experience_needed'].mode()[0])\n",
    "print(df['career_level'].mode()[0])"
   ]
  },
  {
   "cell_type": "code",
   "execution_count": 85,
   "id": "963752a7",
   "metadata": {},
   "outputs": [],
   "source": [
    "df['experience_needed'].fillna(df['experience_needed'].mode()[0], inplace=True)\n",
    "df['career_level'].fillna(df['career_level'].mode()[0], inplace=True)"
   ]
  },
  {
   "cell_type": "markdown",
   "id": "a252835f",
   "metadata": {},
   "source": [
    "Finally: I will put the experience in number of categories\n",
    "\n",
    "    [1] Min: 0 Max: 1\n",
    "\n",
    "    [2] Min: 1 Max: 2\n",
    "    \n",
    "    [3] Min: 3 Max: 5\n",
    "    \n",
    "    [4] Min: 5 Max: 7\n",
    "    \n",
    "    [5] Min: 7 Max: 10\n",
    "    \n",
    "    [6] Min: 10 Max: 15\n",
    "    \n",
    "    [7] Min: 15 Max: 20\n",
    "    \n",
    "    [8] Min: 20 Max: 25\n",
    "    \n",
    "    [9] Min: 25"
   ]
  },
  {
   "cell_type": "code",
   "execution_count": 86,
   "id": "47f1568d",
   "metadata": {},
   "outputs": [],
   "source": [
    "def get_experience_needed(experience):\n",
    "    numbers = re.findall(r'\\d+', experience)\n",
    "    try:\n",
    "        if int(numbers[0]) == 0:\n",
    "            return 'Min: 0 Max: 1'\n",
    "        elif int(numbers[0]) <= 2:\n",
    "            return 'Min: 1 Max: 2'\n",
    "        elif int(numbers[0]) <= 5:\n",
    "            return 'Min: 3 Max: 5'\n",
    "        elif int(numbers[0]) <= 10:\n",
    "            return 'Min: 7 Max: 10'\n",
    "        elif int(numbers[0]) <= 15:\n",
    "            return 'Min: 10 Max: 15'\n",
    "        elif int(numbers[0]) <= 20:\n",
    "            return 'Min: 15 Max: 20'\n",
    "        elif int(numbers[0]) <= 25:\n",
    "            return 'Min: 20 Max: 25'\n",
    "        else:\n",
    "            return 'Min: 25'\n",
    "    except IndexError:\n",
    "        return np.nan\n",
    "    \n",
    "df['experience_needed'] = df['experience_needed'].apply(get_experience_needed)"
   ]
  },
  {
   "cell_type": "markdown",
   "id": "0307d9a7",
   "metadata": {},
   "source": [
    "### Filling Education level"
   ]
  },
  {
   "cell_type": "markdown",
   "id": "ac71ad9c",
   "metadata": {},
   "source": [
    "In this field I will extract the education level from job description and then I will fill the rest using the mode"
   ]
  },
  {
   "cell_type": "code",
   "execution_count": 87,
   "id": "1a1300ae",
   "metadata": {},
   "outputs": [],
   "source": [
    "def extract_degree(text):\n",
    "    # In the next step and based on some observation I will try to remove non experiance numbers as I can from the text\n",
    "    text = text.lower()\n",
    "    \n",
    "    # Split the text into sentences\n",
    "    sentences = nltk.sent_tokenize(text)\n",
    "  \n",
    "    matched = []\n",
    "    for sentence in sentences:\n",
    "        if re.search(r'(bachelor|deploma|academic|university|b.sc)', sentence):\n",
    "            return 'Bachelor'\n",
    "        elif re.search(r'(deploma|high school|diploma)', sentence):\n",
    "            return 'Diploma'\n",
    "        elif re.search(r'(master|MBA|M.B.A)', sentence):\n",
    "            return 'Master'\n",
    "        elif re.search(r'(Doctor of Philosophy|doctorate|phd|ph.d|Doctoral)', sentence):\n",
    "            return 'Ph.D'\n",
    "    return np.nan\n",
    "\n",
    "df['education_level'] = df['job_description'].apply(extract_degree)"
   ]
  },
  {
   "cell_type": "code",
   "execution_count": 88,
   "id": "e0f414eb",
   "metadata": {},
   "outputs": [],
   "source": [
    "df['education_level'].fillna(df['education_level'].mode()[0], inplace=True)"
   ]
  },
  {
   "cell_type": "markdown",
   "id": "f7a46e14",
   "metadata": {},
   "source": [
    "### Filling Job Categories"
   ]
  },
  {
   "cell_type": "markdown",
   "id": "2340691a",
   "metadata": {},
   "source": [
    "In this Field I observed the most repetitive word and it's relation to the job category so I filled it with the most common job category for each word then filled the rest with other"
   ]
  },
  {
   "cell_type": "code",
   "execution_count": 89,
   "id": "7c4c4e6a",
   "metadata": {},
   "outputs": [],
   "source": [
    "df['job_categories'] = df['job_categories'].replace('--', np.nan)"
   ]
  },
  {
   "cell_type": "code",
   "execution_count": 90,
   "id": "b6a289cf",
   "metadata": {},
   "outputs": [],
   "source": [
    "jobs_categories = {\n",
    "    'engineer': np.nan,\n",
    "    'sales': np.nan,\n",
    "    'customer': np.nan,\n",
    "    'software': np.nan,\n",
    "    'account': np.nan,\n",
    "    'business': np.nan,\n",
    "    'technical': np.nan,\n",
    "    'marketing': np.nan,\n",
    "    'accountant': np.nan,\n",
    "    'support': np.nan,\n",
    "    'representative': np.nan,\n",
    "    'agent': np.nan,\n",
    "    'designer': np.nan,\n",
    "    'quality': np.nan,\n",
    "    'teacher': np.nan,\n",
    "    'estate': np.nan,\n",
    "    'architect': np.nan,\n",
    "    'financial': np.nan,\n",
    "    'engineering': np.nan,\n",
    "    'accounting': np.nan,\n",
    "    'assurance': np.nan,\n",
    "    'devops': np.nan,\n",
    "    'security': np.nan,\n",
    "    'control': np.nan,\n",
    "    'electrical': np.nan,\n",
    "    'tax': np.nan,\n",
    "    'technician': np.nan,\n",
    "    'legal': np.nan,\n",
    "    'procurement': np.nan,\n",
    "    'web': np.nan,\n",
    "    'telesales': np.nan,\n",
    "    'purchasing': np.nan,\n",
    "    'receptionist': np.nan,\n",
    "    'scrum': np.nan,\n",
    "    'audit': np.nan,\n",
    "    'qc': 'Engineering',\n",
    "    'banking':'Finance and Investment',\n",
    "    'developer': 'Engineering',\n",
    "    'hr':'Human Resources and Recruitment',\n",
    "    'deveoper': 'Information Technology',\n",
    "    'associate': 'business',\n",
    "    'talent': 'Human Resources and Recruitment',\n",
    "    'cybersecurity': 'Information Technology',\n",
    "    'cyber': 'Information Technology',\n",
    "    'recruitment': 'Human Resources and Recruitment',\n",
    "    'medical': 'Medical, Healthcare, and Nursing'\n",
    "}\n",
    "\n",
    "for job, category in jobs_categories.items():\n",
    "    try:\n",
    "        jobs_categories[job] = df[df['job_title'].str.contains(job, case=False)]['job_categories'].mode()[0]\n",
    "    except:\n",
    "        pass"
   ]
  },
  {
   "cell_type": "code",
   "execution_count": 91,
   "id": "177dec3b",
   "metadata": {},
   "outputs": [],
   "source": [
    "def fill_from_jobs_categories(row):\n",
    "    if row['job_categories'] is np.nan:\n",
    "        job_title_words = row['job_title'].lower().split()\n",
    "        for word in job_title_words:\n",
    "            if jobs_categories.get(word):\n",
    "                return jobs_categories[word]\n",
    "    return row['job_categories']\n",
    "\n",
    "    \n",
    "df['job_categories'] = df.apply(fill_from_jobs_categories, axis=1)"
   ]
  },
  {
   "cell_type": "code",
   "execution_count": 92,
   "id": "e09ecd88",
   "metadata": {},
   "outputs": [],
   "source": [
    "df['job_categories'].fillna('Other', inplace=True)"
   ]
  },
  {
   "cell_type": "markdown",
   "id": "2a07bd53",
   "metadata": {},
   "source": [
    "### Filling job_type"
   ]
  },
  {
   "cell_type": "markdown",
   "id": "0076d160",
   "metadata": {},
   "source": [
    "In this field I will remove unspecified and -- and replace them with nan then I will try catch the part time job from job_description and job title then fill the rest with full time emplyoee"
   ]
  },
  {
   "cell_type": "code",
   "execution_count": 93,
   "id": "509fe8bd",
   "metadata": {},
   "outputs": [],
   "source": [
    "df['job_type'] = df['job_type'].replace('Unspecified', np.nan)\n",
    "df['job_type'] = df['job_type'].replace('--', np.nan)"
   ]
  },
  {
   "cell_type": "code",
   "execution_count": 94,
   "id": "f0b9f8b3",
   "metadata": {},
   "outputs": [],
   "source": [
    "df['job_type'] = df.apply(lambda row: 'Part Time Employee' if 'part' in row['job_title'].lower() else row['job_type'], axis=1)\n",
    "df['job_type'] = df.apply(lambda row: 'Part Time Employee' if 'part time' in row['job_description'].lower() else row['job_type'], axis=1)"
   ]
  },
  {
   "cell_type": "code",
   "execution_count": 95,
   "id": "c39ec70e",
   "metadata": {},
   "outputs": [],
   "source": [
    "df['job_type'].fillna('Full Time Employee', inplace=True)"
   ]
  },
  {
   "cell_type": "markdown",
   "id": "0c511ba2",
   "metadata": {},
   "source": [
    "### Filling Company Location"
   ]
  },
  {
   "cell_type": "markdown",
   "id": "a79c9aa0",
   "metadata": {},
   "source": [
    "In this field I will try to search the companies with the most jobs that I have no data for and get it's data and the rest i will fill using the job location"
   ]
  },
  {
   "cell_type": "code",
   "execution_count": 96,
   "id": "1900a9ed",
   "metadata": {
    "scrolled": false
   },
   "outputs": [
    {
     "data": {
      "text/plain": [
       "EgyGamer LLC.                             2074\n",
       "Talents Mine                               123\n",
       "Raya Holding for Financial Investments      75\n",
       "Giza Systems                                74\n",
       "RAWAJ                                       70\n",
       "                                          ... \n",
       "DISCOVERED                                   1\n",
       "DHL                                          1\n",
       "Willis Towers Watson plc                     1\n",
       "Flutterwave                                  1\n",
       "Silverback Strategies                        1\n",
       "Name: company_name, Length: 612, dtype: int64"
      ]
     },
     "execution_count": 96,
     "metadata": {},
     "output_type": "execute_result"
    }
   ],
   "source": [
    "df['company_name'].value_counts()"
   ]
  },
  {
   "cell_type": "code",
   "execution_count": 97,
   "id": "e6e1bd15",
   "metadata": {},
   "outputs": [],
   "source": [
    "df['company_location'] = df.apply(lambda row: 'Cairo, Egypt' if row['company_name'] == 'EgyGamer LLC.' else row['company_location'], axis=1 )\n",
    "df['company_location'] = df.apply(lambda row: 'Cairo, Egypt' if row['company_name'] == 'Talents Mine' else row['company_location'], axis=1 )\n",
    "df['company_location'] = df.apply(lambda row: 'Cairo, Egypt' if row['company_name'] == 'RAWAJ' else row['company_location'], axis=1 )\n",
    "df['company_location'] = df.apply(lambda row: 'Giza, Egypt' if row['company_name'] == 'OneHealth, Inc' else row['company_location'], axis=1 )\n",
    "df['company_location'] = df.apply(lambda row: 'Giza, Egypt' if row['company_name'] == 'Talent 360' else row['company_location'], axis=1 )\n",
    "df['company_location'] = df.apply(lambda row: 'Cairo, Egypt' if row['company_name'] == 'Contact Centers Company (CCC)' else row['company_location'], axis=1 )"
   ]
  },
  {
   "cell_type": "code",
   "execution_count": 98,
   "id": "467b7fa3",
   "metadata": {},
   "outputs": [],
   "source": [
    "def fill_company_location(row):\n",
    "    if row['company_location'] is np.nan:\n",
    "        return row['job_location']\n",
    "    return row['company_location']\n",
    "df['company_location'] = df.apply(fill_company_location, axis=1)"
   ]
  },
  {
   "cell_type": "markdown",
   "id": "3e8f354a",
   "metadata": {},
   "source": [
    "### Filling Company Size"
   ]
  },
  {
   "cell_type": "code",
   "execution_count": 99,
   "id": "d7203405",
   "metadata": {},
   "outputs": [],
   "source": [
    "df['company_size'].fillna(df['company_size'].mode()[0], inplace=True)"
   ]
  },
  {
   "cell_type": "markdown",
   "id": "f2d3f5f7",
   "metadata": {},
   "source": [
    "### Drop skills and tools column"
   ]
  },
  {
   "cell_type": "code",
   "execution_count": 100,
   "id": "71a4a778",
   "metadata": {},
   "outputs": [],
   "source": [
    "df.drop('skills_and_tools', axis=1, inplace=True)"
   ]
  },
  {
   "cell_type": "markdown",
   "id": "cec93990",
   "metadata": {},
   "source": [
    "### Drop Salary column"
   ]
  },
  {
   "cell_type": "code",
   "execution_count": 101,
   "id": "f71edb88",
   "metadata": {},
   "outputs": [],
   "source": [
    "df.drop('salary', axis=1, inplace=True)"
   ]
  },
  {
   "cell_type": "markdown",
   "id": "31d89943",
   "metadata": {},
   "source": [
    "### Drop links column"
   ]
  },
  {
   "cell_type": "code",
   "execution_count": 102,
   "id": "d6429dad",
   "metadata": {},
   "outputs": [],
   "source": [
    "df.drop('link', axis=1, inplace=True)"
   ]
  },
  {
   "cell_type": "code",
   "execution_count": 103,
   "id": "4cfa536d",
   "metadata": {},
   "outputs": [],
   "source": [
    "df.drop_duplicates(inplace=True)"
   ]
  },
  {
   "cell_type": "markdown",
   "id": "963b0065",
   "metadata": {},
   "source": [
    "### Check requeired Gender"
   ]
  },
  {
   "cell_type": "code",
   "execution_count": 104,
   "id": "796998ef",
   "metadata": {},
   "outputs": [],
   "source": [
    "def extract_gender(row):\n",
    "    \n",
    "    if row['gender'] == 'both': \n",
    "        # In the next step and based on some observation I will try to remove non experiance numbers as I can from the text\n",
    "        text = row['job_description'].lower()\n",
    "\n",
    "        # Split the text into sentences\n",
    "        sentences = nltk.sent_tokenize(text)\n",
    "\n",
    "        matched = []\n",
    "        for sentence in sentences:\n",
    "            if re.search(r'male', sentence) and re.search(r'female', sentence):\n",
    "                return 'Both'\n",
    "            elif re.search(r'male', sentence):\n",
    "                return 'Male'\n",
    "            elif re.search(r'female', sentence):\n",
    "                return 'Female'\n",
    "        return 'Both'\n",
    "    return row['gender']\n",
    "\n",
    "df['gender'] = df.apply(extract_gender, axis=1)"
   ]
  },
  {
   "cell_type": "markdown",
   "id": "0b55d00b",
   "metadata": {},
   "source": [
    "## Save after cleaning"
   ]
  },
  {
   "cell_type": "code",
   "execution_count": 105,
   "id": "b257f10b",
   "metadata": {},
   "outputs": [],
   "source": [
    "df.to_csv('cleaned_bayt_data.csv', encoding='utf-16')"
   ]
  },
  {
   "cell_type": "code",
   "execution_count": null,
   "id": "0dcd2cb7",
   "metadata": {},
   "outputs": [],
   "source": []
  }
 ],
 "metadata": {
  "kernelspec": {
   "display_name": "Python 3 (ipykernel)",
   "language": "python",
   "name": "python3"
  },
  "language_info": {
   "codemirror_mode": {
    "name": "ipython",
    "version": 3
   },
   "file_extension": ".py",
   "mimetype": "text/x-python",
   "name": "python",
   "nbconvert_exporter": "python",
   "pygments_lexer": "ipython3",
   "version": "3.9.13"
  }
 },
 "nbformat": 4,
 "nbformat_minor": 5
}
