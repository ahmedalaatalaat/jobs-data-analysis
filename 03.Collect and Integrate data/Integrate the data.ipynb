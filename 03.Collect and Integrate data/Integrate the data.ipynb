{
 "cells": [
  {
   "cell_type": "code",
   "execution_count": 1,
   "id": "1781abb9",
   "metadata": {},
   "outputs": [],
   "source": [
    "import pandas as pd\n",
    "import numpy as np\n",
    "import plotly.express as px"
   ]
  },
  {
   "cell_type": "markdown",
   "id": "80e72940",
   "metadata": {},
   "source": [
    "### Load the data"
   ]
  },
  {
   "cell_type": "code",
   "execution_count": 2,
   "id": "14eddbd2",
   "metadata": {},
   "outputs": [],
   "source": [
    "bayt_df = pd.read_csv('cleaned_bayt_data.csv', encoding='utf-16')\n",
    "wuzzuf_df = pd.read_csv('cleaned_wuzzuf_data.csv', encoding='utf-16')"
   ]
  },
  {
   "cell_type": "code",
   "execution_count": 3,
   "id": "2e3cfa88",
   "metadata": {},
   "outputs": [
    {
     "data": {
      "text/html": [
       "<div>\n",
       "<style scoped>\n",
       "    .dataframe tbody tr th:only-of-type {\n",
       "        vertical-align: middle;\n",
       "    }\n",
       "\n",
       "    .dataframe tbody tr th {\n",
       "        vertical-align: top;\n",
       "    }\n",
       "\n",
       "    .dataframe thead th {\n",
       "        text-align: right;\n",
       "    }\n",
       "</style>\n",
       "<table border=\"1\" class=\"dataframe\">\n",
       "  <thead>\n",
       "    <tr style=\"text-align: right;\">\n",
       "      <th></th>\n",
       "      <th>Unnamed: 0</th>\n",
       "      <th>job_title</th>\n",
       "      <th>job_type</th>\n",
       "      <th>job_categories</th>\n",
       "      <th>job_description</th>\n",
       "      <th>job_requirements</th>\n",
       "      <th>job_location</th>\n",
       "      <th>company_name</th>\n",
       "      <th>company_location</th>\n",
       "      <th>company_field</th>\n",
       "      <th>company_size</th>\n",
       "      <th>experience_needed</th>\n",
       "      <th>career_level</th>\n",
       "      <th>education_level</th>\n",
       "      <th>gender</th>\n",
       "    </tr>\n",
       "  </thead>\n",
       "  <tbody>\n",
       "    <tr>\n",
       "      <th>0</th>\n",
       "      <td>0</td>\n",
       "      <td>Cost Accountant</td>\n",
       "      <td>Full Time</td>\n",
       "      <td>Accounting/Finance</td>\n",
       "      <td>Preparing the cost of products and operations ...</td>\n",
       "      <td>Bachelor’s Degree in accountingProficient use ...</td>\n",
       "      <td>Bourj Alarab, Alexandria</td>\n",
       "      <td>Confidential Company</td>\n",
       "      <td>Bourj Alarab, Alexandria</td>\n",
       "      <td>Manufacturing</td>\n",
       "      <td>11-50 employees</td>\n",
       "      <td>Min: 0 Max: 1</td>\n",
       "      <td>Entry Level (Junior Level / Fresh Grad)</td>\n",
       "      <td>Bachelor's Degree</td>\n",
       "      <td>Both</td>\n",
       "    </tr>\n",
       "    <tr>\n",
       "      <th>1</th>\n",
       "      <td>1</td>\n",
       "      <td>Costing Manager - Pastry Industry FMCG</td>\n",
       "      <td>Full Time</td>\n",
       "      <td>Accounting/Finance</td>\n",
       "      <td>Collecting and analyzing data about company’s ...</td>\n",
       "      <td>Bachelor degree in commerce.From 7-10 years of...</td>\n",
       "      <td>6th of October, Giza</td>\n",
       "      <td>Confidential Company</td>\n",
       "      <td>6th of October, Giza</td>\n",
       "      <td>Manufacturing</td>\n",
       "      <td>11-50 employees</td>\n",
       "      <td>Min: 7 Max: 10</td>\n",
       "      <td>Manager</td>\n",
       "      <td>Bachelor's Degree</td>\n",
       "      <td>Male</td>\n",
       "    </tr>\n",
       "    <tr>\n",
       "      <th>2</th>\n",
       "      <td>2</td>\n",
       "      <td>Female Junior Accountant</td>\n",
       "      <td>Full Time</td>\n",
       "      <td>Accounting/Finance</td>\n",
       "      <td>Review of controlling &amp; applying remittance fo...</td>\n",
       "      <td>Good understanding of accounting and financial...</td>\n",
       "      <td>6th of October, Giza</td>\n",
       "      <td>Confidential Company</td>\n",
       "      <td>6th of October, Giza</td>\n",
       "      <td>Manufacturing</td>\n",
       "      <td>11-50 employees</td>\n",
       "      <td>Min: 1 Max: 2</td>\n",
       "      <td>Entry Level (Junior Level / Fresh Grad)</td>\n",
       "      <td>Bachelor's Degree</td>\n",
       "      <td>Both</td>\n",
       "    </tr>\n",
       "    <tr>\n",
       "      <th>3</th>\n",
       "      <td>3</td>\n",
       "      <td>Collection Supervisor</td>\n",
       "      <td>Full Time</td>\n",
       "      <td>Accounting/Finance</td>\n",
       "      <td>Preparing the monthly collection plan to be ap...</td>\n",
       "      <td>Pervious experience in FMCG is preferred.Has a...</td>\n",
       "      <td>Maadi, Cairo</td>\n",
       "      <td>Abudawood Group Egypt</td>\n",
       "      <td>Cairo, Egypt</td>\n",
       "      <td>FMCG</td>\n",
       "      <td>More than 1000 employees</td>\n",
       "      <td>Min: 1 Max: 2</td>\n",
       "      <td>Experienced (Non-Manager)</td>\n",
       "      <td>Bachelor's Degree</td>\n",
       "      <td>Both</td>\n",
       "    </tr>\n",
       "    <tr>\n",
       "      <th>4</th>\n",
       "      <td>4</td>\n",
       "      <td>Senior Costing Accountant</td>\n",
       "      <td>Full Time</td>\n",
       "      <td>Accounting/Finance</td>\n",
       "      <td>Leads and coordinates the analysis of internal...</td>\n",
       "      <td>Bachelor degree in Accounting, finance Experie...</td>\n",
       "      <td>Cairo, Egypt</td>\n",
       "      <td>Cairo Three A  Poultry</td>\n",
       "      <td>Egypt</td>\n",
       "      <td>Agriculture/Fishing/Farming</td>\n",
       "      <td>More than 1000 employees</td>\n",
       "      <td>Min: 3 Max: 5</td>\n",
       "      <td>Experienced (Non-Manager)</td>\n",
       "      <td>Bachelor's Degree</td>\n",
       "      <td>Both</td>\n",
       "    </tr>\n",
       "  </tbody>\n",
       "</table>\n",
       "</div>"
      ],
      "text/plain": [
       "   Unnamed: 0                               job_title   job_type  \\\n",
       "0           0                         Cost Accountant  Full Time   \n",
       "1           1  Costing Manager - Pastry Industry FMCG  Full Time   \n",
       "2           2                Female Junior Accountant  Full Time   \n",
       "3           3                   Collection Supervisor  Full Time   \n",
       "4           4               Senior Costing Accountant  Full Time   \n",
       "\n",
       "       job_categories                                    job_description  \\\n",
       "0  Accounting/Finance  Preparing the cost of products and operations ...   \n",
       "1  Accounting/Finance  Collecting and analyzing data about company’s ...   \n",
       "2  Accounting/Finance  Review of controlling & applying remittance fo...   \n",
       "3  Accounting/Finance  Preparing the monthly collection plan to be ap...   \n",
       "4  Accounting/Finance  Leads and coordinates the analysis of internal...   \n",
       "\n",
       "                                    job_requirements  \\\n",
       "0  Bachelor’s Degree in accountingProficient use ...   \n",
       "1  Bachelor degree in commerce.From 7-10 years of...   \n",
       "2  Good understanding of accounting and financial...   \n",
       "3  Pervious experience in FMCG is preferred.Has a...   \n",
       "4  Bachelor degree in Accounting, finance Experie...   \n",
       "\n",
       "               job_location             company_name  \\\n",
       "0  Bourj Alarab, Alexandria     Confidential Company   \n",
       "1      6th of October, Giza     Confidential Company   \n",
       "2      6th of October, Giza     Confidential Company   \n",
       "3              Maadi, Cairo    Abudawood Group Egypt   \n",
       "4              Cairo, Egypt   Cairo Three A  Poultry   \n",
       "\n",
       "           company_location                company_field  \\\n",
       "0  Bourj Alarab, Alexandria                Manufacturing   \n",
       "1      6th of October, Giza                Manufacturing   \n",
       "2      6th of October, Giza                Manufacturing   \n",
       "3             Cairo, Egypt                          FMCG   \n",
       "4                    Egypt   Agriculture/Fishing/Farming   \n",
       "\n",
       "                company_size experience_needed  \\\n",
       "0            11-50 employees     Min: 0 Max: 1   \n",
       "1            11-50 employees    Min: 7 Max: 10   \n",
       "2            11-50 employees     Min: 1 Max: 2   \n",
       "3   More than 1000 employees     Min: 1 Max: 2   \n",
       "4   More than 1000 employees     Min: 3 Max: 5   \n",
       "\n",
       "                              career_level    education_level gender  \n",
       "0  Entry Level (Junior Level / Fresh Grad)  Bachelor's Degree   Both  \n",
       "1                                 Manager   Bachelor's Degree   Male  \n",
       "2  Entry Level (Junior Level / Fresh Grad)  Bachelor's Degree   Both  \n",
       "3                Experienced (Non-Manager)  Bachelor's Degree   Both  \n",
       "4                Experienced (Non-Manager)  Bachelor's Degree   Both  "
      ]
     },
     "execution_count": 3,
     "metadata": {},
     "output_type": "execute_result"
    }
   ],
   "source": [
    "wuzzuf_df.head()"
   ]
  },
  {
   "cell_type": "code",
   "execution_count": 4,
   "id": "6d2cc9f2",
   "metadata": {},
   "outputs": [
    {
     "data": {
      "text/html": [
       "<div>\n",
       "<style scoped>\n",
       "    .dataframe tbody tr th:only-of-type {\n",
       "        vertical-align: middle;\n",
       "    }\n",
       "\n",
       "    .dataframe tbody tr th {\n",
       "        vertical-align: top;\n",
       "    }\n",
       "\n",
       "    .dataframe thead th {\n",
       "        text-align: right;\n",
       "    }\n",
       "</style>\n",
       "<table border=\"1\" class=\"dataframe\">\n",
       "  <thead>\n",
       "    <tr style=\"text-align: right;\">\n",
       "      <th></th>\n",
       "      <th>Unnamed: 0</th>\n",
       "      <th>job_title</th>\n",
       "      <th>job_type</th>\n",
       "      <th>job_categories</th>\n",
       "      <th>job_description</th>\n",
       "      <th>job_location</th>\n",
       "      <th>company_name</th>\n",
       "      <th>company_location</th>\n",
       "      <th>company_field</th>\n",
       "      <th>company_size</th>\n",
       "      <th>experience_needed</th>\n",
       "      <th>career_level</th>\n",
       "      <th>education_level</th>\n",
       "      <th>gender</th>\n",
       "    </tr>\n",
       "  </thead>\n",
       "  <tbody>\n",
       "    <tr>\n",
       "      <th>0</th>\n",
       "      <td>0</td>\n",
       "      <td>مندوب مبيعات</td>\n",
       "      <td>Full Time Employee</td>\n",
       "      <td>Sales</td>\n",
       "      <td>\\n Job Description \\n \\n شركة كبيرة الصناعة مس...</td>\n",
       "      <td>10th of Ramadan, Cairo , Egypt</td>\n",
       "      <td>silk route</td>\n",
       "      <td>Egypt - Cairo</td>\n",
       "      <td>Perfume &amp; Cosmetics</td>\n",
       "      <td>50-99 Employees</td>\n",
       "      <td>Min: 3 Max: 5</td>\n",
       "      <td>Experienced (Non-Manager)</td>\n",
       "      <td>Bachelor</td>\n",
       "      <td>Both</td>\n",
       "    </tr>\n",
       "    <tr>\n",
       "      <th>1</th>\n",
       "      <td>1</td>\n",
       "      <td>IT Project Manager</td>\n",
       "      <td>Full Time Employee</td>\n",
       "      <td>Information Technology</td>\n",
       "      <td>\\n Job Description \\n \\n Job brief We are look...</td>\n",
       "      <td>Alexandria, Egypt</td>\n",
       "      <td>iLAW</td>\n",
       "      <td>United Arab Emirates - Dubai</td>\n",
       "      <td>Law Firm; Marketing</td>\n",
       "      <td>10-49 Employees</td>\n",
       "      <td>Min: 3 Max: 5</td>\n",
       "      <td>Senior Executive</td>\n",
       "      <td>Bachelor</td>\n",
       "      <td>Both</td>\n",
       "    </tr>\n",
       "    <tr>\n",
       "      <th>2</th>\n",
       "      <td>2</td>\n",
       "      <td>مسؤول تامينات وتراخيص</td>\n",
       "      <td>Full Time Employee</td>\n",
       "      <td>Finance and Investment</td>\n",
       "      <td>\\n Job Description \\n \\n  1) تمثيل الشركة لدى ...</td>\n",
       "      <td>Egypt</td>\n",
       "      <td>TH For Transport &amp; General Supplies</td>\n",
       "      <td>Egypt</td>\n",
       "      <td>Insurance &amp; TPA</td>\n",
       "      <td>100-499 Employees</td>\n",
       "      <td>Min: 3 Max: 5</td>\n",
       "      <td>Mid Career</td>\n",
       "      <td>Bachelor</td>\n",
       "      <td>Both</td>\n",
       "    </tr>\n",
       "    <tr>\n",
       "      <th>3</th>\n",
       "      <td>3</td>\n",
       "      <td>محاسب مالي</td>\n",
       "      <td>Full Time Employee</td>\n",
       "      <td>Accounting and Auditing</td>\n",
       "      <td>\\n Job Description \\n \\n مطلوب محاسب خبرة 3 سن...</td>\n",
       "      <td>Nasr City, Cairo , Egypt</td>\n",
       "      <td>ابتكارات التطوير</td>\n",
       "      <td>Egypt - Cairo</td>\n",
       "      <td>Accounting</td>\n",
       "      <td>50-99 Employees</td>\n",
       "      <td>Min: 3 Max: 5</td>\n",
       "      <td>Experienced (Non-Manager)</td>\n",
       "      <td>Bachelor</td>\n",
       "      <td>Both</td>\n",
       "    </tr>\n",
       "    <tr>\n",
       "      <th>4</th>\n",
       "      <td>4</td>\n",
       "      <td>Planning Engineer</td>\n",
       "      <td>Full Time Employee</td>\n",
       "      <td>Engineering</td>\n",
       "      <td>\\n Job Description \\n \\n Key Accountability Ar...</td>\n",
       "      <td>Cairo, Egypt</td>\n",
       "      <td>Confidential Company</td>\n",
       "      <td>Cairo, Egypt</td>\n",
       "      <td>Construction &amp; Building</td>\n",
       "      <td>500 Employees or more</td>\n",
       "      <td>Min: 3 Max: 5</td>\n",
       "      <td>Experienced (Non-Manager)</td>\n",
       "      <td>Bachelor</td>\n",
       "      <td>Both</td>\n",
       "    </tr>\n",
       "  </tbody>\n",
       "</table>\n",
       "</div>"
      ],
      "text/plain": [
       "   Unnamed: 0              job_title            job_type  \\\n",
       "0           0           مندوب مبيعات  Full Time Employee   \n",
       "1           1     IT Project Manager  Full Time Employee   \n",
       "2           2  مسؤول تامينات وتراخيص  Full Time Employee   \n",
       "3           3             محاسب مالي  Full Time Employee   \n",
       "4           4      Planning Engineer  Full Time Employee   \n",
       "\n",
       "            job_categories                                    job_description  \\\n",
       "0                    Sales  \\n Job Description \\n \\n شركة كبيرة الصناعة مس...   \n",
       "1   Information Technology  \\n Job Description \\n \\n Job brief We are look...   \n",
       "2   Finance and Investment  \\n Job Description \\n \\n  1) تمثيل الشركة لدى ...   \n",
       "3  Accounting and Auditing  \\n Job Description \\n \\n مطلوب محاسب خبرة 3 سن...   \n",
       "4              Engineering  \\n Job Description \\n \\n Key Accountability Ar...   \n",
       "\n",
       "                     job_location                         company_name  \\\n",
       "0  10th of Ramadan, Cairo , Egypt                           silk route   \n",
       "1               Alexandria, Egypt                                 iLAW   \n",
       "2                           Egypt  TH For Transport & General Supplies   \n",
       "3        Nasr City, Cairo , Egypt                     ابتكارات التطوير   \n",
       "4                    Cairo, Egypt                 Confidential Company   \n",
       "\n",
       "               company_location            company_field  \\\n",
       "0                 Egypt - Cairo      Perfume & Cosmetics   \n",
       "1  United Arab Emirates - Dubai      Law Firm; Marketing   \n",
       "2                         Egypt          Insurance & TPA   \n",
       "3                 Egypt - Cairo               Accounting   \n",
       "4                  Cairo, Egypt  Construction & Building   \n",
       "\n",
       "            company_size experience_needed               career_level  \\\n",
       "0        50-99 Employees     Min: 3 Max: 5  Experienced (Non-Manager)   \n",
       "1        10-49 Employees     Min: 3 Max: 5           Senior Executive   \n",
       "2      100-499 Employees     Min: 3 Max: 5                 Mid Career   \n",
       "3        50-99 Employees     Min: 3 Max: 5  Experienced (Non-Manager)   \n",
       "4  500 Employees or more     Min: 3 Max: 5  Experienced (Non-Manager)   \n",
       "\n",
       "  education_level gender  \n",
       "0        Bachelor   Both  \n",
       "1        Bachelor   Both  \n",
       "2        Bachelor   Both  \n",
       "3        Bachelor   Both  \n",
       "4        Bachelor   Both  "
      ]
     },
     "execution_count": 4,
     "metadata": {},
     "output_type": "execute_result"
    }
   ],
   "source": [
    "bayt_df.head()"
   ]
  },
  {
   "cell_type": "markdown",
   "id": "f4f96f3d",
   "metadata": {},
   "source": [
    "### Drop the unnecessary cloumns"
   ]
  },
  {
   "cell_type": "code",
   "execution_count": 5,
   "id": "df9fdd0c",
   "metadata": {},
   "outputs": [],
   "source": [
    "bayt_df.drop(['Unnamed: 0', 'job_description'], axis=1, inplace=True)\n",
    "wuzzuf_df.drop(['Unnamed: 0', 'job_description', 'job_requirements'], axis=1, inplace=True)"
   ]
  },
  {
   "cell_type": "markdown",
   "id": "4630405d",
   "metadata": {},
   "source": [
    "## Integrate the data for each column"
   ]
  },
  {
   "cell_type": "markdown",
   "id": "f0b1a8ac",
   "metadata": {},
   "source": [
    "### Job Type\n",
    "we can count contractor as freelance"
   ]
  },
  {
   "cell_type": "code",
   "execution_count": 6,
   "id": "670966b6",
   "metadata": {},
   "outputs": [
    {
     "data": {
      "text/plain": [
       "Full Time Employee    5420\n",
       "Part Time Employee     156\n",
       "Contractor               3\n",
       "Name: job_type, dtype: int64"
      ]
     },
     "execution_count": 6,
     "metadata": {},
     "output_type": "execute_result"
    }
   ],
   "source": [
    "bayt_df['job_type'].value_counts()"
   ]
  },
  {
   "cell_type": "code",
   "execution_count": 7,
   "id": "d74b55f2",
   "metadata": {},
   "outputs": [
    {
     "data": {
      "text/plain": [
       "Full Time              7031\n",
       "Part Time                90\n",
       "Internship               86\n",
       "Freelance / Project      22\n",
       "Name: job_type, dtype: int64"
      ]
     },
     "execution_count": 7,
     "metadata": {},
     "output_type": "execute_result"
    }
   ],
   "source": [
    "wuzzuf_df['job_type'].value_counts()"
   ]
  },
  {
   "cell_type": "code",
   "execution_count": 8,
   "id": "37c3fc21",
   "metadata": {},
   "outputs": [],
   "source": [
    "data_to_be_replaced = {\n",
    "    'Full Time Employee': 'Full Time',\n",
    "    'Part Time Employee': 'Part Time',\n",
    "    'Contractor': 'Freelance / Project'\n",
    "}\n",
    "\n",
    "bayt_df['job_type'].replace(data_to_be_replaced, inplace=True)"
   ]
  },
  {
   "cell_type": "markdown",
   "id": "762539f9",
   "metadata": {},
   "source": [
    "### Job Category"
   ]
  },
  {
   "cell_type": "code",
   "execution_count": 9,
   "id": "8d9d7fb2",
   "metadata": {},
   "outputs": [
    {
     "data": {
      "text/plain": [
       "Other                                  2161\n",
       "Information Technology                  663\n",
       "Engineering                             600\n",
       "Sales                                   465\n",
       "Accounting and Auditing                 252\n",
       "Customer Service and Call Center        206\n",
       "Teaching and Academics                  165\n",
       "Management                              165\n",
       "Human Resources and Recruitment         159\n",
       "Maintenance, Repair, and Technician     158\n",
       "Marketing and PR                        130\n",
       "Design, Creative, and Arts               87\n",
       "Quality Control                          81\n",
       "Finance and Investment                   74\n",
       "Administration                           35\n",
       "Purchasing and Procurement               34\n",
       "Legal                                    32\n",
       "Electrical Engineering                   29\n",
       "Logistics and Transportation             28\n",
       "Hospitality and Tourism                  13\n",
       "Support Services                         11\n",
       "Medical, Healthcare, and Nursing          7\n",
       "Manufacturing                             5\n",
       "Training and Development                  4\n",
       "Secretarial                               4\n",
       "Architecture                              3\n",
       "Community Services                        2\n",
       "Safety                                    2\n",
       "Translation                               1\n",
       "Writing and Journalism                    1\n",
       "Mechanical Engineering                    1\n",
       "Banking                                   1\n",
       "Name: job_categories, dtype: int64"
      ]
     },
     "execution_count": 9,
     "metadata": {},
     "output_type": "execute_result"
    }
   ],
   "source": [
    "bayt_df['job_categories'].value_counts()"
   ]
  },
  {
   "cell_type": "code",
   "execution_count": 10,
   "id": "412e4f93",
   "metadata": {},
   "outputs": [
    {
     "data": {
      "text/plain": [
       "IT/Software Development                          1082\n",
       "Accounting/Finance                                723\n",
       "Administration                                    665\n",
       "Customer Service/Support                          659\n",
       "Engineering - Construction/Civil/Architecture     523\n",
       "Sales/Retail                                      413\n",
       "Installation/Maintenance/Repair                   333\n",
       "Marketing/PR/Advertising                          327\n",
       "Human Resources                                   324\n",
       "Creative/Design/Art                               282\n",
       "Logistics/Supply Chain                            277\n",
       "Business Development                              264\n",
       "Operations/Management                             212\n",
       "Engineering - Mechanical/Electrical               206\n",
       "Manufacturing/Production                          135\n",
       "Education/Teaching                                133\n",
       "Medical/Healthcare                                133\n",
       "Writing/Editorial                                 101\n",
       "R&D/Science                                        89\n",
       "Quality                                            73\n",
       "Purchasing/Procurement                             45\n",
       "Hospitality/Hotels/Food Services                   41\n",
       "Banking                                            36\n",
       "Project/Program Management                         36\n",
       "Legal                                              29\n",
       "Analyst/Research                                   20\n",
       "Engineering - Telecom/Technology                   17\n",
       "Tourism/Travel                                     16\n",
       "Engineering - Other                                10\n",
       "Other                                               8\n",
       "Training/Instructor                                 7\n",
       "Pharmaceutical                                      5\n",
       "Sports and Leisure                                  2\n",
       "C-Level Executive/GM/Director                       1\n",
       "Engineering - Oil & Gas/Energy                      1\n",
       "Media/Journalism/Publishing                         1\n",
       "Name: job_categories, dtype: int64"
      ]
     },
     "execution_count": 10,
     "metadata": {},
     "output_type": "execute_result"
    }
   ],
   "source": [
    "wuzzuf_df['job_categories'].value_counts()"
   ]
  },
  {
   "cell_type": "code",
   "execution_count": 11,
   "id": "9be42452",
   "metadata": {},
   "outputs": [],
   "source": [
    "data_to_be_replaced = {\n",
    "    'Information Technology': 'IT/Software Development',\n",
    "    'Sales': 'Sales/Retail',\n",
    "    'Accounting and Auditing': 'Accounting/Finance',\n",
    "    'Customer Service and Call Center': 'Customer Service/Support',\n",
    "    'Teaching and Academics': 'Education/Teaching',\n",
    "    'Human Resources and Recruitment': 'Human Resources',\n",
    "    'Maintenance, Repair, and Technician': 'Installation/Maintenance/Repair',\n",
    "    'Marketing and PR': 'Marketing/PR/Advertising',\n",
    "    'Design, Creative, and Arts': 'Creative/Design/Art',\n",
    "    'Quality Control': 'Quality',\n",
    "    'Finance and Investment': 'Accounting/Finance',\n",
    "    'Administration': 'Administration',\n",
    "    'Purchasing and Procurement': 'Purchasing/Procurement',\n",
    "    'Electrical Engineering': 'Engineering - Mechanical/Electrical',\n",
    "    'Logistics and Transportation': 'Logistics/Supply Chain',\n",
    "    'Hospitality and Tourism': 'Tourism/Travel',\n",
    "    'Support Services': 'Customer Service/Support',\n",
    "    'Medical, Healthcare, and Nursing': 'Medical/Healthcare',\n",
    "    'Manufacturing': 'Manufacturing/Production',\n",
    "    'Training and Development': 'Training/Instructor',\n",
    "    'Writing and Journalism': 'Media/Journalism/Publishing',\n",
    "    'Mechanical Engineering': 'Engineering - Mechanical/Electrical',\n",
    "}\n",
    "\n",
    "bayt_df['job_categories'].replace(data_to_be_replaced, inplace=True)"
   ]
  },
  {
   "cell_type": "markdown",
   "id": "cf5c76d6",
   "metadata": {},
   "source": [
    "### Job Location"
   ]
  },
  {
   "cell_type": "code",
   "execution_count": 12,
   "id": "16bae468",
   "metadata": {},
   "outputs": [
    {
     "data": {
      "text/plain": [
       "Cairo, Egypt                           3774\n",
       "Egypt                                  1279\n",
       "Alexandria, Egypt                       354\n",
       "Suez, Egypt                              26\n",
       "Luxor, Egypt                             21\n",
       "Sharm el Sheikh, Egypt                   14\n",
       "Heliopolis, Cairo , Egypt                13\n",
       "Nasr City, Cairo , Egypt                 11\n",
       "Asyut, Egypt                              9\n",
       "Port Said, Egypt                          8\n",
       "Menoufia, Egypt                           8\n",
       "New Cairo, Cairo , Egypt                  8\n",
       "10th of Ramadan, Cairo , Egypt            6\n",
       "Giza, Cairo , Egypt                       6\n",
       "Maadi, Cairo , Egypt                      5\n",
       "6th of October, Cairo , Egypt             5\n",
       "Obour City, Cairo , Egypt                 2\n",
       "Borg El Arab, Alexandria , Egypt          2\n",
       "Mansoura, Egypt                           2\n",
       "Mahatet El Raml, Alexandria , Egypt       2\n",
       "Damietta, Egypt                           2\n",
       "Ismailia, Egypt                           2\n",
       "Badr City, Cairo , Egypt                  2\n",
       "Faisal, Cairo , Egypt                     1\n",
       "Sohag, Egypt                              1\n",
       "Madinat as Sadat, Cairo , Egypt           1\n",
       "Tanta, Egypt                              1\n",
       "Sidi Bishr, Alexandria , Egypt            1\n",
       "Dahab, Egypt                              1\n",
       "Smart Village, Cairo , Egypt              1\n",
       "Mandara, Alexandria , Egypt               1\n",
       "Mokattam, Cairo , Egypt                   1\n",
       "Agami, Alexandria , Egypt                 1\n",
       "Almazah, Cairo , Egypt                    1\n",
       "Kafr El Sheikh, Egypt                     1\n",
       "Al Alamayn, Egypt                         1\n",
       "Qena, Egypt                               1\n",
       "As Sayyidah Zaynab, Cairo , Egypt         1\n",
       "Helwan, Cairo , Egypt                     1\n",
       "Sheraton El Salam, Cairo , Egypt          1\n",
       "Aswan, Egypt                              1\n",
       "Name: job_location, dtype: int64"
      ]
     },
     "execution_count": 12,
     "metadata": {},
     "output_type": "execute_result"
    }
   ],
   "source": [
    "bayt_df['job_location'].value_counts()"
   ]
  },
  {
   "cell_type": "code",
   "execution_count": 13,
   "id": "1d8a0478",
   "metadata": {},
   "outputs": [
    {
     "data": {
      "text/plain": [
       "Cairo, Egypt            953\n",
       "New Cairo, Cairo        851\n",
       "Maadi, Cairo            771\n",
       "Nasr City, Cairo        603\n",
       "6th of October, Giza    593\n",
       "                       ... \n",
       "Badrasheen, Giza          1\n",
       "Sherbeen, Dakahlia        1\n",
       "Qasr ِAlnil, Cairo        1\n",
       "New Assuit, Assiut        1\n",
       "Schutz, Alexandria        1\n",
       "Name: job_location, Length: 175, dtype: int64"
      ]
     },
     "execution_count": 13,
     "metadata": {},
     "output_type": "execute_result"
    }
   ],
   "source": [
    "wuzzuf_df['job_location'].value_counts()"
   ]
  },
  {
   "cell_type": "code",
   "execution_count": 14,
   "id": "4de2d20e",
   "metadata": {},
   "outputs": [],
   "source": [
    "data_to_be_replaced = {\n",
    "    'Egypt': 'Cairo, Egypt',\n",
    "    'Suez, Egypt': 'Suez, Suez',\n",
    "    'Luxor, Egypt': 'Luxor, Luxor',\n",
    "    'Sharm el Sheikh, Egypt': 'Sharm Alsheikh, South Sinai',\n",
    "    'Heliopolis, Cairo , Egypt': 'Heliopolis, Cairo',\n",
    "    'Nasr City, Cairo , Egypt': 'Nasr City, Cairo',\n",
    "    'New Cairo, Cairo , Egypt': 'New Cairo, Cairo',\n",
    "    '10th of Ramadan, Cairo , Egypt': '10th of Ramadan City, Cairo',\n",
    "    'Giza, Cairo , Egypt': 'Giza, Egypt',\n",
    "    'Maadi, Cairo , Egypt': 'Maadi, Cairo',\n",
    "    '6th of October, Cairo , Egypt': '6th of October, Giza',\n",
    "    'Obour City, Cairo , Egypt': 'Obour City, Cairo',\n",
    "    'Borg El Arab, Alexandria , Egypt': 'Bourj Alarab, Alexandria',\n",
    "    'Mansoura, Egypt': 'Mansoura, Dakahlia',\n",
    "    'Mahatet El Raml, Alexandria , Egypt': 'Mahta Alraml, Alexandria',\n",
    "    'Damietta, Egypt': 'Damietta, Egypt',\n",
    "    'Ismailia, Egypt': 'Ismailia, Ismailia',\n",
    "    'Badr City, Cairo , Egypt': 'Badr City, Cairo',\n",
    "    'Faisal, Cairo , Egypt': 'Faisal, Giza',\n",
    "    'Sohag, Egypt': 'Sohag, Egypt',\n",
    "    'Madinat as Sadat, Cairo , Egypt': 'Alsadat City, Monufya',\n",
    "    'Tanta, Egypt': 'Tanta, Gharbia',\n",
    "    'Sidi Bishr, Alexandria , Egypt': 'Sidi Bishr, Alexandria',\n",
    "    'Smart Village, Cairo , Egypt': 'Smart Village, Giza',\n",
    "    'Mandara, Alexandria , Egypt': 'Mandara, Alexandria',\n",
    "    'Mokattam, Cairo , Egypt': 'Mokattam, Cairo',\n",
    "    'Agami, Alexandria , Egypt': 'Agami, Alexandria',\n",
    "    'Kafr El Sheikh, Egypt': 'Kafr Alsheikh, Egypt',\n",
    "    'Qena, Egypt': 'Qena, Qena',\n",
    "    'As Sayyidah Zaynab, Cairo , Egypt': 'Sayeda Zeinab, Cairo',\n",
    "    'Helwan, Cairo , Egypt': 'Helwan, Cairo',\n",
    "    'Sheraton El Salam, Cairo , Egypt': 'Sheraton, Cairo',\n",
    "    'Aswan, Egypt': 'Aswan, Aswan',\n",
    "}\n",
    "bayt_df['job_location'].replace(data_to_be_replaced, inplace=True)"
   ]
  },
  {
   "cell_type": "markdown",
   "id": "1a16a042",
   "metadata": {},
   "source": [
    "### Company Location"
   ]
  },
  {
   "cell_type": "code",
   "execution_count": 15,
   "id": "31951292",
   "metadata": {},
   "outputs": [
    {
     "data": {
      "text/plain": [
       "Cairo, Egypt                                  3521\n",
       "Egypt                                         1044\n",
       "Egypt - Cairo                                  349\n",
       "Alexandria, Egypt                              195\n",
       "Giza, Egypt                                    120\n",
       "Saudi Arabia                                    55\n",
       "Germany                                         51\n",
       "United Arab Emirates - Abu Dhabi                42\n",
       "Canada - Ontario                                29\n",
       "United Arab Emirates - Dubai                    24\n",
       "United Kingdom - London                         19\n",
       "Luxor, Egypt                                    17\n",
       "Sweden                                          11\n",
       "Egypt - Cairo - Heliopolis                      11\n",
       "Suez, Egypt                                     11\n",
       "Asyut, Egypt                                     8\n",
       "United States - New Jersey                       8\n",
       "United States - Massachusetts - Boston           7\n",
       "Egypt - Cairo - 6th of October                   6\n",
       "Egypt - Alexandria                               6\n",
       "500 Employees or more                            5\n",
       "United States - Texas - Round Rock               4\n",
       "United States - Texas - Houston                  4\n",
       "Switzerland                                      3\n",
       "Netherlands                                      3\n",
       "Egypt - Cairo - Nasr City                        3\n",
       "1-9 Employees                                    3\n",
       "100-499 Employees                                2\n",
       "Egypt - Alexandria - Mahatet El Raml             2\n",
       "Egypt - Asyut                                    1\n",
       "United States - Virginia                         1\n",
       "Giza, Cairo , Egypt                              1\n",
       "Egypt - Qena                                     1\n",
       "Saudi Arabia - Riyadh                            1\n",
       "Saudi Arabia - Riyadh - Ar Rayyan                1\n",
       "Saudi Arabia - Jeddah                            1\n",
       "United States - Minnesota - Saint Paul           1\n",
       "United Arab Emirates                             1\n",
       "United States - Minnesota - Minneapolis          1\n",
       "United States - California - San Francisco       1\n",
       "Qatar - Doha                                     1\n",
       "Egypt - Alexandria - Borg El Arab                1\n",
       "Egypt - Mansoura                                 1\n",
       "United States - South Boston                     1\n",
       "Aswan, Egypt                                     1\n",
       "Name: company_location, dtype: int64"
      ]
     },
     "execution_count": 15,
     "metadata": {},
     "output_type": "execute_result"
    }
   ],
   "source": [
    "bayt_df['company_location'].value_counts()"
   ]
  },
  {
   "cell_type": "code",
   "execution_count": 16,
   "id": "58fd1c7a",
   "metadata": {},
   "outputs": [
    {
     "data": {
      "text/plain": [
       "Cairo, Egypt             3690\n",
       "Giza, Egypt              1165\n",
       "Egypt                     671\n",
       "Alexandria, Egypt         266\n",
       "Cairo, Egypt              159\n",
       "                         ... \n",
       "Faqus, Sharqia              1\n",
       "Changsha, China             1\n",
       "Zohour, Port Said           1\n",
       "Ras Sedr, South Sinai       1\n",
       "Schutz, Alexandria          1\n",
       "Name: company_location, Length: 154, dtype: int64"
      ]
     },
     "execution_count": 16,
     "metadata": {},
     "output_type": "execute_result"
    }
   ],
   "source": [
    "wuzzuf_df['company_location'].value_counts()"
   ]
  },
  {
   "cell_type": "code",
   "execution_count": 17,
   "id": "b4de0721",
   "metadata": {},
   "outputs": [],
   "source": [
    "data_to_be_replaced = {\n",
    "    'Egypt': 'Cairo, Egypt',\n",
    "    'Suez, Egypt': 'Suez, Suez',\n",
    "    'Luxor, Egypt': 'Luxor, Luxor',\n",
    "    'Sharm el Sheikh, Egypt': 'Sharm Alsheikh, South Sinai',\n",
    "    'Heliopolis, Cairo , Egypt': 'Heliopolis, Cairo',\n",
    "    'Nasr City, Cairo , Egypt': 'Nasr City, Cairo',\n",
    "    'New Cairo, Cairo , Egypt': 'New Cairo, Cairo',\n",
    "    '10th of Ramadan, Cairo , Egypt': '10th of Ramadan City, Cairo',\n",
    "    'Giza, Cairo , Egypt': 'Giza, Egypt',\n",
    "    'Maadi, Cairo , Egypt': 'Maadi, Cairo',\n",
    "    '6th of October, Cairo , Egypt': '6th of October, Giza',\n",
    "    'Obour City, Cairo , Egypt': 'Obour City, Cairo',\n",
    "    'Borg El Arab, Alexandria , Egypt': 'Bourj Alarab, Alexandria',\n",
    "    'Mansoura, Egypt': 'Mansoura, Dakahlia',\n",
    "    'Mahatet El Raml, Alexandria , Egypt': 'Mahta Alraml, Alexandria',\n",
    "    'Damietta, Egypt': 'Damietta, Egypt',\n",
    "    'Ismailia, Egypt': 'Ismailia, Ismailia',\n",
    "    'Badr City, Cairo , Egypt': 'Badr City, Cairo',\n",
    "    'Faisal, Cairo , Egypt': 'Faisal, Giza',\n",
    "    'Sohag, Egypt': 'Sohag, Egypt',\n",
    "    'Madinat as Sadat, Cairo , Egypt': 'Alsadat City, Monufya',\n",
    "    'Tanta, Egypt': 'Tanta, Gharbia',\n",
    "    'Sidi Bishr, Alexandria , Egypt': 'Sidi Bishr, Alexandria',\n",
    "    'Smart Village, Cairo , Egypt': 'Smart Village, Giza',\n",
    "    'Mandara, Alexandria , Egypt': 'Mandara, Alexandria',\n",
    "    'Mokattam, Cairo , Egypt': 'Mokattam, Cairo',\n",
    "    'Agami, Alexandria , Egypt': 'Agami, Alexandria',\n",
    "    'Kafr El Sheikh, Egypt': 'Kafr Alsheikh, Egypt',\n",
    "    'Qena, Egypt': 'Qena, Qena',\n",
    "    'As Sayyidah Zaynab, Cairo , Egypt': 'Sayeda Zeinab, Cairo',\n",
    "    'Helwan, Cairo , Egypt': 'Helwan, Cairo',\n",
    "    'Sheraton El Salam, Cairo , Egypt': 'Sheraton, Cairo',\n",
    "    'Aswan, Egypt': 'Aswan, Aswan',\n",
    "    'Egypt - Cairo - Heliopolis':'Heliopolis, Cairo',\n",
    "    'Egypt - Alexandria':'Alexandria, Egypt',\n",
    "    'Egypt - Cairo - 6th of October': '6th of October, Giza',\n",
    "    '500 Employees or more': 'Cairo, Egypt',\n",
    "    '1-9 Employees': 'Cairo, Egypt',\n",
    "    'Egypt - Cairo - Nasr City': 'Nasr City, Cairo',\n",
    "    '100-499 Employees': 'Cairo, Egypt',\n",
    "    'Egypt - Alexandria - Mahatet El Raml': 'Mahta Alraml, Alexandria',\n",
    "    'Egypt - Asyut': 'Assiut, Egypt',\n",
    "    'Egypt - Mansoura': 'Mansoura, Dakahlia',\n",
    "    'Egypt - Alexandria - Borg El Arab': 'Bourj Alarab, Alexandria',\n",
    "    'Egypt - Qena':'Qena, Qena',\n",
    "    'Egypt - Cairo': 'Cairo, Egypt',\n",
    "}\n",
    "bayt_df['company_location'].replace(data_to_be_replaced, inplace=True)"
   ]
  },
  {
   "cell_type": "markdown",
   "id": "aa9a940c",
   "metadata": {},
   "source": [
    "### Company Size"
   ]
  },
  {
   "cell_type": "code",
   "execution_count": 18,
   "id": "f5b48d11",
   "metadata": {
    "scrolled": false
   },
   "outputs": [
    {
     "data": {
      "text/plain": [
       "500 Employees or more    5203\n",
       "100-499 Employees         153\n",
       "50-99 Employees           118\n",
       "10-49 Employees            75\n",
       "1-9 Employees              30\n",
       "Name: company_size, dtype: int64"
      ]
     },
     "execution_count": 18,
     "metadata": {},
     "output_type": "execute_result"
    }
   ],
   "source": [
    "bayt_df['company_size'].value_counts()"
   ]
  },
  {
   "cell_type": "code",
   "execution_count": 19,
   "id": "b78a5826",
   "metadata": {},
   "outputs": [
    {
     "data": {
      "text/plain": [
       " 11-50 employees             2638\n",
       " 101-500 employees           1554\n",
       " More than 1000 employees    1098\n",
       " 51-100 employees            1010\n",
       " 501-1000 employees           726\n",
       " 1-10 employees               184\n",
       "                               19\n",
       "Name: company_size, dtype: int64"
      ]
     },
     "execution_count": 19,
     "metadata": {},
     "output_type": "execute_result"
    }
   ],
   "source": [
    "wuzzuf_df['company_size'].value_counts()"
   ]
  },
  {
   "cell_type": "code",
   "execution_count": 20,
   "id": "856bf383",
   "metadata": {},
   "outputs": [],
   "source": [
    "data_to_be_replaced = {\n",
    "    ' 1-10 employees': '1-9 Employees',\n",
    "    ' 11-50 employees': '10-49 Employees',\n",
    "    ' 51-100 employees': '50-99 Employees',\n",
    "    ' 101-500 employees': '100-499 Employees',\n",
    "    ' 501-1000 employees': '500 Employees or more',\n",
    "    ' More than 1000 employees': '500 Employees or more',\n",
    "    ' ': '1-9 Employees'\n",
    "}\n",
    "wuzzuf_df['company_size'].replace(data_to_be_replaced, inplace=True)"
   ]
  },
  {
   "cell_type": "markdown",
   "id": "6a6ff799",
   "metadata": {},
   "source": [
    "### Career level"
   ]
  },
  {
   "cell_type": "code",
   "execution_count": 21,
   "id": "8e8c46d1",
   "metadata": {
    "scrolled": true
   },
   "outputs": [
    {
     "data": {
      "text/plain": [
       "Experienced (Non-Manager)    3444\n",
       "Entry Level                  1231\n",
       "Management                    775\n",
       "Internship Level               90\n",
       "Mid Career                     33\n",
       "Fresh Graduate                  3\n",
       "Senior Executive                2\n",
       "Director/Head                   1\n",
       "Name: career_level, dtype: int64"
      ]
     },
     "execution_count": 21,
     "metadata": {},
     "output_type": "execute_result"
    }
   ],
   "source": [
    "bayt_df['career_level'].value_counts()"
   ]
  },
  {
   "cell_type": "code",
   "execution_count": 22,
   "id": "50460ae1",
   "metadata": {},
   "outputs": [
    {
     "data": {
      "text/plain": [
       "Experienced (Non-Manager)                      4034\n",
       "Entry Level (Junior Level / Fresh Grad)        2028\n",
       "Manager                                        1051\n",
       "Senior Management (CEO, GM, Director, Head)      97\n",
       "Student (Undergrad / Postgrad)                   19\n",
       "Name: career_level, dtype: int64"
      ]
     },
     "execution_count": 22,
     "metadata": {},
     "output_type": "execute_result"
    }
   ],
   "source": [
    "wuzzuf_df['career_level'].value_counts()"
   ]
  },
  {
   "cell_type": "code",
   "execution_count": 23,
   "id": "6fb68fd9",
   "metadata": {},
   "outputs": [],
   "source": [
    "data_to_be_replaced = {\n",
    "    'Entry Level': 'Entry Level (Junior Level / Fresh Grad)',\n",
    "    'Management': 'Manager',\n",
    "    'Mid Career': 'Experienced (Non-Manager)',\n",
    "    'Fresh Graduate': 'Entry Level (Junior Level / Fresh Grad)',\n",
    "    'Senior Executive': 'Senior Management (CEO, GM, Director, Head)',\n",
    "    'Director/Head': 'Senior Management (CEO, GM, Director, Head)'\n",
    "}\n",
    "bayt_df['career_level'].replace(data_to_be_replaced, inplace=True)"
   ]
  },
  {
   "cell_type": "markdown",
   "id": "f83426a9",
   "metadata": {},
   "source": [
    "### Education Level"
   ]
  },
  {
   "cell_type": "code",
   "execution_count": 24,
   "id": "acdabd99",
   "metadata": {
    "scrolled": true
   },
   "outputs": [
    {
     "data": {
      "text/plain": [
       "Bachelor    5271\n",
       "Master       201\n",
       "Diploma      103\n",
       "Ph.D           4\n",
       "Name: education_level, dtype: int64"
      ]
     },
     "execution_count": 24,
     "metadata": {},
     "output_type": "execute_result"
    }
   ],
   "source": [
    "bayt_df['education_level'].value_counts()"
   ]
  },
  {
   "cell_type": "code",
   "execution_count": 25,
   "id": "fe6ba135",
   "metadata": {},
   "outputs": [
    {
     "data": {
      "text/plain": [
       "Bachelor's Degree              7150\n",
       "Master's Degree                  56\n",
       "High School (or equivalent)      23\n",
       "Name: education_level, dtype: int64"
      ]
     },
     "execution_count": 25,
     "metadata": {},
     "output_type": "execute_result"
    }
   ],
   "source": [
    "wuzzuf_df['education_level'].value_counts()"
   ]
  },
  {
   "cell_type": "code",
   "execution_count": 26,
   "id": "8a304170",
   "metadata": {},
   "outputs": [],
   "source": [
    "data_to_be_replaced = {\n",
    "    'Bachelor': \"Bachelor's Degree\",\n",
    "    'Master': \"Master's Degree\",\n",
    "    'Diploma': 'High School / Diploma (or equivalent)',\n",
    "}\n",
    "data_to_be_replaced2 = {\n",
    "    'High School (or equivalent)': 'High School / Diploma (or equivalent)',\n",
    "}\n",
    "bayt_df['education_level'].replace(data_to_be_replaced, inplace=True)\n",
    "wuzzuf_df['education_level'].replace(data_to_be_replaced2, inplace=True)"
   ]
  },
  {
   "cell_type": "markdown",
   "id": "9223f206",
   "metadata": {},
   "source": [
    "### Combine both data frame in one frame"
   ]
  },
  {
   "cell_type": "code",
   "execution_count": 27,
   "id": "d7c4f770",
   "metadata": {},
   "outputs": [],
   "source": [
    "df = pd.concat([wuzzuf_df, bayt_df])"
   ]
  },
  {
   "cell_type": "code",
   "execution_count": 28,
   "id": "84154934",
   "metadata": {},
   "outputs": [
    {
     "data": {
      "text/html": [
       "<div>\n",
       "<style scoped>\n",
       "    .dataframe tbody tr th:only-of-type {\n",
       "        vertical-align: middle;\n",
       "    }\n",
       "\n",
       "    .dataframe tbody tr th {\n",
       "        vertical-align: top;\n",
       "    }\n",
       "\n",
       "    .dataframe thead th {\n",
       "        text-align: right;\n",
       "    }\n",
       "</style>\n",
       "<table border=\"1\" class=\"dataframe\">\n",
       "  <thead>\n",
       "    <tr style=\"text-align: right;\">\n",
       "      <th></th>\n",
       "      <th>job_title</th>\n",
       "      <th>job_type</th>\n",
       "      <th>job_categories</th>\n",
       "      <th>job_location</th>\n",
       "      <th>company_name</th>\n",
       "      <th>company_location</th>\n",
       "      <th>company_field</th>\n",
       "      <th>company_size</th>\n",
       "      <th>experience_needed</th>\n",
       "      <th>career_level</th>\n",
       "      <th>education_level</th>\n",
       "      <th>gender</th>\n",
       "    </tr>\n",
       "  </thead>\n",
       "  <tbody>\n",
       "    <tr>\n",
       "      <th>0</th>\n",
       "      <td>Cost Accountant</td>\n",
       "      <td>Full Time</td>\n",
       "      <td>Accounting/Finance</td>\n",
       "      <td>Bourj Alarab, Alexandria</td>\n",
       "      <td>Confidential Company</td>\n",
       "      <td>Bourj Alarab, Alexandria</td>\n",
       "      <td>Manufacturing</td>\n",
       "      <td>10-49 Employees</td>\n",
       "      <td>Min: 0 Max: 1</td>\n",
       "      <td>Entry Level (Junior Level / Fresh Grad)</td>\n",
       "      <td>Bachelor's Degree</td>\n",
       "      <td>Both</td>\n",
       "    </tr>\n",
       "    <tr>\n",
       "      <th>1</th>\n",
       "      <td>Costing Manager - Pastry Industry FMCG</td>\n",
       "      <td>Full Time</td>\n",
       "      <td>Accounting/Finance</td>\n",
       "      <td>6th of October, Giza</td>\n",
       "      <td>Confidential Company</td>\n",
       "      <td>6th of October, Giza</td>\n",
       "      <td>Manufacturing</td>\n",
       "      <td>10-49 Employees</td>\n",
       "      <td>Min: 7 Max: 10</td>\n",
       "      <td>Manager</td>\n",
       "      <td>Bachelor's Degree</td>\n",
       "      <td>Male</td>\n",
       "    </tr>\n",
       "    <tr>\n",
       "      <th>2</th>\n",
       "      <td>Female Junior Accountant</td>\n",
       "      <td>Full Time</td>\n",
       "      <td>Accounting/Finance</td>\n",
       "      <td>6th of October, Giza</td>\n",
       "      <td>Confidential Company</td>\n",
       "      <td>6th of October, Giza</td>\n",
       "      <td>Manufacturing</td>\n",
       "      <td>10-49 Employees</td>\n",
       "      <td>Min: 1 Max: 2</td>\n",
       "      <td>Entry Level (Junior Level / Fresh Grad)</td>\n",
       "      <td>Bachelor's Degree</td>\n",
       "      <td>Both</td>\n",
       "    </tr>\n",
       "    <tr>\n",
       "      <th>3</th>\n",
       "      <td>Collection Supervisor</td>\n",
       "      <td>Full Time</td>\n",
       "      <td>Accounting/Finance</td>\n",
       "      <td>Maadi, Cairo</td>\n",
       "      <td>Abudawood Group Egypt</td>\n",
       "      <td>Cairo, Egypt</td>\n",
       "      <td>FMCG</td>\n",
       "      <td>500 Employees or more</td>\n",
       "      <td>Min: 1 Max: 2</td>\n",
       "      <td>Experienced (Non-Manager)</td>\n",
       "      <td>Bachelor's Degree</td>\n",
       "      <td>Both</td>\n",
       "    </tr>\n",
       "    <tr>\n",
       "      <th>4</th>\n",
       "      <td>Senior Costing Accountant</td>\n",
       "      <td>Full Time</td>\n",
       "      <td>Accounting/Finance</td>\n",
       "      <td>Cairo, Egypt</td>\n",
       "      <td>Cairo Three A  Poultry</td>\n",
       "      <td>Egypt</td>\n",
       "      <td>Agriculture/Fishing/Farming</td>\n",
       "      <td>500 Employees or more</td>\n",
       "      <td>Min: 3 Max: 5</td>\n",
       "      <td>Experienced (Non-Manager)</td>\n",
       "      <td>Bachelor's Degree</td>\n",
       "      <td>Both</td>\n",
       "    </tr>\n",
       "    <tr>\n",
       "      <th>...</th>\n",
       "      <td>...</td>\n",
       "      <td>...</td>\n",
       "      <td>...</td>\n",
       "      <td>...</td>\n",
       "      <td>...</td>\n",
       "      <td>...</td>\n",
       "      <td>...</td>\n",
       "      <td>...</td>\n",
       "      <td>...</td>\n",
       "      <td>...</td>\n",
       "      <td>...</td>\n",
       "      <td>...</td>\n",
       "    </tr>\n",
       "    <tr>\n",
       "      <th>5574</th>\n",
       "      <td>Routing and Quality Analyst</td>\n",
       "      <td>Full Time</td>\n",
       "      <td>Quality</td>\n",
       "      <td>Cairo, Egypt</td>\n",
       "      <td>Cequens</td>\n",
       "      <td>Cairo, Egypt</td>\n",
       "      <td>Other Business Support Services</td>\n",
       "      <td>500 Employees or more</td>\n",
       "      <td>Min: 3 Max: 5</td>\n",
       "      <td>Experienced (Non-Manager)</td>\n",
       "      <td>Bachelor's Degree</td>\n",
       "      <td>Both</td>\n",
       "    </tr>\n",
       "    <tr>\n",
       "      <th>5575</th>\n",
       "      <td>Solutions Architect</td>\n",
       "      <td>Full Time</td>\n",
       "      <td>IT/Software Development</td>\n",
       "      <td>Cairo, Egypt</td>\n",
       "      <td>Giza Systems</td>\n",
       "      <td>Cairo, Egypt</td>\n",
       "      <td>IT Services</td>\n",
       "      <td>500 Employees or more</td>\n",
       "      <td>Min: 3 Max: 5</td>\n",
       "      <td>Experienced (Non-Manager)</td>\n",
       "      <td>Bachelor's Degree</td>\n",
       "      <td>Both</td>\n",
       "    </tr>\n",
       "    <tr>\n",
       "      <th>5576</th>\n",
       "      <td>Presales Engineer - SCADA</td>\n",
       "      <td>Full Time</td>\n",
       "      <td>Engineering</td>\n",
       "      <td>Cairo, Egypt</td>\n",
       "      <td>Giza Systems</td>\n",
       "      <td>Cairo, Egypt</td>\n",
       "      <td>Telecommunications</td>\n",
       "      <td>500 Employees or more</td>\n",
       "      <td>Min: 3 Max: 5</td>\n",
       "      <td>Experienced (Non-Manager)</td>\n",
       "      <td>Bachelor's Degree</td>\n",
       "      <td>Both</td>\n",
       "    </tr>\n",
       "    <tr>\n",
       "      <th>5577</th>\n",
       "      <td>Senior Front End Deveoper</td>\n",
       "      <td>Full Time</td>\n",
       "      <td>Engineering</td>\n",
       "      <td>Cairo, Egypt</td>\n",
       "      <td>Giza Systems</td>\n",
       "      <td>Cairo, Egypt</td>\n",
       "      <td>IT Services</td>\n",
       "      <td>500 Employees or more</td>\n",
       "      <td>Min: 3 Max: 5</td>\n",
       "      <td>Experienced (Non-Manager)</td>\n",
       "      <td>Bachelor's Degree</td>\n",
       "      <td>Both</td>\n",
       "    </tr>\n",
       "    <tr>\n",
       "      <th>5578</th>\n",
       "      <td>Presales Consultant - Software</td>\n",
       "      <td>Full Time</td>\n",
       "      <td>IT/Software Development</td>\n",
       "      <td>Cairo, Egypt</td>\n",
       "      <td>Giza Systems</td>\n",
       "      <td>Cairo, Egypt</td>\n",
       "      <td>Telecommunications</td>\n",
       "      <td>500 Employees or more</td>\n",
       "      <td>Min: 3 Max: 5</td>\n",
       "      <td>Experienced (Non-Manager)</td>\n",
       "      <td>Bachelor's Degree</td>\n",
       "      <td>Both</td>\n",
       "    </tr>\n",
       "  </tbody>\n",
       "</table>\n",
       "<p>12808 rows × 12 columns</p>\n",
       "</div>"
      ],
      "text/plain": [
       "                                   job_title   job_type  \\\n",
       "0                            Cost Accountant  Full Time   \n",
       "1     Costing Manager - Pastry Industry FMCG  Full Time   \n",
       "2                   Female Junior Accountant  Full Time   \n",
       "3                      Collection Supervisor  Full Time   \n",
       "4                  Senior Costing Accountant  Full Time   \n",
       "...                                      ...        ...   \n",
       "5574             Routing and Quality Analyst  Full Time   \n",
       "5575                     Solutions Architect  Full Time   \n",
       "5576               Presales Engineer - SCADA  Full Time   \n",
       "5577               Senior Front End Deveoper  Full Time   \n",
       "5578          Presales Consultant - Software  Full Time   \n",
       "\n",
       "               job_categories              job_location  \\\n",
       "0          Accounting/Finance  Bourj Alarab, Alexandria   \n",
       "1          Accounting/Finance      6th of October, Giza   \n",
       "2          Accounting/Finance      6th of October, Giza   \n",
       "3          Accounting/Finance              Maadi, Cairo   \n",
       "4          Accounting/Finance              Cairo, Egypt   \n",
       "...                       ...                       ...   \n",
       "5574                  Quality              Cairo, Egypt   \n",
       "5575  IT/Software Development              Cairo, Egypt   \n",
       "5576              Engineering              Cairo, Egypt   \n",
       "5577              Engineering              Cairo, Egypt   \n",
       "5578  IT/Software Development              Cairo, Egypt   \n",
       "\n",
       "                 company_name          company_location  \\\n",
       "0        Confidential Company  Bourj Alarab, Alexandria   \n",
       "1        Confidential Company      6th of October, Giza   \n",
       "2        Confidential Company      6th of October, Giza   \n",
       "3       Abudawood Group Egypt             Cairo, Egypt    \n",
       "4      Cairo Three A  Poultry                    Egypt    \n",
       "...                       ...                       ...   \n",
       "5574                  Cequens              Cairo, Egypt   \n",
       "5575             Giza Systems              Cairo, Egypt   \n",
       "5576             Giza Systems              Cairo, Egypt   \n",
       "5577             Giza Systems              Cairo, Egypt   \n",
       "5578             Giza Systems              Cairo, Egypt   \n",
       "\n",
       "                        company_field           company_size  \\\n",
       "0                       Manufacturing        10-49 Employees   \n",
       "1                       Manufacturing        10-49 Employees   \n",
       "2                       Manufacturing        10-49 Employees   \n",
       "3                                FMCG  500 Employees or more   \n",
       "4         Agriculture/Fishing/Farming  500 Employees or more   \n",
       "...                               ...                    ...   \n",
       "5574  Other Business Support Services  500 Employees or more   \n",
       "5575                      IT Services  500 Employees or more   \n",
       "5576               Telecommunications  500 Employees or more   \n",
       "5577                      IT Services  500 Employees or more   \n",
       "5578               Telecommunications  500 Employees or more   \n",
       "\n",
       "     experience_needed                             career_level  \\\n",
       "0        Min: 0 Max: 1  Entry Level (Junior Level / Fresh Grad)   \n",
       "1       Min: 7 Max: 10                                 Manager    \n",
       "2        Min: 1 Max: 2  Entry Level (Junior Level / Fresh Grad)   \n",
       "3        Min: 1 Max: 2                Experienced (Non-Manager)   \n",
       "4        Min: 3 Max: 5                Experienced (Non-Manager)   \n",
       "...                ...                                      ...   \n",
       "5574     Min: 3 Max: 5                Experienced (Non-Manager)   \n",
       "5575     Min: 3 Max: 5                Experienced (Non-Manager)   \n",
       "5576     Min: 3 Max: 5                Experienced (Non-Manager)   \n",
       "5577     Min: 3 Max: 5                Experienced (Non-Manager)   \n",
       "5578     Min: 3 Max: 5                Experienced (Non-Manager)   \n",
       "\n",
       "        education_level gender  \n",
       "0     Bachelor's Degree   Both  \n",
       "1     Bachelor's Degree   Male  \n",
       "2     Bachelor's Degree   Both  \n",
       "3     Bachelor's Degree   Both  \n",
       "4     Bachelor's Degree   Both  \n",
       "...                 ...    ...  \n",
       "5574  Bachelor's Degree   Both  \n",
       "5575  Bachelor's Degree   Both  \n",
       "5576  Bachelor's Degree   Both  \n",
       "5577  Bachelor's Degree   Both  \n",
       "5578  Bachelor's Degree   Both  \n",
       "\n",
       "[12808 rows x 12 columns]"
      ]
     },
     "execution_count": 28,
     "metadata": {},
     "output_type": "execute_result"
    }
   ],
   "source": [
    "df"
   ]
  },
  {
   "cell_type": "markdown",
   "id": "420cd2e7",
   "metadata": {},
   "source": [
    "### Save data after integration"
   ]
  },
  {
   "cell_type": "code",
   "execution_count": 29,
   "id": "f818a61e",
   "metadata": {},
   "outputs": [],
   "source": [
    "df.to_csv('all_data_cleaned.csv', encoding='utf-16')"
   ]
  },
  {
   "cell_type": "code",
   "execution_count": null,
   "id": "c9d6329e",
   "metadata": {},
   "outputs": [],
   "source": []
  }
 ],
 "metadata": {
  "kernelspec": {
   "display_name": "Python 3 (ipykernel)",
   "language": "python",
   "name": "python3"
  },
  "language_info": {
   "codemirror_mode": {
    "name": "ipython",
    "version": 3
   },
   "file_extension": ".py",
   "mimetype": "text/x-python",
   "name": "python",
   "nbconvert_exporter": "python",
   "pygments_lexer": "ipython3",
   "version": "3.9.13"
  }
 },
 "nbformat": 4,
 "nbformat_minor": 5
}
